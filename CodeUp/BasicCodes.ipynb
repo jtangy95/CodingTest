{
 "cells": [
  {
   "cell_type": "markdown",
   "metadata": {},
   "source": [
    "## Python 기초 100제\n",
    "\n",
    "출처 : [\"CodeUp\"](https://codeup.kr/problemsetsol.php?psid=33)"
   ]
  },
  {
   "cell_type": "markdown",
   "metadata": {},
   "source": [
    "### 1 : [기초-출력] 출력하기01"
   ]
  },
  {
   "cell_type": "markdown",
   "metadata": {},
   "source": [
    "python 언어에서 가장 기본적인 명령이 출력문이다.\n",
    "print( )를 이용해 다음 단어를 출력하시오.\n",
    "\n",
    "Hello\n",
    "\n"
   ]
  },
  {
   "cell_type": "code",
   "execution_count": 2,
   "metadata": {},
   "outputs": [
    {
     "name": "stdout",
     "output_type": "stream",
     "text": [
      "Hello\n"
     ]
    }
   ],
   "source": [
    "print(\"Hello\")"
   ]
  },
  {
   "cell_type": "markdown",
   "metadata": {},
   "source": [
    "### 2 : [기초-출력] 출력하기02"
   ]
  },
  {
   "cell_type": "markdown",
   "metadata": {},
   "source": [
    "이번에는 공백( )을 포함한 문장을 출력한다. \n",
    "다음 문장을 출력해보자.\n",
    "\n",
    "Hello World\n",
    "(대소문자에 주의한다.)"
   ]
  },
  {
   "cell_type": "code",
   "execution_count": 3,
   "metadata": {},
   "outputs": [
    {
     "name": "stdout",
     "output_type": "stream",
     "text": [
      "Hello World\n"
     ]
    }
   ],
   "source": [
    "print(\"Hello\", \"World\")"
   ]
  },
  {
   "cell_type": "markdown",
   "metadata": {},
   "source": [
    "### 3 : [기초-출력] 출력하기03"
   ]
  },
  {
   "cell_type": "markdown",
   "metadata": {},
   "source": [
    "이번에는 줄을 바꿔 출력하는 출력문을 연습해보자.\n",
    "다음과 같이 줄을 바꿔 출력해야 한다.\n"
   ]
  },
  {
   "cell_type": "code",
   "execution_count": 5,
   "metadata": {},
   "outputs": [
    {
     "name": "stdout",
     "output_type": "stream",
     "text": [
      "Hello\n",
      "World\n"
     ]
    }
   ],
   "source": [
    "print(\"Hello\\nWorld\")"
   ]
  },
  {
   "cell_type": "markdown",
   "metadata": {},
   "source": [
    "### 4 : [기초-출력] 출력하기04"
   ]
  },
  {
   "cell_type": "markdown",
   "metadata": {},
   "source": [
    "이번에는 작은 따옴표(')(single quotation mark)가 들어있는 \n",
    "출력문 연습을 해보자.\n",
    "\n",
    "다음 문장을 출력하시오.\n",
    "\n",
    "'Hello'"
   ]
  },
  {
   "cell_type": "code",
   "execution_count": 7,
   "metadata": {},
   "outputs": [
    {
     "name": "stdout",
     "output_type": "stream",
     "text": [
      "'Hello'\n"
     ]
    }
   ],
   "source": [
    "print(\"'Hello'\")"
   ]
  },
  {
   "cell_type": "markdown",
   "metadata": {},
   "source": [
    "### 5 : [기초-출력] 출력하기05"
   ]
  },
  {
   "cell_type": "markdown",
   "metadata": {},
   "source": [
    "이번에는 큰따옴표(\")(double quotation mark)가 포함된 출력문을 연습해보자. \n",
    "\n",
    "다음 문장을 출력하시오.\n",
    "\n",
    "\"Hello World\"\n",
    "(단, 큰따옴표도 함께 출력한다.)"
   ]
  },
  {
   "cell_type": "code",
   "execution_count": 10,
   "metadata": {},
   "outputs": [
    {
     "name": "stdout",
     "output_type": "stream",
     "text": [
      "\"Hello World\"\n"
     ]
    }
   ],
   "source": [
    "print('\"Hello World\"')"
   ]
  },
  {
   "cell_type": "markdown",
   "metadata": {},
   "source": [
    "### 6 : [기초-출력] 출력하기06"
   ]
  },
  {
   "cell_type": "markdown",
   "metadata": {},
   "source": [
    "이번에는 특수문자 출력에 도전하자!!\n",
    "\n",
    "다음 문장을 출력하시오.\n",
    "\n",
    "\"!@#$%^&*()'\n",
    "(단, 큰따옴표와 작은따옴표도 함께 출력한다.)"
   ]
  },
  {
   "cell_type": "code",
   "execution_count": 12,
   "metadata": {},
   "outputs": [
    {
     "name": "stdout",
     "output_type": "stream",
     "text": [
      "\"!@#$%^&()'\n"
     ]
    }
   ],
   "source": [
    "print(\"\\\"!@#$%^&*()'\")"
   ]
  },
  {
   "cell_type": "markdown",
   "metadata": {},
   "source": [
    "### 8 : [기초-출력] 출력하기08"
   ]
  },
  {
   "cell_type": "markdown",
   "metadata": {},
   "source": [
    "출력문 연습의 마지막 문제이다.\n",
    "(생각과 시도를 많이 해야하는 문제들은 한 두 문제씩 넘겼다가 나중에 풀어보면 된다.)\n",
    "\n",
    "이번에는 다음과 같은 python프로그램의 소스코드를 출력해보자.\n",
    "\n",
    "print(\"Hello\\nWorld\")\n",
    "\n",
    "위 코드를 정확히 그대로 출력하시오.(공백문자 주의)"
   ]
  },
  {
   "cell_type": "code",
   "execution_count": 16,
   "metadata": {},
   "outputs": [
    {
     "name": "stdout",
     "output_type": "stream",
     "text": [
      "print(\"Hello\\nWorld\")\n"
     ]
    }
   ],
   "source": [
    "print('print(\"Hello\\\\nWorld\")')"
   ]
  },
  {
   "cell_type": "markdown",
   "metadata": {},
   "source": [
    "### 9 : [기초-입출력] 문자 1개 입력받아 그대로 출력하기"
   ]
  },
  {
   "cell_type": "markdown",
   "metadata": {},
   "source": [
    "문자(character)는 \n",
    "0~9, a~z, A~Z, !, @, #, {, [, <, ... 과 같이 \n",
    "길이가 1인 기호라고 할 수 있다.\n",
    "\n",
    "변수에 문자 1개를 저장한 후\n",
    "변수에 저장되어 있는 문자를 그대로 출력해보자."
   ]
  },
  {
   "cell_type": "code",
   "execution_count": 18,
   "metadata": {},
   "outputs": [
    {
     "name": "stdout",
     "output_type": "stream",
     "text": [
      "chars\n"
     ]
    }
   ],
   "source": [
    "ch = input()\n",
    "print(ch)"
   ]
  },
  {
   "cell_type": "markdown",
   "metadata": {},
   "source": [
    "### 10 : [기초-입출력] 정수 1개 입력받아 int로 변환하여 출력하기"
   ]
  },
  {
   "cell_type": "markdown",
   "metadata": {},
   "source": [
    "정수(integer)는\n",
    "양의 정수(1, 2, 3, 4, 5, ...), 음의 정수(-1, -2, -3, -4, -5, ...), 0 과 같이\n",
    "소숫점 아래에 수가 없는 수라고 할 수 있다.\n",
    "\n",
    "변수에 정수값을 저장한 후 정수로 변환하여 출력해보자."
   ]
  },
  {
   "cell_type": "code",
   "execution_count": 19,
   "metadata": {},
   "outputs": [
    {
     "name": "stdout",
     "output_type": "stream",
     "text": [
      "131\n"
     ]
    }
   ],
   "source": [
    "n = input()\n",
    "n = int(n)\n",
    "print(n)"
   ]
  },
  {
   "cell_type": "markdown",
   "metadata": {},
   "source": [
    "### 12 : [기초-입출력] 정수 2개 입력받아 그대로 출력하기1(설명)"
   ]
  },
  {
   "cell_type": "markdown",
   "metadata": {},
   "source": [
    "줄을 바꿔 정수(integer) 2개를 입력받아 줄을 바꿔 출력해보자.\n"
   ]
  },
  {
   "cell_type": "code",
   "execution_count": 20,
   "metadata": {},
   "outputs": [
    {
     "name": "stdout",
     "output_type": "stream",
     "text": [
      "3\n",
      "5\n"
     ]
    }
   ],
   "source": [
    "a = input()\n",
    "b = input()\n",
    "a = int(a)\n",
    "b = int(b)\n",
    "print(a)\n",
    "print(b)"
   ]
  },
  {
   "cell_type": "markdown",
   "metadata": {},
   "source": [
    "### 13 : [기초-입출력] 문자 2개 입력받아 순서 바꿔 출력하기1"
   ]
  },
  {
   "cell_type": "markdown",
   "metadata": {},
   "source": [
    "\n",
    "줄을 바꿔 문자(character) 2개를 입력받고, 순서를 바꿔 한 줄씩 출력해보자. "
   ]
  },
  {
   "cell_type": "code",
   "execution_count": 21,
   "metadata": {},
   "outputs": [
    {
     "name": "stdout",
     "output_type": "stream",
     "text": [
      "charls\n",
      "bob\n"
     ]
    }
   ],
   "source": [
    "char1 = input()\n",
    "char2 = input()\n",
    "print(char2)\n",
    "print(char1)"
   ]
  },
  {
   "cell_type": "markdown",
   "metadata": {},
   "source": [
    "### 15 : [기초-입출력] 정수 2개 입력받아 그대로 출력하기2"
   ]
  },
  {
   "cell_type": "markdown",
   "metadata": {},
   "source": [
    "공백을 두고 입력된정수(integer) 2개를 입력받아 줄을 바꿔 출력해보자.\n",
    "\n",
    "참고  \n",
    "\n",
    "python의 input()은 한 줄 단위로 입력을 받는다.  \n",
    "input().split() 를 사용하면, 공백을 기준으로 입력된 값들을 나누어(split) 자른다."
   ]
  },
  {
   "cell_type": "code",
   "execution_count": 22,
   "metadata": {},
   "outputs": [
    {
     "name": "stdout",
     "output_type": "stream",
     "text": [
      "35\n",
      "57\n"
     ]
    }
   ],
   "source": [
    "a,b = input().split()\n",
    "a = int(a) ; b = int(b)\n",
    "print(a) ; print(b)"
   ]
  },
  {
   "cell_type": "markdown",
   "metadata": {},
   "source": [
    "### 16 : [기초-입출력] 문자 2개 입력받아 순서 바꿔 출력하기2"
   ]
  },
  {
   "cell_type": "markdown",
   "metadata": {},
   "source": [
    "공백을 두고 문자(character) 2개를 입력받아 순서를 바꿔 출력해보자. "
   ]
  },
  {
   "cell_type": "code",
   "execution_count": 23,
   "metadata": {},
   "outputs": [
    {
     "name": "stdout",
     "output_type": "stream",
     "text": [
      "english math\n"
     ]
    }
   ],
   "source": [
    "char1, char2 = input().split()\n",
    "print(char2, char1)"
   ]
  },
  {
   "cell_type": "markdown",
   "metadata": {},
   "source": [
    "### 18 : [기초-입출력] 시간 입력받아 그대로 출력하기"
   ]
  },
  {
   "cell_type": "markdown",
   "metadata": {},
   "source": [
    "24시간 시:분 형식으로 시간이 입력될 때, 그대로 출력하는 연습을 해보자. \n",
    "\n",
    "참고  \n",
    "\n",
    "input().split(':') 를 사용하면 콜론 ':' 기호를 기준으로 자른다.  \n",
    "print(?, ?, sep=':') 를 사용하면 콜론 ':' 기호를 사이에 두고 값을 출력한다.  \n",
    "sep 는 분류기호(seperator)를 의미한다."
   ]
  },
  {
   "cell_type": "code",
   "execution_count": 25,
   "metadata": {},
   "outputs": [
    {
     "name": "stdout",
     "output_type": "stream",
     "text": [
      "3:15\n"
     ]
    }
   ],
   "source": [
    "hour, minute = input().split(\":\")\n",
    "print(hour, minute, sep = \":\")"
   ]
  },
  {
   "cell_type": "markdown",
   "metadata": {},
   "source": [
    "### 19 : [기초-입출력] 연월일 입력받아 순서 바꿔 출력"
   ]
  },
  {
   "cell_type": "markdown",
   "metadata": {},
   "source": [
    "\"연도.월.일\"을 입력받아 \"일-월-연도\" 순서로 바꿔 출력해보자. "
   ]
  },
  {
   "cell_type": "code",
   "execution_count": 26,
   "metadata": {},
   "outputs": [
    {
     "name": "stdout",
     "output_type": "stream",
     "text": [
      "14-03-2020\n"
     ]
    }
   ],
   "source": [
    "year, month, day = input().split(\".\")\n",
    "print(day, month, year, sep = \"-\")"
   ]
  },
  {
   "cell_type": "markdown",
   "metadata": {},
   "source": [
    "### 20 : [기초-입출력] 주민번호 입력받아 형태 바꿔 출력하기"
   ]
  },
  {
   "cell_type": "markdown",
   "metadata": {},
   "source": [
    "주민번호는 다음과 같이 구성된다. \n",
    "XXXXXX-XXXXXXX \n",
    "\n",
    "왼쪽 6자리는 생년월일(YYMMDD)이고, 오른쪽 7자리는 성별,출생지역,확인코드로 구성되어있다. \n",
    "주민번호를 입력받아 형태를 바꿔 출력해보자. \n"
   ]
  },
  {
   "cell_type": "code",
   "execution_count": 28,
   "metadata": {},
   "outputs": [
    {
     "name": "stdout",
     "output_type": "stream",
     "text": [
      "9509131201543\n"
     ]
    }
   ],
   "source": [
    "left, right = input().split(\"-\")\n",
    "print(left, right, sep = \"\")"
   ]
  },
  {
   "cell_type": "markdown",
   "metadata": {},
   "source": [
    "### 21 : [기초-입출력] 단어 1개 입력받아 나누어 출력하기"
   ]
  },
  {
   "cell_type": "markdown",
   "metadata": {},
   "source": [
    "알파벳과 숫자로 이루어진 단어 1개가 입력된다. \n",
    "입력받은 단어의 각 문자를 한 줄에 한 문자씩 분리해 출력한다. "
   ]
  },
  {
   "cell_type": "code",
   "execution_count": 31,
   "metadata": {},
   "outputs": [
    {
     "name": "stdout",
     "output_type": "stream",
     "text": [
      "s\n",
      "t\n",
      "u\n",
      "d\n",
      "e\n",
      "n\n",
      "t\n"
     ]
    }
   ],
   "source": [
    "str = input()\n",
    "for char in str :\n",
    "    print(char)\n"
   ]
  },
  {
   "cell_type": "markdown",
   "metadata": {},
   "source": [
    "### 22 : [기초-입출력] 연월일 입력받아 나누어 출력하기"
   ]
  },
  {
   "cell_type": "markdown",
   "metadata": {},
   "source": [
    "6자리의 연월일(YYMMDD)을 입력받아 나누어 출력해보자. "
   ]
  },
  {
   "cell_type": "code",
   "execution_count": 33,
   "metadata": {},
   "outputs": [
    {
     "name": "stdout",
     "output_type": "stream",
     "text": [
      "22 03 16\n"
     ]
    }
   ],
   "source": [
    "yymmdd = input()\n",
    "print(yymmdd[0:2],yymmdd[2:4], yymmdd[4:6])"
   ]
  },
  {
   "cell_type": "markdown",
   "metadata": {},
   "source": [
    "### 24 : [기초-입출력] 단어 2개 입력받아 이어 붙이기"
   ]
  },
  {
   "cell_type": "markdown",
   "metadata": {},
   "source": [
    "알파벳 문자와 숫자로 이루어진 단어 2개를 입력받아 \n",
    "순서대로 붙여 출력하는 프로그램을 작성해보자.\n",
    "\n",
    "참고  \n",
    "단어는 문자(character)들로 만든다.  \n",
    "문자들로 구성된 문장을 문자열(string)이라고 부른다.  \n",
    "문자열에는 공백문자(' ')가 포함될 수 있는데,  \n",
    "문자 1개는 길이가 1인 문자열이라고 할 수 있고, 공백문자(' ')가 없는 문자열은 단어(word)라고 할 수 있다.  \n",
    "\n",
    "일반적인 문장들은 공백으로 구분된 단어들로 만들어지기 때문에,  \n",
    "공백문자로 구분된 문장에서 단어를 잘라내기 위해서는 공백문자(' ')를 기준으로 자르면 된다.  \n",
    "키보드로 입력되는 것들은 기본적으로 문자열로 인식되고, 문자열끼리 더하기(+)를 실행하면,  \n",
    "두 문자열을 합쳐 연결한(concatenate) 결과를 만들어 낸다.  "
   ]
  },
  {
   "cell_type": "code",
   "execution_count": 41,
   "metadata": {},
   "outputs": [
    {
     "name": "stdout",
     "output_type": "stream",
     "text": [
      "pressEnter\n"
     ]
    }
   ],
   "source": [
    "word1, word2 = input().split()\n",
    "print(word1 + word2)"
   ]
  },
  {
   "cell_type": "markdown",
   "metadata": {},
   "source": [
    "### 27 : [기초-출력변환] 10진 정수 입력받아 16진수로 출력하기1"
   ]
  },
  {
   "cell_type": "markdown",
   "metadata": {},
   "source": [
    "10진수를 입력받아 16진수(hexadecimal)로 출력해보자. "
   ]
  },
  {
   "cell_type": "markdown",
   "metadata": {},
   "source": [
    "10진수 형태로 입력받고  \n",
    "%x로 출력하면 16진수(hexadecimal) 소문자로 출력된다.  \n",
    "(%o로 출력하면 8진수(octal) 문자열로 출력된다.)\n"
   ]
  },
  {
   "cell_type": "code",
   "execution_count": 42,
   "metadata": {},
   "outputs": [
    {
     "name": "stdout",
     "output_type": "stream",
     "text": [
      "10\n"
     ]
    }
   ],
   "source": [
    "a = input()\n",
    "n = int(a)\n",
    "print('%x'%n)"
   ]
  },
  {
   "cell_type": "markdown",
   "metadata": {},
   "source": [
    "### 36 : [기초-산술연산] 단어 여러 번 출력하기"
   ]
  },
  {
   "cell_type": "markdown",
   "metadata": {},
   "source": [
    "단어와 반복 횟수를 입력받아 여러 번 출력해보자. \n",
    "\n",
    "참고  \n",
    "문자열 * 정수 또는 정수 * 문자열은 그 문자열을 여러 번 반복한 문자열을 만들어 준다."
   ]
  },
  {
   "cell_type": "code",
   "execution_count": 44,
   "metadata": {},
   "outputs": [
    {
     "name": "stdout",
     "output_type": "stream",
     "text": [
      "lovelovelove\n"
     ]
    }
   ],
   "source": [
    "word, n= input().split()\n",
    "print(word * int(n))"
   ]
  },
  {
   "cell_type": "markdown",
   "metadata": {},
   "source": [
    "### 37 : [기초-산술연산] 문장 여러 번 출력하기"
   ]
  },
  {
   "cell_type": "markdown",
   "metadata": {},
   "source": [
    "반복 횟수와 문장을 입력받아 여러 번 출력해보자. "
   ]
  },
  {
   "cell_type": "code",
   "execution_count": 50,
   "metadata": {},
   "outputs": [
    {
     "name": "stdout",
     "output_type": "stream",
     "text": [
      "whatwhatwhat\n"
     ]
    }
   ],
   "source": [
    "n = input()\n",
    "sentence = input()\n",
    "print(sentence * int(n))"
   ]
  },
  {
   "cell_type": "markdown",
   "metadata": {},
   "source": [
    "### 38 : [기초-산술연산] 정수 2개 입력받아 거듭제곱 계산하기"
   ]
  },
  {
   "cell_type": "markdown",
   "metadata": {},
   "source": [
    "정수 2개(a, b)를 입력받아\n",
    "a를 b번 곱한 거듭제곱을 출력하는 프로그램을 작성해보자."
   ]
  },
  {
   "cell_type": "code",
   "execution_count": 52,
   "metadata": {},
   "outputs": [
    {
     "name": "stdout",
     "output_type": "stream",
     "text": [
      "1024\n"
     ]
    }
   ],
   "source": [
    "a,b = input().split()\n",
    "a = int(a) ; b = int(b)\n",
    "print(a**b)\n"
   ]
  },
  {
   "cell_type": "markdown",
   "metadata": {},
   "source": [
    "### 40 : [기초-산술연산] 정수 2개 입력받아 나눈 몫 계산하기"
   ]
  },
  {
   "cell_type": "markdown",
   "metadata": {},
   "source": [
    "정수 2개(a, b) 를 입력받아 a를 b로 나눈 몫을 출력해보자. "
   ]
  },
  {
   "cell_type": "code",
   "execution_count": 54,
   "metadata": {},
   "outputs": [
    {
     "name": "stdout",
     "output_type": "stream",
     "text": [
      "2\n"
     ]
    }
   ],
   "source": [
    "a, b = input().split()\n",
    "a = int(a) ; b = int(b)\n",
    "print(a//b)  # is quotient\n",
    "# print(a%b) is remainder"
   ]
  },
  {
   "cell_type": "markdown",
   "metadata": {},
   "source": [
    "### 42 : [기초-값변환] 실수 1개 입력받아 소숫점이하 자리 변환하기"
   ]
  },
  {
   "cell_type": "markdown",
   "metadata": {},
   "source": [
    "실수 1개를 입력받아\n",
    "소숫점 이하 두 번째 자리까지의 정확도로 반올림한 값을 출력해보자.\n"
   ]
  },
  {
   "cell_type": "code",
   "execution_count": 55,
   "metadata": {},
   "outputs": [
    {
     "name": "stdout",
     "output_type": "stream",
     "text": [
      "3.14\n"
     ]
    }
   ],
   "source": [
    "x = input()\n",
    "x = float(x)\n",
    "print(round(x, 2))"
   ]
  },
  {
   "cell_type": "markdown",
   "metadata": {},
   "source": [
    "### 43 : [기초-산술연산] 실수 2개 입력받아 나눈 결과 계산하기"
   ]
  },
  {
   "cell_type": "markdown",
   "metadata": {},
   "source": [
    "실수 2개(f1, f2)를 입력받아\n",
    "f1 을 f2 로 나눈 값을 출력해보자. 이 때 소숫점 넷째자리에서 반올림하여 무조건 소숫점 셋째 자리까지 출력한다.\n",
    "\n",
    "참고  \n",
    "format(수, \".3f\") 를 사용하면 원하는 자리까지의 정확도로 반올림 된 실수 값을 만들어 준다. "
   ]
  },
  {
   "cell_type": "code",
   "execution_count": 59,
   "metadata": {},
   "outputs": [
    {
     "name": "stdout",
     "output_type": "stream",
     "text": [
      "2.500\n"
     ]
    }
   ],
   "source": [
    "x, y = input().split()\n",
    "x = float(x) ; y = float(y)\n",
    "print(format(x/y, '.3f'))"
   ]
  },
  {
   "cell_type": "markdown",
   "metadata": {},
   "source": [
    "### 44 : [기초-산술연산] 정수 2개 입력받아 자동 계산하기"
   ]
  },
  {
   "cell_type": "markdown",
   "metadata": {},
   "source": [
    "정수 2개(a, b)를 입력받아 합, 차, 곱, 몫, 나머지, 나눈 값을 자동으로 계산해보자.\n",
    "단, b는 0이 아니다."
   ]
  },
  {
   "cell_type": "code",
   "execution_count": 62,
   "metadata": {},
   "outputs": [
    {
     "name": "stdout",
     "output_type": "stream",
     "text": [
      "13\n",
      "7\n",
      "30\n",
      "3\n",
      "1\n",
      "3.33\n"
     ]
    }
   ],
   "source": [
    "a, b = input().split()\n",
    "a = int(a) ; b = int(b)\n",
    "print(a+b, a-b, a*b, a//b, a%b, format(a/b, \".2f\"), sep = '\\n')"
   ]
  },
  {
   "cell_type": "markdown",
   "metadata": {},
   "source": [
    "### 45 : [기초-산술연산] 정수 3개 입력받아 합과 평균 출력하기"
   ]
  },
  {
   "cell_type": "markdown",
   "metadata": {},
   "source": [
    "정수 3개를 입력받아 합과 평균을 출력해보자."
   ]
  },
  {
   "cell_type": "code",
   "execution_count": 63,
   "metadata": {},
   "outputs": [
    {
     "name": "stdout",
     "output_type": "stream",
     "text": [
      "15 5.00\n"
     ]
    }
   ],
   "source": [
    "a,b,c = input().split()\n",
    "a = int(a) ; b = int(b) ; c = int(c)\n",
    "print(a+b+c, format((a+b+c)/3, \".2f\"))"
   ]
  },
  {
   "cell_type": "markdown",
   "metadata": {},
   "source": [
    "### 52 : [기초-논리연산] 정수 입력받아 참 거짓 평가하기"
   ]
  },
  {
   "cell_type": "markdown",
   "metadata": {},
   "source": [
    "정수가 입력되었을 때, True/False 로 평가해주는 프로그램을 작성해보자. \n",
    "\n",
    "참고  \n",
    "bool( ) 을 이용하면 입력된 식이나 값을 평가해 불 형의 값(True 또는 False)을 출력해준다  \n",
    "식이나 값을 계산해서 결과값이 만들어지는 것을 평가(evaluate)라고 한다.  \n",
    "\n",
    "python 언어에서 정수값 0은 False(거짓)로 평가되고, 그 외의 값들은 모두 True(참)로 평가된다. \n"
   ]
  },
  {
   "cell_type": "code",
   "execution_count": 64,
   "metadata": {},
   "outputs": [
    {
     "name": "stdout",
     "output_type": "stream",
     "text": [
      "False\n"
     ]
    }
   ],
   "source": [
    "a = input()\n",
    "a = int(a)\n",
    "print(bool(a))"
   ]
  },
  {
   "cell_type": "markdown",
   "metadata": {},
   "source": [
    "### 53 : [기초-논리연산] 참 거짓 바꾸기"
   ]
  },
  {
   "cell_type": "markdown",
   "metadata": {},
   "source": [
    "정수값이 입력될 때, \n",
    "그 불 값을 반대로 출력하는 프로그램을 작성해보자. \n",
    "\n",
    "참고  \n",
    "\n",
    "어떤 불 값이나 변수에 not True, not False, not a 와 같은 계산이 가능하다.   \n",
    "\n",
    "참 또는 거짓의 논리값을 역(반대)으로 바꾸기 위해서 not 예약어(reserved word, keyword)를 사용할 수 있다.  \n",
    "\n",
    "참, 거짓의 논리값 인 불(boolean) 값을 다루어주는 예약어는 not, and, or 이 있고,  \n",
    "불 값들 사이의 논리(not, and, or) 연산 결과도 마찬가지로 True 또는 False 의 불 값으로 계산 된다.  \n"
   ]
  },
  {
   "cell_type": "code",
   "execution_count": 65,
   "metadata": {},
   "outputs": [
    {
     "name": "stdout",
     "output_type": "stream",
     "text": [
      "False\n"
     ]
    }
   ],
   "source": [
    "a = input()\n",
    "a = int(a)\n",
    "print(not bool(a))"
   ]
  },
  {
   "cell_type": "markdown",
   "metadata": {},
   "source": [
    "### 63 : [기초-3항연산] 정수 2개 입력받아 큰 값 출력하기"
   ]
  },
  {
   "cell_type": "markdown",
   "metadata": {},
   "source": [
    "입력된 두 정수(a, b) 중 큰 값을 출력하는 프로그램을 작성해보자. \n",
    "단, 3항 연산을 사용한다.\n",
    "\n",
    "참고  \n",
    "3개의 요소로 이루어지는 3항 연산은  \n",
    "\"x if C else y\" 의 형태로 작성이 된다. "
   ]
  },
  {
   "cell_type": "code",
   "execution_count": 67,
   "metadata": {},
   "outputs": [
    {
     "name": "stdout",
     "output_type": "stream",
     "text": [
      "10\n"
     ]
    }
   ],
   "source": [
    "a, b = input().split()\n",
    "a = int(a) ; b = int(b)\n",
    "c = a if a>b else b\n",
    "print(c)"
   ]
  },
  {
   "cell_type": "markdown",
   "metadata": {},
   "source": [
    "### 64 : [기초-3항연산] 정수 3개 입력받아 가장 작은 값 출력하기"
   ]
  },
  {
   "cell_type": "markdown",
   "metadata": {},
   "source": [
    "입력된 세 정수 a, b, c 중 가장 작은 값을 출력하는 프로그램을 작성해보자. \n",
    "단, 3항 연산을 사용한다. \n"
   ]
  },
  {
   "cell_type": "code",
   "execution_count": 71,
   "metadata": {},
   "outputs": [
    {
     "name": "stdout",
     "output_type": "stream",
     "text": [
      "0\n"
     ]
    }
   ],
   "source": [
    "a, b, c = input().split()\n",
    "a = int(a) ; b = int(b) ; c = int(c)\n",
    "result = (a if a < b else b) if (a if a < b else b) < c else c \n",
    "print(result)"
   ]
  },
  {
   "cell_type": "markdown",
   "metadata": {},
   "source": [
    "### 65 : [기초-조건/선택실행구조] 정수 3개 입력받아 짝수만 출력하기"
   ]
  },
  {
   "cell_type": "markdown",
   "metadata": {},
   "source": [
    "3개의 정수(a, b, c)가 입력되었을 때, 짝수만 출력해보자. "
   ]
  },
  {
   "cell_type": "code",
   "execution_count": 72,
   "metadata": {},
   "outputs": [
    {
     "name": "stdout",
     "output_type": "stream",
     "text": [
      "10\n",
      "8\n"
     ]
    }
   ],
   "source": [
    "a,b,c = input().split()\n",
    "a = int(a) ; b = int(b) ; c = int(c)\n",
    "\n",
    "list = [a,b,c]\n",
    "for n in list :\n",
    "    if(n%2 ==0) :\n",
    "        print(n)"
   ]
  },
  {
   "cell_type": "markdown",
   "metadata": {},
   "source": [
    "### 66 : [기초-조건/선택실행구조] 정수 3개 입력받아 짝/홀 출력하기"
   ]
  },
  {
   "cell_type": "markdown",
   "metadata": {},
   "source": [
    "3개의 정수(a, b, c)가 입력되었을 때, 짝(even)/홀(odd)을 출력해보자. "
   ]
  },
  {
   "cell_type": "code",
   "execution_count": 73,
   "metadata": {},
   "outputs": [
    {
     "name": "stdout",
     "output_type": "stream",
     "text": [
      "odd\n",
      "even\n",
      "odd\n"
     ]
    }
   ],
   "source": [
    "a,b,c = input().split()\n",
    "a = int(a) ; b = int(b) ; c = int(c)\n",
    "\n",
    "list = [a,b,c]\n",
    "for n in list :\n",
    "    if(n%2 ==0) :\n",
    "        print(\"even\")\n",
    "    else :\n",
    "        print(\"odd\")\n"
   ]
  },
  {
   "cell_type": "markdown",
   "metadata": {},
   "source": [
    "### 67 : [기초-조건/선택실행구조] 정수 1개 입력받아 분류하기"
   ]
  },
  {
   "cell_type": "markdown",
   "metadata": {},
   "source": [
    "0이 아닌 정수 1개가 입력되었을 때, 음(-)/양(+)과 짝(even)/홀(odd)을 구분해 분류해보자.  \n",
    "음수이면서 짝수이면, A  \n",
    "음수이면서 홀수이면, B  \n",
    "양수이면서 짝수이면, C  \n",
    "양수이면서 홀수이면, D  \n",
    "를 출력한다."
   ]
  },
  {
   "cell_type": "code",
   "execution_count": 74,
   "metadata": {},
   "outputs": [
    {
     "name": "stdout",
     "output_type": "stream",
     "text": [
      "B\n"
     ]
    }
   ],
   "source": [
    "a = input()\n",
    "a = int(a) \n",
    "\n",
    "if(a%2 ==0) :\n",
    "    print(\"A\" if a<0 else \"C\")\n",
    "else :\n",
    "    print(\"B\" if a<0 else \"D\")\n"
   ]
  },
  {
   "cell_type": "markdown",
   "metadata": {},
   "source": [
    "### 68 : [기초-조건/선택실행구조] 점수 입력받아 평가 출력하기"
   ]
  },
  {
   "cell_type": "markdown",
   "metadata": {},
   "source": [
    "점수(정수, 0 ~ 100)를 입력받아 평가를 출력해보자. \n",
    "\n",
    "평가 기준  \n",
    "점수 범위 : 평가  \n",
    " 90 ~ 100 : A  \n",
    " 70 ~   89 : B  \n",
    " 40 ~   69 : C  \n",
    "   0 ~   39 : D  \n",
    "로 평가되어야 한다."
   ]
  },
  {
   "cell_type": "code",
   "execution_count": 78,
   "metadata": {},
   "outputs": [
    {
     "name": "stdout",
     "output_type": "stream",
     "text": [
      "C\n"
     ]
    }
   ],
   "source": [
    "score = input()\n",
    "score = int(score)\n",
    "\n",
    "grade = \"A\" if score >= 90 else (\"B\" if score >= 70 else (\"C\" if score >= 40 else \"D\"))\n",
    "print(grade)"
   ]
  },
  {
   "cell_type": "markdown",
   "metadata": {},
   "source": [
    "### 69 : [기초-조건/선택실행구조] 평가 입력받아 다르게 출력하기"
   ]
  },
  {
   "cell_type": "markdown",
   "metadata": {},
   "source": [
    "평가를 문자(A, B, C, D, ...)로 입력받아 내용을 다르게 출력해보자. \n",
    "\n",
    "평가 내용\n",
    "평가 : 내용  \n",
    "A : best!!!  \n",
    "B : good!!  \n",
    "C : run!  \n",
    "D : slowly~  \n",
    "나머지 문자들 : what?   "
   ]
  },
  {
   "cell_type": "code",
   "execution_count": 83,
   "metadata": {},
   "outputs": [
    {
     "name": "stdout",
     "output_type": "stream",
     "text": [
      "run!\n"
     ]
    }
   ],
   "source": [
    "grade = input()\n",
    "assessment = \"best!!!\" if grade == \"A\" else (\"good!!\" if grade == \"B\" else (\"run!\" if grade == \"C\" else (\"slowly~\" if grade == \"D\" else \"what?\")))\n",
    "print(assessment)"
   ]
  },
  {
   "cell_type": "markdown",
   "metadata": {},
   "source": [
    "### 70 : [기초-조건/선택실행구조] 월 입력받아 계절 출력하기"
   ]
  },
  {
   "cell_type": "markdown",
   "metadata": {},
   "source": [
    "월이 입력될 때 계절 이름이 출력되도록 해보자. \n",
    "\n",
    "월 : 계절 이름  \n",
    "12, 1, 2 : winter  \n",
    "3, 4, 5 : spring  \n",
    "6, 7, 8 : summer  \n",
    "9, 10, 11 : fall \n"
   ]
  },
  {
   "cell_type": "code",
   "execution_count": 86,
   "metadata": {},
   "outputs": [
    {
     "name": "stdout",
     "output_type": "stream",
     "text": [
      "summer\n"
     ]
    }
   ],
   "source": [
    "month = int(input())\n",
    "season = \"spring\" if month//3 == 1 else (\"summer\" if month//3 ==2 else(\"fall\" if month//3 ==3 else \"winter\"))\n",
    "print(season)\n"
   ]
  },
  {
   "cell_type": "markdown",
   "metadata": {},
   "source": [
    "### 71 : [기초-반복실행구조] 0 입력될 때까지 무한 출력하기"
   ]
  },
  {
   "cell_type": "markdown",
   "metadata": {},
   "source": [
    "임의의 정수가 줄을 바꿔 계속 입력된다.   \n",
    "-2147483648 ~ +2147483647, 단 개수는 알 수 없다. \n",
    "\n",
    "0이 아니면 입력된 정수를 출력하고, 0이 입력되면 출력을 중단해보자. "
   ]
  },
  {
   "cell_type": "code",
   "execution_count": 36,
   "metadata": {},
   "outputs": [
    {
     "name": "stdout",
     "output_type": "stream",
     "text": [
      "8\n",
      "6\n",
      "4\n",
      "7\n",
      "9\n",
      "1\n"
     ]
    }
   ],
   "source": [
    "n = 123\n",
    "while n != 0 :\n",
    "    n = int(input())\n",
    "    if(n != 0) :\n",
    "        print(n)\n",
    "    else :\n",
    "        break\n",
    "\n"
   ]
  },
  {
   "cell_type": "markdown",
   "metadata": {},
   "source": [
    "### 72 : [기초-반복실행구조] 정수 1개 입력받아 카운트다운 출력하기1"
   ]
  },
  {
   "cell_type": "code",
   "execution_count": 35,
   "metadata": {},
   "outputs": [
    {
     "name": "stdout",
     "output_type": "stream",
     "text": [
      "8\n",
      "7\n",
      "6\n",
      "5\n",
      "4\n",
      "3\n",
      "2\n",
      "1\n"
     ]
    }
   ],
   "source": [
    "n = int(input())\n",
    "while n > 0 :\n",
    "    print(n)\n",
    "    n -= 1"
   ]
  },
  {
   "cell_type": "markdown",
   "metadata": {},
   "source": [
    "### 74 : [기초-반복실행구조] 문자 1개 입력받아 알파벳 출력하기"
   ]
  },
  {
   "cell_type": "markdown",
   "metadata": {},
   "source": [
    "영문 소문자(a ~ z) 1개가 입력되었을 때,   \n",
    "a부터 그 문자까지의 알파벳을 순서대로 출력해보자. \n",
    "\n",
    "참고   \n",
    "알파벳 문자 a의 정수값은 ord('a')로 알아낼 수 있다.   \n",
    "chr(정수값)을 이용하면 유니코드 문자로 출력할 수 있다.   \n",
    "print(..., end=' ') 와 같이 작성하면 값 출력 후 공백문자 ' '를 출력한다. 즉, 마지막에 줄을 바꾸지 않고 빈칸만 띄운다.  \n",
    "(end='\\n'로 작성하거나 생략하면, 값을 출력한 후 마지막(end)에 줄바꿈(newline)이 된다.) \n"
   ]
  },
  {
   "cell_type": "code",
   "execution_count": 106,
   "metadata": {},
   "outputs": [
    {
     "name": "stdout",
     "output_type": "stream",
     "text": [
      "a b c d e f \n"
     ]
    }
   ],
   "source": [
    "letter = input()\n",
    "int_letter = ord(letter)\n",
    "int_begin = ord(\"a\")\n",
    "\n",
    "for n in range(int_begin , int_letter+1) :\n",
    "    print(chr(n), end =' ')\n",
    "print()"
   ]
  },
  {
   "cell_type": "markdown",
   "metadata": {},
   "source": [
    "### 75 : [기초-반복실행구조] 정수 1개 입력받아 그 수까지 출력하기1"
   ]
  },
  {
   "cell_type": "markdown",
   "metadata": {},
   "source": [
    "정수(0 ~ 100) 1개를 입력받아 0부터 그 수까지 순서대로 출력해보자. "
   ]
  },
  {
   "cell_type": "code",
   "execution_count": 34,
   "metadata": {},
   "outputs": [
    {
     "name": "stdout",
     "output_type": "stream",
     "text": [
      "0\n",
      "1\n",
      "2\n",
      "3\n",
      "4\n",
      "5\n",
      "6\n",
      "7\n",
      "8\n",
      "9\n",
      "10\n"
     ]
    }
   ],
   "source": [
    "n = int(input())\n",
    "condition = 0 <= n and n <= 100\n",
    "a = 0\n",
    "while condition and a <= n :\n",
    "    print(a)\n",
    "    a += 1\n"
   ]
  },
  {
   "cell_type": "markdown",
   "metadata": {},
   "source": [
    "### 77 : [기초-종합] 짝수 합 구하기(설명)"
   ]
  },
  {
   "cell_type": "markdown",
   "metadata": {},
   "source": [
    "정수(1 ~ 100) 1개를 입력받아 1부터 그 수까지 짝수의 합을 구해보자. "
   ]
  },
  {
   "cell_type": "code",
   "execution_count": 117,
   "metadata": {},
   "outputs": [
    {
     "name": "stdout",
     "output_type": "stream",
     "text": [
      "30\n"
     ]
    }
   ],
   "source": [
    "n = int(input())\n",
    "s = sum(range(2, n, 2))\n",
    "result = s if n%2 !=0 else s+n \n",
    "print(result)\n"
   ]
  },
  {
   "cell_type": "markdown",
   "metadata": {},
   "source": [
    "### 78 : [기초-종합] 원하는 문자가 입력될 때까지 반복 출력하기"
   ]
  },
  {
   "cell_type": "markdown",
   "metadata": {},
   "source": [
    "영문 소문자 'q'가 입력될 때까지 \n",
    "입력한 문자를 계속 출력하는 프로그램을 작성해보자. \n"
   ]
  },
  {
   "cell_type": "code",
   "execution_count": 33,
   "metadata": {},
   "outputs": [
    {
     "name": "stdout",
     "output_type": "stream",
     "text": [
      "enter\n",
      "how\n",
      "long\n",
      "can you\n",
      "print\n",
      "q\n"
     ]
    }
   ],
   "source": [
    "string = None\n",
    "while True :\n",
    "    string = input()\n",
    "    print(string)\n",
    "    if string == \"q\" :\n",
    "        break\n",
    "    \n"
   ]
  },
  {
   "cell_type": "markdown",
   "metadata": {},
   "source": [
    "### 79 : [기초-종합] 언제까지 더해야 할까?"
   ]
  },
  {
   "cell_type": "markdown",
   "metadata": {},
   "source": [
    "1부터 n까지 정수를 계속 더해 나간다고 할 때,  \n",
    "어디까지 더해야 입력한 수보다 같거나 커지는 지를 알아보고자하는 문제이다.   \n"
   ]
  },
  {
   "cell_type": "code",
   "execution_count": 32,
   "metadata": {},
   "outputs": [
    {
     "name": "stdout",
     "output_type": "stream",
     "text": [
      "11\n"
     ]
    }
   ],
   "source": [
    "target = int(input())\n",
    "n = 0\n",
    "sum = 0 \n",
    "while sum < target :\n",
    "    n += 1\n",
    "    sum += n\n",
    "print(n)\n",
    "    "
   ]
  },
  {
   "cell_type": "markdown",
   "metadata": {},
   "source": [
    "### 80 : [기초-종합] 주사위 2개 던지기"
   ]
  },
  {
   "cell_type": "markdown",
   "metadata": {},
   "source": [
    "1부터 n까지, 1부터 m까지 숫자가 적힌 서로 다른 주사위 2개를 던졌을 때,   \n",
    "나올 수 있는 모든 경우를 출력해보자."
   ]
  },
  {
   "cell_type": "code",
   "execution_count": 132,
   "metadata": {},
   "outputs": [
    {
     "name": "stdout",
     "output_type": "stream",
     "text": [
      "1 1\n",
      "1 2\n",
      "1 3\n",
      "2 1\n",
      "2 2\n",
      "2 3\n"
     ]
    }
   ],
   "source": [
    "n, m = input().split()\n",
    "n = int(n) ; m = int(m)\n",
    "for i in range(n) :\n",
    "    for j in range(m) :\n",
    "        print(i+1, j+1)"
   ]
  },
  {
   "cell_type": "markdown",
   "metadata": {},
   "source": [
    "### 82 : [기초-종합] 3 6 9 게임의 왕이 되자(설명)"
   ]
  },
  {
   "cell_type": "markdown",
   "metadata": {},
   "source": [
    "3 6 9 게임은?  \n",
    "여러 사람이 순서를 정한 후, 순서대로 수를 부르는 게임이다.  \n",
    "만약 3, 6, 9 가 들어간 수를 자신이 불러야 하는 상황이라면, 수를 부르는 대신 \"박수(X)\" 를 쳐야 한다.  \n",
    "33과 같이 3,6,9가 두 번 들어간 수 일때, \"짝짝\"과 같이 박수를 두 번 치는 형태도 있다.   \n",
    "\n",
    "입력  \n",
    "30 보다 작은 정수 1개가 입력된다.\n",
    "(1 ~ 29)\n",
    "\n",
    "출력  \n",
    "\n",
    "1 부터 그 수까지 순서대로 공백을 두고 수를 출력하는데,  \n",
    "3 또는 6 또는 9가 포함 되어있는 수인 경우, 그 수 대신 영문 대문자 X 를 출력한다. "
   ]
  },
  {
   "cell_type": "code",
   "execution_count": 31,
   "metadata": {},
   "outputs": [
    {
     "name": "stdout",
     "output_type": "stream",
     "text": [
      "1 2 X 4 5 X 7 8 X 10 11 12 X 14 15 X 17 18 X \n"
     ]
    }
   ],
   "source": [
    "n = int(input())\n",
    "i = 0\n",
    "while i < n :\n",
    "    i += 1 \n",
    "    if i%10 == 3 or i%10 == 6 or i%10 == 9 :\n",
    "        print(\"X\", end = ' ')\n",
    "    else :\n",
    "        print(i, end = ' ')\n",
    "print()\n",
    "\n"
   ]
  },
  {
   "cell_type": "markdown",
   "metadata": {},
   "source": [
    "### 83 : [기초-종합] 빛 섞어 색 만들기(설명)"
   ]
  },
  {
   "cell_type": "markdown",
   "metadata": {},
   "source": [
    "빨강(red), 초록(green), 파랑(blue) 빛을 섞어 여러 가지 다른 색 빛을 만들어 내려고 한다.  \n",
    "\n",
    "빨강(r), 초록(g), 파랑(b) 각 빛의 가짓수가 주어질 때,  \n",
    "주어진 rgb 빛들을 섞어 만들 수 있는 모든 경우의 조합(r g b)과 만들 수 있는 색의 가짓 수를 계산해보자.    \n",
    "\n",
    "**모니터, 스마트폰과 같은 디스플레이에서 각 픽셀의 색을 만들어내기 위해서 r, g, b 색을 조합할 수 있다.  \n",
    "**픽셀(pixel)은 그림(picture)을 구성하는 셀(cell)에서 이름이 만들어졌다.  \n",
    " "
   ]
  },
  {
   "cell_type": "code",
   "execution_count": 141,
   "metadata": {},
   "outputs": [
    {
     "name": "stdout",
     "output_type": "stream",
     "text": [
      "0 0 0\n",
      "0 0 1\n",
      "0 1 0\n",
      "0 1 1\n",
      "1 0 0\n",
      "1 0 1\n",
      "1 1 0\n",
      "1 1 1\n",
      "2 0 0\n",
      "2 0 1\n",
      "2 1 0\n",
      "2 1 1\n",
      "12\n"
     ]
    }
   ],
   "source": [
    "r, g, b = input().split()\n",
    "r = int(r) ; g = int(g) ; b = int(b)\n",
    "for i in range(r) :\n",
    "    for j in range(g) :\n",
    "        for k in range(b) :\n",
    "            print(i, j, k)\n",
    "print(r*g*b)"
   ]
  },
  {
   "cell_type": "markdown",
   "metadata": {},
   "source": [
    "### 84 : [기초-종합] 소리 파일 저장용량 계산하기"
   ]
  },
  {
   "cell_type": "markdown",
   "metadata": {},
   "source": [
    "1초 동안 마이크로 소리강약을 체크하는 횟수를 h  \n",
    "(헤르쯔, Hz 는 1초에 몇 번? 체크하는가를 의미한다.)  \n",
    "\n",
    "한 번 체크한 값을 저장할 때 사용하는 비트수를 b  \n",
    "(2비트를 사용하면 0 또는 1 두 가지, 16비트를 사용하면 65536가지..)  \n",
    "\n",
    "좌우 등 소리를 저장할 트랙 개수인 채널 개수를 c  \n",
    "(모노는 1개, 스테레오는 2개의 트랙으로 저장함을 의미한다.)  \n",
    "\n",
    "녹음할 시간(초) s가 주어질 때,  \n",
    "\n",
    "필요한 저장 용량을 계산하는 프로그램을 작성해보자.  \n",
    "\n",
    "실제로, 일반적인 CD 음질(44.1KHz, 16bit, 스테레오)로 1초 동안 저장하려면  \n",
    "44100 * 16 * 2 * 1 bit의 저장공간이 필요한데,   \n",
    "44100*16*2*1/8/1024/1024 로 계산하면 약 0.168 MB 정도가 필요하다.   "
   ]
  },
  {
   "cell_type": "code",
   "execution_count": 152,
   "metadata": {},
   "outputs": [
    {
     "name": "stdout",
     "output_type": "stream",
     "text": [
      "1.7 MB\n"
     ]
    }
   ],
   "source": [
    "h, b, c, s = input().split()\n",
    "h = int(h) ; b = int(b) ; c = int(c) ; s = int(s)\n",
    "bits = h * b * c * s\n",
    "bytes = bits / 8 \n",
    "kbytes = bytes / (2**10)\n",
    "gbytes = kbytes / (2**10)\n",
    "print(format(gbytes, \".1f\") + \" MB\")"
   ]
  },
  {
   "cell_type": "markdown",
   "metadata": {},
   "source": [
    "### 86 : [기초-종합] 거기까지! 이제 그만~"
   ]
  },
  {
   "cell_type": "markdown",
   "metadata": {},
   "source": [
    "1부터 n까지 정수를 하나씩 더해 합을 만드는데,  \n",
    "어디까지 더해야 입력한 수보다 같거나 커지는지 알아보고자 하는 문제이다.  \n",
    "\n",
    "하지만, 이번에는 그 때 까지의 합을 출력해야 한다.  \n",
    "\n",
    "예를 들어, 57을 입력하면  \n",
    "1+2+3+...+8+9+10=55에서 그 다음 수인 11을 더해 66이 될 때,  \n",
    "그 값 66이 출력되어야 한다.  "
   ]
  },
  {
   "cell_type": "code",
   "execution_count": 30,
   "metadata": {},
   "outputs": [
    {
     "name": "stdout",
     "output_type": "stream",
     "text": [
      "66\n"
     ]
    }
   ],
   "source": [
    "target = int(input())\n",
    "n = 0\n",
    "sum = 0\n",
    "while sum < target :\n",
    "    n += 1\n",
    "    sum += n \n",
    "print(sum)"
   ]
  },
  {
   "cell_type": "markdown",
   "metadata": {},
   "source": [
    "### 87 : [기초-종합] 3의 배수는 통과(설명)"
   ]
  },
  {
   "cell_type": "markdown",
   "metadata": {},
   "source": [
    "1부터 입력한 정수까지 1씩 증가시켜 출력하는 프로그램을 작성하되,   \n",
    "3의 배수인 경우는 출력하지 않도록 만들어보자.  \n",
    "\n",
    "예를 들면,  \n",
    "1 2 4 5 7 8 10 11 13 14 ...  \n",
    "와 같이 출력하는 것이다.   \n",
    "\n",
    "참고  \n",
    "조건문이나 반복문의 코드블록 안에서 continue 가 실행되면,  \n",
    "반복 블록 안에 있는 나머지 부분을 실행하지 않고, 다음 반복 단계로 넘어간다.   \n",
    "즉, 반복 블록의 나머지 부분은 실행되지 않고, 다음 단계의 반복을 계속(continue)하는 것이다.   \n"
   ]
  },
  {
   "cell_type": "code",
   "execution_count": 29,
   "metadata": {},
   "outputs": [
    {
     "name": "stdout",
     "output_type": "stream",
     "text": [
      "1 2 4 5 7 8 10 \n"
     ]
    }
   ],
   "source": [
    "n = int(input())\n",
    "i = 0 \n",
    "while i < n :\n",
    "    i += 1\n",
    "    if(i%3 ==0) :\n",
    "        continue\n",
    "    print(i, end = ' ')\n",
    "print()"
   ]
  },
  {
   "cell_type": "markdown",
   "metadata": {},
   "source": [
    "### 88 : [기초-종합] 수 나열하기1"
   ]
  },
  {
   "cell_type": "markdown",
   "metadata": {},
   "source": [
    "\"그럼.... 123번째 나오는 수는 뭘까?\"  \n",
    "\n",
    "영일이는 프로그램을 만들어 더 큰 수도 자동으로 계산하고 싶어졌다.  \n",
    "\n",
    "시작 값(a), 등차(d), 몇 번째인지를 나타내는 정수(n)가 입력될 때  \n",
    "n번째 수를 출력하는 프로그램을 만들어보자.  "
   ]
  },
  {
   "cell_type": "code",
   "execution_count": 157,
   "metadata": {},
   "outputs": [
    {
     "name": "stdout",
     "output_type": "stream",
     "text": [
      "13\n"
     ]
    }
   ],
   "source": [
    "a, d, n = input().split() \n",
    "a = int(a) ; d = int(d) ; n = int(n)\n",
    "print(a + d * (n-1))"
   ]
  },
  {
   "cell_type": "markdown",
   "metadata": {},
   "source": [
    "### 90 : [기초-종합] 수 나열하기3"
   ]
  },
  {
   "cell_type": "markdown",
   "metadata": {},
   "source": [
    "1 -1 3 -5 11 -21 43 ... 은  \n",
    "1부터 시작해 이전에 만든 수에 -2를 곱한 다음 1을 더해 다음 수를 만든 수열이다.  \n",
    "\n",
    "이런 이상한 수열을 알게 된 영일이는 또 궁금해졌다.  \n",
    "\"그럼.... 13번째 나오는 수는 뭘까?\"  \n",
    "\n",
    "영일이는 물론 수학을 아주 잘하지만 이런 문제는 본 적이 거의 없었다...   \n",
    "그래서 프로그램을 만들어 더 큰 수도 자동으로 계산하고 싶어졌다.  \n",
    "\n",
    "시작 값(a), 곱할 값(m), 더할 값(d), 몇 번째인지를 나타내는 정수(n)가 입력될 때,  \n",
    "n번째 수를 출력하는 프로그램을 만들어보자.  "
   ]
  },
  {
   "cell_type": "code",
   "execution_count": 158,
   "metadata": {},
   "outputs": [
    {
     "name": "stdout",
     "output_type": "stream",
     "text": [
      "-85\n"
     ]
    }
   ],
   "source": [
    "a, m, d, n = input().split()\n",
    "a = int(a) ; m = int(m) ; d = int(d) ; n = int(n)\n",
    "j = 1\n",
    "seq = a\n",
    "while(j < n) :\n",
    "    j += 1\n",
    "    seq *= m\n",
    "    seq += d\n",
    "print(seq) \n"
   ]
  },
  {
   "cell_type": "markdown",
   "metadata": {},
   "source": [
    "### 91 : [기초-종합] 함께 문제 푸는 날"
   ]
  },
  {
   "cell_type": "markdown",
   "metadata": {},
   "source": [
    "같은 날 동시에 가입한 3명의 사람들이 온라인 채점시스템에 들어와 문제를 푸는 날짜가  \n",
    "매우 규칙적이라고 할 때, 다시 모두 함께 문제를 풀게 되는 그날은 언제일까?  \n",
    "\n",
    "예를 들어 3명이 같은 날 가입/등업하고, 각각 3일마다, 7일마다, 9일마다  \n",
    "한 번씩 들어온다면, 처음 가입하고 63일 만에 다시 3명이 함께 문제를 풀게 된다.  \n",
    "  \n",
    "갑자기 힌트?  \n",
    "왠지 어려워 보이지 않는가?  \n",
    "수학에서 배운 최소공배수를 생각한 사람들도 있을 것이다. 하지만, 정보에서 배우고 경험하는  \n",
    "정보과학의 세상은 때때로 컴퓨터의 힘을 빌려 간단한 방법으로 해결할 수 있게 한다.  "
   ]
  },
  {
   "cell_type": "code",
   "execution_count": 28,
   "metadata": {},
   "outputs": [
    {
     "name": "stdout",
     "output_type": "stream",
     "text": [
      "273\n"
     ]
    }
   ],
   "source": [
    "a, b, c = input().split()\n",
    "a = int(a) ; b = int(b) ; c = int(c)\n",
    "day = 0\n",
    "together = False\n",
    "while not together :\n",
    "    day += 1\n",
    "    together = True if day % a ==0 and day % b ==0 and day % c ==0 else False\n",
    "print(day)"
   ]
  },
  {
   "cell_type": "markdown",
   "metadata": {},
   "source": [
    "### 92 : [기초-리스트] 이상한 출석 번호 부르기1"
   ]
  },
  {
   "cell_type": "markdown",
   "metadata": {},
   "source": [
    "정보 선생님은 수업을 시작하기 전에 이상한 출석을 부른다.   \n",
    "  \n",
    "선생님은 출석부를 보고 번호를 부르는데,  \n",
    "학생들의 얼굴과 이름을 빨리 익히기 위해 번호를 무작위(랜덤)으로 부른다.  \n",
    "\n",
    "그리고 얼굴과 이름이 잘 기억되지 않는 학생들은 번호를 여러 번 불러  \n",
    "이름과 얼굴을 빨리 익히려고 하는 것이다.  \n",
    "\n",
    "출석 번호를 n번 무작위로 불렀을 때, 각 번호(1 ~ 23)가 불린 횟수를 각각 출력해보자.   \n",
    "\n",
    "\n",
    "첫 번째 줄에 출석 번호를 부른 횟수인 정수 n이 입력된다. (1 ~ 10000)  \n",
    "두 번째 줄에는 무작위로 부른 n개의 번호(1 ~ 23)가 공백을 두고 순서대로 입력된다.   \n",
    "\n",
    "1번부터 번호가 불린 횟수를 순서대로 공백으로 구분하여 한 줄로 출력한다.   \n",
    "\n",
    "참고   \n",
    "- d = []           #어떤 데이터 목록(list) 을 순서대로 저장하기 위해 아무것도 없는 리스트 변수 만들기 \n",
    "- d.append(값)      #d 리스트의 마지막에 원하는 값을 추가(append)해 넣음  \n",
    "- d[a[i]] += 1       #2중 리스트 참조 : 만약 a[i]의 값이 1이었다면? d[1] += 1 이 실행되는 것이다. 1번 카운트 1개 증가.. "
   ]
  },
  {
   "cell_type": "code",
   "execution_count": 232,
   "metadata": {},
   "outputs": [
    {
     "name": "stdout",
     "output_type": "stream",
     "text": [
      "0 1 1 1 3 1 0 2 0 1 0 0 0 0 0 0 0 0 0 0 0 0 0 \n"
     ]
    }
   ],
   "source": [
    "n = int(input())\n",
    "nums = input().split()  #  nums is a list \n",
    "calls = []\n",
    "for i in nums :\n",
    "    calls.append(int(i))  # convert type of element of `nums` from character to int and store it as `calls`\n",
    "counts = [0 for m in range(23)]   # initialize zero list with length 23\n",
    "for j in calls :\n",
    "    counts[j-1] += 1\n",
    "for k in counts :\n",
    "    print(k, end = ' ')\n",
    "print()\n"
   ]
  },
  {
   "cell_type": "markdown",
   "metadata": {},
   "source": [
    "### 93 : [기초-리스트] 이상한 출석 번호 부르기2"
   ]
  },
  {
   "cell_type": "markdown",
   "metadata": {},
   "source": [
    "정보 선생님은 수업을 시작하기 전에 이상한 출석을 부른다.   \n",
    "\n",
    "학생들의 얼굴과 이름을 빨리 익히기 위해 번호를 무작위(랜덤)으로 부르는데,  \n",
    "영일이는 선생님이 부른 번호들을 기억하고 있다가 거꾸로 불러보는 것을 해보고 싶어졌다.  \n",
    "\n",
    "출석 번호를 n번 무작위로 불렀을 때, 부른 번호를 거꾸로 출력해 보자.  "
   ]
  },
  {
   "cell_type": "code",
   "execution_count": 185,
   "metadata": {},
   "outputs": [
    {
     "name": "stdout",
     "output_type": "stream",
     "text": [
      "5 8 9 7 6 6 3 2 4 10 \n"
     ]
    }
   ],
   "source": [
    "n = int(input())\n",
    "nums = input().split()\n",
    "calls = []\n",
    "for i in nums :\n",
    "    calls.append(int(i))\n",
    "while(len(calls)>0) :\n",
    "    a = calls.pop()\n",
    "    print(a, end = ' ')\n",
    "print()\n"
   ]
  },
  {
   "cell_type": "markdown",
   "metadata": {},
   "source": [
    "### 94 : [기초-리스트] 이상한 출석 번호 부르기3"
   ]
  },
  {
   "cell_type": "markdown",
   "metadata": {},
   "source": [
    "\n",
    "정보 선생님은 오늘도 이상한 출석을 부른다.   \n",
    "\n",
    "영일이는 오늘도 다른 생각을 해보았다.  \n",
    "출석 번호를 다 부르지는 않은 것 같은데... 가장 빠른 번호가 뭐였지?  \n",
    "\n",
    "출석 번호를 n번 무작위로 불렀을 때, 가장 빠른 번호를 출력해 보자.  \n",
    "\n",
    "단,    \n",
    "첫 번째 번호와 마지막 번호가 몇 번인지는 아무도 모른다.   \n",
    "음수(-) 번호, 0번 번호도 있을 수 있다.   \n",
    "\n",
    "참고  \n",
    "리스트에 출석 번호를 기록해 두었다가, 그 중에서 가장 작은 값을 찾아내면 된다.  \n",
    "그런데, 가장 작은 값은 어떻게 어떤 것과 비교하고, 어떻게 찾아야 할까?   "
   ]
  },
  {
   "cell_type": "code",
   "execution_count": 187,
   "metadata": {},
   "outputs": [
    {
     "name": "stdout",
     "output_type": "stream",
     "text": [
      "2\n"
     ]
    }
   ],
   "source": [
    "n = int(input())\n",
    "nums = input().split()\n",
    "calls = []\n",
    "for i in nums :\n",
    "    calls.append(int(i))\n",
    "target = calls[0]\n",
    "for j in calls :\n",
    "    if j < target :\n",
    "        target = j\n",
    "print(target)"
   ]
  },
  {
   "cell_type": "markdown",
   "metadata": {},
   "source": [
    "### 95 : [기초-리스트] 바둑판에 흰 돌 놓기(설명)"
   ]
  },
  {
   "cell_type": "markdown",
   "metadata": {},
   "source": [
    "오랜만에 집에 간 영일이는 아버지와 함께 두던 매우 큰 오목에 대해서 생각해 보다가  \n",
    "\"바둑판에 돌을 올린 것을 프로그래밍 할 수 있을까?\"하고 생각하였다.  \n",
    "\n",
    "바둑판(19 * 19)에 n개의 흰 돌을 놓는다고 할 때,  \n",
    "n개의 흰 돌이 놓인 위치를 출력하는 프로그램을 작성해보자.  \n",
    "\n",
    "입력  \n",
    "바둑판에 올려 놓을 흰 돌의 개수(n)가 첫 줄에 입력된다.  \n",
    "둘째 줄 부터 n+1 번째 줄까지 힌 돌을 놓을 좌표(x, y)가 n줄 입력된다.  \n",
    "n은 10이하의 자연수이고 x, y 좌표는 1 ~ 19 까지이며, 똑같은 좌표는 입력되지 않는다.   \n",
    "\n",
    "출력  \n",
    "흰 돌이 올려진 바둑판의 상황을 출력한다.  \n",
    "흰 돌이 있는 위치는 1, 없는 곳은 0으로 출력한다.   \n"
   ]
  },
  {
   "cell_type": "code",
   "execution_count": 1,
   "metadata": {},
   "outputs": [
    {
     "name": "stdout",
     "output_type": "stream",
     "text": [
      "1 0 0 0 0 0 0 0 0 0 0 0 0 0 0 0 0 0 0 \n",
      "0 1 0 0 0 0 0 0 0 0 0 0 0 0 0 0 0 0 0 \n",
      "0 0 1 0 0 0 0 0 0 0 0 0 0 0 0 0 0 0 0 \n",
      "0 0 0 1 0 0 0 0 0 0 0 0 0 0 0 0 0 0 0 \n",
      "0 0 0 0 1 0 0 0 0 0 0 0 0 0 0 0 0 0 0 \n",
      "0 0 0 0 0 0 0 0 0 0 0 0 0 0 0 0 0 0 0 \n",
      "0 0 0 0 0 0 0 0 0 0 0 0 0 0 0 0 0 0 0 \n",
      "0 0 0 0 0 0 0 0 0 0 0 0 0 0 0 0 0 0 0 \n",
      "0 0 0 0 0 0 0 0 0 0 0 0 0 0 0 0 0 0 0 \n",
      "0 0 0 0 0 0 0 0 0 0 0 0 0 0 0 0 0 0 0 \n",
      "0 0 0 0 0 0 0 0 0 0 0 0 0 0 0 0 0 0 0 \n",
      "0 0 0 0 0 0 0 0 0 0 0 0 0 0 0 0 0 0 0 \n",
      "0 0 0 0 0 0 0 0 0 0 0 0 0 0 0 0 0 0 0 \n",
      "0 0 0 0 0 0 0 0 0 0 0 0 0 0 0 0 0 0 0 \n",
      "0 0 0 0 0 0 0 0 0 0 0 0 0 0 0 0 0 0 0 \n",
      "0 0 0 0 0 0 0 0 0 0 0 0 0 0 0 0 0 0 0 \n",
      "0 0 0 0 0 0 0 0 0 0 0 0 0 0 0 0 0 0 0 \n",
      "0 0 0 0 0 0 0 0 0 0 0 0 0 0 0 0 0 0 0 \n",
      "0 0 0 0 0 0 0 0 0 0 0 0 0 0 0 0 0 0 0 \n"
     ]
    }
   ],
   "source": [
    "n = int(input())\n",
    "grid = [[0 for i in range(19)] for j in range(19)]\n",
    "# grid = [[0] *19] * 19 도 같은 2d list를 만들지만 이는 권장되지 않음\n",
    "# grid[0] == grid[1] == grid[19]로 인식해서 하나의 1d list만 성분 교체하고 싶어도 전체 리스트에서 변경이 일어남\n",
    "for i in range(n) :\n",
    "    x, y = input().split()\n",
    "    grid[int(x)-1][int(y)-1] = 1\n",
    "for row in grid :\n",
    "    for element in row :\n",
    "        print(element, end = ' ')\n",
    "    print()"
   ]
  },
  {
   "cell_type": "markdown",
   "metadata": {},
   "source": [
    "### 96 : [기초-리스트] 바둑알 십자 뒤집기"
   ]
  },
  {
   "cell_type": "markdown",
   "metadata": {},
   "source": [
    "부모님을 기다리던 영일이는 검정/흰 색 바둑알을 바둑판에 꽉 채워 깔아 놓고 놀다가...   \n",
    "\n",
    "\"십(+)자 뒤집기를 해볼까?\"하고 생각했다.   \n",
    "\n",
    "십자 뒤집기는   \n",
    "그 위치에 있는 모든 가로줄 돌의 색을 반대(1->0, 0->1)로 바꾼 후,    \n",
    "다시 그 위치에 있는 모든 세로줄 돌의 색을 반대로 바꾸는 것이다.   \n",
    "어떤 위치를 골라 집자 뒤집기를 하면, 그 위치를 제외한 가로줄과 세로줄의 색이 모두 반대로 바뀐다.   \n",
    "\n",
    "바둑판(19 * 19)에 흰 돌(1) 또는 검정 돌(0)이 모두 꽉 채워져 놓여있을 때,  \n",
    "n개의 좌표를 입력받아 십(+)자 뒤집기한 결과를 출력하는 프로그램을 작성해보자.  "
   ]
  },
  {
   "cell_type": "markdown",
   "metadata": {},
   "source": [
    "입력   \n",
    "\n",
    "바둑알이 깔려 있는 상황이 19 * 19 크기의 정수값으로 입력된다.  \n",
    "십자 뒤집기 횟수(n)가 입력된다.  \n",
    "십자 뒤집기 좌표가 횟수(n) 만큼 입력된다. 단, n은 10이하의 자연수이다.   \n",
    "\n",
    "출력   \n",
    "\n",
    "십자 뒤집기 결과를 출력한다.   \n"
   ]
  },
  {
   "cell_type": "code",
   "execution_count": 13,
   "metadata": {},
   "outputs": [
    {
     "name": "stdout",
     "output_type": "stream",
     "text": [
      "0 0 0 0 0 0 0 0 0 0 0 0 0 0 0 0 0 0 0 \n",
      "0 0 0 0 0 0 0 0 0 0 0 0 0 0 0 0 0 0 0 \n",
      "0 0 0 0 0 0 0 0 0 0 0 0 0 0 0 0 0 0 0 \n",
      "0 0 0 0 0 0 0 0 0 0 0 0 0 0 0 0 0 0 0 \n",
      "0 0 0 0 0 0 0 0 0 0 0 0 0 0 0 0 0 0 0 \n",
      "0 0 0 0 0 0 0 0 0 0 0 0 0 0 0 0 0 0 0 \n",
      "0 0 0 0 0 0 0 0 0 0 0 0 0 0 0 0 0 0 0 \n",
      "0 0 0 0 0 0 0 0 0 0 0 0 0 0 0 0 0 0 0 \n",
      "0 0 0 0 0 0 0 0 0 0 0 0 0 0 0 0 0 0 0 \n",
      "0 0 0 0 0 0 0 0 0 1 0 1 0 0 0 0 0 0 0 \n",
      "0 0 0 0 0 0 0 0 0 0 0 0 0 0 0 0 0 0 0 \n",
      "0 0 0 0 0 0 0 0 0 1 0 1 0 0 0 0 0 0 0 \n",
      "0 0 0 0 0 0 0 0 0 0 0 0 0 0 0 0 0 0 0 \n",
      "0 0 0 0 0 0 0 0 0 0 0 0 0 0 0 0 0 0 0 \n",
      "0 0 0 0 0 0 0 0 0 0 0 0 0 0 0 0 0 0 0 \n",
      "0 0 0 0 0 0 0 0 0 0 0 0 0 0 0 0 0 0 0 \n",
      "0 0 0 0 0 0 0 0 0 0 0 0 0 0 0 0 0 0 0 \n",
      "0 0 0 0 0 0 0 0 0 0 0 0 0 0 0 0 0 0 0 \n",
      "0 0 0 0 0 0 0 0 0 0 0 0 0 0 0 0 0 0 0 \n"
     ]
    }
   ],
   "source": [
    "## define 0-1 switch function\n",
    "def switch(z) :\n",
    "    if not (z==0 or z==1) :\n",
    "        return None \n",
    "    return 1 if z==0 else 0\n",
    "\n",
    "\n",
    "## store input grid as 2D list\n",
    "grid = []\n",
    "for i in range(19) :\n",
    "    current_row = input().split()\n",
    "    row = []\n",
    "    for j in current_row :\n",
    "        row.append(int(j))\n",
    "    grid.append(row)\n",
    "\n",
    "## 십자 뒤집기 \n",
    "n = int(input())\n",
    "for k in range(n) :\n",
    "    x, y = input().split()\n",
    "    x = int(x) ; y = int(y)\n",
    "    for i in range(19) :\n",
    "        grid[x-1][i] = switch(grid[x-1][i])\n",
    "        grid[i][y-1] = switch(grid[i][y-1])\n",
    "\n",
    "## 출력\n",
    "for row in grid :\n",
    "    for element in row :\n",
    "        print(element, end = \" \")\n",
    "    print()\n",
    "\n"
   ]
  },
  {
   "cell_type": "markdown",
   "metadata": {},
   "source": [
    "### 97 : [기초-리스트] 설탕과자 뽑기"
   ]
  },
  {
   "cell_type": "markdown",
   "metadata": {},
   "source": [
    "부모님과 함께 놀러간 영일이는   \n",
    "설탕과자(설탕을 녹여 물고기 등의 모양을 만든 것) 뽑기를 보게 되었다.  \n",
    "\n",
    "길이가 다른 몇 개의 막대를 바둑판과 같은 격자판에 놓는데,  \n",
    "\n",
    "막대에 있는 설탕과자 이름 아래에 있는 번호를 뽑으면 설탕과자를 가져가는 게임이었다.  \n",
    "(잉어, 붕어, 용 등 여러 가지가 적혀있다.)   \n",
    "  \n",
    "격자판의 세로(h), 가로(w), 막대의 개수(n), 각 막대의 길이(l),  \n",
    "막대를 놓는 방향(d:가로는 0, 세로는 1)과  \n",
    "막대를 놓는 막대의 가장 왼쪽 또는 위쪽의 위치(x, y)가 주어질 때,  \n",
    "\n",
    "격자판을 채운 막대의 모양을 출력하는 프로그램을 만들어보자.   \n",
    "  \n",
    "입력  \n",
    "\n",
    "첫 줄에 격자판의 세로(h), 가로(w) 가 공백을 두고 입력되고,  \n",
    "두 번째 줄에 놓을 수 있는 막대의 개수(n)  \n",
    "세 번째 줄부터 각 막대의 길이(l), 방향(d), 좌표(x, y)가 입력된다.  \n",
    "1 <= w, h <= 100  \n",
    "1 <= n <= 10  \n",
    "d = 0 or 1  \n",
    "1 <= x <= 100-h  \n",
    "1 <= y <= 100-w   \n",
    "\n",
    "출력  \n",
    "  \n",
    "모든 막대를 놓은 격자판의 상태를 출력한다.  \n",
    "막대에 의해 가려진 경우 1, 아닌 경우 0으로 출력한다.  \n",
    "단, 각 숫자는 공백으로 구분하여 출력한다.   \n"
   ]
  },
  {
   "cell_type": "code",
   "execution_count": 16,
   "metadata": {},
   "outputs": [
    {
     "name": "stdout",
     "output_type": "stream",
     "text": [
      "1 1 0 0 0 \n",
      "0 0 1 0 1 \n",
      "0 0 1 0 1 \n",
      "0 0 1 0 1 \n",
      "0 0 0 0 1 \n"
     ]
    }
   ],
   "source": [
    "h, w = input().split()\n",
    "h = int(h) ; w = int(w)\n",
    "grid = [[0 for j in range(w)] for i in range(h)]\n",
    "\n",
    "n = int(input())\n",
    "for k in range(n) :\n",
    "    l, d, x, y = input().split()\n",
    "    l = int(l) ; d = int(d) ; x = int(x) ; y = int(y)\n",
    "    if d == 0 :\n",
    "        for j in range(l) :\n",
    "            grid[x-1][y-1+j] = 1\n",
    "    elif d == 1 :\n",
    "        for i in range(l) :\n",
    "            grid[x-1+i][y-1] = 1\n",
    "\n",
    "for row in grid :\n",
    "    for element in row :\n",
    "        print(element, end = ' ')\n",
    "    print()"
   ]
  },
  {
   "cell_type": "markdown",
   "metadata": {},
   "source": [
    "### 98 : [기초-리스트] 성실한 개미"
   ]
  },
  {
   "cell_type": "markdown",
   "metadata": {},
   "source": [
    "영일이는 생명과학에 관심이 생겨 왕개미를 연구하고 있었다.   \n",
    "\n",
    "왕개미를 유심히 살펴보던 중 특별히 성실해 보이는 개미가 있었는데,  \n",
    "그 개미는 개미굴에서 나와 먹이까지 가장 빠른 길로 이동하는 것이었다.  \n",
    "\n",
    "개미는 오른쪽으로 움직이다가 벽을 만나면 아래쪽으로 움직여 가장 빠른 길로 움직였다.  \n",
    "(오른쪽에 길이 나타나면 다시 오른쪽으로 움직인다.)  \n",
    "\n",
    "이에 호기심이 생긴 영일이는 그 개미를 미로 상자에 넣고 살펴보기 시작하였다.  \n",
    "\n",
    "미로 상자에 넣은 개미는 먹이를 찾았거나, 더 이상 움직일 수 없을 때까지  \n",
    "오른쪽 또는 아래쪽으로만 움직였다.  \n",
    "\n",
    "미로 상자의 구조가 0(갈 수 있는 곳), 1(벽 또는 장애물)로 주어지고,  \n",
    "먹이가 2로 주어질 때, 성실한 개미의 이동 경로를 예상해보자.  \n",
    "\n",
    "단, 맨 아래의 가장 오른쪽에 도착한 경우, 더 이상 움직일 수 없는 경우, 먹이를 찾은 경우에는  \n",
    "더이상 이동하지 않고 그 곳에 머무른다고 가정한다.  \n",
    "\n",
    "미로 상자의 테두리는 모두 벽으로 되어 있으며,  \n",
    "개미집은 반드시 (2, 2)에 존재하기 때문에 개미는 (2, 2)에서 출발한다. \n",
    "\n",
    "입력  \n",
    "\n",
    "10*10 크기의 미로 상자의 구조와 먹이의 위치가 입력된다.  \n",
    "\n",
    "출력  \n",
    "\n",
    "성실한 개미가 이동한 경로를 9로 표시해 출력한다.   "
   ]
  },
  {
   "cell_type": "markdown",
   "metadata": {},
   "source": [
    "아래의 코드에서 `else`에 해당하는 condition이 `grid[xloc][yloc+1] == 1 and grid[xloc+1][yloc] == 1`가 되는 이유  \n",
    "\n",
    "$A = ($`grid[xloc][yloc+1] == 1`$) \\quad , \\quad B = ($`grid[xloc+1][yloc] == 1`$)$ 라고 정의하면\n",
    "\n",
    "$$(A^c)^c \\cap (A \\cap B^c)^c  = A \\cap (A^c \\cup B) = (A \\cap A^c) \\cup (A \\cap B) = A \\cap B$$"
   ]
  },
  {
   "cell_type": "code",
   "execution_count": 37,
   "metadata": {},
   "outputs": [
    {
     "name": "stdout",
     "output_type": "stream",
     "text": [
      "1 1 1 1 1 1 1 1 1 1 \n",
      "1 9 9 1 0 0 0 0 0 1 \n",
      "1 0 9 1 1 1 0 0 0 1 \n",
      "1 0 9 9 9 9 9 1 0 1 \n",
      "1 0 0 0 0 0 9 1 0 1 \n",
      "1 0 0 0 0 1 9 1 0 1 \n",
      "1 0 0 0 0 1 9 1 0 1 \n",
      "1 0 0 0 0 1 0 0 0 1 \n",
      "1 0 0 0 0 0 0 0 0 1 \n",
      "1 1 1 1 1 1 1 1 1 1 \n"
     ]
    }
   ],
   "source": [
    "grid = []\n",
    "for k in range(10) :\n",
    "    input_row = input().split()\n",
    "    row = []\n",
    "    for j in input_row :\n",
    "        row.append(int(j))\n",
    "    grid.append(row)\n",
    "\n",
    "# 출발 위치\n",
    "xloc = 1 ; yloc = 1\n",
    "while True :\n",
    "    # 먹이를 찾은 경우 혹은 맨 아래의 가장 오른쪽에 도착한 경우, 더 이동하지 않는다.\n",
    "    if grid[xloc][yloc] == 2 or (xloc == 9 and yloc ==9) :\n",
    "        grid[xloc][yloc] = 9\n",
    "        break \n",
    "    # 이동한 경로를 9로 표시\n",
    "    grid[xloc][yloc] = 9\n",
    "    # 오른쪽에 벽이 없으면 오른쪽으로 움직인다.\n",
    "    if grid[xloc][yloc+1] != 1 :\n",
    "        yloc += 1\n",
    "    # 오른쪽에 벽이 있고 아래쪽에 벽이 없으면 아래쪽으로 움직인다.\n",
    "    elif grid[xloc][yloc+1] == 1 and grid[xloc+1][yloc] != 1 :\n",
    "        xloc += 1\n",
    "    # 오른쪽과 아래쪽 모두에 벽이 있으면 더 이상 움직일 수 없다.\n",
    "    else : \n",
    "        # `grid[xloc][yloc+1] == 1 and grid[xloc+1][yloc] == 1` case   \n",
    "        break\n",
    "\n",
    "for row in grid :\n",
    "    for element in row :\n",
    "        print(element, end = \" \")\n",
    "    print()"
   ]
  }
 ],
 "metadata": {
  "interpreter": {
   "hash": "d88d8acdbfaa835a5f857244e00e0be2fef710e8821cc5222c903f5a03bf61bd"
  },
  "kernelspec": {
   "display_name": "Python 3.8.8 ('base')",
   "language": "python",
   "name": "python3"
  },
  "language_info": {
   "codemirror_mode": {
    "name": "ipython",
    "version": 3
   },
   "file_extension": ".py",
   "mimetype": "text/x-python",
   "name": "python",
   "nbconvert_exporter": "python",
   "pygments_lexer": "ipython3",
   "version": "3.8.8"
  },
  "orig_nbformat": 4
 },
 "nbformat": 4,
 "nbformat_minor": 2
}
