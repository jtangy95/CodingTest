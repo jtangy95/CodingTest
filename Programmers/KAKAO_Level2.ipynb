{
 "cells": [
  {
   "cell_type": "markdown",
   "metadata": {},
   "source": [
    "### 오픈채팅방"
   ]
  },
  {
   "cell_type": "markdown",
   "metadata": {},
   "source": [
    "카카오톡 오픈채팅방에서는 친구가 아닌 사람들과 대화를 할 수 있는데, 본래 닉네임이 아닌 가상의 닉네임을 사용하여 채팅방에 들어갈 수 있다.  \n",
    "\n",
    "신입사원인 김크루는 카카오톡 오픈 채팅방을 개설한 사람을 위해, 다양한 사람들이 들어오고, 나가는 것을 지켜볼 수 있는 관리자창을 만들기로 했다. 채팅방에 누군가 들어오면 다음 메시지가 출력된다.  \n",
    "\n",
    "\"[닉네임]님이 들어왔습니다.\"  \n",
    "\n",
    "채팅방에서 누군가 나가면 다음 메시지가 출력된다.  \n",
    "\n",
    "\"[닉네임]님이 나갔습니다.\"  \n",
    "\n",
    "채팅방에서 닉네임을 변경하는 방법은 다음과 같이 두 가지이다.  \n",
    "\n",
    "채팅방을 나간 후, 새로운 닉네임으로 다시 들어간다.\n",
    "채팅방에서 닉네임을 변경한다.  \n",
    "\n",
    "닉네임을 변경할 때는 기존에 채팅방에 출력되어 있던 메시지의 닉네임도 전부 변경된다.  \n",
    "\n",
    "예를 들어, 채팅방에 \"Muzi\"와 \"Prodo\"라는 닉네임을 사용하는 사람이 순서대로 들어오면 채팅방에는 다음과 같이 메시지가 출력된다.  \n",
    "\n",
    "\"Muzi님이 들어왔습니다.\"  \n",
    "\n",
    "\"Prodo님이 들어왔습니다.\"  \n",
    "\n",
    "채팅방에 있던 사람이 나가면 채팅방에는 다음과 같이 메시지가 남는다.  \n",
    "\n",
    "\"Muzi님이 들어왔습니다.\"  \n",
    "\n",
    "\"Prodo님이 들어왔습니다.\"  \n",
    "\n",
    "\"Muzi님이 나갔습니다.\"  \n",
    "\n",
    "Muzi가 나간후 다시 들어올 때, Prodo 라는 닉네임으로 들어올 경우 기존에 채팅방에 남아있던 Muzi도 Prodo로 다음과 같이 변경된다.  \n",
    "\n",
    "\"Prodo님이 들어왔습니다.\"  \n",
    "\n",
    "\"Prodo님이 들어왔습니다.\"  \n",
    "\n",
    "\"Prodo님이 나갔습니다.\"  \n",
    "\n",
    "\"Prodo님이 들어왔습니다.\"  \n",
    "\n",
    "채팅방은 중복 닉네임을 허용하기 때문에, 현재 채팅방에는 Prodo라는 닉네임을 사용하는 사람이 두 명이 있다. 이제, 채팅방에 두 번째로 들어왔던 Prodo가 Ryan으로 닉네임을 변경하면 채팅방 메시지는 다음과 같이 변경된다.  \n",
    "\n",
    "\"Prodo님이 들어왔습니다.\"  \n",
    "\n",
    "\"Ryan님이 들어왔습니다.\"  \n",
    "\n",
    "\"Prodo님이 나갔습니다.\"  \n",
    "\n",
    "\"Prodo님이 들어왔습니다.\"  \n",
    "\n",
    "채팅방에 들어오고 나가거나, 닉네임을 변경한 기록이 담긴 문자열 배열 record가 매개변수로 주어질 때, 모든 기록이 처리된 후, 최종적으로 방을 개설한 사람이 보게 되는 메시지를 문자열 배열 형태로 return 하도록 solution 함수를 완성하라.  \n",
    "\n",
    "제한사항\n",
    "\n",
    "- record는 다음과 같은 문자열이 담긴 배열이며, 길이는 1 이상 100,000 이하이다.\n",
    "- 다음은 record에 담긴 문자열에 대한 설명이다.\n",
    "    - 모든 유저는 [유저 아이디]로 구분한다.\n",
    "    - [유저 아이디] 사용자가 [닉네임]으로 채팅방에 입장 - \"Enter [유저 아이디] [닉네임]\" (ex. \"Enter uid1234 Muzi\")\n",
    "    - [유저 아이디] 사용자가 채팅방에서 퇴장 - \"Leave [유저 아이디]\" (ex. \"Leave uid1234\")\n",
    "    - [유저 아이디] 사용자가 닉네임을 [닉네임]으로 변경 - \"Change [유저 아이디] [닉네임]\" (ex. \"Change uid1234 Muzi\")\n",
    "    - 첫 단어는 Enter, Leave, Change 중 하나이다.\n",
    "    - 각 단어는 공백으로 구분되어 있으며, 알파벳 대문자, 소문자, 숫자로만 이루어져있다.\n",
    "    - 유저 아이디와 닉네임은 알파벳 대문자, 소문자를 구별한다.\n",
    "    - 유저 아이디와 닉네임의 길이는 1 이상 10 이하이다.\n",
    "    - 채팅방에서 나간 유저가 닉네임을 변경하는 등 잘못 된 입력은 주어지지 않는다."
   ]
  },
  {
   "cell_type": "code",
   "execution_count": 7,
   "metadata": {},
   "outputs": [],
   "source": [
    "def solution(record):\n",
    "    nicknameDict = {}  # userID : nickname 저장하는 딕셔너리\n",
    "    messageDict = {}  # userID : (index, message) 저장하는 딕셔너리. index는 채팅방에서 몇 번째로 보이는 메시지인가를 나타내고 message는 \"들어왔습니다\" or \"나갔습니다\"\n",
    "    i = -1  # messageDict 에서 index 기록하기 위한 변수\n",
    "    for data in record :\n",
    "        splittedData = data.split()\n",
    "        if len(splittedData) == 3 :\n",
    "            command, uid, nickname = splittedData \n",
    "        elif len(splittedData) == 2 :\n",
    "            command, uid = splittedData\n",
    "        else :\n",
    "            pass\n",
    "\n",
    "        if command == \"Enter\" :\n",
    "            nicknameDict[uid] = nickname \n",
    "            if not uid in messageDict.keys() :\n",
    "                messageDict[uid] = []\n",
    "                # 처음 등장한 유저 아이디일 경우 messageDict에서 value 리스트 초기화\n",
    "            i += 1\n",
    "            messageDict[uid].append((i, \"들어왔습니다.\"))\n",
    "        elif command == \"Leave\" :\n",
    "            i += 1\n",
    "            messageDict[uid].append((i, \"나갔습니다.\"))\n",
    "        elif command == \"Change\" :\n",
    "            nicknameDict[uid] = nickname\n",
    "        else :\n",
    "            pass\n",
    "    \n",
    "    # 현재 상태에서 i값은 (채팅방에 보여야 할 메시지의 개수)-1을 나타냄 \n",
    "    answer = [\"\" for j in range(i+1)] \n",
    "    for uid in nicknameDict.keys() :\n",
    "        for k in range(len(messageDict[uid])) :\n",
    "            index = messageDict[uid][k][0]\n",
    "            answer[index] += nicknameDict[uid]\n",
    "            answer[index] += \"님이 \"\n",
    "            answer[index] += messageDict[uid][k][1]\n",
    "    \n",
    "    return answer"
   ]
  },
  {
   "cell_type": "code",
   "execution_count": 8,
   "metadata": {},
   "outputs": [
    {
     "data": {
      "text/plain": [
       "['Prodo님이 들어왔습니다.', 'Ryan님이 들어왔습니다.', 'Prodo님이 나갔습니다.', 'Prodo님이 들어왔습니다.']"
      ]
     },
     "execution_count": 8,
     "metadata": {},
     "output_type": "execute_result"
    }
   ],
   "source": [
    "solution([\"Enter uid1234 Muzi\", \"Enter uid4567 Prodo\",\"Leave uid1234\",\"Enter uid1234 Prodo\",\"Change uid4567 Ryan\"])"
   ]
  },
  {
   "cell_type": "code",
   "execution_count": null,
   "metadata": {},
   "outputs": [],
   "source": []
  }
 ],
 "metadata": {
  "interpreter": {
   "hash": "d88d8acdbfaa835a5f857244e00e0be2fef710e8821cc5222c903f5a03bf61bd"
  },
  "kernelspec": {
   "display_name": "Python 3.8.8 ('base')",
   "language": "python",
   "name": "python3"
  },
  "language_info": {
   "codemirror_mode": {
    "name": "ipython",
    "version": 3
   },
   "file_extension": ".py",
   "mimetype": "text/x-python",
   "name": "python",
   "nbconvert_exporter": "python",
   "pygments_lexer": "ipython3",
   "version": "3.8.8"
  },
  "orig_nbformat": 4
 },
 "nbformat": 4,
 "nbformat_minor": 2
}
