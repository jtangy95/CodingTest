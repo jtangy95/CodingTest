{
 "cells": [
  {
   "cell_type": "markdown",
   "metadata": {},
   "source": [
    "# Python 카카오 Level 1 문제"
   ]
  },
  {
   "cell_type": "markdown",
   "metadata": {},
   "source": [
    "### 신고 결과 받기"
   ]
  },
  {
   "cell_type": "markdown",
   "metadata": {},
   "source": [
    "문제 설명"
   ]
  },
  {
   "cell_type": "markdown",
   "metadata": {},
   "source": [
    "신입사원 무지는 게시판 불량 이용자를 신고하고 처리 결과를 메일로 발송하는 시스템을 개발하려 합니다. 무지가 개발하려는 시스템은 다음과 같습니다.  \n",
    "- 각 유저는 한 번에 한 명의 유저를 신고할 수 있습니다.  \n",
    "    - 신고 횟수에 제한은 없습니다. 서로 다른 유저를 계속해서 신고할 수 있습니다.\n",
    "    - 한 유저를 여러 번 신고할 수도 있지만, 동일한 유저에 대한 신고 횟수는 1회로 처리됩니다.\n",
    "- k번 이상 신고된 유저는 게시판 이용이 정지되며, 해당 유저를 신고한 모든 유저에게 정지 사실을 메일로 발송합니다.\n",
    "    - 유저가 신고한 모든 내용을 취합하여 마지막에 한꺼번에 게시판 이용 정지를 시키면서 정지 메일을 발송합니다.  "
   ]
  },
  {
   "cell_type": "markdown",
   "metadata": {},
   "source": [
    "이용자의 ID가 담긴 문자열 배열 `id_list`, 각 이용자가 신고한 이용자의 ID 정보가 담긴 문자열 배열 `report`, 정지 기준이 되는 신고 횟수 `k`가 매개변수로 주어질 때, 각 유저별로 처리 결과 메일을 받은 횟수를 배열에 담아 return 하도록 `solution` 함수를 완성해주세요.  \n",
    "\n",
    "`report`의 원소는 \"이용자id 신고한id\" 형태의 문자열입니다.\n",
    "\n",
    "return 하는 배열은 `id_list`에 담긴 id 순서대로 각 유저가 받은 결과 메일 수를 담으면 됩니다."
   ]
  },
  {
   "cell_type": "markdown",
   "metadata": {},
   "source": [
    "답안 제출"
   ]
  },
  {
   "cell_type": "code",
   "execution_count": 2,
   "metadata": {},
   "outputs": [],
   "source": [
    "def solution(id_list, report, k) :\n",
    "    n = len(id_list) \n",
    "    userIndices = {}  # user : index 딕셔너리\n",
    "    reportDict = {}   # user : [신고 여부 리스트] 딕셔너리\n",
    "    # [신고 여부 리스트]는 해당 유저가 i번째 유저를 신고했는지 여부를 0과 1로 표시하는 리스트\n",
    "    for i in range(n) :\n",
    "        userIndices[id_list[i]] = i\n",
    "        reportDict[id_list[i]] = [0 for j in range(n)]  # 초기화\n",
    "    for info in report :\n",
    "        user, reported = info.split()\n",
    "        if reportDict[user][userIndices[reported]] == 0 :\n",
    "            reportDict[user][userIndices[reported]] += 1 \n",
    "            # 신고 여부 리스트 만들어주기. 중복 신고는 카운트하지 않는다.\n",
    "    banned = [0 for j in range(n)]  # [정지 여부 리스트] 초기화\n",
    "    for i in range(n) :\n",
    "        reportNum = 0\n",
    "        for user in id_list :\n",
    "            reportNum += reportDict[user][i]  # i번 인덱스에 해당하는 유저가 신고당한 횟수를 계산\n",
    "        if reportNum >= k :\n",
    "            banned[i] += 1  # 정지 여부 리스트 만들어주기.\n",
    "    mail = [0 for j in range(n)]  # [메일 발송 개수 리스트] 초기화\n",
    "    for user in id_list :\n",
    "        mailNum = 0\n",
    "        for i in range(n) :\n",
    "            mailNum += reportDict[user][i] * banned[i]  # 해당 유저가 신고한 유저들 중 정지된 사람들의 수 계산\n",
    "        mail[userIndices[user]] += mailNum  # 메일발송 리스트 만들어주기\n",
    "    return mail"
   ]
  },
  {
   "cell_type": "markdown",
   "metadata": {},
   "source": [
    "Alternative 답안"
   ]
  },
  {
   "cell_type": "markdown",
   "metadata": {},
   "source": [
    "중복 신고를 제외하기 위해 `report` 대신 `set(report)` 사용한 버전"
   ]
  },
  {
   "cell_type": "code",
   "execution_count": 4,
   "metadata": {},
   "outputs": [],
   "source": [
    "def solution(id_list, report, k) :\n",
    "    n = len(id_list) \n",
    "    userIndices = {}  # user : index 딕셔너리\n",
    "    reportDict = {}   # user : [신고 여부 리스트] 딕셔너리\n",
    "    # [신고 여부 리스트]는 해당 유저가 i번째 유저를 신고했는지 여부를 0과 1로 표시하는 리스트\n",
    "    for i in range(n) :\n",
    "        userIndices[id_list[i]] = i\n",
    "        reportDict[id_list[i]] = [0 for j in range(n)]  # 초기화\n",
    "    for info in set(report) :\n",
    "        user, reported = info.split()\n",
    "        reportDict[user][userIndices[reported]] += 1 \n",
    "        # 신고 여부 리스트 만들어주기. 중복 신고는 카운트하지 않는다.\n",
    "    banned = [0 for j in range(n)]  # [정지 여부 리스트] 초기화\n",
    "    for i in range(n) :\n",
    "        reportNum = 0\n",
    "        for user in id_list :\n",
    "            reportNum += reportDict[user][i]  # i번 인덱스에 해당하는 유저가 신고당한 횟수를 계산\n",
    "        if reportNum >= k :\n",
    "            banned[i] += 1  # 정지 여부 리스트 만들어주기.\n",
    "    mail = [0 for j in range(n)]  # [메일 발송 개수 리스트] 초기화\n",
    "    for user in id_list :\n",
    "        mailNum = 0\n",
    "        for i in range(n) :\n",
    "            mailNum += reportDict[user][i] * banned[i]  # 해당 유저가 신고한 유저들 중 정지된 사람들의 수 계산\n",
    "        mail[userIndices[user]] += mailNum  # 메일발송 리스트 만들어주기\n",
    "    return mail"
   ]
  },
  {
   "cell_type": "code",
   "execution_count": 5,
   "metadata": {},
   "outputs": [
    {
     "data": {
      "text/plain": [
       "[2, 1, 1, 0]"
      ]
     },
     "execution_count": 5,
     "metadata": {},
     "output_type": "execute_result"
    }
   ],
   "source": [
    "solution([\"muzi\", \"frodo\", \"apeach\", \"neo\"],  [\"muzi frodo\",\"apeach frodo\",\"frodo neo\",\"muzi neo\",\"apeach muzi\"], 2)"
   ]
  },
  {
   "cell_type": "code",
   "execution_count": 6,
   "metadata": {},
   "outputs": [
    {
     "data": {
      "text/plain": [
       "[0, 0]"
      ]
     },
     "execution_count": 6,
     "metadata": {},
     "output_type": "execute_result"
    }
   ],
   "source": [
    "solution([\"con\", \"ryan\"], [\"ryan con\", \"ryan con\", \"ryan con\", \"ryan con\"], 3)"
   ]
  }
 ],
 "metadata": {
  "interpreter": {
   "hash": "d88d8acdbfaa835a5f857244e00e0be2fef710e8821cc5222c903f5a03bf61bd"
  },
  "kernelspec": {
   "display_name": "Python 3.8.8 ('base')",
   "language": "python",
   "name": "python3"
  },
  "language_info": {
   "codemirror_mode": {
    "name": "ipython",
    "version": 3
   },
   "file_extension": ".py",
   "mimetype": "text/x-python",
   "name": "python",
   "nbconvert_exporter": "python",
   "pygments_lexer": "ipython3",
   "version": "3.8.8"
  },
  "orig_nbformat": 4
 },
 "nbformat": 4,
 "nbformat_minor": 2
}
