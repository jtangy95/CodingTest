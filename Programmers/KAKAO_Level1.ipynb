{
 "cells": [
  {
   "cell_type": "markdown",
   "metadata": {},
   "source": [
    "# Python 카카오 Level 1 문제"
   ]
  },
  {
   "cell_type": "markdown",
   "metadata": {},
   "source": [
    "### 신고 결과 받기"
   ]
  },
  {
   "cell_type": "markdown",
   "metadata": {},
   "source": [
    "문제 설명"
   ]
  },
  {
   "cell_type": "markdown",
   "metadata": {},
   "source": [
    "신입사원 무지는 게시판 불량 이용자를 신고하고 처리 결과를 메일로 발송하는 시스템을 개발하려 합니다. 무지가 개발하려는 시스템은 다음과 같습니다.  \n",
    "- 각 유저는 한 번에 한 명의 유저를 신고할 수 있습니다.  \n",
    "    - 신고 횟수에 제한은 없습니다. 서로 다른 유저를 계속해서 신고할 수 있습니다.\n",
    "    - 한 유저를 여러 번 신고할 수도 있지만, 동일한 유저에 대한 신고 횟수는 1회로 처리됩니다.\n",
    "- k번 이상 신고된 유저는 게시판 이용이 정지되며, 해당 유저를 신고한 모든 유저에게 정지 사실을 메일로 발송합니다.\n",
    "    - 유저가 신고한 모든 내용을 취합하여 마지막에 한꺼번에 게시판 이용 정지를 시키면서 정지 메일을 발송합니다.  "
   ]
  },
  {
   "cell_type": "markdown",
   "metadata": {},
   "source": [
    "이용자의 ID가 담긴 문자열 배열 `id_list`, 각 이용자가 신고한 이용자의 ID 정보가 담긴 문자열 배열 `report`, 정지 기준이 되는 신고 횟수 `k`가 매개변수로 주어질 때, 각 유저별로 처리 결과 메일을 받은 횟수를 배열에 담아 return 하도록 `solution` 함수를 완성해주세요.  \n",
    "\n",
    "`report`의 원소는 \"이용자id 신고한id\" 형태의 문자열입니다.\n",
    "\n",
    "return 하는 배열은 `id_list`에 담긴 id 순서대로 각 유저가 받은 결과 메일 수를 담으면 됩니다."
   ]
  },
  {
   "cell_type": "markdown",
   "metadata": {},
   "source": [
    "답안 제출"
   ]
  },
  {
   "cell_type": "code",
   "execution_count": 2,
   "metadata": {},
   "outputs": [],
   "source": [
    "def solution(id_list, report, k) :\n",
    "    n = len(id_list) \n",
    "    userIndices = {}  # user : index 딕셔너리\n",
    "    reportDict = {}   # user : [신고 여부 리스트] 딕셔너리\n",
    "    # [신고 여부 리스트]는 해당 유저가 i번째 유저를 신고했는지 여부를 0과 1로 표시하는 리스트\n",
    "    for i in range(n) :\n",
    "        userIndices[id_list[i]] = i\n",
    "        reportDict[id_list[i]] = [0 for j in range(n)]  # 초기화\n",
    "    for info in report :\n",
    "        user, reported = info.split()\n",
    "        if reportDict[user][userIndices[reported]] == 0 :\n",
    "            reportDict[user][userIndices[reported]] += 1 \n",
    "            # 신고 여부 리스트 만들어주기. 중복 신고는 카운트하지 않는다.\n",
    "    banned = [0 for j in range(n)]  # [정지 여부 리스트] 초기화\n",
    "    for i in range(n) :\n",
    "        reportNum = 0\n",
    "        for user in id_list :\n",
    "            reportNum += reportDict[user][i]  # i번 인덱스에 해당하는 유저가 신고당한 횟수를 계산\n",
    "        if reportNum >= k :\n",
    "            banned[i] += 1  # 정지 여부 리스트 만들어주기.\n",
    "    mail = [0 for j in range(n)]  # [메일 발송 개수 리스트] 초기화\n",
    "    for user in id_list :\n",
    "        mailNum = 0\n",
    "        for i in range(n) :\n",
    "            mailNum += reportDict[user][i] * banned[i]  # 해당 유저가 신고한 유저들 중 정지된 사람들의 수 계산\n",
    "        mail[userIndices[user]] += mailNum  # 메일발송 리스트 만들어주기\n",
    "    return mail"
   ]
  },
  {
   "cell_type": "markdown",
   "metadata": {},
   "source": [
    "Alternative 답안"
   ]
  },
  {
   "cell_type": "markdown",
   "metadata": {},
   "source": [
    "중복 신고를 제외하기 위해 `report` 대신 `set(report)` 사용한 버전"
   ]
  },
  {
   "cell_type": "code",
   "execution_count": 4,
   "metadata": {},
   "outputs": [],
   "source": [
    "def solution(id_list, report, k) :\n",
    "    n = len(id_list) \n",
    "    userIndices = {}  # user : index 딕셔너리\n",
    "    reportDict = {}   # user : [신고 여부 리스트] 딕셔너리\n",
    "    # [신고 여부 리스트]는 해당 유저가 i번째 유저를 신고했는지 여부를 0과 1로 표시하는 리스트\n",
    "    for i in range(n) :\n",
    "        userIndices[id_list[i]] = i\n",
    "        reportDict[id_list[i]] = [0 for j in range(n)]  # 초기화\n",
    "    for info in set(report) :\n",
    "        user, reported = info.split()\n",
    "        reportDict[user][userIndices[reported]] += 1 \n",
    "        # 신고 여부 리스트 만들어주기. 중복 신고는 카운트하지 않는다.\n",
    "    banned = [0 for j in range(n)]  # [정지 여부 리스트] 초기화\n",
    "    for i in range(n) :\n",
    "        reportNum = 0\n",
    "        for user in id_list :\n",
    "            reportNum += reportDict[user][i]  # i번 인덱스에 해당하는 유저가 신고당한 횟수를 계산\n",
    "        if reportNum >= k :\n",
    "            banned[i] += 1  # 정지 여부 리스트 만들어주기.\n",
    "    mail = [0 for j in range(n)]  # [메일 발송 개수 리스트] 초기화\n",
    "    for user in id_list :\n",
    "        mailNum = 0\n",
    "        for i in range(n) :\n",
    "            mailNum += reportDict[user][i] * banned[i]  # 해당 유저가 신고한 유저들 중 정지된 사람들의 수 계산\n",
    "        mail[userIndices[user]] += mailNum  # 메일발송 리스트 만들어주기\n",
    "    return mail"
   ]
  },
  {
   "cell_type": "code",
   "execution_count": 5,
   "metadata": {},
   "outputs": [
    {
     "data": {
      "text/plain": [
       "[2, 1, 1, 0]"
      ]
     },
     "execution_count": 5,
     "metadata": {},
     "output_type": "execute_result"
    }
   ],
   "source": [
    "solution([\"muzi\", \"frodo\", \"apeach\", \"neo\"],  [\"muzi frodo\",\"apeach frodo\",\"frodo neo\",\"muzi neo\",\"apeach muzi\"], 2)"
   ]
  },
  {
   "cell_type": "code",
   "execution_count": 6,
   "metadata": {},
   "outputs": [
    {
     "data": {
      "text/plain": [
       "[0, 0]"
      ]
     },
     "execution_count": 6,
     "metadata": {},
     "output_type": "execute_result"
    }
   ],
   "source": [
    "solution([\"con\", \"ryan\"], [\"ryan con\", \"ryan con\", \"ryan con\", \"ryan con\"], 3)"
   ]
  },
  {
   "cell_type": "markdown",
   "metadata": {},
   "source": [
    "### 신규 아이디 추천"
   ]
  },
  {
   "cell_type": "markdown",
   "metadata": {},
   "source": [
    "카카오에 입사한 신입 개발자 네오는 \"카카오계정개발팀\"에 배치되어, 카카오 서비스에 가입하는 유저들의 아이디를 생성하는 업무를 담당하게 되었습니다.  \n",
    "\"네오\"에게 주어진 첫 업무는 새로 가입하는 유저들이 카카오 아이디 규칙에 맞지 않는 아이디를 입력했을 때, 입력된 아이디와 유사하면서 규칙에 맞는 아이디를 추천해주는 프로그램을 개발하는 것입니다.  \n",
    "\n",
    "다음은 카카오 아이디의 규칙입니다.\n",
    "\n",
    "- 아이디의 길이는 3자 이상 15자 이하여야 합니다.\n",
    "- 아이디는 알파벳 소문자, 숫자, 빼기(-), 밑줄(_), 마침표(.) 문자만 사용할 수 있습니다.\n",
    "- 단, 마침표(.)는 처음과 끝에 사용할 수 없으며 또한 연속으로 사용할 수 없습니다.\n",
    "\n",
    "\"네오\"는 다음과 같이 7단계의 순차적인 처리 과정을 통해 신규 유저가 입력한 아이디가 카카오 아이디 규칙에 맞는 지 검사하고 규칙에 맞지 않은 경우 규칙에 맞는 새로운 아이디를 추천해 주려고 합니다.  \n",
    "\n",
    "신규 유저가 입력한 아이디가 new_id 라고 한다면,\n",
    "1. new_id의 모든 대문자를 대응되는 소문자로 치환합니다.\n",
    "2. new_id에서 알파벳 소문자, 숫자, 빼기(-), 밑줄(_), 마침표(.)를 제외한 모든 문자를 제거합니다.\n",
    "3. new_id에서 마침표(.)가 2번 이상 연속된 부분을 하나의 마침표(.)로 치환합니다.\n",
    "4. new_id에서 마침표(.)가 처음이나 끝에 위치한다면 제거합니다.\n",
    "5. new_id가 빈 문자열이라면, new_id에 \"a\"를 대입합니다.\n",
    "6. new_id의 길이가 16자 이상이면, new_id의 첫 15개의 문자를 제외한 나머지 문자들을 모두 제거합니다.  \n",
    "     만약 제거 후 마침표(.)가 new_id의 끝에 위치한다면 끝에 위치한 마침표(.) 문자를 제거합니다.\n",
    "7. new_id의 길이가 2자 이하라면, new_id의 마지막 문자를 new_id의 길이가 3이 될 때까지 반복해서 끝에 붙입니다."
   ]
  },
  {
   "cell_type": "code",
   "execution_count": 19,
   "metadata": {},
   "outputs": [],
   "source": [
    "available = []\n",
    "alphabetstart = ord(\"a\")\n",
    "alphabetend = ord(\"z\")\n",
    "numstart = ord(\"0\")\n",
    "numend = ord(\"9\")\n",
    "# available is a list of all ASCII code number corresponding to alphabet lower case, digits, and dash , underbar, dot.\n",
    "available = list(range(numstart, numend+1))+list(range(alphabetstart, alphabetend+1))  \n",
    "for letter in \"-_.\" :\n",
    "    available.append(ord(letter))"
   ]
  },
  {
   "cell_type": "markdown",
   "metadata": {},
   "source": [
    "`string.replace(old, new, count)`는 string 안에서 old 라는 글자를 new라는 글자로 바꿔준다.  \n",
    "count는 optional 인자이며 몇 번 바꿔주느냐에 대한 파라미터이다. default는 모든 old를 new로 바꿔주는 것이다.  \n",
    "in-place modification이 아니기 때문에, `a = a.replace(old, new, count)` 같은 식으로 해야 결과를 저장할 수 있다.  \n",
    "`a.replace(word, '')` 를 사용해서 string `a`안에 있는 모든 `word`를 지울 수도 있다."
   ]
  },
  {
   "cell_type": "code",
   "execution_count": 125,
   "metadata": {},
   "outputs": [
    {
     "data": {
      "text/plain": [
       "\"one one let's go\""
      ]
     },
     "execution_count": 125,
     "metadata": {},
     "output_type": "execute_result"
    }
   ],
   "source": [
    "a = \"three three let's go\"\n",
    "a.replace(\"three\", \"one\")"
   ]
  },
  {
   "cell_type": "markdown",
   "metadata": {},
   "source": [
    "`sep.join(str)` 또는 `sep.join(strList)`를 하면 string이나 list를 separator를 넣어서 하나의 스트링으로 변환하여 리턴한다."
   ]
  },
  {
   "cell_type": "code",
   "execution_count": 128,
   "metadata": {},
   "outputs": [
    {
     "data": {
      "text/plain": [
       "'H-e-l-l-o'"
      ]
     },
     "execution_count": 128,
     "metadata": {},
     "output_type": "execute_result"
    }
   ],
   "source": [
    "s = \"Hello\"\n",
    "\"-\".join(s)"
   ]
  },
  {
   "cell_type": "code",
   "execution_count": 129,
   "metadata": {},
   "outputs": [
    {
     "data": {
      "text/plain": [
       "'Bob,Jay,Juno'"
      ]
     },
     "execution_count": 129,
     "metadata": {},
     "output_type": "execute_result"
    }
   ],
   "source": [
    "a = [\"Bob\",\"Jay\",\"Juno\"]\n",
    "\",\".join(a)"
   ]
  },
  {
   "cell_type": "markdown",
   "metadata": {},
   "source": [
    "이를 응용하여 `''.joins(strList)`를 하면 `strList`에 있는 스트링 원소들을 하나로 묶을 수 있다."
   ]
  },
  {
   "cell_type": "code",
   "execution_count": 130,
   "metadata": {},
   "outputs": [],
   "source": [
    "def solution(new_id):\n",
    "    # step 1\n",
    "    id = new_id.lower()\n",
    "\n",
    "    # step 2\n",
    "    for letter in id :\n",
    "        if not ord(letter) in available :\n",
    "            id = id.replace(letter, \"\")\n",
    "        else :\n",
    "            pass\n",
    "\n",
    "    # step 3\n",
    "    while \"..\" in id :\n",
    "        id = id.replace(\"..\", \".\")\n",
    "        # .이 3번 이상 연속된 부분을 처리하기 위해서는 while문으로 처리해주어야 한다.\n",
    "    idlist = list(id)\n",
    "    # list로 변환하면 `del`함수를 통해 원하는 인덱스의 성분을 삭제할 수 있다.\n",
    "\n",
    "    # step 4\n",
    "    if len(idlist) > 1 : \n",
    "        # 길이가 2 이상이면 양쪽 끝에 마침표가 있는 지를 점검\n",
    "        if idlist[0] == \".\" :\n",
    "            del idlist[0]\n",
    "        if idlist[-1] == \".\" :\n",
    "            del idlist[-1]\n",
    "    elif len(idlist) == 1 :\n",
    "        # 길이가 1이면 유일한 원소가 마침표 인치를 점검\n",
    "        if idlist[0] == \".\" :\n",
    "            del idlist[0]\n",
    "\n",
    "    # step 5\n",
    "    if not idlist :\n",
    "        idlist.append(\"a\")\n",
    "    \n",
    "    # step 6\n",
    "    if len(idlist) >= 16 :\n",
    "        idlist = idlist[0:15]  # list slice [a:b]하면 b인덱스에 해당하는 성분은 미포함!\n",
    "        if idlist[-1] == \".\" :\n",
    "            del idlist[-1]\n",
    "    \n",
    "    # step 7\n",
    "    if len(idlist) <= 2 :\n",
    "        last = idlist[-1] \n",
    "        while True :\n",
    "            idlist.append(last)\n",
    "            if len(idlist) == 3 :\n",
    "                break\n",
    "\n",
    "    # idlist를 id로 묶어주기\n",
    "    id = ''.join(idlist) \n",
    "    return id\n",
    "    "
   ]
  },
  {
   "cell_type": "code",
   "execution_count": 133,
   "metadata": {},
   "outputs": [
    {
     "data": {
      "text/plain": [
       "'bat.y.abcdefghi'"
      ]
     },
     "execution_count": 133,
     "metadata": {},
     "output_type": "execute_result"
    }
   ],
   "source": [
    "solution(\"...!@BaT#*..y.abcdefghijklm\")"
   ]
  },
  {
   "cell_type": "code",
   "execution_count": 134,
   "metadata": {},
   "outputs": [
    {
     "data": {
      "text/plain": [
       "'z--'"
      ]
     },
     "execution_count": 134,
     "metadata": {},
     "output_type": "execute_result"
    }
   ],
   "source": [
    "solution(\"z-+.^.\")"
   ]
  },
  {
   "cell_type": "code",
   "execution_count": 135,
   "metadata": {},
   "outputs": [
    {
     "data": {
      "text/plain": [
       "'aaa'"
      ]
     },
     "execution_count": 135,
     "metadata": {},
     "output_type": "execute_result"
    }
   ],
   "source": [
    "solution(\"=.=\")"
   ]
  },
  {
   "cell_type": "code",
   "execution_count": 136,
   "metadata": {},
   "outputs": [
    {
     "data": {
      "text/plain": [
       "'123_.def'"
      ]
     },
     "execution_count": 136,
     "metadata": {},
     "output_type": "execute_result"
    }
   ],
   "source": [
    "solution(\"123_.def\")"
   ]
  },
  {
   "cell_type": "code",
   "execution_count": 137,
   "metadata": {},
   "outputs": [
    {
     "data": {
      "text/plain": [
       "'abcdefghijklmn'"
      ]
     },
     "execution_count": 137,
     "metadata": {},
     "output_type": "execute_result"
    }
   ],
   "source": [
    "solution(\"abcdefghijklmn.p\")"
   ]
  },
  {
   "cell_type": "markdown",
   "metadata": {},
   "source": [
    "### 숫자 문자열과 영단어"
   ]
  },
  {
   "cell_type": "markdown",
   "metadata": {},
   "source": [
    "네오와 프로도가 숫자놀이를 하고 있습니다. 네오가 프로도에게 숫자를 건넬 때 일부 자릿수를 영단어로 바꾼 카드를 건네주면 프로도는 원래 숫자를 찾는 게임입니다.\n",
    "\n",
    "다음은 숫자의 일부 자릿수를 영단어로 바꾸는 예시입니다.  \n",
    "- 1478 → \"one4seveneight\"  \n",
    "- 234567 → \"23four5six7\"  \n",
    "- 10203 → \"1zerotwozero3\"  \n",
    "\n",
    "이렇게 숫자의 일부 자릿수가 영단어로 바뀌어졌거나, 혹은 바뀌지 않고 그대로인 문자열 s가 매개변수로 주어집니다. s가 의미하는 원래 숫자를 return 하도록 solution 함수를 완성해주세요."
   ]
  },
  {
   "cell_type": "markdown",
   "metadata": {},
   "source": [
    "딕셔너리를 대상으로 for loop을 쓰고 싶을 때는 `dict.keys()` 또는 `dict.items()` 메서드를 활용하자.  \n",
    "전자는 key 객체를, 후자는 (key, value) 튜플로 묶은 객체를 반환한다."
   ]
  },
  {
   "cell_type": "code",
   "execution_count": 143,
   "metadata": {},
   "outputs": [],
   "source": [
    "digitdict = {\"zero\":\"0\", \"one\":\"1\", \"two\":\"2\", \"three\":\"3\", \"four\": \"4\",\n",
    "\"five\" :\"5\", \"six\": \"6\", \"seven\" :\"7\", \"eight\": \"8\", \"nine\":\"9\"}\n"
   ]
  },
  {
   "cell_type": "code",
   "execution_count": null,
   "metadata": {},
   "outputs": [],
   "source": [
    "def solution(s):\n",
    "    digitdict = {\"zero\":\"0\", \"one\":\"1\", \"two\":\"2\", \"three\":\"3\", \"four\":\"4\", \"five\" :\"5\", \"six\": \"6\", \"seven\" :\"7\", \"eight\": \"8\", \"nine\":\"9\"}\n",
    "    for key in digitdict.keys() :\n",
    "        s = s.replace(key, digitdict[key])\n",
    "    return int(s)"
   ]
  },
  {
   "cell_type": "code",
   "execution_count": 145,
   "metadata": {},
   "outputs": [],
   "source": [
    "def solution(s):\n",
    "    digitdict = {\"zero\":\"0\", \"one\":\"1\", \"two\":\"2\", \"three\":\"3\", \"four\":\"4\", \"five\" :\"5\", \"six\": \"6\", \"seven\" :\"7\", \"eight\": \"8\", \"nine\":\"9\"}\n",
    "    for key, value in digitdict.items() :\n",
    "        s = s.replace(key, value)\n",
    "    return int(s)"
   ]
  },
  {
   "cell_type": "code",
   "execution_count": 146,
   "metadata": {},
   "outputs": [
    {
     "data": {
      "text/plain": [
       "1478"
      ]
     },
     "execution_count": 146,
     "metadata": {},
     "output_type": "execute_result"
    }
   ],
   "source": [
    "solution(\"one4seveneight\")"
   ]
  },
  {
   "cell_type": "code",
   "execution_count": 147,
   "metadata": {},
   "outputs": [
    {
     "data": {
      "text/plain": [
       "234567"
      ]
     },
     "execution_count": 147,
     "metadata": {},
     "output_type": "execute_result"
    }
   ],
   "source": [
    "solution(\"23four5six7\")"
   ]
  },
  {
   "cell_type": "code",
   "execution_count": 149,
   "metadata": {},
   "outputs": [
    {
     "data": {
      "text/plain": [
       "234567"
      ]
     },
     "execution_count": 149,
     "metadata": {},
     "output_type": "execute_result"
    }
   ],
   "source": [
    "solution(\"2three45sixseven\")"
   ]
  },
  {
   "cell_type": "code",
   "execution_count": 148,
   "metadata": {},
   "outputs": [
    {
     "data": {
      "text/plain": [
       "123"
      ]
     },
     "execution_count": 148,
     "metadata": {},
     "output_type": "execute_result"
    }
   ],
   "source": [
    "solution(\"123\")"
   ]
  },
  {
   "cell_type": "markdown",
   "metadata": {},
   "source": [
    "### 키패드 누르기"
   ]
  },
  {
   "cell_type": "markdown",
   "metadata": {},
   "source": [
    "스마트폰 전화 키패드의 각 칸에 다음과 같이 숫자들이 적혀 있습니다.  \n",
    "\n",
    "이 전화 키패드에서 왼손과 오른손의 엄지손가락만을 이용해서 숫자만을 입력하려고 합니다.  \n",
    "\n",
    "맨 처음 왼손 엄지손가락은 * 키패드에 오른손 엄지손가락은 # 키패드 위치에서 시작하며, 엄지손가락을 사용하는 규칙은 다음과 같습니다.  \n",
    "\n",
    "1. 엄지손가락은 상하좌우 4가지 방향으로만 이동할 수 있으며 키패드 이동 한 칸은 거리로 1에 해당합니다.  \n",
    "\n",
    "1. 왼쪽 열의 3개의 숫자 1, 4, 7을 입력할 때는 왼손 엄지손가락을 사용합니다.  \n",
    "\n",
    "1. 오른쪽 열의 3개의 숫자 3, 6, 9를 입력할 때는 오른손 엄지손가락을 사용합니다.  \n",
    "\n",
    "1. 가운데 열의 4개의 숫자 2, 5, 8, 0을 입력할 때는 두 엄지손가락의 현재 키패드의 위치에서 더 가까운 엄지손가락을 사용합니다.  \n",
    "    - 만약 두 엄지손가락의 거리가 같다면, 오른손잡이는 오른손 엄지손가락, 왼손잡이는 왼손 엄지손가락을 사용합니다.  \n",
    "\n",
    "순서대로 누를 번호가 담긴 배열 numbers, 왼손잡이인지 오른손잡이인 지를 나타내는 문자열 hand가 매개변수로 주어질 때, 각 번호를 누른 엄지손가락이 왼손인 지 오른손인 지를 나타내는 연속된 문자열 형태로 return 하도록 solution 함수를 완성해주세요.  \n",
    "\n"
   ]
  },
  {
   "cell_type": "code",
   "execution_count": 182,
   "metadata": {},
   "outputs": [],
   "source": [
    "def distance(target, current) :\n",
    "    # 손가락이 현재 current에 있을 때 target 키패드까지의 거리를 계산\n",
    "    # 별표는 -1로, 우물정은 -2로 코딩\n",
    "    # 거리 계산은 target이 2,5,8,0 일때만 필요하기 때문에 나머지 경우는 무시\n",
    "    if target == 2 :\n",
    "        if current == 2 :\n",
    "            return 0\n",
    "        elif current in [1,3,5] :\n",
    "            return 1\n",
    "        elif current in [4,6,8] :\n",
    "            return 2\n",
    "        elif current in [7,9,0] :\n",
    "            return 3\n",
    "        elif current in [-1,-2] :\n",
    "            return 4\n",
    "        else :\n",
    "            return None\n",
    "    elif target == 5 :\n",
    "        if current == 5 :\n",
    "            return 0\n",
    "        elif current in [2,4,6,8] :\n",
    "            return 1\n",
    "        elif current in [1,3,7,9,0] :\n",
    "            return 2\n",
    "        elif current in [-1, -2] :\n",
    "            return 3\n",
    "        else :\n",
    "            return None\n",
    "    elif target == 8 :\n",
    "        if current == 8 :\n",
    "            return 0\n",
    "        elif current in [5,7,9,0] :\n",
    "            return 1\n",
    "        elif current in [2,4,6,-1,-2] :\n",
    "            return 2\n",
    "        elif current in [1,3] :\n",
    "            return 3\n",
    "        else :\n",
    "            return None\n",
    "    elif target == 0 :\n",
    "        if current == 0 :\n",
    "            return 0\n",
    "        elif current in [8,-1,-2] :\n",
    "            return 1\n",
    "        elif current in [5,7,9] :\n",
    "            return 2\n",
    "        elif current in [2,4,6] :\n",
    "            return 3\n",
    "        elif current in [1,3] :\n",
    "            return 4\n",
    "    else :\n",
    "        return None\n"
   ]
  },
  {
   "cell_type": "code",
   "execution_count": 183,
   "metadata": {},
   "outputs": [],
   "source": [
    "def solution(numbers, hand):\n",
    "    answer = ''  # 이 문자열에 \"L\" 또는 \"R\"을 하나씩 append할 것.\n",
    "    currentLeft = -1  # 맨 처음 왼손 *\n",
    "    currentRight = -2  # 맨 처음 오른손 #\n",
    "    for number in numbers :\n",
    "        if number in [1,4,7] :\n",
    "            currentLeft = number \n",
    "            answer += \"L\"\n",
    "        elif number in [3,6,9] :\n",
    "            currentRight = number\n",
    "            answer += \"R\"\n",
    "        elif number in [2,5,8,0] :\n",
    "            disL = distance(number, currentLeft) \n",
    "            disR = distance(number, currentRight)\n",
    "            if disL < disR :\n",
    "                currentLeft = number\n",
    "                answer += \"L\"\n",
    "            elif disR < disL :\n",
    "                currentRight = number\n",
    "                answer += \"R\"\n",
    "            else :\n",
    "                if hand == \"left\" :\n",
    "                    currentLeft = number\n",
    "                    answer += \"L\"\n",
    "                elif hand == \"right\" :\n",
    "                    currentRight = number\n",
    "                    answer += \"R\"\n",
    "                else :\n",
    "                    pass\n",
    "        else :\n",
    "            pass  \n",
    "    return answer"
   ]
  },
  {
   "cell_type": "code",
   "execution_count": 184,
   "metadata": {},
   "outputs": [
    {
     "data": {
      "text/plain": [
       "'LRLLLRLLRRL'"
      ]
     },
     "execution_count": 184,
     "metadata": {},
     "output_type": "execute_result"
    }
   ],
   "source": [
    "solution([1, 3, 4, 5, 8, 2, 1, 4, 5, 9, 5], \"right\")"
   ]
  },
  {
   "cell_type": "code",
   "execution_count": 186,
   "metadata": {},
   "outputs": [
    {
     "data": {
      "text/plain": [
       "'LRLLRRLLLRR'"
      ]
     },
     "execution_count": 186,
     "metadata": {},
     "output_type": "execute_result"
    }
   ],
   "source": [
    "solution([7, 0, 8, 2, 8, 3, 1, 5, 7, 6, 2], \"left\")"
   ]
  },
  {
   "cell_type": "code",
   "execution_count": 187,
   "metadata": {},
   "outputs": [
    {
     "data": {
      "text/plain": [
       "'LLRLLRLLRL'"
      ]
     },
     "execution_count": 187,
     "metadata": {},
     "output_type": "execute_result"
    }
   ],
   "source": [
    "solution([1, 2, 3, 4, 5, 6, 7, 8, 9, 0], \"right\")"
   ]
  },
  {
   "cell_type": "markdown",
   "metadata": {},
   "source": [
    "### 크레인 인형 뽑기 게임"
   ]
  },
  {
   "cell_type": "markdown",
   "metadata": {},
   "source": [
    "게임개발자인 \"죠르디\"는 크레인 인형뽑기 기계를 모바일 게임으로 만들려고 합니다.  \n",
    "\"죠르디\"는 게임의 재미를 높이기 위해 화면 구성과 규칙을 다음과 같이 게임 로직에 반영하려고 합니다.\n",
    "\n",
    "게임 화면은 \"1 x 1\" 크기의 칸들로 이루어진 \"N x N\" 크기의 정사각 격자이며 위쪽에는 크레인이 있고 오른쪽에는 바구니가 있습니다.  \n",
    "각 격자 칸에는 다양한 인형이 들어 있으며 인형이 없는 칸은 빈칸입니다. 모든 인형은 \"1 x 1\" 크기의 격자 한 칸을 차지하며 격자의 가장 아래 칸부터 차곡차곡 쌓여 있습니다.  \n",
    "게임 사용자는 크레인을 좌우로 움직여서 멈춘 위치에서 가장 위에 있는 인형을 집어 올릴 수 있습니다. 집어 올린 인형은 바구니에 쌓이게 되는 데, 이때 바구니의 가장 아래 칸부터 인형이 순서대로 쌓이게 됩니다.\n",
    "\n",
    "만약 같은 모양의 인형 두 개가 바구니에 연속해서 쌓이게 되면 두 인형은 터뜨려지면서 바구니에서 사라지게 됩니다.\n",
    "\n",
    "크레인 작동 시 인형이 집어지지 않는 경우는 없으나 만약 인형이 없는 곳에서 크레인을 작동시키는 경우에는 아무런 일도 일어나지 않습니다. 또한 바구니는 모든 인형이 들어갈 수 있을 만큼 충분히 크다고 가정합니다.\n",
    "\n",
    "게임 화면의 격자의 상태가 담긴 2차원 배열 board와 인형을 집기 위해 크레인을 작동시킨 위치가 담긴 배열 moves가 매개변수로 주어질 때, 크레인을 모두 작동시킨 후 터트려져 사라진 인형의 개수를 return 하도록 solution 함수를 완성해주세요.\n",
    "\n",
    "- board 배열은 2차원 배열로 크기는 \"5 x 5\" 이상 \"30 x 30\" 이하입니다.\n",
    "- board의 각 칸에는 0 이상 100 이하인 정수가 담겨있습니다.\n",
    "    - 0은 빈 칸을 나타냅니다.\n",
    "    - 1 ~ 100의 각 숫자는 각기 다른 인형의 모양을 의미하며 같은 숫자는 같은 모양의 인형을 나타냅니다.\n",
    "    - n x n 크기의 board는 n개를 원소로 갖는 리스트를 n개 가지고 있는 2차원 배열입니다.\n",
    "    - 첫 번째 리스트는 정사각 격자의 first row, 두번째 리스트는 정사각 격자의 second row, ..., n번째 리스트는 정사각 격자의 n-th row를 나타냅니다.\n",
    "    - 이때 first row가 맨 위, n-th row가 맨 아래를 나타냅니다.\n",
    "- moves 배열의 크기는 1 이상 1,000 이하입니다.\n",
    "- moves 배열 각 원소들의 값은 1 이상이며 board 배열의 가로 크기 이하인 자연수입니다."
   ]
  },
  {
   "cell_type": "code",
   "execution_count": 312,
   "metadata": {},
   "outputs": [],
   "source": [
    "board = [[0,0,0,0,0],[0,0,1,0,3],[0,2,5,0,1],[4,2,4,4,2],[3,5,1,3,1]]\n",
    "moves = [1,5,3,5,1,2,1,4]"
   ]
  },
  {
   "cell_type": "markdown",
   "metadata": {},
   "source": [
    "`board` 데이터가 주어졌을 때, 각 칼럼을 stack으로 만들어서 보관하고자 한다. n개의 stack을 원소로 갖는 리스트 `stacks`는 다음과 같이 만들 수 있다."
   ]
  },
  {
   "cell_type": "code",
   "execution_count": 313,
   "metadata": {},
   "outputs": [],
   "source": [
    "n = len(board)\n",
    "stacks = [[] for i in range(n)]\n",
    "for i in range(n):\n",
    "    for j in range(n-1, -1, -1) :\n",
    "        stacks[i].append(board[j][i])\n"
   ]
  },
  {
   "cell_type": "code",
   "execution_count": 314,
   "metadata": {},
   "outputs": [
    {
     "data": {
      "text/plain": [
       "[[3, 4, 0, 0, 0],\n",
       " [5, 2, 2, 0, 0],\n",
       " [1, 4, 5, 1, 0],\n",
       " [3, 4, 0, 0, 0],\n",
       " [1, 2, 1, 3, 0]]"
      ]
     },
     "execution_count": 314,
     "metadata": {},
     "output_type": "execute_result"
    }
   ],
   "source": [
    "stacks "
   ]
  },
  {
   "cell_type": "markdown",
   "metadata": {},
   "source": [
    "stacks에 저장된 n개의 stack에서 빈 칸을 나타내는 0을 모두 지워주자. "
   ]
  },
  {
   "cell_type": "code",
   "execution_count": 315,
   "metadata": {},
   "outputs": [],
   "source": [
    "for stack in stacks :\n",
    "    while len(stack) > 0 and stack[-1] == 0 :\n",
    "        stack.pop()"
   ]
  },
  {
   "cell_type": "code",
   "execution_count": 316,
   "metadata": {},
   "outputs": [
    {
     "data": {
      "text/plain": [
       "[[3, 4], [5, 2, 2], [1, 4, 5, 1], [3, 4], [1, 2, 1, 3]]"
      ]
     },
     "execution_count": 316,
     "metadata": {},
     "output_type": "execute_result"
    }
   ],
   "source": [
    "stacks"
   ]
  },
  {
   "cell_type": "code",
   "execution_count": 317,
   "metadata": {},
   "outputs": [],
   "source": [
    "def solution(board, moves):\n",
    "    n = len(board)  # board는 n * n 격자 \n",
    "    stacks = [[] for i in range(n)] \n",
    "    for i in range(n):\n",
    "        for j in range(n-1, -1, -1) :\n",
    "            stacks[i].append(board[j][i])\n",
    "    for stack in stacks :\n",
    "        while len(stack) > 0 and stack[-1] == 0 :\n",
    "            stack.pop()\n",
    "    answer = 0  # 터트려져 사라진 인형의 개수 초기화\n",
    "    bucket = []  # 인형 뽑기로 쌓은 버킷 초기화\n",
    "    for move in moves :\n",
    "        if stacks[move-1] :  # 인형이 없는 곳에서 크레인 작동시키며 아무 일도 일어나지 않음\n",
    "            toy = stacks[move-1].pop()   # 해당 레인에서 인형 뽑기\n",
    "            if len(bucket) > 0 and bucket[-1] == toy :  # 만약 버킷에 인형이 있고 가장 위에 있는 인형이 방금 뽑은 인형과 같을 경우\n",
    "                bucket.pop() # 버킷 가장 위에 있는 인형 터뜨리기\n",
    "                answer += 2  # 방금 뽑은 인형도 같이 터뜨리므로 2를 더해줘야 함\n",
    "            else :  # 버킷에 인형이 없거나 버킷의 가장 위에 있는 인형이 방금 뽑은 인형과 다를 경우\n",
    "                bucket.append(toy) # 버킷의 가장 위에 인형 올려놓기\n",
    "        else :\n",
    "            pass\n",
    "\n",
    "    return answer"
   ]
  },
  {
   "cell_type": "code",
   "execution_count": 318,
   "metadata": {},
   "outputs": [
    {
     "data": {
      "text/plain": [
       "4"
      ]
     },
     "execution_count": 318,
     "metadata": {},
     "output_type": "execute_result"
    }
   ],
   "source": [
    "solution(board, moves)"
   ]
  }
 ],
 "metadata": {
  "interpreter": {
   "hash": "d88d8acdbfaa835a5f857244e00e0be2fef710e8821cc5222c903f5a03bf61bd"
  },
  "kernelspec": {
   "display_name": "Python 3.8.8 ('base')",
   "language": "python",
   "name": "python3"
  },
  "language_info": {
   "codemirror_mode": {
    "name": "ipython",
    "version": 3
   },
   "file_extension": ".py",
   "mimetype": "text/x-python",
   "name": "python",
   "nbconvert_exporter": "python",
   "pygments_lexer": "ipython3",
   "version": "3.8.8"
  },
  "orig_nbformat": 4
 },
 "nbformat": 4,
 "nbformat_minor": 2
}
