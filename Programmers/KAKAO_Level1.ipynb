{
 "cells": [
  {
   "cell_type": "markdown",
   "metadata": {},
   "source": [
    "# Python 카카오 Level 1 문제"
   ]
  },
  {
   "cell_type": "markdown",
   "metadata": {},
   "source": [
    "### 신고 결과 받기"
   ]
  },
  {
   "cell_type": "code",
   "execution_count": 2,
   "metadata": {},
   "outputs": [],
   "source": [
    "def solution(id_list, report, k) :\n",
    "    n = len(id_list) \n",
    "    userIndices = {}  # user : index 딕셔너리\n",
    "    reportDict = {}   # user : [신고 여부 리스트] 딕셔너리\n",
    "    # [신고 여부 리스트]는 해당 유저가 i번째 유저를 신고했는지 여부를 0과 1로 표시하는 리스트\n",
    "    for i in range(n) :\n",
    "        userIndices[id_list[i]] = i\n",
    "        reportDict[id_list[i]] = [0 for j in range(n)]  # 초기화\n",
    "    for info in report :\n",
    "        user, reported = info.split()\n",
    "        if reportDict[user][userIndices[reported]] == 0 :\n",
    "            reportDict[user][userIndices[reported]] += 1 \n",
    "            # 신고 여부 리스트 만들어주기. 중복 신고는 카운트하지 않는다.\n",
    "    banned = [0 for j in range(n)]  # [정지 여부 리스트] 초기화\n",
    "    for i in range(n) :\n",
    "        reportNum = 0\n",
    "        for user in id_list :\n",
    "            reportNum += reportDict[user][i]  # i번 인덱스에 해당하는 유저가 신고당한 횟수를 계산\n",
    "        if reportNum >= k :\n",
    "            banned[i] += 1  # 정지 여부 리스트 만들어주기.\n",
    "    mail = [0 for j in range(n)]  # [메일 발송 개수 리스트] 초기화\n",
    "    for user in id_list :\n",
    "        mailNum = 0\n",
    "        for i in range(n) :\n",
    "            mailNum += reportDict[user][i] * banned[i]  # 해당 유저가 신고한 유저들 중 정지된 사람들의 수 계산\n",
    "        mail[userIndices[user]] += mailNum  # 메일발송 리스트 만들어주기\n",
    "    return mail"
   ]
  },
  {
   "cell_type": "code",
   "execution_count": 3,
   "metadata": {},
   "outputs": [
    {
     "data": {
      "text/plain": [
       "[2, 1, 1, 0]"
      ]
     },
     "execution_count": 3,
     "metadata": {},
     "output_type": "execute_result"
    }
   ],
   "source": [
    "solution([\"muzi\", \"frodo\", \"apeach\", \"neo\"],  [\"muzi frodo\",\"apeach frodo\",\"frodo neo\",\"muzi neo\",\"apeach muzi\"], 2)"
   ]
  },
  {
   "cell_type": "code",
   "execution_count": null,
   "metadata": {},
   "outputs": [],
   "source": []
  }
 ],
 "metadata": {
  "interpreter": {
   "hash": "d88d8acdbfaa835a5f857244e00e0be2fef710e8821cc5222c903f5a03bf61bd"
  },
  "kernelspec": {
   "display_name": "Python 3.8.8 ('base')",
   "language": "python",
   "name": "python3"
  },
  "language_info": {
   "codemirror_mode": {
    "name": "ipython",
    "version": 3
   },
   "file_extension": ".py",
   "mimetype": "text/x-python",
   "name": "python",
   "nbconvert_exporter": "python",
   "pygments_lexer": "ipython3",
   "version": "3.8.8"
  },
  "orig_nbformat": 4
 },
 "nbformat": 4,
 "nbformat_minor": 2
}
