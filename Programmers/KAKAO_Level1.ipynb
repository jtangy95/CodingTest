{
 "cells": [
  {
   "cell_type": "markdown",
   "metadata": {},
   "source": [
    "# Python 카카오 Level 1 문제"
   ]
  },
  {
   "cell_type": "markdown",
   "metadata": {},
   "source": [
    "### 신고 결과 받기"
   ]
  },
  {
   "cell_type": "markdown",
   "metadata": {},
   "source": [
    "문제 설명"
   ]
  },
  {
   "cell_type": "markdown",
   "metadata": {},
   "source": [
    "신입사원 무지는 게시판 불량 이용자를 신고하고 처리 결과를 메일로 발송하는 시스템을 개발하려 합니다. 무지가 개발하려는 시스템은 다음과 같습니다.  \n",
    "- 각 유저는 한 번에 한 명의 유저를 신고할 수 있습니다.  \n",
    "    - 신고 횟수에 제한은 없습니다. 서로 다른 유저를 계속해서 신고할 수 있습니다.\n",
    "    - 한 유저를 여러 번 신고할 수도 있지만, 동일한 유저에 대한 신고 횟수는 1회로 처리됩니다.\n",
    "- k번 이상 신고된 유저는 게시판 이용이 정지되며, 해당 유저를 신고한 모든 유저에게 정지 사실을 메일로 발송합니다.\n",
    "    - 유저가 신고한 모든 내용을 취합하여 마지막에 한꺼번에 게시판 이용 정지를 시키면서 정지 메일을 발송합니다.  "
   ]
  },
  {
   "cell_type": "markdown",
   "metadata": {},
   "source": [
    "이용자의 ID가 담긴 문자열 배열 `id_list`, 각 이용자가 신고한 이용자의 ID 정보가 담긴 문자열 배열 `report`, 정지 기준이 되는 신고 횟수 `k`가 매개변수로 주어질 때, 각 유저별로 처리 결과 메일을 받은 횟수를 배열에 담아 return 하도록 `solution` 함수를 완성해주세요.  \n",
    "\n",
    "`report`의 원소는 \"이용자id 신고한id\" 형태의 문자열입니다.\n",
    "\n",
    "return 하는 배열은 `id_list`에 담긴 id 순서대로 각 유저가 받은 결과 메일 수를 담으면 됩니다."
   ]
  },
  {
   "cell_type": "markdown",
   "metadata": {},
   "source": [
    "답안 제출"
   ]
  },
  {
   "cell_type": "code",
   "execution_count": 2,
   "metadata": {},
   "outputs": [],
   "source": [
    "def solution(id_list, report, k) :\n",
    "    n = len(id_list) \n",
    "    userIndices = {}  # user : index 딕셔너리\n",
    "    reportDict = {}   # user : [신고 여부 리스트] 딕셔너리\n",
    "    # [신고 여부 리스트]는 해당 유저가 i번째 유저를 신고했는지 여부를 0과 1로 표시하는 리스트\n",
    "    for i in range(n) :\n",
    "        userIndices[id_list[i]] = i\n",
    "        reportDict[id_list[i]] = [0 for j in range(n)]  # 초기화\n",
    "    for info in report :\n",
    "        user, reported = info.split()\n",
    "        if reportDict[user][userIndices[reported]] == 0 :\n",
    "            reportDict[user][userIndices[reported]] += 1 \n",
    "            # 신고 여부 리스트 만들어주기. 중복 신고는 카운트하지 않는다.\n",
    "    banned = [0 for j in range(n)]  # [정지 여부 리스트] 초기화\n",
    "    for i in range(n) :\n",
    "        reportNum = 0\n",
    "        for user in id_list :\n",
    "            reportNum += reportDict[user][i]  # i번 인덱스에 해당하는 유저가 신고당한 횟수를 계산\n",
    "        if reportNum >= k :\n",
    "            banned[i] += 1  # 정지 여부 리스트 만들어주기.\n",
    "    mail = [0 for j in range(n)]  # [메일 발송 개수 리스트] 초기화\n",
    "    for user in id_list :\n",
    "        mailNum = 0\n",
    "        for i in range(n) :\n",
    "            mailNum += reportDict[user][i] * banned[i]  # 해당 유저가 신고한 유저들 중 정지된 사람들의 수 계산\n",
    "        mail[userIndices[user]] += mailNum  # 메일발송 리스트 만들어주기\n",
    "    return mail"
   ]
  },
  {
   "cell_type": "markdown",
   "metadata": {},
   "source": [
    "Alternative 답안"
   ]
  },
  {
   "cell_type": "markdown",
   "metadata": {},
   "source": [
    "중복 신고를 제외하기 위해 `report` 대신 `set(report)` 사용한 버전"
   ]
  },
  {
   "cell_type": "code",
   "execution_count": 4,
   "metadata": {},
   "outputs": [],
   "source": [
    "def solution(id_list, report, k) :\n",
    "    n = len(id_list) \n",
    "    userIndices = {}  # user : index 딕셔너리\n",
    "    reportDict = {}   # user : [신고 여부 리스트] 딕셔너리\n",
    "    # [신고 여부 리스트]는 해당 유저가 i번째 유저를 신고했는지 여부를 0과 1로 표시하는 리스트\n",
    "    for i in range(n) :\n",
    "        userIndices[id_list[i]] = i\n",
    "        reportDict[id_list[i]] = [0 for j in range(n)]  # 초기화\n",
    "    for info in set(report) :\n",
    "        user, reported = info.split()\n",
    "        reportDict[user][userIndices[reported]] += 1 \n",
    "        # 신고 여부 리스트 만들어주기. 중복 신고는 카운트하지 않는다.\n",
    "    banned = [0 for j in range(n)]  # [정지 여부 리스트] 초기화\n",
    "    for i in range(n) :\n",
    "        reportNum = 0\n",
    "        for user in id_list :\n",
    "            reportNum += reportDict[user][i]  # i번 인덱스에 해당하는 유저가 신고당한 횟수를 계산\n",
    "        if reportNum >= k :\n",
    "            banned[i] += 1  # 정지 여부 리스트 만들어주기.\n",
    "    mail = [0 for j in range(n)]  # [메일 발송 개수 리스트] 초기화\n",
    "    for user in id_list :\n",
    "        mailNum = 0\n",
    "        for i in range(n) :\n",
    "            mailNum += reportDict[user][i] * banned[i]  # 해당 유저가 신고한 유저들 중 정지된 사람들의 수 계산\n",
    "        mail[userIndices[user]] += mailNum  # 메일발송 리스트 만들어주기\n",
    "    return mail"
   ]
  },
  {
   "cell_type": "code",
   "execution_count": 5,
   "metadata": {},
   "outputs": [
    {
     "data": {
      "text/plain": [
       "[2, 1, 1, 0]"
      ]
     },
     "execution_count": 5,
     "metadata": {},
     "output_type": "execute_result"
    }
   ],
   "source": [
    "solution([\"muzi\", \"frodo\", \"apeach\", \"neo\"],  [\"muzi frodo\",\"apeach frodo\",\"frodo neo\",\"muzi neo\",\"apeach muzi\"], 2)"
   ]
  },
  {
   "cell_type": "code",
   "execution_count": 6,
   "metadata": {},
   "outputs": [
    {
     "data": {
      "text/plain": [
       "[0, 0]"
      ]
     },
     "execution_count": 6,
     "metadata": {},
     "output_type": "execute_result"
    }
   ],
   "source": [
    "solution([\"con\", \"ryan\"], [\"ryan con\", \"ryan con\", \"ryan con\", \"ryan con\"], 3)"
   ]
  },
  {
   "cell_type": "markdown",
   "metadata": {},
   "source": [
    "### 신규 아이디 추천"
   ]
  },
  {
   "cell_type": "markdown",
   "metadata": {},
   "source": [
    "카카오에 입사한 신입 개발자 네오는 \"카카오계정개발팀\"에 배치되어, 카카오 서비스에 가입하는 유저들의 아이디를 생성하는 업무를 담당하게 되었습니다.  \n",
    "\"네오\"에게 주어진 첫 업무는 새로 가입하는 유저들이 카카오 아이디 규칙에 맞지 않는 아이디를 입력했을 때, 입력된 아이디와 유사하면서 규칙에 맞는 아이디를 추천해주는 프로그램을 개발하는 것입니다.  \n",
    "\n",
    "다음은 카카오 아이디의 규칙입니다.\n",
    "\n",
    "- 아이디의 길이는 3자 이상 15자 이하여야 합니다.\n",
    "- 아이디는 알파벳 소문자, 숫자, 빼기(-), 밑줄(_), 마침표(.) 문자만 사용할 수 있습니다.\n",
    "- 단, 마침표(.)는 처음과 끝에 사용할 수 없으며 또한 연속으로 사용할 수 없습니다.\n",
    "\n",
    "\"네오\"는 다음과 같이 7단계의 순차적인 처리 과정을 통해 신규 유저가 입력한 아이디가 카카오 아이디 규칙에 맞는 지 검사하고 규칙에 맞지 않은 경우 규칙에 맞는 새로운 아이디를 추천해 주려고 합니다.  \n",
    "\n",
    "신규 유저가 입력한 아이디가 new_id 라고 한다면,\n",
    "1. new_id의 모든 대문자를 대응되는 소문자로 치환합니다.\n",
    "2. new_id에서 알파벳 소문자, 숫자, 빼기(-), 밑줄(_), 마침표(.)를 제외한 모든 문자를 제거합니다.\n",
    "3. new_id에서 마침표(.)가 2번 이상 연속된 부분을 하나의 마침표(.)로 치환합니다.\n",
    "4. new_id에서 마침표(.)가 처음이나 끝에 위치한다면 제거합니다.\n",
    "5. new_id가 빈 문자열이라면, new_id에 \"a\"를 대입합니다.\n",
    "6. new_id의 길이가 16자 이상이면, new_id의 첫 15개의 문자를 제외한 나머지 문자들을 모두 제거합니다.  \n",
    "     만약 제거 후 마침표(.)가 new_id의 끝에 위치한다면 끝에 위치한 마침표(.) 문자를 제거합니다.\n",
    "7. new_id의 길이가 2자 이하라면, new_id의 마지막 문자를 new_id의 길이가 3이 될 때까지 반복해서 끝에 붙입니다."
   ]
  },
  {
   "cell_type": "code",
   "execution_count": 19,
   "metadata": {},
   "outputs": [],
   "source": [
    "available = []\n",
    "alphabetstart = ord(\"a\")\n",
    "alphabetend = ord(\"z\")\n",
    "numstart = ord(\"0\")\n",
    "numend = ord(\"9\")\n",
    "# available is a list of all ASCII code number corresponding to alphabet lower case, digits, and dash , underbar, dot.\n",
    "available = list(range(numstart, numend+1))+list(range(alphabetstart, alphabetend+1))  \n",
    "for letter in \"-_.\" :\n",
    "    available.append(ord(letter))"
   ]
  },
  {
   "cell_type": "markdown",
   "metadata": {},
   "source": [
    "`string.replace(old, new, count)`는 string 안에서 old 라는 글자를 new라는 글자로 바꿔준다.  \n",
    "count는 optional 인자이며 몇 번 바꿔주느냐에 대한 파라미터이다. default는 모든 old를 new로 바꿔주는 것이다.  \n",
    "in-place modification이 아니기 때문에, `a = a.replace(old, new, count)` 같은 식으로 해야 결과를 저장할 수 있다.  \n",
    "`a.replace(word, '')` 를 사용해서 string `a`안에 있는 모든 `word`를 지울 수도 있다."
   ]
  },
  {
   "cell_type": "code",
   "execution_count": 125,
   "metadata": {},
   "outputs": [
    {
     "data": {
      "text/plain": [
       "\"one one let's go\""
      ]
     },
     "execution_count": 125,
     "metadata": {},
     "output_type": "execute_result"
    }
   ],
   "source": [
    "a = \"three three let's go\"\n",
    "a.replace(\"three\", \"one\")"
   ]
  },
  {
   "cell_type": "markdown",
   "metadata": {},
   "source": [
    "`sep.join(str)` 또는 `sep.join(strList)`를 하면 string이나 list를 separator를 넣어서 하나의 스트링으로 변환하여 리턴한다."
   ]
  },
  {
   "cell_type": "code",
   "execution_count": 128,
   "metadata": {},
   "outputs": [
    {
     "data": {
      "text/plain": [
       "'H-e-l-l-o'"
      ]
     },
     "execution_count": 128,
     "metadata": {},
     "output_type": "execute_result"
    }
   ],
   "source": [
    "s = \"Hello\"\n",
    "\"-\".join(s)"
   ]
  },
  {
   "cell_type": "code",
   "execution_count": 129,
   "metadata": {},
   "outputs": [
    {
     "data": {
      "text/plain": [
       "'Bob,Jay,Juno'"
      ]
     },
     "execution_count": 129,
     "metadata": {},
     "output_type": "execute_result"
    }
   ],
   "source": [
    "a = [\"Bob\",\"Jay\",\"Juno\"]\n",
    "\",\".join(a)"
   ]
  },
  {
   "cell_type": "markdown",
   "metadata": {},
   "source": [
    "이를 응용하여 `''.joins(strList)`를 하면 `strList`에 있는 스트링 원소들을 하나로 묶을 수 있다."
   ]
  },
  {
   "cell_type": "code",
   "execution_count": 130,
   "metadata": {},
   "outputs": [],
   "source": [
    "def solution(new_id):\n",
    "    # step 1\n",
    "    id = new_id.lower()\n",
    "\n",
    "    # step 2\n",
    "    for letter in id :\n",
    "        if not ord(letter) in available :\n",
    "            id = id.replace(letter, \"\")\n",
    "        else :\n",
    "            pass\n",
    "\n",
    "    # step 3\n",
    "    while \"..\" in id :\n",
    "        id = id.replace(\"..\", \".\")\n",
    "        # .이 3번 이상 연속된 부분을 처리하기 위해서는 while문으로 처리해주어야 한다.\n",
    "    idlist = list(id)\n",
    "    # list로 변환하면 `del`함수를 통해 원하는 인덱스의 성분을 삭제할 수 있다.\n",
    "\n",
    "    # step 4\n",
    "    if len(idlist) > 1 : \n",
    "        # 길이가 2 이상이면 양쪽 끝에 마침표가 있는 지를 점검\n",
    "        if idlist[0] == \".\" :\n",
    "            del idlist[0]\n",
    "        if idlist[-1] == \".\" :\n",
    "            del idlist[-1]\n",
    "    elif len(idlist) == 1 :\n",
    "        # 길이가 1이면 유일한 원소가 마침표 인치를 점검\n",
    "        if idlist[0] == \".\" :\n",
    "            del idlist[0]\n",
    "\n",
    "    # step 5\n",
    "    if not idlist :\n",
    "        idlist.append(\"a\")\n",
    "    \n",
    "    # step 6\n",
    "    if len(idlist) >= 16 :\n",
    "        idlist = idlist[0:15]  # list slice [a:b]하면 b인덱스에 해당하는 성분은 미포함!\n",
    "        if idlist[-1] == \".\" :\n",
    "            del idlist[-1]\n",
    "    \n",
    "    # step 7\n",
    "    if len(idlist) <= 2 :\n",
    "        last = idlist[-1] \n",
    "        while True :\n",
    "            idlist.append(last)\n",
    "            if len(idlist) == 3 :\n",
    "                break\n",
    "\n",
    "    # idlist를 id로 묶어주기\n",
    "    id = ''.join(idlist) \n",
    "    return id\n",
    "    "
   ]
  },
  {
   "cell_type": "code",
   "execution_count": 133,
   "metadata": {},
   "outputs": [
    {
     "data": {
      "text/plain": [
       "'bat.y.abcdefghi'"
      ]
     },
     "execution_count": 133,
     "metadata": {},
     "output_type": "execute_result"
    }
   ],
   "source": [
    "solution(\"...!@BaT#*..y.abcdefghijklm\")"
   ]
  },
  {
   "cell_type": "code",
   "execution_count": 134,
   "metadata": {},
   "outputs": [
    {
     "data": {
      "text/plain": [
       "'z--'"
      ]
     },
     "execution_count": 134,
     "metadata": {},
     "output_type": "execute_result"
    }
   ],
   "source": [
    "solution(\"z-+.^.\")"
   ]
  },
  {
   "cell_type": "code",
   "execution_count": 135,
   "metadata": {},
   "outputs": [
    {
     "data": {
      "text/plain": [
       "'aaa'"
      ]
     },
     "execution_count": 135,
     "metadata": {},
     "output_type": "execute_result"
    }
   ],
   "source": [
    "solution(\"=.=\")"
   ]
  },
  {
   "cell_type": "code",
   "execution_count": 136,
   "metadata": {},
   "outputs": [
    {
     "data": {
      "text/plain": [
       "'123_.def'"
      ]
     },
     "execution_count": 136,
     "metadata": {},
     "output_type": "execute_result"
    }
   ],
   "source": [
    "solution(\"123_.def\")"
   ]
  },
  {
   "cell_type": "code",
   "execution_count": 137,
   "metadata": {},
   "outputs": [
    {
     "data": {
      "text/plain": [
       "'abcdefghijklmn'"
      ]
     },
     "execution_count": 137,
     "metadata": {},
     "output_type": "execute_result"
    }
   ],
   "source": [
    "solution(\"abcdefghijklmn.p\")"
   ]
  },
  {
   "cell_type": "markdown",
   "metadata": {},
   "source": [
    "### 숫자 문자열과 영단어"
   ]
  },
  {
   "cell_type": "markdown",
   "metadata": {},
   "source": [
    "네오와 프로도가 숫자놀이를 하고 있습니다. 네오가 프로도에게 숫자를 건넬 때 일부 자릿수를 영단어로 바꾼 카드를 건네주면 프로도는 원래 숫자를 찾는 게임입니다.\n",
    "\n",
    "다음은 숫자의 일부 자릿수를 영단어로 바꾸는 예시입니다.  \n",
    "- 1478 → \"one4seveneight\"  \n",
    "- 234567 → \"23four5six7\"  \n",
    "- 10203 → \"1zerotwozero3\"  \n",
    "\n",
    "이렇게 숫자의 일부 자릿수가 영단어로 바뀌어졌거나, 혹은 바뀌지 않고 그대로인 문자열 s가 매개변수로 주어집니다. s가 의미하는 원래 숫자를 return 하도록 solution 함수를 완성해주세요."
   ]
  },
  {
   "cell_type": "markdown",
   "metadata": {},
   "source": [
    "딕셔너리를 대상으로 for loop을 쓰고 싶을 때는 `dict.keys()` 또는 `dict.items()` 메서드를 활용하자.  \n",
    "전자는 key 객체를, 후자는 (key, value) 튜플로 묶은 객체를 반환한다."
   ]
  },
  {
   "cell_type": "code",
   "execution_count": 143,
   "metadata": {},
   "outputs": [],
   "source": [
    "digitdict = {\"zero\":\"0\", \"one\":\"1\", \"two\":\"2\", \"three\":\"3\", \"four\": \"4\",\n",
    "\"five\" :\"5\", \"six\": \"6\", \"seven\" :\"7\", \"eight\": \"8\", \"nine\":\"9\"}\n"
   ]
  },
  {
   "cell_type": "code",
   "execution_count": null,
   "metadata": {},
   "outputs": [],
   "source": [
    "def solution(s):\n",
    "    digitdict = {\"zero\":\"0\", \"one\":\"1\", \"two\":\"2\", \"three\":\"3\", \"four\":\"4\", \"five\" :\"5\", \"six\": \"6\", \"seven\" :\"7\", \"eight\": \"8\", \"nine\":\"9\"}\n",
    "    for key in digitdict.keys() :\n",
    "        s = s.replace(key, digitdict[key])\n",
    "    return int(s)"
   ]
  },
  {
   "cell_type": "code",
   "execution_count": 145,
   "metadata": {},
   "outputs": [],
   "source": [
    "def solution(s):\n",
    "    digitdict = {\"zero\":\"0\", \"one\":\"1\", \"two\":\"2\", \"three\":\"3\", \"four\":\"4\", \"five\" :\"5\", \"six\": \"6\", \"seven\" :\"7\", \"eight\": \"8\", \"nine\":\"9\"}\n",
    "    for key, value in digitdict.items() :\n",
    "        s = s.replace(key, value)\n",
    "    return int(s)"
   ]
  },
  {
   "cell_type": "code",
   "execution_count": 146,
   "metadata": {},
   "outputs": [
    {
     "data": {
      "text/plain": [
       "1478"
      ]
     },
     "execution_count": 146,
     "metadata": {},
     "output_type": "execute_result"
    }
   ],
   "source": [
    "solution(\"one4seveneight\")"
   ]
  },
  {
   "cell_type": "code",
   "execution_count": 147,
   "metadata": {},
   "outputs": [
    {
     "data": {
      "text/plain": [
       "234567"
      ]
     },
     "execution_count": 147,
     "metadata": {},
     "output_type": "execute_result"
    }
   ],
   "source": [
    "solution(\"23four5six7\")"
   ]
  },
  {
   "cell_type": "code",
   "execution_count": 149,
   "metadata": {},
   "outputs": [
    {
     "data": {
      "text/plain": [
       "234567"
      ]
     },
     "execution_count": 149,
     "metadata": {},
     "output_type": "execute_result"
    }
   ],
   "source": [
    "solution(\"2three45sixseven\")"
   ]
  },
  {
   "cell_type": "code",
   "execution_count": 148,
   "metadata": {},
   "outputs": [
    {
     "data": {
      "text/plain": [
       "123"
      ]
     },
     "execution_count": 148,
     "metadata": {},
     "output_type": "execute_result"
    }
   ],
   "source": [
    "solution(\"123\")"
   ]
  },
  {
   "cell_type": "markdown",
   "metadata": {},
   "source": [
    "### 키패드 누르기"
   ]
  },
  {
   "cell_type": "markdown",
   "metadata": {},
   "source": [
    "스마트폰 전화 키패드의 각 칸에 다음과 같이 숫자들이 적혀 있습니다.  \n",
    "\n",
    "이 전화 키패드에서 왼손과 오른손의 엄지손가락만을 이용해서 숫자만을 입력하려고 합니다.  \n",
    "\n",
    "맨 처음 왼손 엄지손가락은 * 키패드에 오른손 엄지손가락은 # 키패드 위치에서 시작하며, 엄지손가락을 사용하는 규칙은 다음과 같습니다.  \n",
    "\n",
    "1. 엄지손가락은 상하좌우 4가지 방향으로만 이동할 수 있으며 키패드 이동 한 칸은 거리로 1에 해당합니다.  \n",
    "\n",
    "1. 왼쪽 열의 3개의 숫자 1, 4, 7을 입력할 때는 왼손 엄지손가락을 사용합니다.  \n",
    "\n",
    "1. 오른쪽 열의 3개의 숫자 3, 6, 9를 입력할 때는 오른손 엄지손가락을 사용합니다.  \n",
    "\n",
    "1. 가운데 열의 4개의 숫자 2, 5, 8, 0을 입력할 때는 두 엄지손가락의 현재 키패드의 위치에서 더 가까운 엄지손가락을 사용합니다.  \n",
    "    - 만약 두 엄지손가락의 거리가 같다면, 오른손잡이는 오른손 엄지손가락, 왼손잡이는 왼손 엄지손가락을 사용합니다.  \n",
    "\n",
    "순서대로 누를 번호가 담긴 배열 numbers, 왼손잡이인지 오른손잡이인 지를 나타내는 문자열 hand가 매개변수로 주어질 때, 각 번호를 누른 엄지손가락이 왼손인 지 오른손인 지를 나타내는 연속된 문자열 형태로 return 하도록 solution 함수를 완성해주세요.  \n",
    "\n"
   ]
  },
  {
   "cell_type": "code",
   "execution_count": 182,
   "metadata": {},
   "outputs": [],
   "source": [
    "def distance(target, current) :\n",
    "    # 손가락이 현재 current에 있을 때 target 키패드까지의 거리를 계산\n",
    "    # 별표는 -1로, 우물정은 -2로 코딩\n",
    "    # 거리 계산은 target이 2,5,8,0 일때만 필요하기 때문에 나머지 경우는 무시\n",
    "    if target == 2 :\n",
    "        if current == 2 :\n",
    "            return 0\n",
    "        elif current in [1,3,5] :\n",
    "            return 1\n",
    "        elif current in [4,6,8] :\n",
    "            return 2\n",
    "        elif current in [7,9,0] :\n",
    "            return 3\n",
    "        elif current in [-1,-2] :\n",
    "            return 4\n",
    "        else :\n",
    "            return None\n",
    "    elif target == 5 :\n",
    "        if current == 5 :\n",
    "            return 0\n",
    "        elif current in [2,4,6,8] :\n",
    "            return 1\n",
    "        elif current in [1,3,7,9,0] :\n",
    "            return 2\n",
    "        elif current in [-1, -2] :\n",
    "            return 3\n",
    "        else :\n",
    "            return None\n",
    "    elif target == 8 :\n",
    "        if current == 8 :\n",
    "            return 0\n",
    "        elif current in [5,7,9,0] :\n",
    "            return 1\n",
    "        elif current in [2,4,6,-1,-2] :\n",
    "            return 2\n",
    "        elif current in [1,3] :\n",
    "            return 3\n",
    "        else :\n",
    "            return None\n",
    "    elif target == 0 :\n",
    "        if current == 0 :\n",
    "            return 0\n",
    "        elif current in [8,-1,-2] :\n",
    "            return 1\n",
    "        elif current in [5,7,9] :\n",
    "            return 2\n",
    "        elif current in [2,4,6] :\n",
    "            return 3\n",
    "        elif current in [1,3] :\n",
    "            return 4\n",
    "    else :\n",
    "        return None\n"
   ]
  },
  {
   "cell_type": "code",
   "execution_count": 183,
   "metadata": {},
   "outputs": [],
   "source": [
    "def solution(numbers, hand):\n",
    "    answer = ''  # 이 문자열에 \"L\" 또는 \"R\"을 하나씩 append할 것.\n",
    "    currentLeft = -1  # 맨 처음 왼손 *\n",
    "    currentRight = -2  # 맨 처음 오른손 #\n",
    "    for number in numbers :\n",
    "        if number in [1,4,7] :\n",
    "            currentLeft = number \n",
    "            answer += \"L\"\n",
    "        elif number in [3,6,9] :\n",
    "            currentRight = number\n",
    "            answer += \"R\"\n",
    "        elif number in [2,5,8,0] :\n",
    "            disL = distance(number, currentLeft) \n",
    "            disR = distance(number, currentRight)\n",
    "            if disL < disR :\n",
    "                currentLeft = number\n",
    "                answer += \"L\"\n",
    "            elif disR < disL :\n",
    "                currentRight = number\n",
    "                answer += \"R\"\n",
    "            else :\n",
    "                if hand == \"left\" :\n",
    "                    currentLeft = number\n",
    "                    answer += \"L\"\n",
    "                elif hand == \"right\" :\n",
    "                    currentRight = number\n",
    "                    answer += \"R\"\n",
    "                else :\n",
    "                    pass\n",
    "        else :\n",
    "            pass  \n",
    "    return answer"
   ]
  },
  {
   "cell_type": "code",
   "execution_count": 184,
   "metadata": {},
   "outputs": [
    {
     "data": {
      "text/plain": [
       "'LRLLLRLLRRL'"
      ]
     },
     "execution_count": 184,
     "metadata": {},
     "output_type": "execute_result"
    }
   ],
   "source": [
    "solution([1, 3, 4, 5, 8, 2, 1, 4, 5, 9, 5], \"right\")"
   ]
  },
  {
   "cell_type": "code",
   "execution_count": 186,
   "metadata": {},
   "outputs": [
    {
     "data": {
      "text/plain": [
       "'LRLLRRLLLRR'"
      ]
     },
     "execution_count": 186,
     "metadata": {},
     "output_type": "execute_result"
    }
   ],
   "source": [
    "solution([7, 0, 8, 2, 8, 3, 1, 5, 7, 6, 2], \"left\")"
   ]
  },
  {
   "cell_type": "code",
   "execution_count": 187,
   "metadata": {},
   "outputs": [
    {
     "data": {
      "text/plain": [
       "'LLRLLRLLRL'"
      ]
     },
     "execution_count": 187,
     "metadata": {},
     "output_type": "execute_result"
    }
   ],
   "source": [
    "solution([1, 2, 3, 4, 5, 6, 7, 8, 9, 0], \"right\")"
   ]
  },
  {
   "cell_type": "markdown",
   "metadata": {},
   "source": [
    "### 크레인 인형 뽑기 게임"
   ]
  },
  {
   "cell_type": "markdown",
   "metadata": {},
   "source": [
    "게임개발자인 \"죠르디\"는 크레인 인형뽑기 기계를 모바일 게임으로 만들려고 합니다.  \n",
    "\"죠르디\"는 게임의 재미를 높이기 위해 화면 구성과 규칙을 다음과 같이 게임 로직에 반영하려고 합니다.\n",
    "\n",
    "게임 화면은 \"1 x 1\" 크기의 칸들로 이루어진 \"N x N\" 크기의 정사각 격자이며 위쪽에는 크레인이 있고 오른쪽에는 바구니가 있습니다.  \n",
    "각 격자 칸에는 다양한 인형이 들어 있으며 인형이 없는 칸은 빈칸입니다. 모든 인형은 \"1 x 1\" 크기의 격자 한 칸을 차지하며 격자의 가장 아래 칸부터 차곡차곡 쌓여 있습니다.  \n",
    "게임 사용자는 크레인을 좌우로 움직여서 멈춘 위치에서 가장 위에 있는 인형을 집어 올릴 수 있습니다. 집어 올린 인형은 바구니에 쌓이게 되는 데, 이때 바구니의 가장 아래 칸부터 인형이 순서대로 쌓이게 됩니다.\n",
    "\n",
    "만약 같은 모양의 인형 두 개가 바구니에 연속해서 쌓이게 되면 두 인형은 터뜨려지면서 바구니에서 사라지게 됩니다.\n",
    "\n",
    "크레인 작동 시 인형이 집어지지 않는 경우는 없으나 만약 인형이 없는 곳에서 크레인을 작동시키는 경우에는 아무런 일도 일어나지 않습니다. 또한 바구니는 모든 인형이 들어갈 수 있을 만큼 충분히 크다고 가정합니다.\n",
    "\n",
    "게임 화면의 격자의 상태가 담긴 2차원 배열 board와 인형을 집기 위해 크레인을 작동시킨 위치가 담긴 배열 moves가 매개변수로 주어질 때, 크레인을 모두 작동시킨 후 터트려져 사라진 인형의 개수를 return 하도록 solution 함수를 완성해주세요.\n",
    "\n",
    "- board 배열은 2차원 배열로 크기는 \"5 x 5\" 이상 \"30 x 30\" 이하입니다.\n",
    "- board의 각 칸에는 0 이상 100 이하인 정수가 담겨있습니다.\n",
    "    - 0은 빈 칸을 나타냅니다.\n",
    "    - 1 ~ 100의 각 숫자는 각기 다른 인형의 모양을 의미하며 같은 숫자는 같은 모양의 인형을 나타냅니다.\n",
    "    - n x n 크기의 board는 n개를 원소로 갖는 리스트를 n개 가지고 있는 2차원 배열입니다.\n",
    "    - 첫 번째 리스트는 정사각 격자의 first row, 두번째 리스트는 정사각 격자의 second row, ..., n번째 리스트는 정사각 격자의 n-th row를 나타냅니다.\n",
    "    - 이때 first row가 맨 위, n-th row가 맨 아래를 나타냅니다.\n",
    "- moves 배열의 크기는 1 이상 1,000 이하입니다.\n",
    "- moves 배열 각 원소들의 값은 1 이상이며 board 배열의 가로 크기 이하인 자연수입니다."
   ]
  },
  {
   "cell_type": "code",
   "execution_count": 312,
   "metadata": {},
   "outputs": [],
   "source": [
    "board = [[0,0,0,0,0],[0,0,1,0,3],[0,2,5,0,1],[4,2,4,4,2],[3,5,1,3,1]]\n",
    "moves = [1,5,3,5,1,2,1,4]"
   ]
  },
  {
   "cell_type": "markdown",
   "metadata": {},
   "source": [
    "`board` 데이터가 주어졌을 때, 각 칼럼을 stack으로 만들어서 보관하고자 한다. n개의 stack을 원소로 갖는 리스트 `stacks`는 다음과 같이 만들 수 있다."
   ]
  },
  {
   "cell_type": "code",
   "execution_count": 313,
   "metadata": {},
   "outputs": [],
   "source": [
    "n = len(board)\n",
    "stacks = [[] for i in range(n)]\n",
    "for i in range(n):\n",
    "    for j in range(n-1, -1, -1) :\n",
    "        stacks[i].append(board[j][i])\n"
   ]
  },
  {
   "cell_type": "code",
   "execution_count": 314,
   "metadata": {},
   "outputs": [
    {
     "data": {
      "text/plain": [
       "[[3, 4, 0, 0, 0],\n",
       " [5, 2, 2, 0, 0],\n",
       " [1, 4, 5, 1, 0],\n",
       " [3, 4, 0, 0, 0],\n",
       " [1, 2, 1, 3, 0]]"
      ]
     },
     "execution_count": 314,
     "metadata": {},
     "output_type": "execute_result"
    }
   ],
   "source": [
    "stacks "
   ]
  },
  {
   "cell_type": "markdown",
   "metadata": {},
   "source": [
    "stacks에 저장된 n개의 stack에서 빈 칸을 나타내는 0을 모두 지워주자. "
   ]
  },
  {
   "cell_type": "code",
   "execution_count": 315,
   "metadata": {},
   "outputs": [],
   "source": [
    "for stack in stacks :\n",
    "    while len(stack) > 0 and stack[-1] == 0 :\n",
    "        stack.pop()"
   ]
  },
  {
   "cell_type": "code",
   "execution_count": 316,
   "metadata": {},
   "outputs": [
    {
     "data": {
      "text/plain": [
       "[[3, 4], [5, 2, 2], [1, 4, 5, 1], [3, 4], [1, 2, 1, 3]]"
      ]
     },
     "execution_count": 316,
     "metadata": {},
     "output_type": "execute_result"
    }
   ],
   "source": [
    "stacks"
   ]
  },
  {
   "cell_type": "code",
   "execution_count": 317,
   "metadata": {},
   "outputs": [],
   "source": [
    "def solution(board, moves):\n",
    "    n = len(board)  # board는 n * n 격자 \n",
    "    stacks = [[] for i in range(n)] \n",
    "    for i in range(n):\n",
    "        for j in range(n-1, -1, -1) :\n",
    "            stacks[i].append(board[j][i])\n",
    "    for stack in stacks :\n",
    "        while len(stack) > 0 and stack[-1] == 0 :\n",
    "            stack.pop()\n",
    "    answer = 0  # 터트려져 사라진 인형의 개수 초기화\n",
    "    bucket = []  # 인형 뽑기로 쌓은 버킷 초기화\n",
    "    for move in moves :\n",
    "        if stacks[move-1] :  # 인형이 없는 곳에서 크레인 작동시키며 아무 일도 일어나지 않음\n",
    "            toy = stacks[move-1].pop()   # 해당 레인에서 인형 뽑기\n",
    "            if len(bucket) > 0 and bucket[-1] == toy :  # 만약 버킷에 인형이 있고 가장 위에 있는 인형이 방금 뽑은 인형과 같을 경우\n",
    "                bucket.pop() # 버킷 가장 위에 있는 인형 터뜨리기\n",
    "                answer += 2  # 방금 뽑은 인형도 같이 터뜨리므로 2를 더해줘야 함\n",
    "            else :  # 버킷에 인형이 없거나 버킷의 가장 위에 있는 인형이 방금 뽑은 인형과 다를 경우\n",
    "                bucket.append(toy) # 버킷의 가장 위에 인형 올려놓기\n",
    "        else :\n",
    "            pass\n",
    "\n",
    "    return answer"
   ]
  },
  {
   "cell_type": "code",
   "execution_count": 318,
   "metadata": {},
   "outputs": [
    {
     "data": {
      "text/plain": [
       "4"
      ]
     },
     "execution_count": 318,
     "metadata": {},
     "output_type": "execute_result"
    }
   ],
   "source": [
    "solution(board, moves)"
   ]
  },
  {
   "cell_type": "markdown",
   "metadata": {},
   "source": [
    "### 실패율"
   ]
  },
  {
   "cell_type": "markdown",
   "metadata": {},
   "source": [
    "슈퍼 게임 개발자 오렐리는 큰 고민에 빠졌다. 그녀가 만든 프랜즈 오천성이 대성공을 거뒀지만, 요즘 신규 사용자의 수가 급감한 것이다. 원인은 신규 사용자와 기존 사용자 사이에 스테이지 차이가 너무 큰 것이 문제였다.  \n",
    "\n",
    "이 문제를 어떻게 할까 고민 한 그녀는 동적으로 게임 시간을 늘려서 난이도를 조절하기로 했다. 역시 슈퍼 개발자라 대부분의 로직은 쉽게 구현했지만, 실패율을 구하는 부분에서 위기에 빠지고 말았다. 오렐리를 위해 실패율을 구하는 코드를 완성하라.  \n",
    "\n",
    "- 실패율은 다음과 같이 정의한다.  \n",
    "\n",
    "    - 스테이지에 도달했으나 아직 클리어하지 못한 플레이어의 수 / 스테이지에 도달한 플레이어 수  \n",
    "\n",
    "전체 스테이지의 개수 N, 게임을 이용하는 사용자가 현재 멈춰있는 스테이지의 번호가 담긴 배열 stages가 매개변수로 주어질 때, 실패율이 높은 스테이지부터 내림차순으로 스테이지의 번호가 담겨있는 배열을 return 하도록 solution 함수를 완성하라.  \n"
   ]
  },
  {
   "cell_type": "markdown",
   "metadata": {},
   "source": [
    "- 스테이지의 개수 N은 1 이상 500 이하의 자연수이다.  \n",
    "- stages의 길이는 1 이상 200,000 이하이다.  \n",
    "- stages에는 1 이상 N + 1 이하의 자연수가 담겨있다.  \n",
    "    - 각 자연수는 사용자가 현재 도전 중인 스테이지의 번호를 나타낸다.  \n",
    "    - 단, N + 1 은 마지막 스테이지(N 번째 스테이지) 까지 클리어 한 사용자를 나타낸다.  \n",
    "- 만약 실패율이 같은 스테이지가 있다면 작은 번호의 스테이지가 먼저 오도록 하면 된다.  \n",
    "- 스테이지에 도달한 유저가 없는 경우 해당 스테이지의 실패율은 0 으로 정의한다.  "
   ]
  },
  {
   "cell_type": "markdown",
   "metadata": {},
   "source": [
    "`list.count(x)` 함수를 통해 `x`가 list에서 몇 번 나오는 지를 카운트 할 수 있다. `x`가 리스트에 포함되어 있지 않은 경우 0을 리턴한다."
   ]
  },
  {
   "cell_type": "code",
   "execution_count": 335,
   "metadata": {},
   "outputs": [
    {
     "name": "stdout",
     "output_type": "stream",
     "text": [
      "2\n",
      "0\n"
     ]
    }
   ],
   "source": [
    "nums = [2, 1, 2, 6, 2, 4, 3, 3]\n",
    "print(nums.count(3)) \n",
    "print(nums.count(7))\n"
   ]
  },
  {
   "cell_type": "markdown",
   "metadata": {},
   "source": [
    "How to get indices of a sorted array in Python\n",
    "\n",
    "`enumerate(list)`와 `sorted()`함수의 `key` 파라미터를 활용하자"
   ]
  },
  {
   "cell_type": "code",
   "execution_count": 340,
   "metadata": {},
   "outputs": [
    {
     "name": "stdout",
     "output_type": "stream",
     "text": [
      "(0, 0.125)\n",
      "(1, 0.428)\n",
      "(2, 0.5)\n",
      "(3, 0.5)\n",
      "(4, 0)\n"
     ]
    }
   ],
   "source": [
    "for pair in enumerate([0.125,0.428,0.5,0.5,0]) :\n",
    "    print(pair)"
   ]
  },
  {
   "cell_type": "code",
   "execution_count": 336,
   "metadata": {},
   "outputs": [
    {
     "data": {
      "text/plain": [
       "[1, 2, 4, 0, 3]"
      ]
     },
     "execution_count": 336,
     "metadata": {},
     "output_type": "execute_result"
    }
   ],
   "source": [
    "myList = [100, 2 , 3 , 100, 5]\n",
    "[pair[0] for pair in sorted(enumerate(myList), key=lambda x:x[1])]"
   ]
  },
  {
   "cell_type": "code",
   "execution_count": 338,
   "metadata": {},
   "outputs": [
    {
     "data": {
      "text/plain": [
       "[0, 3, 4, 2, 1]"
      ]
     },
     "execution_count": 338,
     "metadata": {},
     "output_type": "execute_result"
    }
   ],
   "source": [
    "myList = [100, 2 , 3 , 100, 5]\n",
    "[pair[0] for pair in sorted(enumerate(myList), key=lambda x:x[1], reverse = True)]"
   ]
  },
  {
   "cell_type": "markdown",
   "metadata": {},
   "source": [
    "같은 값을 가질 경우 순서를 유지하는 stable sort가 이루어지고 있다."
   ]
  },
  {
   "cell_type": "code",
   "execution_count": 344,
   "metadata": {},
   "outputs": [],
   "source": [
    "def solution(N, stages):\n",
    "    counts = []  # 1부터 N+1 까지 stages 데이터에 담긴 정보를 카운트할 리스트\n",
    "    for i in range(N+1) :\n",
    "        counts.append(stages.count(i+1))\n",
    "        # 카운트의 i번째 원소는 (i+1)번을 도전 중인 사람의 수\n",
    "        # 카운트의 N번째 원소는 N번 스테이지까지 모두 클리어한 사람의 수\n",
    "    while not counts[-1] :\n",
    "        counts.pop()\n",
    "        # 만일 N개 스테이지 중 전체 유저가 아직 k번 스테이지에 도달하지 못한 상태라면 k번에서 N번 스테이지에 대응되는 count는 모두 0\n",
    "        # 카운트에서 끝부분에 연속적으로 나타나는 0을 지워주자\n",
    "    last_challenged = len(counts)  # 최소 한 명의 유저라도 도달한 스테이지 중 가장 높은 스테이지\n",
    "    if last_challenged > N :\n",
    "        last_challenged -= 1  # 만약 전체 스테이지를 완수한 사람이 있다면 N+1로 계산 되었을 테니까 1을 빼줌\n",
    "    rates = []   # 각 스테이지의 실패율 저장하는 리스트\n",
    "    for i in range(last_challenged) :\n",
    "        rate = counts[i] / sum(counts[i:])\n",
    "        rates.append(rate)\n",
    "    for i in range(last_challenged, N) :\n",
    "        rates.append(0)\n",
    "    # 실패율 리스트를 정렬함으로써 실패율이 높은 스테이지부터 내림차순으로 스테이지의 번호가 담겨있는 배열을 리턴\n",
    "    result = [pair[0]+1 for pair in sorted(enumerate(rates), key = lambda x : x[1], reverse = True)]   \n",
    "    return result"
   ]
  },
  {
   "cell_type": "code",
   "execution_count": 345,
   "metadata": {},
   "outputs": [
    {
     "data": {
      "text/plain": [
       "[3, 4, 2, 1, 5]"
      ]
     },
     "execution_count": 345,
     "metadata": {},
     "output_type": "execute_result"
    }
   ],
   "source": [
    "solution(5, [2, 1, 2, 6, 2, 4, 3, 3])"
   ]
  },
  {
   "cell_type": "code",
   "execution_count": 346,
   "metadata": {},
   "outputs": [
    {
     "data": {
      "text/plain": [
       "[4, 1, 2, 3]"
      ]
     },
     "execution_count": 346,
     "metadata": {},
     "output_type": "execute_result"
    }
   ],
   "source": [
    "solution(4, [4,4,4,4,4])"
   ]
  },
  {
   "cell_type": "markdown",
   "metadata": {},
   "source": [
    "### 비밀지도"
   ]
  },
  {
   "cell_type": "markdown",
   "metadata": {},
   "source": [
    "네오는 평소 프로도가 비상금을 숨겨놓는 장소를 알려줄 비밀지도를 손에 넣었다. 그런데 이 비밀지도는 숫자로 암호화되어 있어 위치를 확인하기 위해서는 암호를 해독해야 한다. 다행히 지도 암호를 해독할 방법을 적어놓은 메모도 함께 발견했다.  \n",
    "1. 지도는 한 변의 길이가 n인 정사각형 배열 형태로, 각 칸은 \"공백\"(\" \") 또는 \"벽\"(\"#\") 두 종류로 이루어져 있다.  \n",
    "1. 전체 지도는 두 장의 지도를 겹쳐서 얻을 수 있다. 각각 \"지도 1\"과 \"지도 2\"라고 하자. 지도 1 또는 지도 2 중 어느 하나라도 벽인 부분은 전체 지도에서도 벽이다. 지도 1과 지도 2에서 모두 공백인 부분은 전체 지도에서도 공백이다.  \n",
    "1. \"지도 1\"과 \"지도 2\"는 각각 정수 배열로 암호화되어 있다.  \n",
    "1. 암호화된 배열은 지도의 각 가로줄에서 벽 부분을 1, 공백 부분을 0으로 부호화했을 때 얻어지는 이진수에 해당하는 값의 배열이다.  \n",
    "\n",
    "네오가 프로도의 비상금을 손에 넣을 수 있도록, 비밀지도의 암호를 해독하는 작업을 도와줄 프로그램을 작성하라.  \n",
    "\n",
    "입력으로 지도의 한 변 크기 n 과 2개의 정수 배열 arr1, arr2가 들어온다.\n",
    "- 1 ≦ n ≦ 16\n",
    "- arr1, arr2는 길이 n인 정수 배열로 주어진다.\n",
    "- 정수 배열의 각 원소 x를 이진수로 변환했을 때의 길이는 n 이하이다. 즉, 0 ≦ x ≦ 2n - 1을 만족한다.\n",
    "\n",
    "원래의 비밀지도를 해독하여 '#', 공백으로 구성된 문자열 배열로 출력하라.\n"
   ]
  },
  {
   "cell_type": "markdown",
   "metadata": {},
   "source": [
    "정수를 이진수 표기법으로 바꾸는 것은 내장 함수 `bin`을 사용하면 간단하다."
   ]
  },
  {
   "cell_type": "code",
   "execution_count": 372,
   "metadata": {},
   "outputs": [
    {
     "name": "stdout",
     "output_type": "stream",
     "text": [
      "0b1010\n",
      "1010\n"
     ]
    }
   ],
   "source": [
    "print(bin(10))\n",
    "print(bin(10).replace(\"0b\", ''))\n"
   ]
  },
  {
   "cell_type": "markdown",
   "metadata": {},
   "source": [
    "이진수 표기를 내장함수 `bin`을 쓰지 않고 구현하고자 않다면 다음과 같이 재귀적 표현을 사용하여 만들 수 있다."
   ]
  },
  {
   "cell_type": "code",
   "execution_count": 379,
   "metadata": {},
   "outputs": [
    {
     "name": "stdout",
     "output_type": "stream",
     "text": [
      "1101\n",
      "111\n",
      "10001\n"
     ]
    }
   ],
   "source": [
    "def getBinaryNum(n, lists):\n",
    "    a = n // 2\n",
    "    b = n % 2\n",
    "    lists.append(b)\n",
    "    if a == 0 :\n",
    "        return lists\n",
    "    else :\n",
    "        return getBinaryNum(a, lists)\n",
    "\n",
    "def getBinary(n) :\n",
    "    if n < 0 :\n",
    "        return\n",
    "    else :\n",
    "        binList = []\n",
    "        getBinaryList(n, binList)\n",
    "        binList.reverse()  # 위에서 마지막으로 추가된 1이 가장 앞자리에 가야 함. reverse 메서드를 통해 in-place modification\n",
    "        binList = list(map(str, binList))\n",
    "        return ''.join(binList)   \n",
    "\n",
    "print(getBinary(13))\n",
    "print(getBinary(7))\n",
    "print(getBinary(17))"
   ]
  },
  {
   "cell_type": "code",
   "execution_count": 380,
   "metadata": {},
   "outputs": [],
   "source": [
    "def getBinaryList(n, binList) :\n",
    "    a = n // 2\n",
    "    b = n % 2\n",
    "    binList.append(b)\n",
    "    if a == 0 :\n",
    "        return binList\n",
    "    else :\n",
    "        return getBinaryList(a, binList)\n",
    "    \n",
    "# 자연수 n을 digits 수 자리의 이진수로 표현해줌. (자리수가 부족할 경우 앞에 0을 붙여주는 방식으로)\n",
    "def getBinary(n, digits) :\n",
    "    if n < 0 :\n",
    "        return\n",
    "    else :\n",
    "        binList = []\n",
    "        getBinaryList(n, binList)\n",
    "        if len(binList) < digits :\n",
    "            k = digits - len(binList)\n",
    "            binList += [0 for i in range(k)]\n",
    "        binList.reverse()\n",
    "        binList = list(map(str, binList))\n",
    "        return ''.join(binList)   \n",
    "    \n",
    "def solution(n, arr1, arr2):\n",
    "    binaryArr1 = list(map(lambda x : getBinary(x, n), arr1))\n",
    "    binaryArr2 = list(map(lambda x : getBinary(x, n), arr2))\n",
    "    answer = [\"\" for i in range(n)]\n",
    "    for i in range(n) :\n",
    "        for j in range(n) :\n",
    "            if int(binaryArr1[i][j]) or int(binaryArr2[i][j]) : # 둘 중 하나만 1이어도 벽이 있는 것으로 간주\n",
    "                answer[i] += \"#\"\n",
    "            else :\n",
    "                answer[i] += \" \"\n",
    "    return answer\n",
    "            "
   ]
  },
  {
   "cell_type": "code",
   "execution_count": 381,
   "metadata": {},
   "outputs": [
    {
     "data": {
      "text/plain": [
       "['#####', '# # #', '### #', '#  ##', '#####']"
      ]
     },
     "execution_count": 381,
     "metadata": {},
     "output_type": "execute_result"
    }
   ],
   "source": [
    "solution(5, [9, 20, 28, 18, 11], [30, 1, 21, 17, 28])"
   ]
  },
  {
   "cell_type": "code",
   "execution_count": 382,
   "metadata": {},
   "outputs": [
    {
     "data": {
      "text/plain": [
       "['######', '###  #', '##  ##', ' #### ', ' #####', '### # ']"
      ]
     },
     "execution_count": 382,
     "metadata": {},
     "output_type": "execute_result"
    }
   ],
   "source": [
    "solution(6, [46, 33, 33 ,22, 31, 50], [27 ,56, 19, 14, 14, 10])"
   ]
  },
  {
   "cell_type": "code",
   "execution_count": 388,
   "metadata": {},
   "outputs": [
    {
     "name": "stdout",
     "output_type": "stream",
     "text": [
      "False\n",
      "True\n",
      "True\n",
      "False\n",
      "False\n",
      "True\n"
     ]
    }
   ],
   "source": [
    "st = \"3i2\"\n",
    "for s in st :\n",
    "    # print(s.isdigit())\n",
    "    print(s.isalpha())\n",
    "    print(s.isdigit())"
   ]
  },
  {
   "cell_type": "markdown",
   "metadata": {},
   "source": [
    "### 다트 게임"
   ]
  },
  {
   "cell_type": "markdown",
   "metadata": {},
   "source": [
    "카카오톡 게임별의 하반기 신규 서비스로 다트 게임을 출시하기로 했다. 다트 게임은 다트판에 다트를 세 차례 던져 그 점수의 합계로 실력을 겨루는 게임으로, 모두가 간단히 즐길 수 있다.\n",
    "갓 입사한 무지는 코딩 실력을 인정받아 게임의 핵심 부분인 점수 계산 로직을 맡게 되었다. 다트 게임의 점수 계산 로직은 아래와 같다.  \n",
    "\n",
    "1. 다트 게임은 총 3번의 기회로 구성된다.\n",
    "1. 각 기회마다 얻을 수 있는 점수는 0점에서 10점까지이다.\n",
    "1. 점수와 함께 Single(S), Double(D), Triple(T) 영역이 존재하고 각 영역 당첨 시 점수에서 1제곱, 2제곱, 3제곱 (점수1 , 점수2 , 점수3 )으로 계산된다.\n",
    "1. 옵션으로 스타상(`*`) , 아차상(`#`)이 존재하며 스타상(`*`) 당첨 시 해당 점수와 바로 전에 얻은 점수를 각 2배로 만든다. 아차상(`#`) 당첨 시 해당 점수는 마이너스된다.\n",
    "1. 스타상(`*`)은 첫 번째 기회에서도 나올 수 있다. 이 경우 첫 번째 스타상(`*`)의 점수만 2배가 된다. (예제 4번 참고)\n",
    "1. 스타상(`*`)의 효과는 다른 스타상(`*`)의 효과와 중첩될 수 있다. 이 경우 중첩된 스타상(`*`) 점수는 4배가 된다. (예제 4번 참고)\n",
    "1. 스타상(`*`)의 효과는 아차상(`#`)의 효과와 중첩될 수 있다. 이 경우 중첩된 아차상(`#`)의 점수는 -2배가 된다. (예제 5번 참고)\n",
    "1. Single(S), Double(D), Triple(T)은 점수마다 하나씩 존재한다.\n",
    "1. 스타상(`*`), 아차상(`#`)은 점수마다 둘 중 하나만 존재할 수 있으며, 존재하지 않을 수도 있다.\n",
    "\n",
    "0~10의 정수와 문자 S, D, T, *, #로 구성된 문자열이 입력될 시 총점수를 반환하는 함수를 작성하라."
   ]
  },
  {
   "cell_type": "markdown",
   "metadata": {},
   "source": [
    "입력 형식은\n",
    "\n",
    "\"점수|보너스|[옵션]\"으로 이루어진 문자열 3세트.  \n",
    "예) `1S2D*3T`  \n",
    "- 점수는 0에서 10 사이의 정수이다.  \n",
    "- 보너스는 S, D, T 중 하나이다.  \n",
    "- 옵선은 `*`이나 `#` 중 하나이며, 없을 수도 있다.  \n",
    "\n",
    "3번의 기회에서 얻은 점수 합계에 해당하는 정수값을 출력한다.\n",
    "\n",
    "예) 37\n"
   ]
  },
  {
   "cell_type": "code",
   "execution_count": 391,
   "metadata": {},
   "outputs": [],
   "source": [
    "def solution(dartResult):\n",
    "    dartResult = dartResult.replace(\"10\", \"X\") \n",
    "    # 0에서 10까지의 정수 중 10만 유일하게 두 자리 수\n",
    "    # 한 글자의 characgter로 표현할 수 있어야 for loop 돌릴 때 편함. 10을 X로 대체\n",
    "    point = [0 for i in range(3)] # 세 번의 다트 던지기에 대응되는 점수를 기록하는 리스트\n",
    "    i = -1 # 몇 번째 다트 던지기인지 를 가리키는 인덱스\n",
    "    for char in dartResult :\n",
    "        if char.isdigit() : \n",
    "            i += 1\n",
    "            point[i] = int(char)\n",
    "        elif char == \"X\" :\n",
    "            i += 1\n",
    "            point[i] = 10\n",
    "        elif char == \"S\" :\n",
    "            pass\n",
    "        elif char == \"D\" :\n",
    "            point[i] **= 2\n",
    "        elif char == \"T\" :\n",
    "            point[i] **= 3\n",
    "        elif char == \"*\" :\n",
    "            point[i] *= 2\n",
    "            if i > 0 :\n",
    "                point[i-1] *= 2\n",
    "            else :\n",
    "                pass\n",
    "        elif char == \"#\" : \n",
    "            point[i] *= -1\n",
    "        else :\n",
    "            pass\n",
    "    return sum(point)"
   ]
  },
  {
   "cell_type": "code",
   "execution_count": 392,
   "metadata": {},
   "outputs": [
    {
     "data": {
      "text/plain": [
       "37"
      ]
     },
     "execution_count": 392,
     "metadata": {},
     "output_type": "execute_result"
    }
   ],
   "source": [
    "solution(\"1S2D*3T\")"
   ]
  },
  {
   "cell_type": "code",
   "execution_count": 393,
   "metadata": {},
   "outputs": [
    {
     "data": {
      "text/plain": [
       "23"
      ]
     },
     "execution_count": 393,
     "metadata": {},
     "output_type": "execute_result"
    }
   ],
   "source": [
    "solution(\"1S*2T*3S\")"
   ]
  },
  {
   "cell_type": "code",
   "execution_count": 394,
   "metadata": {},
   "outputs": [
    {
     "data": {
      "text/plain": [
       "5"
      ]
     },
     "execution_count": 394,
     "metadata": {},
     "output_type": "execute_result"
    }
   ],
   "source": [
    "solution(\"1D#2S*3S\")"
   ]
  },
  {
   "cell_type": "code",
   "execution_count": null,
   "metadata": {},
   "outputs": [],
   "source": []
  }
 ],
 "metadata": {
  "interpreter": {
   "hash": "d88d8acdbfaa835a5f857244e00e0be2fef710e8821cc5222c903f5a03bf61bd"
  },
  "kernelspec": {
   "display_name": "Python 3.8.8 ('base')",
   "language": "python",
   "name": "python3"
  },
  "language_info": {
   "codemirror_mode": {
    "name": "ipython",
    "version": 3
   },
   "file_extension": ".py",
   "mimetype": "text/x-python",
   "name": "python",
   "nbconvert_exporter": "python",
   "pygments_lexer": "ipython3",
   "version": "3.8.8"
  },
  "orig_nbformat": 4
 },
 "nbformat": 4,
 "nbformat_minor": 2
}
