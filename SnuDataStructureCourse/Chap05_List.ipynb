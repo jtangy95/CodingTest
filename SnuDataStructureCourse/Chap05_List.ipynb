{
 "cells": [
  {
   "cell_type": "markdown",
   "metadata": {},
   "source": [
    "# 리스트 List"
   ]
  },
  {
   "cell_type": "markdown",
   "metadata": {},
   "source": [
    "리스트의 핵심 작업은 삽입, 삭제, 검색이다.\n",
    "- `insert(i, x)` : x를 리스트의 i번 원소로 삽입한다.\n",
    "- `append(x)` : x를 리스트의 마지막 원소로 삽입한다.\n",
    "- `pop(i)` : 리스트의 i번 원소를 삭제하면서 알려준다. i를 정해주지 않을 경우 마지막 원소를 삭제하면서 알려준다.\n",
    "- `remove(x)` : 리스트에서 (처음으로 나타나는) x를 삭제한다.\n",
    "- `index(x)` : 리스트에서 (처음으로 나타나는) x가 몇 번 원소인 지 알려준다.\n",
    "- `clear()` : 리스트를 깨끗이 청소한다.\n"
   ]
  },
  {
   "cell_type": "markdown",
   "metadata": {},
   "source": [
    "위의 메서드 들은 대부분의 다른 리스트에서도 지원하느 작업들이고, 아래의 메서드들은 파이썬에서 풍부해진 작업들이다."
   ]
  },
  {
   "cell_type": "markdown",
   "metadata": {},
   "source": [
    "- `count(x)` : 리스트에서 x가 몇 번 나타나는 지 알려준다.\n",
    "- `extend(a)` : iterable한 객체(ex. 리스트) a를 풀어서 기존의 리스트를 확장한다.\n",
    "- `copy()` : 리스트를 복사한다.\n",
    "- `reverse()` : 리스트의 순서를 역으로 뒤집는다.\n",
    "- `sort()` : 리스트의 원소들을 정렬한다.\n"
   ]
  },
  {
   "cell_type": "code",
   "execution_count": 9,
   "metadata": {},
   "outputs": [
    {
     "data": {
      "text/plain": [
       "[3, 5]"
      ]
     },
     "execution_count": 9,
     "metadata": {},
     "output_type": "execute_result"
    }
   ],
   "source": [
    "a = []\n",
    "a.append(3)\n",
    "a.append(5)\n",
    "a"
   ]
  },
  {
   "cell_type": "code",
   "execution_count": 10,
   "metadata": {},
   "outputs": [
    {
     "data": {
      "text/plain": [
       "[7, 3, 5]"
      ]
     },
     "execution_count": 10,
     "metadata": {},
     "output_type": "execute_result"
    }
   ],
   "source": [
    "a.insert(0, 7)\n",
    "a"
   ]
  },
  {
   "cell_type": "code",
   "execution_count": 11,
   "metadata": {},
   "outputs": [
    {
     "name": "stdout",
     "output_type": "stream",
     "text": [
      "5\n"
     ]
    },
    {
     "data": {
      "text/plain": [
       "[7, 3]"
      ]
     },
     "execution_count": 11,
     "metadata": {},
     "output_type": "execute_result"
    }
   ],
   "source": [
    "print(a.pop())\n",
    "a"
   ]
  },
  {
   "cell_type": "code",
   "execution_count": 12,
   "metadata": {},
   "outputs": [
    {
     "data": {
      "text/plain": [
       "[7]"
      ]
     },
     "execution_count": 12,
     "metadata": {},
     "output_type": "execute_result"
    }
   ],
   "source": [
    "a.remove(3)\n",
    "a"
   ]
  },
  {
   "cell_type": "code",
   "execution_count": 13,
   "metadata": {},
   "outputs": [
    {
     "data": {
      "text/plain": [
       "[7, 3, 7, 2, 9, 10, -1, -5, 3, 9, 1, 10, 5]"
      ]
     },
     "execution_count": 13,
     "metadata": {},
     "output_type": "execute_result"
    }
   ],
   "source": [
    "a.extend([3,7,2,9,10,-1,-5,3,9,1,10,5])\n",
    "a"
   ]
  },
  {
   "cell_type": "code",
   "execution_count": 14,
   "metadata": {},
   "outputs": [
    {
     "data": {
      "text/plain": [
       "3"
      ]
     },
     "execution_count": 14,
     "metadata": {},
     "output_type": "execute_result"
    }
   ],
   "source": [
    "a.index(2)"
   ]
  },
  {
   "cell_type": "code",
   "execution_count": 15,
   "metadata": {},
   "outputs": [
    {
     "data": {
      "text/plain": [
       "2"
      ]
     },
     "execution_count": 15,
     "metadata": {},
     "output_type": "execute_result"
    }
   ],
   "source": [
    "a.count(3)"
   ]
  },
  {
   "cell_type": "code",
   "execution_count": 16,
   "metadata": {},
   "outputs": [
    {
     "data": {
      "text/plain": [
       "[5, 10, 1, 9, 3, -5, -1, 10, 9, 2, 7, 3, 7]"
      ]
     },
     "execution_count": 16,
     "metadata": {},
     "output_type": "execute_result"
    }
   ],
   "source": [
    "a.reverse()\n",
    "a"
   ]
  },
  {
   "cell_type": "code",
   "execution_count": 17,
   "metadata": {},
   "outputs": [
    {
     "data": {
      "text/plain": [
       "[-5, -1, 1, 2, 3, 3, 5, 7, 7, 9, 9, 10, 10]"
      ]
     },
     "execution_count": 17,
     "metadata": {},
     "output_type": "execute_result"
    }
   ],
   "source": [
    "a.sort()\n",
    "a"
   ]
  },
  {
   "cell_type": "code",
   "execution_count": 18,
   "metadata": {},
   "outputs": [],
   "source": [
    "b = a.copy()\n",
    "a.clear()"
   ]
  },
  {
   "cell_type": "code",
   "execution_count": 19,
   "metadata": {},
   "outputs": [
    {
     "data": {
      "text/plain": [
       "[-5, -1, 1, 2, 3, 3, 5, 7, 7, 9, 9, 10, 10]"
      ]
     },
     "execution_count": 19,
     "metadata": {},
     "output_type": "execute_result"
    }
   ],
   "source": [
    "b"
   ]
  },
  {
   "cell_type": "code",
   "execution_count": 20,
   "metadata": {},
   "outputs": [
    {
     "data": {
      "text/plain": [
       "[]"
      ]
     },
     "execution_count": 20,
     "metadata": {},
     "output_type": "execute_result"
    }
   ],
   "source": [
    "a"
   ]
  },
  {
   "cell_type": "markdown",
   "metadata": {},
   "source": [
    "파이썬 내장 리스트는 배열로 구현되어 있다. 배열로 구성되어 있는 한 피할 수 없는 비효율이 존재 하는 데 대표적인 것이 다음 두 가지이다.\n",
    "1. 원소 삽입 시 발생하는 원소를 한 칸 씩 시프트해주는 부담\n",
    "2. 받아 놓은 공간이 꽉 차 있는 상태에서 삽입이 시도될 경우 새 배열을 할당 받아 기존 배열의 내용을 복사해야 하는 부담"
   ]
  },
  {
   "cell_type": "markdown",
   "metadata": {},
   "source": [
    "### 연결 리스트"
   ]
  },
  {
   "cell_type": "markdown",
   "metadata": {},
   "source": [
    "연결 리스트는 위에서 언급한 배열의 공간 낭비를 피할 수 있는 자료구조다. "
   ]
  },
  {
   "cell_type": "markdown",
   "metadata": {},
   "source": [
    "배열 리스트는 연속된 공간에 원소를 저장하는 반면 연결 리스트는 공간의 연속성이 없다. 이로 인해 검색이나 정렬 작업을 할 때는 배열 리스트가 시간을 더 절약한다."
   ]
  },
  {
   "cell_type": "code",
   "execution_count": 1,
   "metadata": {},
   "outputs": [],
   "source": [
    "class ListNode :\n",
    "    def __init__(self, item, nextNode : 'ListNode') :\n",
    "        self.item = item\n",
    "        self.next = nextNode\n"
   ]
  },
  {
   "cell_type": "code",
   "execution_count": 91,
   "metadata": {},
   "outputs": [],
   "source": [
    "class BasicLinkedList :\n",
    "    def __init__(self) :\n",
    "        self.__head = ListNode(\"Dummy\", None)\n",
    "        self.__numItems = 0\n",
    "\n",
    "    # i번 인덱스에 해당하는 노드를 리턴하는 private method\n",
    "    def __getNode(self, i : int) -> ListNode :\n",
    "        current = self.__head   # 더미 헤드노드\n",
    "        for j in range(i+1) :\n",
    "            current = current.next\n",
    "        # 만약 i = -1일 경우 위의 for loop이 돌지 않고, 그에 따라 더미 헤드노드를 리턴하게 된다.\n",
    "        return current\n",
    "    \n",
    "    def insert(self, i: int, x) :\n",
    "        if i > -1 and i <= self.__numItems :\n",
    "            prevNode = self.__getNode(i-1) # i = 0 인 경우 더미 헤드노드가 prevNode가 된다.\n",
    "            newNode = ListNode(x, prevNode.next)\n",
    "            prevNode.next = newNode\n",
    "            self.__numItems += 1\n",
    "        else :\n",
    "            print(\"index %d is out of bound in insert()\"%i)\n",
    "\n",
    "    def append(self, x) :\n",
    "        prevNode = self.__getNode(self.__numItems-1)\n",
    "        newNode = ListNode(x, prevNode.next)\n",
    "        prevNode.next = newNode\n",
    "        self.__numItems += 1\n",
    "\n",
    "    def pop(self, i : int = None) :\n",
    "        if i is None :\n",
    "            i = self.__numItems - 1\n",
    "        else :\n",
    "            pass\n",
    "\n",
    "        if i > -1 and i < self.__numItems :\n",
    "            prevNode = self.__getNode(i-1)  # i = 0 인 경우 더미 헤드노드가 prevNode가 된다.\n",
    "            currNode = prevNode.next\n",
    "            x = currNode.item\n",
    "            prevNode.next = currNode.next\n",
    "            self.__numItems -= 1\n",
    "            return x\n",
    "        else : \n",
    "            print(\"index %d is out of bound in insert()\"%i)\n",
    "            return None\n",
    "\n",
    "    def remove(self, x) :\n",
    "        prevNode = self.__head\n",
    "        for i in range(self.__numItems) :\n",
    "            currNode = prevNode.next\n",
    "            if currNode.item == x :\n",
    "                prevNode.next = currNode.next \n",
    "                self.__numItems -= 1\n",
    "                return None\n",
    "            else :\n",
    "                prevNode = currNode\n",
    "        print(\"Such item does not exist in this list\")\n",
    "        return None\n",
    " \n",
    "    def index(self, x) :\n",
    "        prevNode = self.__head\n",
    "        currNode = prevNode.next\n",
    "        for i in range(self.__numItems) :\n",
    "            if currNode.item == x :\n",
    "                return i\n",
    "            else :\n",
    "                currNode = currNode.next\n",
    "        print(\"Such item does not exist in this list\")\n",
    "        return None\n",
    "\n",
    "    def isEmpty(self) -> bool :\n",
    "        return self.__numItems == 0 \n",
    "    \n",
    "    def size(self) -> int :\n",
    "        return self.__numItems \n",
    "\n",
    "    def clear(self) -> int :\n",
    "        self.__head.next = None \n",
    "        self.__numItems = 0\n",
    "\n",
    "    # i번째 노드의 item을 리턴\n",
    "    def get(self, i : int) :\n",
    "        if self.isEmpty() :\n",
    "            print(\"This list is empty\")\n",
    "            return None\n",
    "        elif i > -1 and i < self.__numItems :\n",
    "            currNode = self.__getNode(i)\n",
    "            return currNode.item\n",
    "        else :\n",
    "            print(\"index %d is out of bound in insert()\"%i)\n",
    "            return None\n",
    "\n",
    "    def count(self, x) -> int :\n",
    "        prevNode = self.__head\n",
    "        currNode = prevNode.next\n",
    "        cnt = 0\n",
    "        for i in range(self.__numItems) :\n",
    "            if currNode.item == x :\n",
    "                cnt += 1\n",
    "            currNode = currNode.next\n",
    "        return cnt \n",
    "\n",
    "    def copy(self) :\n",
    "        a = BasicLinkedList()\n",
    "        for i in range(self.__numItems) :\n",
    "            a.append(self.get(i))\n",
    "        return a\n",
    "    \n",
    "    def extend(self, a) :\n",
    "        for i in range(a.size()) :\n",
    "            self.append(a.get(i)) \n",
    "    \n",
    "    def reverse(self) :\n",
    "        a = BasicLinkedList()\n",
    "        for i in range(self.__numItems) :\n",
    "            a.append(self.pop())\n",
    "        for i in range(a.size()) :\n",
    "            self.append(a.get(i))        \n",
    "\n",
    "    def __repr__(self) :\n",
    "        if self.isEmpty() :\n",
    "            return \"LinkedList : []\"\n",
    "        else :           \n",
    "            string = \"LinkedList : [\"\n",
    "            prevNode = self.__head\n",
    "            currNode = prevNode.next \n",
    "            for i in range(self.__numItems -1) :\n",
    "                string += str(currNode.item) + \", \"\n",
    "                currNode = currNode.next\n",
    "            string += str(currNode.item) + \"]\"\n",
    "            return string\n",
    "\n"
   ]
  },
  {
   "cell_type": "code",
   "execution_count": 92,
   "metadata": {},
   "outputs": [],
   "source": [
    "a = BasicLinkedList()"
   ]
  },
  {
   "cell_type": "code",
   "execution_count": 93,
   "metadata": {},
   "outputs": [],
   "source": [
    "a.append(3)\n",
    "a.append(2)\n",
    "a.append(15)\n",
    "a.append(7)\n",
    "a.append(10)\n",
    "a.append(-1)\n",
    "a.append(-3)\n",
    "a.append(18)"
   ]
  },
  {
   "cell_type": "code",
   "execution_count": 94,
   "metadata": {},
   "outputs": [
    {
     "data": {
      "text/plain": [
       "LinkedList : [3, 2, 15, 7, 10, -1, -3, 18]"
      ]
     },
     "execution_count": 94,
     "metadata": {},
     "output_type": "execute_result"
    }
   ],
   "source": [
    "a"
   ]
  },
  {
   "cell_type": "code",
   "execution_count": 95,
   "metadata": {},
   "outputs": [
    {
     "name": "stdout",
     "output_type": "stream",
     "text": [
      "18\n"
     ]
    }
   ],
   "source": [
    "b = a.pop()\n",
    "print(b)"
   ]
  },
  {
   "cell_type": "code",
   "execution_count": 96,
   "metadata": {},
   "outputs": [
    {
     "data": {
      "text/plain": [
       "LinkedList : [3, 2, 15, 7, 10, -1, -3]"
      ]
     },
     "execution_count": 96,
     "metadata": {},
     "output_type": "execute_result"
    }
   ],
   "source": [
    "a"
   ]
  },
  {
   "cell_type": "code",
   "execution_count": 97,
   "metadata": {},
   "outputs": [
    {
     "data": {
      "text/plain": [
       "LinkedList : [3, 7, 2, 15, 7, 10, -1, -3]"
      ]
     },
     "execution_count": 97,
     "metadata": {},
     "output_type": "execute_result"
    }
   ],
   "source": [
    "a.insert(1, 7)\n",
    "a"
   ]
  },
  {
   "cell_type": "code",
   "execution_count": 98,
   "metadata": {},
   "outputs": [],
   "source": [
    "a.remove(2)"
   ]
  },
  {
   "cell_type": "code",
   "execution_count": 99,
   "metadata": {},
   "outputs": [
    {
     "name": "stdout",
     "output_type": "stream",
     "text": [
      "Such item does not exist in this list\n"
     ]
    }
   ],
   "source": [
    "a.remove(5)"
   ]
  },
  {
   "cell_type": "code",
   "execution_count": 100,
   "metadata": {},
   "outputs": [
    {
     "data": {
      "text/plain": [
       "LinkedList : [3, 7, 15, 7, 10, -1, -3]"
      ]
     },
     "execution_count": 100,
     "metadata": {},
     "output_type": "execute_result"
    }
   ],
   "source": [
    "a"
   ]
  },
  {
   "cell_type": "code",
   "execution_count": 101,
   "metadata": {},
   "outputs": [],
   "source": [
    "a.insert(5, 2)"
   ]
  },
  {
   "cell_type": "code",
   "execution_count": 102,
   "metadata": {},
   "outputs": [
    {
     "data": {
      "text/plain": [
       "LinkedList : [3, 7, 15, 7, 10, 2, -1, -3]"
      ]
     },
     "execution_count": 102,
     "metadata": {},
     "output_type": "execute_result"
    }
   ],
   "source": [
    "a"
   ]
  },
  {
   "cell_type": "code",
   "execution_count": 103,
   "metadata": {},
   "outputs": [
    {
     "name": "stdout",
     "output_type": "stream",
     "text": [
      "index 10 is out of bound in insert()\n"
     ]
    }
   ],
   "source": [
    "a.insert(10, 19)"
   ]
  },
  {
   "cell_type": "code",
   "execution_count": 104,
   "metadata": {},
   "outputs": [
    {
     "data": {
      "text/plain": [
       "1"
      ]
     },
     "execution_count": 104,
     "metadata": {},
     "output_type": "execute_result"
    }
   ],
   "source": [
    "a.index(7)"
   ]
  },
  {
   "cell_type": "code",
   "execution_count": 105,
   "metadata": {},
   "outputs": [
    {
     "data": {
      "text/plain": [
       "2"
      ]
     },
     "execution_count": 105,
     "metadata": {},
     "output_type": "execute_result"
    }
   ],
   "source": [
    "a.count(7)"
   ]
  },
  {
   "cell_type": "code",
   "execution_count": 106,
   "metadata": {},
   "outputs": [
    {
     "data": {
      "text/plain": [
       "2"
      ]
     },
     "execution_count": 106,
     "metadata": {},
     "output_type": "execute_result"
    }
   ],
   "source": [
    "a.get(5)"
   ]
  },
  {
   "cell_type": "code",
   "execution_count": 107,
   "metadata": {},
   "outputs": [
    {
     "data": {
      "text/plain": [
       "8"
      ]
     },
     "execution_count": 107,
     "metadata": {},
     "output_type": "execute_result"
    }
   ],
   "source": [
    "a.size()"
   ]
  },
  {
   "cell_type": "code",
   "execution_count": 108,
   "metadata": {},
   "outputs": [
    {
     "data": {
      "text/plain": [
       "False"
      ]
     },
     "execution_count": 108,
     "metadata": {},
     "output_type": "execute_result"
    }
   ],
   "source": [
    "a.isEmpty()"
   ]
  },
  {
   "cell_type": "code",
   "execution_count": 109,
   "metadata": {},
   "outputs": [],
   "source": [
    "b = a.copy()"
   ]
  },
  {
   "cell_type": "code",
   "execution_count": 110,
   "metadata": {},
   "outputs": [
    {
     "data": {
      "text/plain": [
       "LinkedList : [3, 7, 15, 7, 10, 2, -1, -3]"
      ]
     },
     "execution_count": 110,
     "metadata": {},
     "output_type": "execute_result"
    }
   ],
   "source": [
    "b"
   ]
  },
  {
   "cell_type": "code",
   "execution_count": 111,
   "metadata": {},
   "outputs": [],
   "source": [
    "a.reverse()"
   ]
  },
  {
   "cell_type": "code",
   "execution_count": 112,
   "metadata": {},
   "outputs": [
    {
     "data": {
      "text/plain": [
       "LinkedList : [-3, -1, 2, 10, 7, 15, 7, 3]"
      ]
     },
     "execution_count": 112,
     "metadata": {},
     "output_type": "execute_result"
    }
   ],
   "source": [
    "a"
   ]
  },
  {
   "cell_type": "code",
   "execution_count": 113,
   "metadata": {},
   "outputs": [],
   "source": [
    "a.extend(b)"
   ]
  },
  {
   "cell_type": "code",
   "execution_count": 114,
   "metadata": {},
   "outputs": [
    {
     "data": {
      "text/plain": [
       "LinkedList : [-3, -1, 2, 10, 7, 15, 7, 3, 3, 7, 15, 7, 10, 2, -1, -3]"
      ]
     },
     "execution_count": 114,
     "metadata": {},
     "output_type": "execute_result"
    }
   ],
   "source": [
    "a"
   ]
  },
  {
   "cell_type": "code",
   "execution_count": 115,
   "metadata": {},
   "outputs": [],
   "source": [
    "b.clear()"
   ]
  },
  {
   "cell_type": "code",
   "execution_count": 116,
   "metadata": {},
   "outputs": [
    {
     "data": {
      "text/plain": [
       "LinkedList : []"
      ]
     },
     "execution_count": 116,
     "metadata": {},
     "output_type": "execute_result"
    }
   ],
   "source": [
    "b"
   ]
  },
  {
   "cell_type": "markdown",
   "metadata": {},
   "source": [
    "### 원형 연결 리스트"
   ]
  },
  {
   "cell_type": "markdown",
   "metadata": {},
   "source": [
    "기존의 연결 리스트 구조에서는 첫 노드와 마지막 노드에 대한 접근성이 극적으로 차이가 난다. 첫 노드에는 단번에 접근할 수 있는 반면 마지막 노드에는 링크를 끝까지 따라가야 접근할 수 있다.  \n",
    "이 차이는 마지막 노드가 첫 번째 노드를 링크하도록 바꾸면 해소되는데, 이런 구조의 연결 리스트를 원형 연결 리스트라 한다."
   ]
  },
  {
   "cell_type": "markdown",
   "metadata": {},
   "source": [
    "원형 연결 리스트의 구현은 레퍼런스 `__head` 가 더미 헤드 노드를 가리키도록 하는 대신 마지막 노드에 대한 레퍼런스 `__tail`을 두고 마지막 노드가 맨 앞의 더미 헤드 노드를 링크하게끔 하면 된다."
   ]
  },
  {
   "cell_type": "markdown",
   "metadata": {},
   "source": [
    "가장 많이 바뀌는 메서드는 맨 뒤에 원소를 삽입하는 `append()`이다. `append()`가 아주 가벼운 작업으로 바뀜에 따라 `extend()`, `copy()`, `reverse()` 메서드도 덩달아서 훨씬 부담이 줄어든다."
   ]
  },
  {
   "cell_type": "markdown",
   "metadata": {},
   "source": [
    "아래의 코드에서는 위에서 언급한 개선 사항 외에도 순회자(iterator)를 도입하여 연결 리스트의 객체를 iterable로 취급할 수 있게 해주었다. 이에 따라 `index()`, `count()`, `copy()`, `extend()`, `reverse()`등의 메서드를 구현하는 코드가 훨씬 간결하게 바뀌었다."
   ]
  },
  {
   "cell_type": "code",
   "execution_count": 175,
   "metadata": {},
   "outputs": [],
   "source": [
    "class CircularLinkedList :\n",
    "    def __init__(self) :\n",
    "        self.__tail = ListNode(\"Dummy\", None)\n",
    "        self.__tail.next = self.__tail\n",
    "        self.__numItems = 0\n",
    "\n",
    "    # i번 인덱스에 해당하는 노드를 리턴하는 method\n",
    "    def getNode(self, i : int) -> ListNode :\n",
    "        current = self.__tail.next   # 더미 헤드노드\n",
    "        for j in range(i+1) :\n",
    "            current = current.next\n",
    "        # 만약 i = -1일 경우 위의 for loop이 돌지 않고, 그에 따라 더미 헤드노드를 리턴하게 된다.\n",
    "        return current\n",
    "        \n",
    "    def insert(self, i: int, x) :\n",
    "        if i > -1 and i <= self.__numItems :\n",
    "            prevNode = self.getNode(i-1) # i = 0 인 경우 더미 헤드노드가 prevNode가 된다.\n",
    "            newNode = ListNode(x, prevNode.next)\n",
    "            prevNode.next = newNode\n",
    "            if i == self.__numItems :\n",
    "                self.__tail = newNode\n",
    "            self.__numItems += 1\n",
    "        else :\n",
    "            print(\"index %d is out of bound in insert()\"%i)\n",
    "\n",
    "    def append(self, x) :\n",
    "        prevNode = self.__tail\n",
    "        newNode = ListNode(x, prevNode.next)\n",
    "        prevNode.next = newNode\n",
    "        self.__tail = newNode\n",
    "        self.__numItems += 1\n",
    "\n",
    "    def pop(self, i : int = None) :\n",
    "        if i is None :\n",
    "            i = self.__numItems - 1\n",
    "        else :\n",
    "            pass\n",
    "\n",
    "        if i > -1 and i < self.__numItems :\n",
    "            prevNode = self.getNode(i-1)  # i = 0 인 경우 더미 헤드노드가 prevNode가 된다.\n",
    "            currNode = prevNode.next\n",
    "            x = currNode.item\n",
    "            prevNode.next = currNode.next\n",
    "            if i == self.__numItems -1 :\n",
    "                self.__tail = prevNode\n",
    "            self.__numItems -= 1\n",
    "            return x\n",
    "        else : \n",
    "            print(\"index %d is out of bound in insert()\"%i)\n",
    "            return None\n",
    "\n",
    "    def remove(self, x) :\n",
    "        prevNode = self.__tail.next\n",
    "        for i in range(self.__numItems) :\n",
    "            currNode = prevNode.next\n",
    "            if currNode.item == x :\n",
    "                prevNode.next = currNode.next \n",
    "                self.__numItems -= 1\n",
    "                return None\n",
    "            else :\n",
    "                prevNode = currNode\n",
    "        print(\"Such item does not exist in this list\")\n",
    "        return None\n",
    " \n",
    "    def index(self, x) :\n",
    "        i = -1\n",
    "        for element in self :\n",
    "            i += 1\n",
    "            if element == x :\n",
    "                return i\n",
    "            else :\n",
    "                pass\n",
    "        print(\"Such item does not exist in this list\")\n",
    "        return None\n",
    "\n",
    "\n",
    "    def isEmpty(self) -> bool :\n",
    "        return self.__numItems == 0 \n",
    "    \n",
    "    def size(self) -> int :\n",
    "        return self.__numItems \n",
    "\n",
    "    def clear(self) -> int :\n",
    "        self.__tail = ListNode(\"Dummy\", None)\n",
    "        self.__tail.next = self.__tail\n",
    "        self.__numItems = 0\n",
    "\n",
    "    # i번째 노드의 item을 리턴\n",
    "    def get(self, i : int) :\n",
    "        if self.isEmpty() :\n",
    "            print(\"This list is empty\")\n",
    "            return None\n",
    "        elif i > -1 and i < self.__numItems :\n",
    "            currNode = self.getNode(i)\n",
    "            return currNode.item\n",
    "        else :\n",
    "            print(\"index %d is out of bound in insert()\"%i)\n",
    "            return None\n",
    "\n",
    "    def count(self, x) -> int :\n",
    "        cnt = 0\n",
    "        for element in self :\n",
    "            if element == x :\n",
    "                cnt += 1\n",
    "        return cnt \n",
    "\n",
    "    def copy(self) :\n",
    "        a = CircularLinkedList()\n",
    "        for element in self :\n",
    "            a.append(element)\n",
    "        return a\n",
    "    \n",
    "    def extend(self, iterable) :\n",
    "        for element in iterable :\n",
    "            self.append(element) \n",
    "    \n",
    "    def reverse(self) :\n",
    "        a = CircularLinkedList()\n",
    "        for i in range(self.__numItems) :\n",
    "            a.append(self.pop())\n",
    "        for element in a :\n",
    "            self.append(element)        \n",
    "\n",
    "    def __repr__(self) :\n",
    "        if self.isEmpty() :\n",
    "            return \"LinkedList : []\"\n",
    "        else :           \n",
    "            string = \"LinkedList : [\"\n",
    "            prevNode = self.__tail.next\n",
    "            currNode = prevNode.next \n",
    "            for i in range(self.__numItems -1) :\n",
    "                string += str(currNode.item) + \", \"\n",
    "                currNode = currNode.next\n",
    "            string += str(currNode.item) + \"]\"\n",
    "            return string\n",
    "\n",
    "    def __iter__(self) : # generating iterator and return it\n",
    "        return CircularLinkedListIterator(self)\n",
    "    \n",
    "class CircularLinkedListIterator :\n",
    "    def __init__(self, alist) :\n",
    "        # alist로 들어오는 인자가 위의 `__iter__` 메서드의 인자 self에 해당됨.\n",
    "        self.start = alist.getNode(-1)  # 더미 헤드 가리킴\n",
    "        self.iterPosition = self.start.next  # 0번 노드 가리킴\n",
    "    def __next__(self) :\n",
    "        if self.iterPosition == self.start :  # 다음 노드로 하나씩 넘어가는데 더미 헤드를 만난 다는 것은 현재 노드가 tail 노드라는 것을 의미. 순환 끝\n",
    "            raise StopIteration\n",
    "        else :  # 현재 노드의 아이템을 리턴하면서 다음 노드로 이동\n",
    "            x = self.iterPosition.item\n",
    "            self.iterPosition = self.iterPosition.next\n",
    "            return x\n",
    "\n"
   ]
  },
  {
   "cell_type": "code",
   "execution_count": 176,
   "metadata": {},
   "outputs": [],
   "source": [
    "a = CircularLinkedList()"
   ]
  },
  {
   "cell_type": "code",
   "execution_count": 177,
   "metadata": {},
   "outputs": [],
   "source": [
    "a.append(2)\n",
    "a.append(-1)\n",
    "a.append(0)\n",
    "a.append(7)\n",
    "a.append(15)\n",
    "a.append(-3)\n",
    "a.append(3)\n",
    "a.append(2)\n",
    "a.append(10)\n",
    "a.append(13)\n",
    "a.append(-2)"
   ]
  },
  {
   "cell_type": "code",
   "execution_count": 178,
   "metadata": {},
   "outputs": [
    {
     "data": {
      "text/plain": [
       "LinkedList : [2, -1, 0, 7, 15, -3, 3, 2, 10, 13, -2]"
      ]
     },
     "execution_count": 178,
     "metadata": {},
     "output_type": "execute_result"
    }
   ],
   "source": [
    "a"
   ]
  },
  {
   "cell_type": "code",
   "execution_count": 179,
   "metadata": {},
   "outputs": [
    {
     "name": "stdout",
     "output_type": "stream",
     "text": [
      "-2\n"
     ]
    }
   ],
   "source": [
    "b = a.pop()\n",
    "print(b)"
   ]
  },
  {
   "cell_type": "code",
   "execution_count": 180,
   "metadata": {},
   "outputs": [
    {
     "data": {
      "text/plain": [
       "LinkedList : [2, -1, 0, 7, 15, -3, 3, 2, 10, 13]"
      ]
     },
     "execution_count": 180,
     "metadata": {},
     "output_type": "execute_result"
    }
   ],
   "source": [
    "a"
   ]
  },
  {
   "cell_type": "code",
   "execution_count": 181,
   "metadata": {},
   "outputs": [],
   "source": [
    "a.remove(3)"
   ]
  },
  {
   "cell_type": "code",
   "execution_count": 182,
   "metadata": {},
   "outputs": [
    {
     "data": {
      "text/plain": [
       "LinkedList : [2, -1, 0, 7, 15, -3, 2, 10, 13]"
      ]
     },
     "execution_count": 182,
     "metadata": {},
     "output_type": "execute_result"
    }
   ],
   "source": [
    "a"
   ]
  },
  {
   "cell_type": "code",
   "execution_count": 183,
   "metadata": {},
   "outputs": [
    {
     "name": "stdout",
     "output_type": "stream",
     "text": [
      "Such item does not exist in this list\n"
     ]
    }
   ],
   "source": [
    "a.remove(5)"
   ]
  },
  {
   "cell_type": "code",
   "execution_count": 184,
   "metadata": {},
   "outputs": [],
   "source": [
    "a.insert(3, 10)"
   ]
  },
  {
   "cell_type": "code",
   "execution_count": 185,
   "metadata": {},
   "outputs": [
    {
     "data": {
      "text/plain": [
       "LinkedList : [2, -1, 0, 10, 7, 15, -3, 2, 10, 13]"
      ]
     },
     "execution_count": 185,
     "metadata": {},
     "output_type": "execute_result"
    }
   ],
   "source": [
    "a"
   ]
  },
  {
   "cell_type": "code",
   "execution_count": 186,
   "metadata": {},
   "outputs": [
    {
     "name": "stdout",
     "output_type": "stream",
     "text": [
      "index 20 is out of bound in insert()\n"
     ]
    }
   ],
   "source": [
    "a.insert(20, 100)"
   ]
  },
  {
   "cell_type": "code",
   "execution_count": 187,
   "metadata": {},
   "outputs": [
    {
     "data": {
      "text/plain": [
       "4"
      ]
     },
     "execution_count": 187,
     "metadata": {},
     "output_type": "execute_result"
    }
   ],
   "source": [
    "a.index(7)"
   ]
  },
  {
   "cell_type": "code",
   "execution_count": 188,
   "metadata": {},
   "outputs": [
    {
     "data": {
      "text/plain": [
       "2"
      ]
     },
     "execution_count": 188,
     "metadata": {},
     "output_type": "execute_result"
    }
   ],
   "source": [
    "a.count(2)"
   ]
  },
  {
   "cell_type": "code",
   "execution_count": 189,
   "metadata": {},
   "outputs": [
    {
     "data": {
      "text/plain": [
       "-3"
      ]
     },
     "execution_count": 189,
     "metadata": {},
     "output_type": "execute_result"
    }
   ],
   "source": [
    "a.get(6)"
   ]
  },
  {
   "cell_type": "code",
   "execution_count": 190,
   "metadata": {},
   "outputs": [
    {
     "data": {
      "text/plain": [
       "10"
      ]
     },
     "execution_count": 190,
     "metadata": {},
     "output_type": "execute_result"
    }
   ],
   "source": [
    "a.size()"
   ]
  },
  {
   "cell_type": "code",
   "execution_count": 191,
   "metadata": {},
   "outputs": [
    {
     "data": {
      "text/plain": [
       "False"
      ]
     },
     "execution_count": 191,
     "metadata": {},
     "output_type": "execute_result"
    }
   ],
   "source": [
    "a.isEmpty()"
   ]
  },
  {
   "cell_type": "code",
   "execution_count": 192,
   "metadata": {},
   "outputs": [],
   "source": [
    "b = a.copy()"
   ]
  },
  {
   "cell_type": "code",
   "execution_count": 193,
   "metadata": {},
   "outputs": [
    {
     "data": {
      "text/plain": [
       "LinkedList : [2, -1, 0, 10, 7, 15, -3, 2, 10, 13]"
      ]
     },
     "execution_count": 193,
     "metadata": {},
     "output_type": "execute_result"
    }
   ],
   "source": [
    "b"
   ]
  },
  {
   "cell_type": "code",
   "execution_count": 194,
   "metadata": {},
   "outputs": [],
   "source": [
    "a.reverse()"
   ]
  },
  {
   "cell_type": "code",
   "execution_count": 195,
   "metadata": {},
   "outputs": [
    {
     "data": {
      "text/plain": [
       "LinkedList : [13, 10, 2, -3, 15, 7, 10, 0, -1, 2]"
      ]
     },
     "execution_count": 195,
     "metadata": {},
     "output_type": "execute_result"
    }
   ],
   "source": [
    "a"
   ]
  },
  {
   "cell_type": "code",
   "execution_count": 196,
   "metadata": {},
   "outputs": [],
   "source": [
    "a.extend(b)"
   ]
  },
  {
   "cell_type": "code",
   "execution_count": 197,
   "metadata": {},
   "outputs": [
    {
     "data": {
      "text/plain": [
       "LinkedList : [13, 10, 2, -3, 15, 7, 10, 0, -1, 2, 2, -1, 0, 10, 7, 15, -3, 2, 10, 13]"
      ]
     },
     "execution_count": 197,
     "metadata": {},
     "output_type": "execute_result"
    }
   ],
   "source": [
    "a"
   ]
  },
  {
   "cell_type": "code",
   "execution_count": 198,
   "metadata": {},
   "outputs": [],
   "source": [
    "b.clear()"
   ]
  },
  {
   "cell_type": "code",
   "execution_count": 199,
   "metadata": {},
   "outputs": [
    {
     "data": {
      "text/plain": [
       "LinkedList : []"
      ]
     },
     "execution_count": 199,
     "metadata": {},
     "output_type": "execute_result"
    }
   ],
   "source": [
    "b"
   ]
  },
  {
   "cell_type": "code",
   "execution_count": 200,
   "metadata": {},
   "outputs": [
    {
     "data": {
      "text/plain": [
       "LinkedList : [13, 10, 2, -3, 15, 7, 10, 0, -1, 2, 2, -1, 0, 10, 7, 15, -3, 2, 10, 13]"
      ]
     },
     "execution_count": 200,
     "metadata": {},
     "output_type": "execute_result"
    }
   ],
   "source": [
    "a"
   ]
  }
 ],
 "metadata": {
  "interpreter": {
   "hash": "d88d8acdbfaa835a5f857244e00e0be2fef710e8821cc5222c903f5a03bf61bd"
  },
  "kernelspec": {
   "display_name": "Python 3.8.8 ('base')",
   "language": "python",
   "name": "python3"
  },
  "language_info": {
   "codemirror_mode": {
    "name": "ipython",
    "version": 3
   },
   "file_extension": ".py",
   "mimetype": "text/x-python",
   "name": "python",
   "nbconvert_exporter": "python",
   "pygments_lexer": "ipython3",
   "version": "3.8.8"
  },
  "orig_nbformat": 4
 },
 "nbformat": 4,
 "nbformat_minor": 2
}
