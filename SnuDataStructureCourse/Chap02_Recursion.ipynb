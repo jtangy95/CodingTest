{
 "cells": [
  {
   "cell_type": "markdown",
   "metadata": {},
   "source": [
    "# 재귀 Recursion"
   ]
  },
  {
   "cell_type": "markdown",
   "metadata": {},
   "source": [
    "재귀 알고리즘은 곧 자기호출 알고리즘\n",
    "\n",
    "잘 쓰면 보약이지만 잘못 쓰면 독약"
   ]
  },
  {
   "cell_type": "markdown",
   "metadata": {},
   "source": [
    "### 피보나치 수열"
   ]
  },
  {
   "cell_type": "markdown",
   "metadata": {},
   "source": [
    "피보나치 수는 0과 1로 시작한다. 0번째 피보나치 수는 0이고, 1번째 피보나치 수는 1이다. 그 다음 2번째 부터는 바로 앞 두 피보나치 수의 합이 된다.\n",
    "\n",
    "이를 식으로 써보면 $F_n = F_{n-1} + F_{n-2}\\; (n ≥ 2)$가 된다.\n",
    "\n",
    "$n=17$일 때까지 피보나치 수를 써보면 다음과 같다.\n",
    "\n",
    "0, 1, 1, 2, 3, 5, 8, 13, 21, 34, 55, 89, 144, 233, 377, 610, 987, 1597\n",
    "\n",
    "n이 주어졌을 때, n번째 피보나치 수를 구하는 프로그램을 작성하시오."
   ]
  },
  {
   "cell_type": "code",
   "execution_count": 8,
   "metadata": {},
   "outputs": [
    {
     "name": "stdout",
     "output_type": "stream",
     "text": [
      "102334155\n"
     ]
    }
   ],
   "source": [
    "def fibo(n : int) :\n",
    "    if n == 0 :\n",
    "        return 0\n",
    "    elif n == 1 :\n",
    "        return 1\n",
    "    else :\n",
    "        return fibo(n-1) + fibo(n-2)\n",
    "\n",
    "n = int(input())\n",
    "print(fibo(n))"
   ]
  },
  {
   "cell_type": "code",
   "execution_count": 9,
   "metadata": {},
   "outputs": [
    {
     "name": "stdout",
     "output_type": "stream",
     "text": [
      "102334155\n"
     ]
    }
   ],
   "source": [
    "def fib(n : int) :\n",
    "    if n == 0 :\n",
    "        return 0\n",
    "    elif n ==  1 :\n",
    "        return 1\n",
    "    else :\n",
    "        seq = [0 for i in range(n+1)]\n",
    "        seq[0] = 0\n",
    "        seq[1] = 1\n",
    "        for j in range(2, n+1) :\n",
    "            seq[j] = seq[j-2] + seq[j-1]\n",
    "        return seq[n]\n",
    "\n",
    "n = int(input())\n",
    "print(fib(n))"
   ]
  },
  {
   "cell_type": "markdown",
   "metadata": {},
   "source": [
    "지수함수적 중복 호출로 인해 재귀적 표현으로 구현한 피보나치 수열은 매우 비효율적이다.  \n",
    "비재귀적 표현으로 구현한 버전의 피보나치 수열에서는 40번째 피보나치 수를 순식간에 계산했지만, 재귀적 표현에서는 40초 정도가 걸렸다."
   ]
  },
  {
   "cell_type": "markdown",
   "metadata": {},
   "source": [
    "### 팩토리얼"
   ]
  },
  {
   "cell_type": "code",
   "execution_count": 10,
   "metadata": {},
   "outputs": [],
   "source": [
    "def factorial(n : int) :\n",
    "    if n == 0 :\n",
    "        return 1\n",
    "    else :\n",
    "        return n * factorial(n-1)"
   ]
  },
  {
   "cell_type": "code",
   "execution_count": 11,
   "metadata": {},
   "outputs": [
    {
     "data": {
      "text/plain": [
       "3628800"
      ]
     },
     "execution_count": 11,
     "metadata": {},
     "output_type": "execute_result"
    }
   ],
   "source": [
    "factorial(10)"
   ]
  },
  {
   "cell_type": "code",
   "execution_count": 12,
   "metadata": {},
   "outputs": [
    {
     "data": {
      "text/plain": [
       "3628800"
      ]
     },
     "execution_count": 12,
     "metadata": {},
     "output_type": "execute_result"
    }
   ],
   "source": [
    "import math\n",
    "math.factorial(10)"
   ]
  },
  {
   "cell_type": "markdown",
   "metadata": {},
   "source": [
    "재귀 알고리즘은 반드시 종료 조건(base condition)이 필요하다. 종료 조건은 재귀 호출이 반복되다가 궁극적으로 끝나는 조건을 가리킨다.  \n",
    "팩토리얼의 경우 `n==0`이 종료 조건에 해당한다."
   ]
  },
  {
   "cell_type": "markdown",
   "metadata": {},
   "source": [
    "### 하노이 타워"
   ]
  },
  {
   "cell_type": "markdown",
   "metadata": {},
   "source": [
    "세 개의 장대(A, B, C)가 있고 첫 번째 장대에는 반경이 서로 다른 n개의 원판이 쌓여 있다. 각 원판은 반경이 큰 순서대로 쌓여있다. 이제 수도승들이 다음 규칙에 따라 첫 번째 장대 A에서 세 번째 장대 C로 옮기려 한다.\n",
    "\n",
    "- 한 번에 한 개의 원판만을 다른 탑으로 옮길 수 있다.\n",
    "- 쌓아 놓은 원판은 항상 위의 것이 아래의 것보다 작아야 한다.\n",
    "\n",
    "이 작업을 수행하는데 필요한 이동 순서를 출력하는 프로그램을 작성하라. 단, 이동 횟수는 최소가 되어야 한다."
   ]
  },
  {
   "cell_type": "markdown",
   "metadata": {},
   "source": [
    "A에서 C로 탑을 옮기는 문제의 구조는 다음과 같다.\n",
    "1. A의 가장 밑의 원판을 남겨놓은 상태로 나머지 탑을 B로 옮긴다.\n",
    "2. A에 한 개 남겨져 있는 원판을 C로 옮긴다.\n",
    "3. B에 있던 탑을 C로 옮긴다.\n",
    "\n",
    "여기서 A , B , C 의 역할은 각각 다음과 같다.\n",
    "- A : source (출발지)\n",
    "- B : spare \n",
    "- C : destination (도착지)\n",
    "\n",
    "그런데 자세히 보면 A에서 C로 탑을 옮기는 문제의 단계 1과 3은 각각\n",
    "A에서 B로 탑을 옮기는 문제, B에서 C로 탑을 옮기는 문제이며, 옮기는 탑의 사이즈가 하나씩 줄었을 뿐이다.  \n",
    "\n",
    "따라서 문제의 구조가 재귀적이라고 볼 수 있다.\n"
   ]
  },
  {
   "cell_type": "code",
   "execution_count": 15,
   "metadata": {},
   "outputs": [
    {
     "name": "stdout",
     "output_type": "stream",
     "text": [
      "['A', 'C']\n",
      "['A', 'B']\n",
      "['C', 'B']\n",
      "['A', 'C']\n",
      "['B', 'A']\n",
      "['B', 'C']\n",
      "['A', 'C']\n"
     ]
    }
   ],
   "source": [
    "def move(source, destination, spare, n : int, records : list) :\n",
    "    if n > 0 :\n",
    "        move(source, spare, destination, n-1, records)\n",
    "        records.append([source, destination])\n",
    "        move(spare, destination, source, n-1, records)\n",
    "    else : \n",
    "        pass\n",
    "\n",
    "n = int(input())\n",
    "records = []\n",
    "move(\"A\", \"C\", \"B\", n, records)\n",
    "for record in records :\n",
    "    print(record)"
   ]
  },
  {
   "cell_type": "markdown",
   "metadata": {},
   "source": [
    "여기서 재귀 알고리즘의 필수 요소 세 가지를 알아보도록 하자.\n",
    "- 종료 조건(Base condition) : 재귀 호출이 반복되다가 궁극적으로 끝나는 조건\n",
    "- 재귀 호출\n",
    "- 닮은 꼴의 작은 문제 (혹은 문제들)과 본 문제 간의 관계를 나타내는 부분"
   ]
  },
  {
   "cell_type": "markdown",
   "metadata": {},
   "source": [
    "하노이 타워의 예에서 위의 요소를 살펴보면 다음과 같다.\n",
    "- 종료 조건 : `n==0`\n",
    "- 재귀 호출 : `move(source, spare, destination, n-1, records)` & `move(spare, destination, source, n-1, records)`\n",
    "- 닮은 꼴의 작은 문제들과 본 문제 간의 관계 : `records.append([source, destination])`"
   ]
  },
  {
   "cell_type": "markdown",
   "metadata": {},
   "source": [
    "### 이진 탐색"
   ]
  },
  {
   "cell_type": "markdown",
   "metadata": {},
   "source": [
    "정수 원소를 가지는 정렬된 배열 A가 주어졌을 때 원소 x를 찾는 함수를 만들어보자."
   ]
  },
  {
   "cell_type": "code",
   "execution_count": 39,
   "metadata": {},
   "outputs": [],
   "source": [
    "def binarySearch(A : list, x, start, end) :\n",
    "    if start > end :\n",
    "        print(\"%s is Not found\"%x)\n",
    "        return -1 # not found\n",
    "    else :\n",
    "        mid = (start + end) // 2\n",
    "        if A[mid] > x :\n",
    "            return binarySearch(A, x, start, mid-1)\n",
    "        elif A[mid] < x :\n",
    "            return binarySearch(A, x, mid+1, end)\n",
    "        else : # A[mid] == x\n",
    "            return mid\n",
    "        \n"
   ]
  },
  {
   "cell_type": "code",
   "execution_count": 40,
   "metadata": {},
   "outputs": [],
   "source": [
    "import random\n",
    "random.seed(1)\n",
    "n  = 20\n",
    "a = [random.randrange(0, 100) for i in range(n)]\n",
    "a.sort()"
   ]
  },
  {
   "cell_type": "code",
   "execution_count": 41,
   "metadata": {},
   "outputs": [
    {
     "data": {
      "text/plain": [
       "[3, 8, 12, 15, 17, 26, 32, 48, 49, 55, 57, 60, 62, 63, 72, 77, 83, 97, 97, 97]"
      ]
     },
     "execution_count": 41,
     "metadata": {},
     "output_type": "execute_result"
    }
   ],
   "source": [
    "a"
   ]
  },
  {
   "cell_type": "code",
   "execution_count": 44,
   "metadata": {},
   "outputs": [
    {
     "data": {
      "text/plain": [
       "2"
      ]
     },
     "execution_count": 44,
     "metadata": {},
     "output_type": "execute_result"
    }
   ],
   "source": [
    "binarySearch(a, 12, 0, n-1)"
   ]
  },
  {
   "cell_type": "code",
   "execution_count": 42,
   "metadata": {},
   "outputs": [
    {
     "data": {
      "text/plain": [
       "15"
      ]
     },
     "execution_count": 42,
     "metadata": {},
     "output_type": "execute_result"
    }
   ],
   "source": [
    "binarySearch(a, 77, 0, n-1)"
   ]
  },
  {
   "cell_type": "code",
   "execution_count": 43,
   "metadata": {},
   "outputs": [
    {
     "name": "stdout",
     "output_type": "stream",
     "text": [
      "13 is Not found\n"
     ]
    },
    {
     "data": {
      "text/plain": [
       "-1"
      ]
     },
     "execution_count": 43,
     "metadata": {},
     "output_type": "execute_result"
    }
   ],
   "source": [
    "binarySearch(a, 13, 0, n-1)"
   ]
  },
  {
   "cell_type": "code",
   "execution_count": null,
   "metadata": {},
   "outputs": [],
   "source": []
  }
 ],
 "metadata": {
  "interpreter": {
   "hash": "d88d8acdbfaa835a5f857244e00e0be2fef710e8821cc5222c903f5a03bf61bd"
  },
  "kernelspec": {
   "display_name": "Python 3.8.8 ('base')",
   "language": "python",
   "name": "python3"
  },
  "language_info": {
   "codemirror_mode": {
    "name": "ipython",
    "version": 3
   },
   "file_extension": ".py",
   "mimetype": "text/x-python",
   "name": "python",
   "nbconvert_exporter": "python",
   "pygments_lexer": "ipython3",
   "version": "3.8.8"
  },
  "orig_nbformat": 4
 },
 "nbformat": 4,
 "nbformat_minor": 2
}
