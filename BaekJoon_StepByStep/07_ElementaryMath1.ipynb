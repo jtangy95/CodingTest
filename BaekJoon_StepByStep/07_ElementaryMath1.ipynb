{
 "cells": [
  {
   "cell_type": "markdown",
   "metadata": {},
   "source": [
    "# 기본 수학 1"
   ]
  },
  {
   "cell_type": "markdown",
   "metadata": {},
   "source": [
    "## 1712번 : 손익분기점"
   ]
  },
  {
   "cell_type": "markdown",
   "metadata": {},
   "source": [
    "문제"
   ]
  },
  {
   "cell_type": "markdown",
   "metadata": {},
   "source": [
    "월드전자는 노트북을 제조하고 판매하는 회사이다. 노트북 판매 대수에 상관없이 매년 임대료, 재산세, 보험료, 급여 등 A만원의 고정 비용이 들며, 한 대의 노트북을 생산하는 데에는 재료비와 인건비 등 총 B만원의 가변 비용이 든다고 한다.\n",
    "\n",
    "예를 들어 A=1,000, B=70이라고 하자. 이 경우 노트북을 한 대 생산하는 데는 총 1,070만원이 들며, 열 대 생산하는 데는 총 1,700만원이 든다.\n",
    "\n",
    "노트북 가격이 C만원으로 책정되었다고 한다. 일반적으로 생산 대수를 늘려 가다 보면 어느 순간 총 수입(판매비용)이 총 비용(=고정비용+가변비용)보다 많아지게 된다. 최초로 총 수입이 총 비용보다 많아져 이익이 발생하는 지점을 손익분기점(BREAK-EVEN POINT)이라고 한다.\n",
    "\n",
    "A, B, C가 주어졌을 때, 손익분기점을 구하는 프로그램을 작성하시오."
   ]
  },
  {
   "cell_type": "markdown",
   "metadata": {},
   "source": [
    "$$c x > a + b x  \\Leftrightarrow (c-b) x > a $$\n",
    "\n",
    "If $c >b$ then the break-even point $x$ exists.  \n",
    "Else, if $c\\leq b$ then the break-even point $x$ does not exist."
   ]
  },
  {
   "cell_type": "markdown",
   "metadata": {},
   "source": [
    "For example :\n",
    "Case1 : $\\frac{a}{c-b}$ is integer.  \n",
    "$a = 10000 \\,,\\, c-b = 1000 \\Rightarrow x > 10$ so that $x =11$ break-even point\n",
    "\n",
    "Case1 : $\\frac{a}{c-b}$ is not an integer.  \n",
    "$a = 9500 \\,,\\, c-b = 1000 \\Rightarrow x > 9.5$ so that $x = 10$ break-even point"
   ]
  },
  {
   "cell_type": "markdown",
   "metadata": {},
   "source": [
    "답안 제출"
   ]
  },
  {
   "cell_type": "code",
   "execution_count": 7,
   "metadata": {},
   "outputs": [
    {
     "name": "stdout",
     "output_type": "stream",
     "text": [
      "2100000001\n"
     ]
    }
   ],
   "source": [
    "a, b, c = list(map(int, input().split()))\n",
    "if c > b :\n",
    "    x = a // (c-b)\n",
    "    print(x+1)\n",
    "else :\n",
    "    print(-1)"
   ]
  },
  {
   "cell_type": "markdown",
   "metadata": {},
   "source": [
    "오답 (시간 초과)"
   ]
  },
  {
   "cell_type": "code",
   "execution_count": null,
   "metadata": {},
   "outputs": [],
   "source": [
    "a, b, c = list(map(int, input().split()))\n",
    "if c > b :\n",
    "    x = 0 \n",
    "    while not c * x > a + b * x :\n",
    "        x += 1\n",
    "    print(x)\n",
    "else :\n",
    "    print(-1)\n"
   ]
  },
  {
   "cell_type": "markdown",
   "metadata": {},
   "source": [
    "## 2292번 : 벌집"
   ]
  },
  {
   "cell_type": "markdown",
   "metadata": {},
   "source": [
    "문제"
   ]
  },
  {
   "cell_type": "markdown",
   "metadata": {},
   "source": [
    "위의 그림과 같이 육각형으로 이루어진 벌집이 있다. 그림에서 보는 바와 같이 중앙의 방 1부터 시작해서 이웃하는 방에 돌아가면서 1씩 증가하는 번호를 주소로 매길 수 있다. 숫자 N이 주어졌을 때, 벌집의 중앙 1에서 N번 방까지 최소 개수의 방을 지나서 갈 때 몇 개의 방을 지나가는지(시작과 끝을 포함하여)를 계산하는 프로그램을 작성하시오. 예를 들면, 13까지는 3개, 58까지는 5개를 지난다."
   ]
  },
  {
   "cell_type": "markdown",
   "metadata": {},
   "source": [
    "$$\n",
    "\\begin{align*}\n",
    "    &1 \\Rightarrow 1 \\\\\n",
    "    &2,3,4,5,6,7 \\Rightarrow 2 \\\\\n",
    "    &8,9,10, \\cdots, 18, 19 \\Rightarrow 3\\\\ \n",
    "    &20, 21, \\cdots , 36, 37 \\Rightarrow 4 \\\\\n",
    "    &38, 39, \\cdots , 60, 61 \\Rightarrow 5\n",
    "\\end{align*}\n",
    "$$\n",
    "\n",
    "지나야 하는 방의 개수가 $n$이라고 할 때 지녀야 하는 방의 개수가 $n$이 되는 최대의 숫자 $a_n$을 다음과 같은 점화식으로 표현할 수 있다.\n",
    "$$ \n",
    "\\begin{align*}\n",
    "    a_1 &= 1\\\\\n",
    "    a_{n+1} - a_n &= 6n\n",
    "\\end{align*}\n",
    "$$\n",
    "따라서 일반항을 구하면\n",
    "$$a_n = 1 + 6\\cdot \\frac{n(n-1)}{2} = 1+3n(n-1)$$"
   ]
  },
  {
   "cell_type": "markdown",
   "metadata": {},
   "source": [
    "답안 제출"
   ]
  },
  {
   "cell_type": "code",
   "execution_count": 15,
   "metadata": {},
   "outputs": [
    {
     "name": "stdout",
     "output_type": "stream",
     "text": [
      "5\n"
     ]
    }
   ],
   "source": [
    "a = int(input())\n",
    "if a == 1 :\n",
    "    print(1)\n",
    "else :\n",
    "    n = 2\n",
    "    while True :\n",
    "        if a <= 1 + 3 * n * (n-1) :\n",
    "            print(n)\n",
    "            break\n",
    "        else :\n",
    "            n += 1\n",
    "\n"
   ]
  },
  {
   "cell_type": "markdown",
   "metadata": {},
   "source": [
    "## 1193번 : 분수찾기"
   ]
  },
  {
   "cell_type": "markdown",
   "metadata": {},
   "source": [
    "문제"
   ]
  },
  {
   "cell_type": "markdown",
   "metadata": {},
   "source": [
    "무한히 큰 배열에 다음과 같이 분수들이 적혀있다.\n",
    "\n",
    "이와 같이 나열된 분수들을 1/1 → 1/2 → 2/1 → 3/1 → 2/2 → … 과 같은 지그재그 순서로 차례대로 1번, 2번, 3번, 4번, 5번, … 분수라고 하자.\n",
    "\n",
    "X가 주어졌을 때, X번째 분수를 구하는 프로그램을 작성하시오."
   ]
  },
  {
   "cell_type": "markdown",
   "metadata": {},
   "source": [
    "주어진 숫자가 해당하는 칸이  \n",
    "대각선 라인 기준으로 몇 번째 줄인 지 파악하고 그 라인 안에서 몇 번째 칸 인지를 파악해야 한다.  \n",
    "그런 뒤 홀수 번째 라인인 지 짝수 번째 라인 인지에 따라 다른 규칙을 적용하여 분수를 찾는다."
   ]
  },
  {
   "cell_type": "markdown",
   "metadata": {},
   "source": [
    "답안 제출"
   ]
  },
  {
   "cell_type": "code",
   "execution_count": 20,
   "metadata": {},
   "outputs": [
    {
     "name": "stdout",
     "output_type": "stream",
     "text": [
      "3/2\n"
     ]
    }
   ],
   "source": [
    "a = int(input())\n",
    "n = 1\n",
    "while True :\n",
    "    if a <= n * (n+1) / 2 :\n",
    "        break\n",
    "    n += 1\n",
    "# 이렇게 찾은 n이 주어진 숫자가 몇 번째 대각선 라인에 있는 지를 가리킴\n",
    "k = a - n * (n-1) / 2\n",
    "# k 는 주어진 숫자가 n번째 대각선 라인 상에서 몇 번째 칸 인지를 가리킴\n",
    "if n % 2 == 1:  # n이 홀수일 때\n",
    "    top = n - k + 1\n",
    "    bottom = k\n",
    "else :  # n이 짝수일 때\n",
    "    top = k\n",
    "    bottom = n - k + 1\n",
    "print(\"%d/%d\"%(top, bottom))  "
   ]
  },
  {
   "cell_type": "markdown",
   "metadata": {},
   "source": [
    "## 2869번 : 달팽이는 올라가고 싶다"
   ]
  },
  {
   "cell_type": "markdown",
   "metadata": {},
   "source": [
    "문제"
   ]
  },
  {
   "cell_type": "markdown",
   "metadata": {},
   "source": [
    "땅 위에 달팽이가 있다. 이 달팽이는 높이가 V미터인 나무 막대를 올라갈 것이다.\n",
    "\n",
    "달팽이는 낮에 A미터 올라갈 수 있다. 하지만, 밤에 잠을 자는 동안 B미터 미끄러진다. 또, 정상에 올라간 후에는 미끄러지지 않는다.\n",
    "\n",
    "달팽이가 나무 막대를 모두 올라가려면, 며칠이 걸리는지 구하는 프로그램을 작성하시오."
   ]
  },
  {
   "cell_type": "markdown",
   "metadata": {},
   "source": [
    "소요되는 일수를 $k$일이라고 하면 다음과 같은 식을 만족해야 한다.\n",
    "$$ \n",
    "    (k-1)(a-b) + a \\geq v\n",
    "$$\n",
    "\n",
    "따라서 다음과 같은 부등식을 만족하는 최소의 정수 $k$를 구해야 한다.\n",
    "$$\n",
    "    k \\geq \\frac{v-a}{a-b} + 1\n",
    "$$"
   ]
  },
  {
   "cell_type": "markdown",
   "metadata": {},
   "source": [
    "답안 제출"
   ]
  },
  {
   "cell_type": "code",
   "execution_count": 25,
   "metadata": {},
   "outputs": [
    {
     "name": "stdout",
     "output_type": "stream",
     "text": [
      "999999901\n"
     ]
    }
   ],
   "source": [
    "import math\n",
    "\n",
    "a, b, v = list(map(int, input().split()))\n",
    "k = math.ceil((v-a)/ (a-b)) + 1\n",
    "print(k)"
   ]
  },
  {
   "cell_type": "markdown",
   "metadata": {},
   "source": [
    "## 10250번 : 직사각형 호텔"
   ]
  },
  {
   "cell_type": "markdown",
   "metadata": {},
   "source": [
    "문제"
   ]
  },
  {
   "cell_type": "markdown",
   "metadata": {},
   "source": [
    "호텔은 직사각형 모양이라고 가정하자. 각 층에 W 개의 방이 있는 H 층 건물이라고 가정하자 (1 ≤ H, W ≤ 99). 그리고 엘리베이터는 가장 왼쪽에 있다고 가정하자(그림 1 참고). 이런 형태의 호텔을 H × W 형태 호텔이라고 부른다. 호텔 정문은 일층 엘리베이터 바로 앞에 있는데, 정문에서 엘리베이터까지의 거리는 무시한다. 또 모든 인접한 두 방 사이의 거리는 같은 거리(거리 1)라고 가정하고 호텔의 정면 쪽에만 방이 있다고 가정한다.\n",
    "\n",
    "방 번호는 YXX 나 YYXX 형태인데 여기서 Y 나 YY 는 층 수를 나타내고 XX 는 엘리베이터에서부터 세었을 때의 번호를 나타낸다. 즉, 그림 1 에서 빗금으로 표시한 방은 305 호가 된다.\n",
    "\n",
    "손님은 엘리베이터를 타고 이동하는 거리는 신경 쓰지 않는다. 다만 걷는 거리가 같을 때에는 아래층의 방을 더 선호한다. 예를 들면 102 호 방보다는 301 호 방을 더 선호하는데, 102 호는 거리 2 만큼 걸어야 하지만 301 호는 거리 1 만큼만 걸으면 되기 때문이다. 같은 이유로 102 호보다 2101 호를 더 선호한다.\n",
    "\n",
    "여러분이 작성할 프로그램은 초기에 모든 방이 비어있다고 가정하에 이 정책에 따라 N 번째로 도착한 손님에게 배정될 방 번호를 계산하는 프로그램이다. 첫 번째 손님은 101 호, 두 번째 손님은 201 호 등과 같이 배정한다. 그림 1 의 경우를 예로 들면, H = 6이므로 10 번째 손님은 402 호에 배정해야 한다."
   ]
  },
  {
   "cell_type": "markdown",
   "metadata": {},
   "source": [
    "배정하는 호실이 $floor$층의 $room$번째 호실이라고 할 때  \n",
    "손님이 $n$ 번쩨 손님일 때 대부분의 경우 다음과 같이 배정한다.\n",
    "$$\n",
    "    n = (room - 1) \\times h + floor\n",
    "$$\n",
    "그러나 $n$이 $h$의 배수일 경우, 반드시 꼭대기 층에 배정된다.\n",
    "$$\n",
    "   n = room \\times h \n",
    "$$ "
   ]
  },
  {
   "cell_type": "markdown",
   "metadata": {},
   "source": [
    "답안 제출"
   ]
  },
  {
   "cell_type": "code",
   "execution_count": 38,
   "metadata": {},
   "outputs": [
    {
     "name": "stdout",
     "output_type": "stream",
     "text": [
      "402\n",
      "1203\n"
     ]
    }
   ],
   "source": [
    "T = int(input())\n",
    "for i in range(T) :\n",
    "    h, w, n = list(map(int, input().split()))\n",
    "    if n % h == 0 :\n",
    "        room = n // h\n",
    "        floor = h\n",
    "    else :\n",
    "        room = n // h + 1\n",
    "        floor = n % h\n",
    "    room = \"0\" + str(room) if room < 10 else str(room)\n",
    "    print(str(floor) + room)\n",
    "    "
   ]
  },
  {
   "cell_type": "markdown",
   "metadata": {},
   "source": [
    "## 2775번 : 부녀회장의 거주민 조사"
   ]
  },
  {
   "cell_type": "markdown",
   "metadata": {},
   "source": [
    "문제"
   ]
  },
  {
   "cell_type": "markdown",
   "metadata": {},
   "source": [
    "이 아파트에 거주를 하려면 조건이 있는데, “a층의 b호에 살려면 자신의 아래(a-1)층의 1호부터 b호까지 사람들의 수의 합만큼 사람들을 데려와 살아야 한다” 는 계약 조항을 꼭 지키고 들어와야 한다.\n",
    "\n",
    "아파트에 비어있는 집은 없고 모든 거주민들이 이 계약 조건을 지키고 왔다고 가정했을 때, 주어지는 양의 정수 k와 n에 대해 k층에 n호에는 몇 명이 살고 있는지 출력하라. 단, 아파트에는 0층부터 있고 각층에는 1호부터 있으며, 0층의 i호에는 i명이 산다."
   ]
  },
  {
   "cell_type": "markdown",
   "metadata": {},
   "source": [
    "| 층 \\ 호수 | 1호 | 2호 | 3호 | 4호 | 5호 |\n",
    "| --- | --- | --- | --- | --- | --- |\n",
    "| 0층  | 1 | 2 | 3 | 4 | 5 |\n",
    "| 1층  | 1 | 3 | 6 | 10 | 15 |\n",
    "| 2층  | 1 | 4 | 10 | 20 | 35 |\n",
    "| 3층  | 1 | 5 | 15 | 35 | 70 |"
   ]
  },
  {
   "cell_type": "markdown",
   "metadata": {},
   "source": [
    "k층의 n호가 관심대상일 경우 이 호수의 거주민을 계산할 때 필요한 것은  \n",
    "k층까지의 n을 넘지 않는 호수를 가지는 집의 거주민이다.  \n",
    "따라서 0층부터 k층까지 1호, 2호, ... , n호에 해당하는 거주민 수를 담는 리스트를 업데이트 해나가면  \n",
    "k층의 n호에 살고 있는 거주민 수를 알 수 있다. "
   ]
  },
  {
   "cell_type": "markdown",
   "metadata": {},
   "source": [
    "답안 제출"
   ]
  },
  {
   "cell_type": "code",
   "execution_count": 56,
   "metadata": {},
   "outputs": [
    {
     "name": "stdout",
     "output_type": "stream",
     "text": [
      "70\n"
     ]
    }
   ],
   "source": [
    "T = int(input())\n",
    "for t in range(T) :\n",
    "    k = int(input())\n",
    "    n = int(input())\n",
    "    residents = list(range(1, n+1)) \n",
    "    # 현재 residents는 0층의 거주민 수를 저장해놓은 리스트\n",
    "    # k층의 거주민 수를 저장하는 리스트가 될 때까지 k번 업데이트할 것\n",
    "\n",
    "    for i in range(k) :\n",
    "        sum = 0\n",
    "        for j in range(n) :\n",
    "            sum += residents[j]\n",
    "            residents[j] = sum \n",
    "    print(residents.pop())\n",
    "    \n"
   ]
  },
  {
   "cell_type": "markdown",
   "metadata": {},
   "source": [
    "## 2839번 : 설탕 배달"
   ]
  },
  {
   "cell_type": "markdown",
   "metadata": {},
   "source": [
    "문제"
   ]
  },
  {
   "cell_type": "markdown",
   "metadata": {},
   "source": [
    "상근이는 요즘 설탕공장에서 설탕을 배달하고 있다. 상근이는 지금 사탕가게에 설탕을 정확하게 N킬로그램을 배달해야 한다. 설탕공장에서 만드는 설탕은 봉지에 담겨져 있다. 봉지는 3킬로그램 봉지와 5킬로그램 봉지가 있다.\n",
    "\n",
    "상근이는 귀찮기 때문에, 최대한 적은 봉지를 들고 가려고 한다. 예를 들어, 18킬로그램 설탕을 배달해야 할 때, 3킬로그램 봉지 6개를 가져가도 되지만, 5킬로그램 3개와 3킬로그램 1개를 배달하면, 더 적은 개수의 봉지를 배달할 수 있다.\n",
    "\n",
    "상근이가 설탕을 정확하게 N킬로그램 배달해야 할 때, 봉지 몇 개를 가져가면 되는지 그 수를 구하는 프로그램을 작성하시오."
   ]
  },
  {
   "cell_type": "markdown",
   "metadata": {},
   "source": [
    "$n$이 설탕의 무게, 그리고 $m$과 $p$를 각각 5킬로그램 봉지 개수와 3킬로그램 봉지 개수라고 할 때 다음을 만족하는 음이 아닌 정수 $m$과 $p$를 구해야 한다.\n",
    "$$n = 5m +3p$$\n",
    "이를 만족하는 $(m, p)$ 중에서 $m$을 최대한 크게 만드는 순서쌍을 찾아야 한다."
   ]
  },
  {
   "cell_type": "markdown",
   "metadata": {},
   "source": [
    "답안 제출"
   ]
  },
  {
   "cell_type": "code",
   "execution_count": 61,
   "metadata": {},
   "outputs": [
    {
     "name": "stdout",
     "output_type": "stream",
     "text": [
      "3\n"
     ]
    }
   ],
   "source": [
    "n = int(input())\n",
    "m = n // 5\n",
    "while True :\n",
    "    if (n - 5 * m) % 3 == 0 :\n",
    "        p = (n - 5 * m) // 3\n",
    "        break\n",
    "    else :\n",
    "        m -= 1\n",
    "        if m < 0 :\n",
    "            break\n",
    "result = m + p if m >= 0 else -1\n",
    "print(result)"
   ]
  },
  {
   "cell_type": "markdown",
   "metadata": {},
   "source": [
    "Alternative 답안"
   ]
  },
  {
   "cell_type": "code",
   "execution_count": 66,
   "metadata": {},
   "outputs": [
    {
     "name": "stdout",
     "output_type": "stream",
     "text": [
      "3\n"
     ]
    }
   ],
   "source": [
    "n = int(input())\n",
    "m = 0\n",
    "p = 0\n",
    "possible = True \n",
    "while True :\n",
    "    if n % 5 == 0 :\n",
    "        m = n // 5\n",
    "        break\n",
    "    else :\n",
    "        n -= 3 \n",
    "        p += 1\n",
    "        if n < 0 :\n",
    "            possible = False\n",
    "            break\n",
    "\n",
    "result = m + p if possible else -1\n",
    "print(result)"
   ]
  },
  {
   "cell_type": "markdown",
   "metadata": {},
   "source": [
    "## 10757번 : 큰 수 A+B"
   ]
  },
  {
   "cell_type": "markdown",
   "metadata": {},
   "source": [
    "문제"
   ]
  },
  {
   "cell_type": "markdown",
   "metadata": {},
   "source": [
    "두 정수 A와 B를 입력받은 다음, A+B를 출력하는 프로그램을 작성하시오."
   ]
  },
  {
   "cell_type": "code",
   "execution_count": 68,
   "metadata": {},
   "outputs": [],
   "source": [
    "a, b = input().split()\n",
    "a = list(map(int, list(a)))\n",
    "b = list(map(int, list(b)))"
   ]
  },
  {
   "cell_type": "code",
   "execution_count": 69,
   "metadata": {},
   "outputs": [
    {
     "data": {
      "text/plain": [
       "[1, 2, 3, 4, 5]"
      ]
     },
     "execution_count": 69,
     "metadata": {},
     "output_type": "execute_result"
    }
   ],
   "source": [
    "a"
   ]
  },
  {
   "cell_type": "code",
   "execution_count": 70,
   "metadata": {},
   "outputs": [
    {
     "data": {
      "text/plain": [
       "[2, 4, 6, 8, 7, 9]"
      ]
     },
     "execution_count": 70,
     "metadata": {},
     "output_type": "execute_result"
    }
   ],
   "source": [
    "b"
   ]
  },
  {
   "cell_type": "markdown",
   "metadata": {},
   "source": [
    "답안 제출"
   ]
  },
  {
   "cell_type": "code",
   "execution_count": 75,
   "metadata": {},
   "outputs": [
    {
     "name": "stdout",
     "output_type": "stream",
     "text": [
      "18446744073709551615\n"
     ]
    }
   ],
   "source": [
    "a, b = input().split()\n",
    "# 문자로 입력받은 두 개의 정수를 digit수 만큼의 사이즈를 가진 리스트로 변환\n",
    "a = list(map(int, list(a)))\n",
    "b = list(map(int, list(b)))\n",
    "\n",
    "# 한 자리 숫자씩 더하는 데 9를 넘으면 다음 자리 수에서 1을 더해줘야 하므로 9가 넘었는지 여부를 기록할 변수 필요\n",
    "overnine = 0\n",
    "# 뒷 자리부터 각 자리 더해서 나오는 값을 result 리스트에 추가해줌\n",
    "# 마지막에 결과를 출력할 때는 pop을 통해 뒤에서부터 출력하면 의도한 바대로 결과값이 나옴\n",
    "result = []\n",
    "# a 와  b 모두 일의 자리부터 하나씩 계산\n",
    "while a and b :\n",
    "    x = a.pop()\n",
    "    y = b.pop()\n",
    "    z = x + y + overnine \n",
    "    if z > 9 :\n",
    "        overnine = 1\n",
    "        z -= 10 \n",
    "    else :\n",
    "        overnine = 0\n",
    "    result.append(z)\n",
    "# a 와 b의 길이가 같을 경우\n",
    "# 마지막에 overnine 발생했으면 1을 추가해주고 아니면 종료\n",
    "if (not a) and (not b) and overnine :\n",
    "    result.append(overnine)\n",
    "    overnine = 0\n",
    "# a 와 b의 길이가 서로 다를 경우\n",
    "while a :\n",
    "    x = a.pop()\n",
    "    z = x + overnine\n",
    "    if z > 9 :\n",
    "        overnine = 1\n",
    "        z -= 10\n",
    "    else :\n",
    "        overnine = 0\n",
    "    result.append(z)\n",
    "while b :\n",
    "    y = b.pop()\n",
    "    z = y + overnine\n",
    "    if z > 9 :\n",
    "        overnine = 1\n",
    "        z -= 10\n",
    "    else :\n",
    "        overnine = 0\n",
    "    result.append(z)\n",
    "# 마지막에 overnine 발생했으면 1을 추가해주고 아니면 종료\n",
    "if overnine :\n",
    "    result.append(overnine)\n",
    "\n",
    "while result :\n",
    "    print(result.pop(), end='')\n",
    "print()"
   ]
  },
  {
   "cell_type": "code",
   "execution_count": null,
   "metadata": {},
   "outputs": [],
   "source": []
  }
 ],
 "metadata": {
  "interpreter": {
   "hash": "d88d8acdbfaa835a5f857244e00e0be2fef710e8821cc5222c903f5a03bf61bd"
  },
  "kernelspec": {
   "display_name": "Python 3.8.8 ('base')",
   "language": "python",
   "name": "python3"
  },
  "language_info": {
   "codemirror_mode": {
    "name": "ipython",
    "version": 3
   },
   "file_extension": ".py",
   "mimetype": "text/x-python",
   "name": "python",
   "nbconvert_exporter": "python",
   "pygments_lexer": "ipython3",
   "version": "3.8.8"
  },
  "orig_nbformat": 4
 },
 "nbformat": 4,
 "nbformat_minor": 2
}
