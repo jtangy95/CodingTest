{
 "cells": [
  {
   "cell_type": "markdown",
   "metadata": {},
   "source": [
    "# 트리"
   ]
  },
  {
   "cell_type": "markdown",
   "metadata": {},
   "source": [
    "## 5639번 : 이진 검색 트리"
   ]
  },
  {
   "cell_type": "code",
   "execution_count": 41,
   "metadata": {},
   "outputs": [],
   "source": [
    "class TreeNode :\n",
    "    def __init__(self, newItem, left, right) :\n",
    "        self.item = newItem\n",
    "        self.left = left\n",
    "        self.right = right\n",
    "    def __repr__(self) :\n",
    "        string = \"Tree Node with item : \"\n",
    "        string += str(self.item)\n",
    "        return string \n"
   ]
  },
  {
   "cell_type": "code",
   "execution_count": 125,
   "metadata": {},
   "outputs": [],
   "source": [
    "class BinarySearchTree :\n",
    "    def __init__(self) :\n",
    "        self.root = None\n",
    "\n",
    "    def search(self, x) -> TreeNode :\n",
    "        return self.__searchItem(self.root, x)\n",
    "    def __searchItem(self, node : TreeNode, x) -> TreeNode :\n",
    "        if node == None :\n",
    "            return None\n",
    "        elif node.item == x :\n",
    "            return node\n",
    "        elif x < node.item :\n",
    "            return self.__searchItem(node.left, x)\n",
    "        elif x > node.item :\n",
    "            return self.__searchItem(node.right, x)\n",
    "        else :\n",
    "            pass\n",
    "    \n",
    "    def insert(self, x) :\n",
    "        self.root = self.__insertItem(self.root, x)\n",
    "    def __insertItem(self, node : TreeNode, x) -> TreeNode :\n",
    "        if node == None :\n",
    "            node = TreeNode(x, None, None)\n",
    "        elif x < node.item :\n",
    "            node.left = self.__insertItem(node.left, x)\n",
    "        elif x > node.item :\n",
    "            node.right = self.__insertItem(node.right, x)\n",
    "        else :\n",
    "            pass\n",
    "        return node\n",
    "    \n",
    "    def isEmpty(self) -> bool :\n",
    "        return self.root == None \n",
    "    \n",
    "    def clear(self) :\n",
    "        self.root = None\n",
    "\n",
    "    # 전위 순회\n",
    "    def preOrder(self) :\n",
    "        visited = []\n",
    "        return self.__preOrderNode(self.root, visited)\n",
    "    def __preOrderNode(self, node : TreeNode, visitlist : list) :\n",
    "        if node != None :\n",
    "            visitlist.append(node.item)\n",
    "            self.__preOrderNode(node.left, visitlist)\n",
    "            self.__preOrderNode(node.right, visitlist)\n",
    "        else :\n",
    "            pass\n",
    "        return visitlist\n",
    "    \n",
    "    # 후위 순회\n",
    "    def postOrder(self) :\n",
    "        visited = []\n",
    "        return self.__postOrderNode(self.root, visited)\n",
    "    def __postOrderNode(self, node : TreeNode, visitlist : list) :\n",
    "        if node != None :\n",
    "            self.__postOrderNode(node.left, visitlist)\n",
    "            self.__postOrderNode(node.right, visitlist)\n",
    "            visitlist.append(node.item)\n",
    "        else :\n",
    "            pass\n",
    "        return visitlist\n",
    "    \n"
   ]
  },
  {
   "cell_type": "code",
   "execution_count": 126,
   "metadata": {},
   "outputs": [],
   "source": [
    "bst = BinarySearchTree()"
   ]
  },
  {
   "cell_type": "code",
   "execution_count": 127,
   "metadata": {},
   "outputs": [],
   "source": [
    "bst.insert(10)"
   ]
  },
  {
   "cell_type": "code",
   "execution_count": 128,
   "metadata": {},
   "outputs": [],
   "source": [
    "bst.insert(20)"
   ]
  },
  {
   "cell_type": "code",
   "execution_count": 129,
   "metadata": {},
   "outputs": [],
   "source": [
    "bst.insert(5)"
   ]
  },
  {
   "cell_type": "code",
   "execution_count": 130,
   "metadata": {},
   "outputs": [
    {
     "data": {
      "text/plain": [
       "[10, 5, 20]"
      ]
     },
     "execution_count": 130,
     "metadata": {},
     "output_type": "execute_result"
    }
   ],
   "source": [
    "bst.preOrder()"
   ]
  },
  {
   "cell_type": "code",
   "execution_count": 131,
   "metadata": {},
   "outputs": [
    {
     "data": {
      "text/plain": [
       "[5, 20, 10]"
      ]
     },
     "execution_count": 131,
     "metadata": {},
     "output_type": "execute_result"
    }
   ],
   "source": [
    "bst.postOrder()"
   ]
  },
  {
   "cell_type": "code",
   "execution_count": 109,
   "metadata": {},
   "outputs": [
    {
     "data": {
      "text/plain": [
       "Tree Node with item : 10"
      ]
     },
     "execution_count": 109,
     "metadata": {},
     "output_type": "execute_result"
    }
   ],
   "source": [
    "bst.root"
   ]
  },
  {
   "cell_type": "code",
   "execution_count": 110,
   "metadata": {},
   "outputs": [
    {
     "data": {
      "text/plain": [
       "Tree Node with item : 20"
      ]
     },
     "execution_count": 110,
     "metadata": {},
     "output_type": "execute_result"
    }
   ],
   "source": [
    "bst.root.right"
   ]
  },
  {
   "cell_type": "code",
   "execution_count": 111,
   "metadata": {},
   "outputs": [
    {
     "data": {
      "text/plain": [
       "Tree Node with item : 5"
      ]
     },
     "execution_count": 111,
     "metadata": {},
     "output_type": "execute_result"
    }
   ],
   "source": [
    "bst.root.left"
   ]
  },
  {
   "cell_type": "code",
   "execution_count": 112,
   "metadata": {},
   "outputs": [
    {
     "data": {
      "text/plain": [
       "Tree Node with item : 5"
      ]
     },
     "execution_count": 112,
     "metadata": {},
     "output_type": "execute_result"
    }
   ],
   "source": [
    "bst.search(5)"
   ]
  },
  {
   "cell_type": "code",
   "execution_count": 132,
   "metadata": {},
   "outputs": [
    {
     "data": {
      "text/plain": [
       "True"
      ]
     },
     "execution_count": 132,
     "metadata": {},
     "output_type": "execute_result"
    }
   ],
   "source": [
    "bst.search(2) == None"
   ]
  },
  {
   "cell_type": "code",
   "execution_count": 115,
   "metadata": {},
   "outputs": [
    {
     "data": {
      "text/plain": [
       "False"
      ]
     },
     "execution_count": 115,
     "metadata": {},
     "output_type": "execute_result"
    }
   ],
   "source": [
    "bst.isEmpty()"
   ]
  },
  {
   "cell_type": "code",
   "execution_count": 116,
   "metadata": {},
   "outputs": [],
   "source": [
    "bst.clear()"
   ]
  },
  {
   "cell_type": "code",
   "execution_count": 117,
   "metadata": {},
   "outputs": [
    {
     "data": {
      "text/plain": [
       "True"
      ]
     },
     "execution_count": 117,
     "metadata": {},
     "output_type": "execute_result"
    }
   ],
   "source": [
    "bst.isEmpty()"
   ]
  },
  {
   "cell_type": "code",
   "execution_count": 118,
   "metadata": {},
   "outputs": [
    {
     "data": {
      "text/plain": [
       "True"
      ]
     },
     "execution_count": 118,
     "metadata": {},
     "output_type": "execute_result"
    }
   ],
   "source": [
    "bst.search(10) == None"
   ]
  },
  {
   "cell_type": "code",
   "execution_count": 119,
   "metadata": {},
   "outputs": [
    {
     "data": {
      "text/plain": [
       "[]"
      ]
     },
     "execution_count": 119,
     "metadata": {},
     "output_type": "execute_result"
    }
   ],
   "source": [
    "bst.postOrder()"
   ]
  },
  {
   "cell_type": "markdown",
   "metadata": {},
   "source": [
    "문제"
   ]
  },
  {
   "cell_type": "markdown",
   "metadata": {},
   "source": [
    "이진 검색 트리는 다음과 같은 세 가지 조건을 만족하는 이진 트리이다.\n",
    "\n",
    "- 노드의 왼쪽 서브트리에 있는 모든 노드의 키는 노드의 키보다 작다.\n",
    "- 노드의 오른쪽 서브트리에 있는 모든 노드의 키는 노드의 키보다 크다.\n",
    "- 왼쪽, 오른쪽 서브트리도 이진 검색 트리이다."
   ]
  },
  {
   "cell_type": "markdown",
   "metadata": {},
   "source": [
    "전위 순회 (루트-왼쪽-오른쪽)은 루트를 방문하고, 왼쪽 서브트리, 오른쪽 서브 트리를 순서대로 방문하면서 노드의 키를 출력한다. 후위 순회 (왼쪽-오른쪽-루트)는 왼쪽 서브트리, 오른쪽 서브트리, 루트 노드 순서대로 키를 출력한다. \n",
    "\n",
    "이진 검색 트리를 전위 순회한 결과가 주어졌을 때, 이 트리를 후위 순회한 결과를 구하는 프로그램을 작성하시오."
   ]
  },
  {
   "cell_type": "markdown",
   "metadata": {},
   "source": [
    "입력\n",
    "\n",
    "트리를 전위 순회한 결과가 주어진다. 노드에 들어있는 키의 값은 106보다 작은 양의 정수이다. 모든 값은 한 줄에 하나씩 주어지며, 노드의 수는 10,000개 이하이다. 같은 키를 가지는 노드는 없다.  \n",
    "\n",
    "출력  \n",
    "\n",
    "입력으로 주어진 이진 검색 트리를 후위 순회한 결과를 한 줄에 하나씩 출력한다."
   ]
  },
  {
   "cell_type": "code",
   "execution_count": null,
   "metadata": {},
   "outputs": [],
   "source": [
    "import sys\n",
    "sys.setrecursionlimit(10**4) # To avoid RecursionError\n",
    "\n",
    "tree = BinarySearchTree()\n",
    "# 전위 순회 결과는 곧 그 순서 대로 empty 트리에 삽입을 하면 해당 트리가 나온다는 것을 의미한다.\n",
    "while True :\n",
    "    try :\n",
    "        a = int(input())\n",
    "    except EOFError :\n",
    "        # input으로 숫자가 더 이상 주어지지 않을 경우 while loop break\n",
    "        break\n",
    "    else : \n",
    "        tree.insert(a)\n",
    "\n",
    "\n",
    "visit = tree.postOrder() # 후위 순회 결과를 저장해놓은 리스트\n",
    "for elem in visit :\n",
    "    print(elem)\n",
    "    \n"
   ]
  },
  {
   "cell_type": "code",
   "execution_count": 78,
   "metadata": {},
   "outputs": [
    {
     "name": "stdout",
     "output_type": "stream",
     "text": [
      "1\n",
      "1\n",
      "0\n",
      "0\n",
      "1\n"
     ]
    }
   ],
   "source": [
    "\n",
    "\n",
    "N = int(input())\n",
    "seq = list(map(int, input().split()))\n",
    "seq.sort()\n",
    "tree = BinarySearchTree()\n",
    "for num in seq :\n",
    "    tree.insert(num)\n",
    "M = int(input())\n",
    "new_seq = list(map(int, input().split()))\n",
    "for num in new_seq :\n",
    "    if tree.search(num) == None :\n",
    "        print(0)\n",
    "    else :\n",
    "        print(1)\n",
    "\n"
   ]
  },
  {
   "cell_type": "code",
   "execution_count": 82,
   "metadata": {},
   "outputs": [],
   "source": [
    "a = [4, 1, 5, 2, 3, 8, 10, 15]"
   ]
  },
  {
   "cell_type": "code",
   "execution_count": 83,
   "metadata": {},
   "outputs": [],
   "source": [
    "a.sort()"
   ]
  },
  {
   "cell_type": "code",
   "execution_count": 84,
   "metadata": {},
   "outputs": [
    {
     "data": {
      "text/plain": [
       "5"
      ]
     },
     "execution_count": 84,
     "metadata": {},
     "output_type": "execute_result"
    }
   ],
   "source": [
    "binarySearch(a, 8, 0, len(a)-1)"
   ]
  },
  {
   "cell_type": "code",
   "execution_count": 86,
   "metadata": {},
   "outputs": [
    {
     "data": {
      "text/plain": [
       "-1"
      ]
     },
     "execution_count": 86,
     "metadata": {},
     "output_type": "execute_result"
    }
   ],
   "source": [
    "binarySearch(a, 7, 0, len(a)-1)"
   ]
  },
  {
   "cell_type": "code",
   "execution_count": null,
   "metadata": {},
   "outputs": [],
   "source": []
  }
 ],
 "metadata": {
  "interpreter": {
   "hash": "d88d8acdbfaa835a5f857244e00e0be2fef710e8821cc5222c903f5a03bf61bd"
  },
  "kernelspec": {
   "display_name": "Python 3.8.8 ('base')",
   "language": "python",
   "name": "python3"
  },
  "language_info": {
   "codemirror_mode": {
    "name": "ipython",
    "version": 3
   },
   "file_extension": ".py",
   "mimetype": "text/x-python",
   "name": "python",
   "nbconvert_exporter": "python",
   "pygments_lexer": "ipython3",
   "version": "3.8.8"
  },
  "orig_nbformat": 4
 },
 "nbformat": 4,
 "nbformat_minor": 2
}
