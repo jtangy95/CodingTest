{
 "cells": [
  {
   "cell_type": "markdown",
   "metadata": {},
   "source": [
    "# 우선순위 큐"
   ]
  },
  {
   "cell_type": "markdown",
   "metadata": {},
   "source": [
    "## 11279번 : 최대 힙"
   ]
  },
  {
   "cell_type": "code",
   "execution_count": 71,
   "metadata": {},
   "outputs": [],
   "source": [
    "class Heap :\n",
    "    def __init__(self, list = []) :\n",
    "        self.arr = list\n",
    "\n",
    "    def size(self) :\n",
    "        return len(self.arr)\n",
    "    \n",
    "    def isEmpty(self) :\n",
    "        return self.size() == 0\n",
    "\n",
    "    def __percolateUp(self, i : int) :\n",
    "        parent = (i -1) // 2\n",
    "        if i > 0 and self.arr[i] > self.arr[parent] :\n",
    "            self.arr[i] , self.arr[parent] = self.arr[parent], self.arr[i]\n",
    "            self.__percolateUp(parent)\n",
    "        else :\n",
    "            pass\n",
    "\n",
    "    def insert(self, x) :\n",
    "        # 맨 끝에 추가하고 힙특성을 만족하도록 percolate up\n",
    "        self.arr.append(x)\n",
    "        self.__percolateUp(self.size()-1)\n",
    "\n",
    "    def clear(self) :\n",
    "        self.arr = []\n",
    "    \n",
    "    def max(self) :\n",
    "        if self.size() == 0 :\n",
    "            return None\n",
    "        else :\n",
    "            return self.arr[0]    \n",
    "\n",
    "    def __percolateDown(self, i : int) :\n",
    "        child = 2 * i +1\n",
    "        right_child = 2 * i + 2\n",
    "        if child < self.size() :\n",
    "            if right_child < self.size() and self.arr[child] < self.arr[right_child] :\n",
    "                child = right_child\n",
    "                # 이 시점에서 child는 자식 노드 중 아이템 더 큰 노드의 인덱스\n",
    "            else :\n",
    "                pass\n",
    "\n",
    "            if self.arr[i] < self.arr[child] :\n",
    "                self.arr[i], self.arr[child] = self.arr[child], self.arr[i]\n",
    "                self.__percolateDown(child)\n",
    "            else :\n",
    "                pass\n",
    "    \n",
    "    def deleteMax(self) :\n",
    "        # 맨 처음 노드(루트)의 원소를 지우고 리턴\n",
    "        # 맨 마지막 노드의 원소를 루트로 이동 시키고 힙특성을 만족하도록 percolate down\n",
    "        if self.isEmpty() :\n",
    "            return None\n",
    "        elif self.size() == 1:\n",
    "            maxVal = self.arr.pop()\n",
    "            return maxVal\n",
    "        else :\n",
    "            maxVal = self.arr[0]\n",
    "            last_terminal_item = self.arr.pop()\n",
    "            self.arr[0] = last_terminal_item\n",
    "            self.__percolateDown(0)\n",
    "            return maxVal\n",
    "\n",
    "    def buildHeap(self) :\n",
    "        last_terminal = self.size() - 1\n",
    "        last_parent = (last_terminal - 1) // 2\n",
    "        for i in range(last_parent, -1, -1) :\n",
    "            self.__percolateDown(i)\n",
    "\n",
    "    def __repr__(self) :\n",
    "        string = \"Heap : [\"\n",
    "        for elem in self.arr :\n",
    "            string += \" \" + str(elem)\n",
    "        string += \" ]\"\n",
    "        return string\n",
    "        \n"
   ]
  },
  {
   "cell_type": "code",
   "execution_count": 72,
   "metadata": {},
   "outputs": [],
   "source": [
    "a = [4,1,8,7,3,3,5,2,9]"
   ]
  },
  {
   "cell_type": "code",
   "execution_count": 73,
   "metadata": {},
   "outputs": [],
   "source": [
    "A = Heap(a)"
   ]
  },
  {
   "cell_type": "code",
   "execution_count": 74,
   "metadata": {},
   "outputs": [],
   "source": [
    "A.buildHeap()"
   ]
  },
  {
   "cell_type": "code",
   "execution_count": 75,
   "metadata": {},
   "outputs": [
    {
     "data": {
      "text/plain": [
       "Heap : [ 9 7 8 4 3 3 5 2 1 ]"
      ]
     },
     "execution_count": 75,
     "metadata": {},
     "output_type": "execute_result"
    }
   ],
   "source": [
    "A"
   ]
  },
  {
   "cell_type": "code",
   "execution_count": 76,
   "metadata": {},
   "outputs": [],
   "source": [
    "A.insert(12)"
   ]
  },
  {
   "cell_type": "code",
   "execution_count": 77,
   "metadata": {},
   "outputs": [
    {
     "data": {
      "text/plain": [
       "Heap : [ 12 9 8 4 7 3 5 2 1 3 ]"
      ]
     },
     "execution_count": 77,
     "metadata": {},
     "output_type": "execute_result"
    }
   ],
   "source": [
    "A"
   ]
  },
  {
   "cell_type": "code",
   "execution_count": 78,
   "metadata": {},
   "outputs": [
    {
     "name": "stdout",
     "output_type": "stream",
     "text": [
      "12\n"
     ]
    }
   ],
   "source": [
    "print(A.deleteMax())"
   ]
  },
  {
   "cell_type": "code",
   "execution_count": 79,
   "metadata": {},
   "outputs": [
    {
     "data": {
      "text/plain": [
       "Heap : [ 9 7 8 4 3 3 5 2 1 ]"
      ]
     },
     "execution_count": 79,
     "metadata": {},
     "output_type": "execute_result"
    }
   ],
   "source": [
    "A"
   ]
  },
  {
   "cell_type": "markdown",
   "metadata": {},
   "source": [
    "문제"
   ]
  },
  {
   "cell_type": "markdown",
   "metadata": {},
   "source": [
    "널리 잘 알려진 자료구조 중 최대 힙이 있다. 최대 힙을 이용하여 다음과 같은 연산을 지원하는 프로그램을 작성하시오.  \n",
    "\n",
    "1. 배열에 자연수 x를 넣는다.  \n",
    "1. 배열에서 가장 큰 값을 출력하고, 그 값을 배열에서 제거한다.  \n",
    "\n",
    "프로그램은 처음에 비어있는 배열에서 시작하게 된다.  \n",
    "\n",
    "\n"
   ]
  },
  {
   "cell_type": "markdown",
   "metadata": {},
   "source": [
    "입력  \n",
    "\n",
    "첫째 줄에 연산의 개수 N(1 ≤ N ≤ 100,000)이 주어진다. 다음 N개의 줄에는 연산에 대한 정보를 나타내는 정수 x가 주어진다. 만약 x가 자연수라면 배열에 x라는 값을 넣는(추가하는) 연산이고, x가 0이라면 배열에서 가장 큰 값을 출력하고 그 값을 배열에서 제거하는 경우이다. 입력되는 자연수는 $2^{31}$보다 작다.\n",
    "\n",
    "출력  \n",
    "\n",
    "입력에서 0이 주어진 회수만큼 답을 출력한다. 만약 배열이 비어 있는 경우인데 가장 큰 값을 출력하라고 한 경우에는 0을 출력하면 된다."
   ]
  },
  {
   "cell_type": "code",
   "execution_count": 80,
   "metadata": {},
   "outputs": [
    {
     "name": "stdout",
     "output_type": "stream",
     "text": [
      "0\n",
      "2\n",
      "1\n",
      "3\n",
      "2\n",
      "1\n",
      "0\n",
      "0\n"
     ]
    }
   ],
   "source": [
    "n = int(input())\n",
    "A = Heap()\n",
    "for i in range(n) :\n",
    "    k = int(input())\n",
    "    if k :\n",
    "        A.insert(k)\n",
    "    else :\n",
    "        result = A.deleteMax() if not A.isEmpty() else 0\n",
    "        print(result)\n"
   ]
  },
  {
   "cell_type": "code",
   "execution_count": null,
   "metadata": {},
   "outputs": [],
   "source": []
  }
 ],
 "metadata": {
  "interpreter": {
   "hash": "d88d8acdbfaa835a5f857244e00e0be2fef710e8821cc5222c903f5a03bf61bd"
  },
  "kernelspec": {
   "display_name": "Python 3.8.8 ('base')",
   "language": "python",
   "name": "python3"
  },
  "language_info": {
   "codemirror_mode": {
    "name": "ipython",
    "version": 3
   },
   "file_extension": ".py",
   "mimetype": "text/x-python",
   "name": "python",
   "nbconvert_exporter": "python",
   "pygments_lexer": "ipython3",
   "version": "3.8.8"
  },
  "orig_nbformat": 4
 },
 "nbformat": 4,
 "nbformat_minor": 2
}
