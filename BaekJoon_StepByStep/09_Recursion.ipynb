{
 "cells": [
  {
   "cell_type": "markdown",
   "metadata": {},
   "source": [
    "#  재귀"
   ]
  },
  {
   "cell_type": "markdown",
   "metadata": {},
   "source": [
    "## 10872번 : 팩토리얼"
   ]
  },
  {
   "cell_type": "markdown",
   "metadata": {},
   "source": [
    "문제"
   ]
  },
  {
   "cell_type": "markdown",
   "metadata": {},
   "source": [
    "0보다 크거나 같은 정수 N이 주어진다. 이때, N!을 출력하는 프로그램을 작성하시오."
   ]
  },
  {
   "cell_type": "markdown",
   "metadata": {},
   "source": [
    "답안 제출"
   ]
  },
  {
   "cell_type": "code",
   "execution_count": 1,
   "metadata": {},
   "outputs": [
    {
     "name": "stdout",
     "output_type": "stream",
     "text": [
      "3628800\n"
     ]
    }
   ],
   "source": [
    "def factorial(n : int) :\n",
    "    if n == 0 :\n",
    "        return 1\n",
    "    else :\n",
    "        return n * factorial(n-1)\n",
    "\n",
    "n = int(input())\n",
    "print(factorial(n))\n"
   ]
  },
  {
   "cell_type": "markdown",
   "metadata": {},
   "source": [
    "`factorial(10)` returns $10 \\times$ `factorial(9)`  \n",
    "`factorial(9)` returns $9 \\times$ `factorial(8)`  \n",
    "$\\vdots$  \n",
    "`factorial(2)` returns $2 \\times$ `factorial(1)`  \n",
    "`factorial(1)` returns $1 \\times$ `factorial(0)`  \n",
    "`factorial(0)` returns $1$  \n",
    "`factorial(1)` returns $1\\times 1 = 1$  \n",
    "`factorial(2)` returns $2 \\times 1 = 2!$  \n",
    "`factorial(3)` returns $3 \\times 2! = 3!$\n",
    "$\\vdots$  \n",
    "`factorial(9)` returns $9\\times 8! = 9!$  \n",
    "`factorial(10)` returns $10\\times 9! = 10!$"
   ]
  },
  {
   "cell_type": "markdown",
   "metadata": {},
   "source": [
    "## 10870번 : 피보나치 수"
   ]
  },
  {
   "cell_type": "markdown",
   "metadata": {},
   "source": [
    "문제"
   ]
  },
  {
   "cell_type": "markdown",
   "metadata": {},
   "source": [
    "피보나치 수는 0과 1로 시작한다. 0번째 피보나치 수는 0이고, 1번째 피보나치 수는 1이다. 그 다음 2번째 부터는 바로 앞 두 피보나치 수의 합이 된다.\n",
    "\n",
    "이를 식으로 써보면 $F_n = F_{n-1} + F_{n-2}$ (n ≥ 2)가 된다.\n",
    "\n",
    "n=17일때 까지 피보나치 수를 써보면 다음과 같다.\n",
    "\n",
    "0, 1, 1, 2, 3, 5, 8, 13, 21, 34, 55, 89, 144, 233, 377, 610, 987, 1597\n",
    "\n",
    "n이 주어졌을 때, n번째 피보나치 수를 구하는 프로그램을 작성하시오."
   ]
  },
  {
   "cell_type": "markdown",
   "metadata": {},
   "source": [
    "답안 제출"
   ]
  },
  {
   "cell_type": "code",
   "execution_count": 11,
   "metadata": {},
   "outputs": [
    {
     "name": "stdout",
     "output_type": "stream",
     "text": [
      "9227465\n"
     ]
    }
   ],
   "source": [
    "def fibo(n) :\n",
    "    if n == 0 :\n",
    "        return 0\n",
    "    elif n == 1 :\n",
    "        return 1\n",
    "    else :\n",
    "        return fibo(n-1) + fibo(n-2)\n",
    "\n",
    "n = int(input())\n",
    "print(fibo(n))"
   ]
  },
  {
   "cell_type": "markdown",
   "metadata": {},
   "source": [
    "Alternative 답안"
   ]
  },
  {
   "cell_type": "markdown",
   "metadata": {},
   "source": [
    "피보나치 수를 recursive 함수로 구현하는 것은 사실 굉장히 비효율적이다. 소요 시간을 훨씬 단축하려면 다음과 같이 단순한 반복문으로 만드는 것이 좋다.  \n",
    "(비교 : n = 35 일 때 위의 코드 5초 소요 VS 아래의 코드 0.3초 미만)"
   ]
  },
  {
   "cell_type": "code",
   "execution_count": 12,
   "metadata": {},
   "outputs": [
    {
     "name": "stdout",
     "output_type": "stream",
     "text": [
      "9227465\n"
     ]
    }
   ],
   "source": [
    "def fib(n) :\n",
    "    if n == 0 :\n",
    "        return 0\n",
    "    elif n ==  1 :\n",
    "        return 1\n",
    "    else :\n",
    "        prev = 1\n",
    "        prevprev = 0\n",
    "        i = 2\n",
    "        while True :\n",
    "            current = prev + prevprev\n",
    "            if i == n :\n",
    "                return current\n",
    "            else :\n",
    "                prevprev = prev\n",
    "                prev = current \n",
    "                i += 1\n",
    "\n",
    "n = int(input())\n",
    "print(fib(n))"
   ]
  },
  {
   "cell_type": "markdown",
   "metadata": {},
   "source": [
    "Alternative 답안 2"
   ]
  },
  {
   "cell_type": "markdown",
   "metadata": {},
   "source": [
    "이 버전이 위의 것보다 더 쉽게 읽히는 코드이다."
   ]
  },
  {
   "cell_type": "code",
   "execution_count": 17,
   "metadata": {},
   "outputs": [
    {
     "name": "stdout",
     "output_type": "stream",
     "text": [
      "5\n"
     ]
    }
   ],
   "source": [
    "def fib(n) :\n",
    "    if n == 0 :\n",
    "        return 0\n",
    "    elif n ==  1 :\n",
    "        return 1\n",
    "    else :\n",
    "        seq = []\n",
    "        seq.append(0)\n",
    "        seq.append(1)\n",
    "        for i in range(2, n+1) :\n",
    "            seq.append(seq[i-2] + seq[i-1])\n",
    "        return seq.pop()\n",
    "n = int(input())\n",
    "print(fib(n))"
   ]
  },
  {
   "cell_type": "markdown",
   "metadata": {},
   "source": [
    "## 11729번 : 하노이의 탑"
   ]
  },
  {
   "cell_type": "markdown",
   "metadata": {},
   "source": [
    "문제"
   ]
  },
  {
   "cell_type": "markdown",
   "metadata": {},
   "source": [
    "세 개의 장대가 있고 첫 번째 장대에는 반경이 서로 다른 n개의 원판이 쌓여 있다. 각 원판은 반경이 큰 순서대로 쌓여있다. 이제 수도승들이 다음 규칙에 따라 첫 번째 장대에서 세 번째 장대로 옮기려 한다.\n",
    "\n",
    "한 번에 한 개의 원판만을 다른 탑으로 옮길 수 있다.\n",
    "쌓아 놓은 원판은 항상 위의 것이 아래의 것보다 작아야 한다.\n",
    "이 작업을 수행하는데 필요한 이동 순서를 출력하는 프로그램을 작성하라. 단, 이동 횟수는 최소가 되어야 한다."
   ]
  },
  {
   "cell_type": "markdown",
   "metadata": {},
   "source": [
    "A에서 C로 옮기는 문제의 구조는 다음과 같다.\n",
    "1. A의 가장 밑의 원판을 남겨놓은 상태로 나머지 탑을 B로 옮긴다.\n",
    "2. A에 한 개 남겨져 있는 원판을 C로 옮긴다.\n",
    "3. B에 있던 탑을 C로 옮긴다.\n",
    "\n",
    "여기서 A , B , C 의 역할은 각각 다음과 같다.\n",
    "- A : source (출발지)\n",
    "- B : spare \n",
    "- C : destination (도착지)\n",
    "\n",
    "그런데 자세히 보면 A에서 C로 옮기는 문제의 1과 3은 각각\n",
    "A에서 B로 옮기는 문제, B에서 C로 옮기는 문제이며, 옮기는 탑의 사이즈가 하나씩 줄었을 뿐이다.  \n",
    "\n",
    "따라서 문제의 구조가 재귀적이라고 볼 수 있다.\n"
   ]
  },
  {
   "cell_type": "code",
   "execution_count": 46,
   "metadata": {},
   "outputs": [
    {
     "name": "stdout",
     "output_type": "stream",
     "text": [
      "1 3\n",
      "1 2\n",
      "3 2\n",
      "1 3\n",
      "2 1\n",
      "2 3\n",
      "1 3\n"
     ]
    }
   ],
   "source": [
    "def move(n : int, source, destination, spare) :\n",
    "    if n > 0 :\n",
    "        move(n-1, source, spare, destination)\n",
    "        print(source, destination)\n",
    "        move(n -1 , spare, destination, source)\n",
    "    else :\n",
    "        pass\n",
    "\n",
    "n = int(input())\n",
    "move(n, 1, 3, 2)"
   ]
  },
  {
   "cell_type": "markdown",
   "metadata": {},
   "source": [
    "위와 같이 간단하고 쉽게 읽히는 코드를 만들 수 있으나, 이렇게 하면 전체 옮긴 횟수를 출력하기 어렵다는 문제가 있다. 그러므로 다음과 같이 input에 빈 리스트를 넣고 함수 내부에서 리스트에 이동 위치를 append하는 방식으로 코드를 짜면 주어진 문제를 풀 수 있다."
   ]
  },
  {
   "cell_type": "code",
   "execution_count": 54,
   "metadata": {},
   "outputs": [],
   "source": [
    "def move(n : int, source, destination, spare, fromlist : list, tolist : list) :\n",
    "\n",
    "    if n > 0 :\n",
    "        move(n-1, source, spare, destination, fromlist, tolist)\n",
    "        fromlist.append(source)\n",
    "        tolist.append(destination)\n",
    "        move(n -1 , spare, destination, source, fromlist, tolist)\n",
    "    else :\n",
    "        pass\n",
    "\n"
   ]
  },
  {
   "cell_type": "code",
   "execution_count": 55,
   "metadata": {},
   "outputs": [
    {
     "name": "stdout",
     "output_type": "stream",
     "text": [
      "[1, 1, 3, 1, 2, 2, 1]\n",
      "[3, 2, 2, 3, 1, 3, 3]\n"
     ]
    }
   ],
   "source": [
    "a = [] ; b = []\n",
    "move(3, 1,  3, 2, a, b)\n",
    "print(a)\n",
    "print(b)"
   ]
  },
  {
   "cell_type": "markdown",
   "metadata": {},
   "source": [
    "답안 제출"
   ]
  },
  {
   "cell_type": "code",
   "execution_count": 58,
   "metadata": {},
   "outputs": [
    {
     "name": "stdout",
     "output_type": "stream",
     "text": [
      "15\n",
      "1 2\n",
      "1 3\n",
      "2 3\n",
      "1 2\n",
      "3 1\n",
      "3 2\n",
      "1 2\n",
      "1 3\n",
      "2 3\n",
      "2 1\n",
      "3 1\n",
      "2 3\n",
      "1 2\n",
      "1 3\n",
      "2 3\n"
     ]
    }
   ],
   "source": [
    "def move(n : int, source, destination, spare, fromlist : list, tolist : list) :\n",
    "    if n > 0 :\n",
    "        move(n-1, source, spare, destination, fromlist, tolist)\n",
    "        fromlist.append(source)\n",
    "        tolist.append(destination)\n",
    "        move(n -1 , spare, destination, source, fromlist, tolist)\n",
    "    else :\n",
    "        pass\n",
    "\n",
    "n = int(input())\n",
    "\n",
    "a = [] ; b = []\n",
    "move(n, 1, 3, 2, a, b)\n",
    "k = len(a)\n",
    "print(k)\n",
    "for i in range(k) :\n",
    "    print(a[i], b[i])"
   ]
  },
  {
   "cell_type": "markdown",
   "metadata": {},
   "source": [
    "n = 4일 때 위 코드가 어떤 식으로 진행되는지 살펴보도록 하자.  \n",
    "크기 m의 탑은 위에서부터 (1,2,3, ... , m)의 순서로 구성되어 있는 탑이다.\n",
    "\n",
    "```\n",
    "move(4, 1, 3, 2, a, b) # 크기 4의 탑을 A에서 C로 이동\n",
    "    move(3, 1, 2, 3, a, b) # 크기 3의 탑을 A에서 B로 이동\n",
    "        move(2, 1, 3, 2, a, b) # 크기 2의 탑을 A에서 C로 이동\n",
    "            move(1, 1, 2, 3, a, b) # 크기 1의 탑을 A에서 B로 이동\n",
    "                move(0, 1, 3, 2, a, b) # 크기 0의 탑을 A에서 C로 이동 (아무 일도 하지 않음)\n",
    "                a.append(1) ; b.append(b) ### A에서 B로 원판 한 개 이동 ###\n",
    "                move(0, 3, 2, 1, a, b) # 크기 0의 탑을 C에서 B로 이동 (아무 일도 하지 않음)\n",
    "            a.append(1) ; b.append(3) ### A에서 C로 원판 한 개 이동 ### \n",
    "            move(1, 2, 3, 1, a, b) # 크기 1의 탑을 B에서 C로 이동\n",
    "                move(0, 2, 1, 3, a, b) # 크기 0의 탑을 B에서 A로 이동 (아무 일도 하지 않음)\n",
    "                a.append(2) ; b.append(3) ### B에서 C로 원판 한 개 이동 ###\n",
    "                move(0, 1, 3, 2, a, b) # 크기 0의 탑을 A에서 C로 이동 (아무 일도 하지 않음)\n",
    "        a.append(1) ; b.append(2) ### A에서 B로 원판 한 개 이동 ###\n",
    "        move(2, 3, 2, 1, a, b) # 크기 2의 탑을 C에서 B로 이동\n",
    "            move(1, 3, 1, 2, a, b) # 크기 1의 탑을 C에서 A로 이동\n",
    "                move(0, 3, 2, 1, a, b) # 크기 0의 탑을 C에서 B로 이동 (아무 일도 하지 않음)\n",
    "                a.append(3) ; b.append(1) ### C에서 A로 원판 한 개 이동 ###\n",
    "                move(0, 2, 1, 3, a, b) # 크기 0의 탑을 B에서 A로 이동 (아무 일도 하지 않음)\n",
    "            a.append(3) ; b.append(2) ### C에서 B로 원판 한 개 이동 ###\n",
    "            move(1, 1, 2, 3, a, b) # 크기 1의 탑을 A에서 B로 이동\n",
    "                move(0, 1, 3, 2, a, b) # 크기 0의 탑을 A에서 C로 이동\n",
    "                a.append(1) ; b.append(2) ### A에서 B로 원판 한 개 이동 ###\n",
    "                move(0, 3, 2, 1, a, b) # 크기 0의 탑을 C에서 B로 이동\n",
    "    a.append(1) ; b.append(3) ### A에서 C로 원판 한 개 이동 ###\n",
    "    move(3, 2, 3, 1, a, b) # 크기 3의 탑을 B에서 C로 이동\n",
    "        move(2, 2, 1, 3, a, b) # 크기 2의 탑을 B에서 A로 이동\n",
    "            move(1, 2, 3, 1, a, b) # 크기 1의 탑을 B에서 C로 이동\n",
    "                move(0, 2, 1, 3, a, b) # 크기 0의 탑을 B에서 A로 이동 (아무 일도 하지 않음)\n",
    "                a.append(2) ; b.append(3) ### B에서 C로 원판 한 개 이동 ###\n",
    "                move(0, 1, 3, 2, a, b) # 크기 0의 탑을 A에서 C로 이동 (아무 일도 하지 않음)\n",
    "            a.append(2) ; b.append(1) ### B에서 A로 원판 한 개 이동 ###\n",
    "            move(1, 3, 1, 2, a, b) # 크기 1의 탑을 C에서 A로 이동\n",
    "                move(0, 3, 2, 1, a, b) # 크기 0의 탑을 C에서 B로 이동 (아무 일도 하지 않음)\n",
    "                a.append(3) ; b.append(1) ### C에서 A로 원판 한 개 이동 ###\n",
    "                move(0, 2, 1, 3, a, b) # 크기 0의 탑을 B에서 A로 이동 (아무 일도 하지 않음)\n",
    "        a.append(2) ; b.append(3) ### B에서 C로 원 판 한 개 이동 ###\n",
    "        move(2, 1, 3, 2, a, b) # 크기 2의 탑을 A에서 C로 이동\n",
    "            move(1, 1, 2, 3, a, b) # 크기 1의 탑을 A에서 B로 이동\n",
    "                move(0, 1, 3, 2, a, b) # 크기 0의 탑을 A에서 C로 이동\n",
    "                a.append(1) ; b.append(2) ### A에서 B로 원판 한 개 이동 ###\n",
    "                move(0, 3, 2, 1, a, b) # 크기 0의 탑을 C에서 B로 이동\n",
    "            a.append(1) ; b.append(3) ### A에서 C로 원판 한 개 이동 ###\n",
    "            move(1, 2, 3, 1, a, b) # 크기 1의 탑을 B에서 C로 이동\n",
    "                move(0, 2, 1, 3, a, b) # 크기 0의 탑을 B에서 A로 이동\n",
    "                a.append(2) ; b.append(3) ### B에서 C로 원판 한 개 이동 ###\n",
    "                move(0, 1, 3, 2, a, b) # 크기 0의 탑을 A에서 C로 이동\n",
    "```"
   ]
  }
 ],
 "metadata": {
  "interpreter": {
   "hash": "d88d8acdbfaa835a5f857244e00e0be2fef710e8821cc5222c903f5a03bf61bd"
  },
  "kernelspec": {
   "display_name": "Python 3.8.8 ('base')",
   "language": "python",
   "name": "python3"
  },
  "language_info": {
   "codemirror_mode": {
    "name": "ipython",
    "version": 3
   },
   "file_extension": ".py",
   "mimetype": "text/x-python",
   "name": "python",
   "nbconvert_exporter": "python",
   "pygments_lexer": "ipython3",
   "version": "3.8.8"
  },
  "orig_nbformat": 4
 },
 "nbformat": 4,
 "nbformat_minor": 2
}
