{
 "cells": [
  {
   "cell_type": "code",
   "execution_count": 63,
   "metadata": {},
   "outputs": [],
   "source": [
    "class Queue :\n",
    "    def __init__(self) :\n",
    "        self.queue = []\n",
    "    def __init__(self, list) :\n",
    "        copylist = list.copy()\n",
    "        self.queue = copylist\n",
    "    def push(self, x) :\n",
    "        self.queue.append(x)\n",
    "    def pop(self) :\n",
    "        if self.queue :\n",
    "            tmp = self.queue[0]\n",
    "            del self.queue[0]\n",
    "            return tmp\n",
    "        else :\n",
    "            return -1\n",
    "    def size(self) :\n",
    "        return len(self.queue)\n",
    "    def empty(self) :\n",
    "        if self.queue :\n",
    "            return 0 \n",
    "        else :\n",
    "            return 1\n",
    "    def front(self) :\n",
    "        if self.queue :\n",
    "            return self.queue[0]\n",
    "        else :\n",
    "            return -1\n",
    "    def back(self) :\n",
    "        if self.queue :\n",
    "            return self.queue[-1]\n",
    "        else :\n",
    "            return -1\n",
    "    def __repr__(self) :\n",
    "        string = \"queue : [\"\n",
    "        for elem in self.queue :\n",
    "            string += \" \" + str(elem) \n",
    "        string += \" ]\"\n",
    "        return string\n"
   ]
  },
  {
   "cell_type": "code",
   "execution_count": 5,
   "metadata": {},
   "outputs": [
    {
     "name": "stdout",
     "output_type": "stream",
     "text": [
      "1\n",
      "2\n",
      "0\n",
      "1\n",
      "2\n",
      "-1\n",
      "0\n",
      "1\n",
      "-1\n",
      "0\n",
      "3\n"
     ]
    }
   ],
   "source": [
    "n = int(input())\n",
    "que = Queue()\n",
    "for i in range(n) :\n",
    "    command = input().split()\n",
    "    if command[0] == \"push\" :\n",
    "        que.push(int(command[1]))\n",
    "    elif command[0] == \"pop\" :\n",
    "        a = que.pop()\n",
    "        print(a)\n",
    "    elif command[0] == \"size\" :\n",
    "        a = que.size()\n",
    "        print(a)\n",
    "    elif command[0] == \"empty\" :\n",
    "        a = que.empty()\n",
    "        print(a)\n",
    "    elif command[0] == \"front\" :\n",
    "        a = que.front()\n",
    "        print(a)\n",
    "    elif command[0] == \"back\" :\n",
    "        a = que.back()\n",
    "        print(a)\n",
    "    else :\n",
    "        pass\n"
   ]
  },
  {
   "cell_type": "markdown",
   "metadata": {},
   "source": [
    "## 1966번 : 프린터 큐"
   ]
  },
  {
   "cell_type": "markdown",
   "metadata": {},
   "source": [
    "문제"
   ]
  },
  {
   "cell_type": "markdown",
   "metadata": {},
   "source": [
    "여러분도 알다시피 여러분의 프린터 기기는 여러분이 인쇄하고자 하는 문서를 인쇄 명령을 받은 ‘순서대로’, 즉 먼저 요청된 것을 먼저 인쇄한다. 여러 개의 문서가 쌓인다면 Queue 자료구조에 쌓여서 FIFO - First In First Out - 에 따라 인쇄가 되게 된다. 하지만 상근이는 새로운 프린터기 내부 소프트웨어를 개발하였는데, 이 프린터기는 다음과 같은 조건에 따라 인쇄를 하게 된다.\n",
    "\n",
    "1. 현재 Queue의 가장 앞에 있는 문서의 ‘중요도’를 확인한다.\n",
    "2. 나머지 문서들 중 현재 문서보다 중요도가 높은 문서가 하나라도 있다면, 이 문서를 인쇄하지 않고 Queue의 가장 뒤에 재배치 한다. 그렇지 않다면 바로 인쇄를 한다.  \n",
    "\n",
    "예를 들어 Queue에 4개의 문서(A B C D)가 있고, 중요도가 2 1 4 3 라면 C를 인쇄하고, 다음으로 D를 인쇄하고 A, B를 인쇄하게 된다.\n",
    "\n",
    "여러분이 할 일은, 현재 Queue에 있는 문서의 수와 중요도가 주어졌을 때, 어떤 한 문서가 몇 번째로 인쇄되는지 알아내는 것이다. 예를 들어 위의 예에서 C문서는 1번째로, A문서는 3번째로 인쇄되게 된다."
   ]
  },
  {
   "cell_type": "markdown",
   "metadata": {},
   "source": [
    "첫 줄에 테스트케이스의 수가 주어진다. 각 테스트케이스는 두 줄로 이루어져 있다.\n",
    "\n",
    "테스트케이스의 첫 번째 줄에는 문서의 개수 N(1 ≤ N ≤ 100)과, 몇 번째로 인쇄되었는지 궁금한 문서가 현재 Queue에서 몇 번째에 놓여 있는지를 나타내는 정수 M(0 ≤ M < N)이 주어진다. 이때 맨 왼쪽은 0번째라고 하자.  \n",
    "두 번째 줄에는 N개 문서의 중요도가 차례대로 주어진다. 중요도는 1 이상 9 이하의 정수이고, 중요도가 같은 문서가 여러 개 있을 수도 있다."
   ]
  },
  {
   "cell_type": "code",
   "execution_count": 137,
   "metadata": {},
   "outputs": [
    {
     "name": "stdout",
     "output_type": "stream",
     "text": [
      "1\n",
      "2\n",
      "5\n"
     ]
    }
   ],
   "source": [
    "T = int(input())\n",
    "for j in range(T) :\n",
    "    n, i = list(map(int, input().split()))  # 프린트해야 할 문서의 개수 n , 몇 번째로 인쇄되었는 지 궁금한 문서의 인덱스 i\n",
    "    importance = list(map(int, input().split()))  # 각 문서의 중요도 리스트\n",
    "    printQ = Queue(importance)   # 프린트 큐 : 중요도 리스트를 큐에 넣음 \n",
    "    orderQ = Queue(list(range(n)))  # 오더 큐 : 각 문서의 고유 인덱스를 큐에 넣음\n",
    "    printed = []   # 실제 프린트를 할 때마다 이 리스트에 append할 것.\n",
    "    while not printQ.empty() :  # 프린트 큐에 아직 문서가 남아 있을 경우\n",
    "        largest = max(printQ.queue)  # 남아 있는 문서 들 중 중요도가 가장 높은 문서의 중요도\n",
    "        if printQ.front() == largest :  # 만약 프린트 큐에서 가장 앞에 있는 문서의 중요도가 max 중요도를 가진다면\n",
    "            printQ.pop()  # 프린트 큐에서 해당 문서를 지우고\n",
    "            printed.append(orderQ.pop())  # 오더 큐에서도 해당 문서와 대응되는 인덱스를 지우고 그것을 printed 리스트에 넣어준다.\n",
    "        else :  # 만약 프린트 큐에서 가장 앞에 있는 문서의 중요도가 max 중요도를 가지지 않는다면\n",
    "            printQ.push(printQ.pop())  # 프린트 큐에서 해당 문서를 가장 뒤로 보내고\n",
    "            orderQ.push(orderQ.pop())  # 오더 큐에서 해당 문서와 대응되는 인덱스를 가장 뒤로 보낸다.\n",
    "    # 프린트큐에 문서가 남지 않았다는 것은 모든 문서의 인쇄가 끝났다는 것을 의미\n",
    "    print(printed.index(i)+1)    # i번째 인덱스에 대응되는 문서가 몇 번째로 인쇄되었는 지를 출력\n"
   ]
  }
 ],
 "metadata": {
  "interpreter": {
   "hash": "d88d8acdbfaa835a5f857244e00e0be2fef710e8821cc5222c903f5a03bf61bd"
  },
  "kernelspec": {
   "display_name": "Python 3.8.8 ('base')",
   "language": "python",
   "name": "python3"
  },
  "language_info": {
   "codemirror_mode": {
    "name": "ipython",
    "version": 3
   },
   "file_extension": ".py",
   "mimetype": "text/x-python",
   "name": "python",
   "nbconvert_exporter": "python",
   "pygments_lexer": "ipython3",
   "version": "3.8.8"
  },
  "orig_nbformat": 4
 },
 "nbformat": 4,
 "nbformat_minor": 2
}
