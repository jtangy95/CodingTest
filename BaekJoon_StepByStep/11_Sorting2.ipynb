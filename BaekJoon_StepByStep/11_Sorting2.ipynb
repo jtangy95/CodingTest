{
 "cells": [
  {
   "cell_type": "markdown",
   "metadata": {},
   "source": [
    "# 정렬 2"
   ]
  },
  {
   "cell_type": "markdown",
   "metadata": {},
   "source": [
    "## 2108번 : 통계학"
   ]
  },
  {
   "cell_type": "markdown",
   "metadata": {},
   "source": [
    "문제"
   ]
  },
  {
   "cell_type": "markdown",
   "metadata": {},
   "source": [
    "수를 처리하는 것은 통계학에서 상당히 중요한 일이다. 통계학에서 N개의 수를 대표하는 기본 통계값에는 다음과 같은 것들이 있다. 단, N은 홀수라고 가정하자.  \n",
    "\n",
    "산술평균 : N개의 수들의 합을 N으로 나눈 값  \n",
    "중앙값 : N개의 수들을 증가하는 순서로 나열했을 경우 그 중앙에 위치하는 값  \n",
    "최빈값 : N개의 수들 중 가장 많이 나타나는 값  \n",
    "범위 : N개의 수들 중 최댓값과 최솟값의 차이  \n",
    "\n",
    "N개의 수가 주어졌을 때, 네 가지 기본 통계값을 구하는 프로그램을 작성하시오.  \n",
    "\n",
    "첫째 줄에 수의 개수 N(1 ≤ N ≤ 500,000)이 주어진다. 단, N은 홀수이다.  \n",
    "그 다음 N개의 줄에는 정수들이 주어진다. 입력되는 정수의 절댓값은 4,000을 넘지 않는다.\n",
    "\n",
    "첫째 줄에는 산술평균을 출력한다. 소수점 이하 첫째 자리에서 반올림한 값을 출력한다.  \n",
    "둘째 줄에는 중앙값을 출력한다.  \n",
    "셋째 줄에는 최빈값을 출력한다. 여러 개 있을 때에는 최빈값 중 두 번째로 작은 값을 출력한다.  \n",
    "넷째 줄에는 범위를 출력한다.  "
   ]
  },
  {
   "cell_type": "markdown",
   "metadata": {},
   "source": [
    "답안 제출"
   ]
  },
  {
   "cell_type": "code",
   "execution_count": 1,
   "metadata": {},
   "outputs": [],
   "source": [
    "# 리스트 a의 원소가 절대값 M이하의 정수들일 때 최빈값을 계산해주는 함수\n",
    "def mode(a, M) :\n",
    "    nonnegCount = [0 for i in range(M+1)]\n",
    "    negCount = [0 for i in range(M)]\n",
    "    for elem in a :\n",
    "        if elem >= 0 :\n",
    "            nonnegCount[elem] += 1\n",
    "        else :\n",
    "            negCount[-elem -1] += 1\n",
    "    mostCounted = []\n",
    "    C1 = max(nonnegCount)\n",
    "    C2 = max(negCount)\n",
    "    if C1 > C2 :\n",
    "        for j in range(M+1) :\n",
    "            if nonnegCount[j] == C1 :\n",
    "                mostCounted.append(j)\n",
    "    elif C1 < C2 :\n",
    "        for j in range(M) :\n",
    "            if negCount[j] == C2 :\n",
    "                mostCounted.append(-j-1)\n",
    "    else :  # C1 == C2 case\n",
    "        for j in range(M+1) :\n",
    "            if nonnegCount[j] == C1 :\n",
    "                mostCounted.append(j)\n",
    "        for j in range(M) :\n",
    "            if negCount[j] == C2 :\n",
    "                mostCounted.append(-j-1)\n",
    "    mostCounted.sort()\n",
    "    if len(mostCounted) == 1 :\n",
    "        return mostCounted[0]\n",
    "    else : # 최빈값이 여러개일 경우 최빈값 중 두 번째로 작은 값 리턴\n",
    "        return mostCounted[1] \n"
   ]
  },
  {
   "cell_type": "code",
   "execution_count": 4,
   "metadata": {},
   "outputs": [
    {
     "name": "stdout",
     "output_type": "stream",
     "text": [
      "3\n",
      "32\n",
      "-102\n",
      "1195\n"
     ]
    }
   ],
   "source": [
    "n = int(input())\n",
    "a = []\n",
    "for i in range(n) :\n",
    "    a.append(int(input()))\n",
    "\n",
    "a.sort()\n",
    "print(round(sum(a)/n))  # 소수점 이하 첫째 자리에서 반올림\n",
    "print(a[(n+1)//2 -1])  # n이 홀수라고 가정했을 때 중앙값\n",
    "print(mode(a, 4000)) # 입력되는 정수의 절대값이 4000을 넘지 않는다는 가정 하에서의 최빈값\n",
    "print(a[n-1] - a[0])"
   ]
  },
  {
   "cell_type": "markdown",
   "metadata": {},
   "source": [
    "## 11650번 : 좌표 정렬하기"
   ]
  },
  {
   "cell_type": "markdown",
   "metadata": {},
   "source": [
    "문제"
   ]
  },
  {
   "cell_type": "markdown",
   "metadata": {},
   "source": [
    "2차원 평면 위의 점 N개가 주어진다.  \n",
    "좌표를 x좌표가 증가하는 순으로, x좌표가 같으면 y좌표가 증가하는 순서로 정렬한 다음 출력하는 프로그램을 작성하시오."
   ]
  },
  {
   "cell_type": "markdown",
   "metadata": {},
   "source": [
    "리스트의 원소가 정수나 실수 등의 숫자가 아닌 객체인 경우, 리스트의 정렬은 다음과 같은 방식으로 이루어질 수 있다.\n",
    "- `list.sort()` 함수의 `key` argument 사용.\n",
    "- 객체의 클래스를 정의할 때 equality와 inequality 오버로딩."
   ]
  },
  {
   "cell_type": "markdown",
   "metadata": {},
   "source": [
    "첫 번째 방식은 다음과 같이 여러 attribute가 있는 클래스에서, 정수나 실수처럼 비교가 가능한 하나의 attribute를 기준으로 sort하는 것이다.  \n",
    "이때 `list.sort(key = lambda x : x.attribute)`와 같은 방식을 사용한다."
   ]
  },
  {
   "cell_type": "code",
   "execution_count": null,
   "metadata": {},
   "outputs": [],
   "source": [
    "class Employee:\n",
    " \n",
    "    def __init__(self, name, dept, age):\n",
    "        self.name = name\n",
    "        self.dept = dept\n",
    "        self.age = age\n",
    " \n",
    "    def __repr__(self):\n",
    "        return '{' + self.name + ', ' + self.dept + ', ' + str(self.age) + '}'\n",
    " \n",
    "\n",
    "employees = [\n",
    "    Employee('John', 'IT', 28),\n",
    "    Employee('Sam', 'Banking', 20),\n",
    "    Employee('Joe', 'Finance', 25)\n",
    "]\n",
    "\n",
    "# sort list by `age` in the natural order\n",
    "employees.sort(key=lambda x: x.age)\n",
    "\n",
    "# output: [{Joe, Finance, 25}, {John, IT, 28}, {Sam, Banking, 20}]\n",
    "print(employees)\n",
    "\n",
    "# sort list by `age` in reverse order\n",
    "employees.sort(key=lambda x: x.age, reverse=True)\n",
    "\n",
    "# output: [{Sam, Banking, 20}, {John, IT, 28}, {Joe, Finance, 25}]\n",
    "print(employees)"
   ]
  },
  {
   "cell_type": "markdown",
   "metadata": {},
   "source": [
    "첫 번째 방식으로 정렬하기 어려울 경우, 다음과 같이 클래스 내부에서 equality와 inquality를 새롭게 정의해서 오버로딩해주는 방법이 있다.  \n",
    "이렇게 할 경우 `sort()`에서 별다른 argument 없이도 원하는 대로 정렬을 할 수가 있다."
   ]
  },
  {
   "cell_type": "markdown",
   "metadata": {},
   "source": [
    "답안 제출"
   ]
  },
  {
   "cell_type": "code",
   "execution_count": 15,
   "metadata": {},
   "outputs": [],
   "source": [
    "class Point2D :\n",
    "    def __init__(self, x: int, y: int) :\n",
    "        self.x = x\n",
    "        self.y = y\n",
    "    def __eq__(self, other) :\n",
    "        return (self.x, self.y) == (other.x, other.y)\n",
    "    def __ne__(self, other) :\n",
    "        return (self.x, self.y) != (other.x, other.y)\n",
    "    def __lt__(self, other) :\n",
    "        return self.x < other.x or (self.x == other.x and self.y < other.y)\n",
    "    def __le__(self, other) :\n",
    "        return self.x < other.x or (self.x == other.x and self.y <= other.y)\n",
    "    def __gt__(self, other) :\n",
    "        return self.x > other.x or (self.x == other.x and self.y > other.y)\n",
    "    def __ge__(self, other) :\n",
    "        return self.x > other.x or (self.x == other.x and self.y >= other.y)\n",
    "    def __repr__(self) :\n",
    "        return \"%s %s\"%(self.x, self.y)\n",
    "\n"
   ]
  },
  {
   "cell_type": "code",
   "execution_count": 17,
   "metadata": {},
   "outputs": [
    {
     "name": "stdout",
     "output_type": "stream",
     "text": [
      "-9 1\n",
      "-1 3\n",
      "-1 5\n",
      "3 2\n",
      "5 6\n",
      "6 5\n",
      "8 -1\n",
      "8 7\n"
     ]
    }
   ],
   "source": [
    "n = int(input())\n",
    "a = []\n",
    "for i in range(n) :\n",
    "    x, y = list(map(int, input().split()))\n",
    "    a.append(Point2D(x, y))\n",
    "a.sort()\n",
    "for elem in a :\n",
    "    print(elem)"
   ]
  },
  {
   "cell_type": "markdown",
   "metadata": {},
   "source": [
    "Alternative 답안"
   ]
  },
  {
   "cell_type": "markdown",
   "metadata": {},
   "source": [
    "`sort()` 메서드의 `key` argument를 활용해 다음과 같이 구현할 수 있다. 위의 코드에 비해 간결하다."
   ]
  },
  {
   "cell_type": "code",
   "execution_count": 41,
   "metadata": {},
   "outputs": [
    {
     "name": "stdout",
     "output_type": "stream",
     "text": [
      "-9 1\n",
      "-1 3\n",
      "-1 5\n",
      "3 2\n",
      "5 6\n",
      "6 5\n",
      "8 -8\n",
      "8 -1\n"
     ]
    }
   ],
   "source": [
    "class Point2D :\n",
    "    def __init__(self, x: int, y: int) :\n",
    "        self.x = x\n",
    "        self.y = y\n",
    "    def __repr__(self) :\n",
    "        return \"%s %s\"%(self.x, self.y)\n",
    "n = int(input())\n",
    "a = []\n",
    "for i in range(n) :\n",
    "    x, y = list(map(int, input().split()))\n",
    "    a.append(Point2D(x, y))\n",
    "a.sort(key = lambda obj : (obj.x, obj.y))\n",
    "for elem in a :\n",
    "    print(elem)\n"
   ]
  },
  {
   "cell_type": "markdown",
   "metadata": {},
   "source": [
    "## 11651번 : 좌표 정렬하기 2"
   ]
  },
  {
   "cell_type": "markdown",
   "metadata": {},
   "source": [
    "문제"
   ]
  },
  {
   "cell_type": "markdown",
   "metadata": {},
   "source": [
    "2차원 평면 위의 점 N개가 주어진다.  \n",
    "좌표를 y좌표가 증가하는 순으로, y좌표가 같으면 x좌표가 증가하는 순서로 정렬한 다음 출력하는 프로그램을 작성하시오."
   ]
  },
  {
   "cell_type": "markdown",
   "metadata": {},
   "source": [
    "위의 문제와 거의 같은 방식으로 해결할 수 있다. 클래스에서 inequality 오버로딩할 때 x와 y의 역할만 반대로 바꿔주면 된다."
   ]
  },
  {
   "cell_type": "code",
   "execution_count": 43,
   "metadata": {},
   "outputs": [
    {
     "name": "stdout",
     "output_type": "stream",
     "text": [
      "8 -7\n",
      "8 -1\n",
      "-9 1\n",
      "3 2\n",
      "-1 3\n",
      "-1 5\n",
      "6 5\n",
      "5 6\n"
     ]
    }
   ],
   "source": [
    "class Point2D :\n",
    "    def __init__(self, x : int, y: int) :\n",
    "        self.x = x\n",
    "        self.y = y\n",
    "    def __eq__(self, other) :\n",
    "        return (self.x, self.y) == (other.x, other.y)\n",
    "    def __ne__(self, other) :\n",
    "        return (self.x, self.y) != (other.x, other.y)\n",
    "    def __lt__(self, other) :\n",
    "        return self.y < other.y or (self.y == other.y and self.x < other.x)\n",
    "    def __le__(self, other) :\n",
    "        return self.y < other.y or (self.y == other.y and self.x <= other.x)\n",
    "    def __gt__(self, other) :\n",
    "        return self.y > other.y or (self.y == other.y and self.x > other.x)\n",
    "    def __ge__(self, other) :\n",
    "        return self.y > other.y or (self.y == other.y and self.x >= other.x)\n",
    "    def __repr__(self) :\n",
    "        return \"%s %s\"%(self.x, self.y)\n",
    "n = int(input())\n",
    "a = []\n",
    "for i in range(n) :\n",
    "    x, y = list(map(int, input().split()))\n",
    "    a.append(Point2D(x, y))\n",
    "a.sort()\n",
    "for elem in a :\n",
    "    print(elem)\n",
    "\n"
   ]
  },
  {
   "cell_type": "markdown",
   "metadata": {},
   "source": [
    "Alternative"
   ]
  },
  {
   "cell_type": "code",
   "execution_count": 46,
   "metadata": {},
   "outputs": [
    {
     "name": "stdout",
     "output_type": "stream",
     "text": [
      "8 -7\n",
      "8 -1\n",
      "-9 1\n",
      "3 2\n",
      "-1 3\n",
      "-1 5\n",
      "6 5\n",
      "5 6\n"
     ]
    }
   ],
   "source": [
    "class Point2D :\n",
    "    def __init__(self, x: int, y: int) :\n",
    "        self.x = x\n",
    "        self.y = y\n",
    "    def __repr__(self) :\n",
    "        return \"%s %s\"%(self.x, self.y)\n",
    "n = int(input())\n",
    "a = []\n",
    "for i in range(n) :\n",
    "    x, y = list(map(int, input().split()))\n",
    "    a.append(Point2D(x, y))\n",
    "a.sort(key = lambda obj : (obj.y, obj.x))\n",
    "for elem in a :\n",
    "    print(elem)\n"
   ]
  },
  {
   "cell_type": "markdown",
   "metadata": {},
   "source": [
    "## 1181번 : 단어 정렬"
   ]
  },
  {
   "cell_type": "markdown",
   "metadata": {},
   "source": [
    "문제"
   ]
  },
  {
   "cell_type": "markdown",
   "metadata": {},
   "source": [
    "알파벳 소문자로 이루어진 N개의 단어가 들어오면 아래와 같은 조건에 따라 정렬하는 프로그램을 작성하시오.\n",
    "\n",
    "1. 길이가 짧은 것부터\n",
    "2. 길이가 같으면 사전 순으로\n",
    "\n",
    "조건에 따라 정렬하여 단어들을 출력한다. 단, 같은 단어가 여러 번 입력된 경우에는 한 번씩만 출력한다.\n"
   ]
  },
  {
   "cell_type": "markdown",
   "metadata": {},
   "source": [
    "기본적으로 파이썬에서는 string을 원소로 갖는 리스트를 alphabetical order에 따라 sort한다. 즉, 사전 순서 대로 정렬한다고 볼 수 있다."
   ]
  },
  {
   "cell_type": "code",
   "execution_count": 40,
   "metadata": {},
   "outputs": [
    {
     "data": {
      "text/plain": [
       "['apple', 'hello', 'man', 'student', 'what']"
      ]
     },
     "execution_count": 40,
     "metadata": {},
     "output_type": "execute_result"
    }
   ],
   "source": [
    "sorted([\"hello\", \"apple\", \"what\", \"student\", \"man\"])"
   ]
  },
  {
   "cell_type": "markdown",
   "metadata": {},
   "source": [
    "단어의 길이를 정렬 조건에 반영하기 위해 다음과 같이 새롭게 클래스를 만들어주고 equality와 inequality를 오버로딩해주도록 하자."
   ]
  },
  {
   "cell_type": "code",
   "execution_count": 28,
   "metadata": {},
   "outputs": [],
   "source": [
    "class vocab :\n",
    "    def __init__(self, s :str) :\n",
    "        self.string = s\n",
    "        self.length = len(s)\n",
    "    def __eq__(self, other) :\n",
    "        return self.string == other.string\n",
    "    def __ne__(self, other) :\n",
    "        return self.string != other.string\n",
    "    def __lt__(self, other) :\n",
    "        return self.length < other.length or (self.length == other.length and self.string < other.string)\n",
    "    def __le__(self, other) :\n",
    "        return self.length < other.length or (self.length == other.length and self.string <= other.string)\n",
    "    def __gt__(self, other) :\n",
    "        return self.length > other.length or (self.length == other.length and self.string > other.string)\n",
    "    def __ge__(self, other) :\n",
    "        return self.length > other.length or (self.length == other.length and self.string >= other.string)\n",
    "    def __repr__(self) :\n",
    "        return self.string\n",
    "\n"
   ]
  },
  {
   "cell_type": "code",
   "execution_count": 37,
   "metadata": {},
   "outputs": [
    {
     "name": "stdout",
     "output_type": "stream",
     "text": [
      "i\n",
      "im\n",
      "it\n",
      "no\n",
      "but\n",
      "more\n",
      "wait\n",
      "wont\n",
      "yours\n",
      "cannot\n",
      "hesitate\n"
     ]
    }
   ],
   "source": [
    "n = int(input())\n",
    "a = []\n",
    "for i in range(n) :\n",
    "    a.append(vocab(input()))\n",
    "a.sort()\n",
    "current = vocab(\"\")\n",
    "for elem in a :\n",
    "    if elem != current :\n",
    "        print(elem)\n",
    "        current = elem\n",
    "    else :\n",
    "        pass"
   ]
  },
  {
   "cell_type": "markdown",
   "metadata": {},
   "source": [
    "Alternative 답안"
   ]
  },
  {
   "cell_type": "markdown",
   "metadata": {},
   "source": [
    "2d space에서 주어진 좌표를 정렬할 때와 마찬가지로, `sort()` 메서드의 `key` argument를 사용하여 다음과 같이 간결하게 구현할 수 있다."
   ]
  },
  {
   "cell_type": "code",
   "execution_count": 49,
   "metadata": {},
   "outputs": [
    {
     "name": "stdout",
     "output_type": "stream",
     "text": [
      "i\n",
      "im\n",
      "it\n",
      "no\n",
      "but\n",
      "more\n",
      "wait\n",
      "wont\n",
      "yours\n",
      "cannot\n",
      "hesitate\n"
     ]
    }
   ],
   "source": [
    "class vocab :\n",
    "    def __init__(self, s :str) :\n",
    "        self.string = s\n",
    "        self.length = len(s)\n",
    "    def __eq__(self, other) :\n",
    "        return self.string == other.string\n",
    "    def __ne__(self, other) :\n",
    "        return self.string != other.string\n",
    "    def __repr__(self) :\n",
    "        return self.string\n",
    "\n",
    "n = int(input())\n",
    "a = []\n",
    "for i in range(n) :\n",
    "    a.append(vocab(input()))\n",
    "a.sort(key = lambda obj : (obj.length, obj.string))\n",
    "current = vocab(\"\")\n",
    "for elem in a :\n",
    "    if elem != current :\n",
    "        print(elem)\n",
    "        current = elem\n",
    "    else :\n",
    "        pass"
   ]
  },
  {
   "cell_type": "markdown",
   "metadata": {},
   "source": [
    "## 10814번 : 나이순 정렬"
   ]
  },
  {
   "cell_type": "markdown",
   "metadata": {},
   "source": [
    "문제"
   ]
  },
  {
   "cell_type": "markdown",
   "metadata": {},
   "source": [
    "온라인 저지에 가입한 사람들의 나이와 이름이 가입한 순서대로 주어진다. 이때, 회원들을 나이가 증가하는 순으로, 나이가 같으면 먼저 가입한 사람이 앞에 오는 순서로 정렬하는 프로그램을 작성하시오.\n",
    "\n",
    "나이는 1보다 크거나 같으며, 200보다 작거나 같은 정수이고, 이름은 알파벳 대소문자로 이루어져 있고, 길이가 100보다 작거나 같은 문자열이다. 입력은 가입한 순서로 주어진다."
   ]
  },
  {
   "cell_type": "markdown",
   "metadata": {},
   "source": [
    "값이 같은 원소끼리는 정렬 후에 원래의 순서가  바뀌지 않는 성질을 stable sort라고 지칭한다.  \n",
    "번역하면 \"안정성을 유지하면서 정렬한다\"고 표현할 수 있다.\n",
    "\n",
    "stable sort를 위해서 버킷을 활용하도록 하겠다.  \n",
    "나이순으로 정렬하되 회원가입 순서를 기억해야 하므로  \n",
    "우선 나이 별로 200개의 버켓을 준비해놓고  \n",
    "가입한 순서대로 회원들을 조사하면서 해당 나이에 대응되는 버켓에 append하면 된다.  \n",
    "버켓에 넣는 작업을 마치고 나면 나이순으로 버켓을 하나씩 extend하면 된다."
   ]
  },
  {
   "cell_type": "markdown",
   "metadata": {},
   "source": [
    "파이썬 리스트에서 append와 extend의 차이는 다음과 같다."
   ]
  },
  {
   "cell_type": "code",
   "execution_count": 67,
   "metadata": {},
   "outputs": [
    {
     "name": "stdout",
     "output_type": "stream",
     "text": [
      "[1, 2, 3, [4, 5]]\n"
     ]
    }
   ],
   "source": [
    "x = [1, 2, 3] ; y = [4, 5]\n",
    "x.append(y)\n",
    "print(x)"
   ]
  },
  {
   "cell_type": "code",
   "execution_count": 68,
   "metadata": {},
   "outputs": [
    {
     "name": "stdout",
     "output_type": "stream",
     "text": [
      "[1, 2, 3, 4, 5]\n"
     ]
    }
   ],
   "source": [
    "x = [1, 2, 3] ; y = [4, 5]\n",
    "x.extend(y)\n",
    "print(x)"
   ]
  },
  {
   "cell_type": "markdown",
   "metadata": {},
   "source": [
    "답안 제출"
   ]
  },
  {
   "cell_type": "code",
   "execution_count": 64,
   "metadata": {},
   "outputs": [],
   "source": [
    "class member :\n",
    "    def __init__(self, age : int, name : str) :\n",
    "        self.age = age\n",
    "        self.name = name\n",
    "    def __eq__(self, other) :\n",
    "        return (self.age, self.name) == (other.age, other.name)\n",
    "    def __ne__(self, other) :\n",
    "        return (self.age, self.name) != (other.age, other.name)\n",
    "    def __repr__(self) :\n",
    "        return str(self.age) + \" \" + self.name\n",
    "    "
   ]
  },
  {
   "cell_type": "code",
   "execution_count": 65,
   "metadata": {},
   "outputs": [
    {
     "name": "stdout",
     "output_type": "stream",
     "text": [
      "20 Jack\n",
      "21 Bob\n",
      "21 Steve\n"
     ]
    }
   ],
   "source": [
    "n = int(input())\n",
    "a = []\n",
    "for i in range(n) :\n",
    "    age, name = input().split()\n",
    "    age = int(age)\n",
    "    a.append(member(age, name))\n",
    "\n",
    "buckets = [[] for i in range(200)]\n",
    "\n",
    "for mem in a :\n",
    "    buckets[mem.age -1].append(mem)\n",
    "a.clear()\n",
    "for bucket in buckets :\n",
    "    a.extend(bucket) \n",
    "\n",
    "for elem in a :\n",
    "    print(elem)"
   ]
  },
  {
   "cell_type": "code",
   "execution_count": null,
   "metadata": {},
   "outputs": [],
   "source": []
  }
 ],
 "metadata": {
  "interpreter": {
   "hash": "d88d8acdbfaa835a5f857244e00e0be2fef710e8821cc5222c903f5a03bf61bd"
  },
  "kernelspec": {
   "display_name": "Python 3.8.8 ('base')",
   "language": "python",
   "name": "python3"
  },
  "language_info": {
   "codemirror_mode": {
    "name": "ipython",
    "version": 3
   },
   "file_extension": ".py",
   "mimetype": "text/x-python",
   "name": "python",
   "nbconvert_exporter": "python",
   "pygments_lexer": "ipython3",
   "version": "3.8.8"
  },
  "orig_nbformat": 4
 },
 "nbformat": 4,
 "nbformat_minor": 2
}
