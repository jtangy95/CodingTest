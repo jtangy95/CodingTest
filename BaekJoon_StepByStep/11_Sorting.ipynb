{
 "cells": [
  {
   "cell_type": "markdown",
   "metadata": {},
   "source": [
    "# 정렬"
   ]
  },
  {
   "cell_type": "markdown",
   "metadata": {},
   "source": [
    "정렬 알고리즘에서는 리스트의 두 원소를 switch해야 하는 경우가 많은데, python에서는 다음과 같이 간단하게 리스트 `a`의 `i`번째 원소와 `j`번째 원소를 switch할 수 있다.\n",
    "```\n",
    "a[i], a[j] = a[j], a[i]\n",
    "```"
   ]
  },
  {
   "cell_type": "code",
   "execution_count": 159,
   "metadata": {},
   "outputs": [
    {
     "name": "stdout",
     "output_type": "stream",
     "text": [
      "[0, 1, 3, 2, 4, 5, 6, 7, 8, 9]\n"
     ]
    }
   ],
   "source": [
    "a = list(range(10))\n",
    "a[2], a[3] = a[3], a[2]\n",
    "print(a)"
   ]
  },
  {
   "cell_type": "markdown",
   "metadata": {},
   "source": [
    "## 2750번 : 기본 정렬"
   ]
  },
  {
   "cell_type": "markdown",
   "metadata": {},
   "source": [
    "평균적 시간 복잡도가 $O(n^2)$인 기본 정렬 방식으로는 선택정렬, 버블정렬, 삽입정렬 방식이 있다.  \n",
    "재귀적 구조를 쓰지 말고 일반적인 반복문으로 짜도록 하자."
   ]
  },
  {
   "cell_type": "markdown",
   "metadata": {},
   "source": [
    "#### 선택정렬"
   ]
  },
  {
   "cell_type": "markdown",
   "metadata": {},
   "source": [
    "- 최대 원소를 찾아서 리스트의 맨 뒤에 있는 원소와 스위치 해준다.\n",
    "- 맨 뒤에 있는 원소를 제외한 나머지 리스트에서 같은 작업을 반복한다."
   ]
  },
  {
   "cell_type": "code",
   "execution_count": 74,
   "metadata": {},
   "outputs": [],
   "source": [
    "def selectSort(a : list, n : int) :\n",
    "    for length in range(n, 1, -1) :\n",
    "        largestIdx = 0\n",
    "        for i in range(1, length) :\n",
    "            if a[i] > a[largestIdx] :\n",
    "                largestIdx = i\n",
    "        a[length -1] , a[largestIdx] = a[largestIdx] , a[length -1]\n",
    "\n",
    "    "
   ]
  },
  {
   "cell_type": "code",
   "execution_count": 163,
   "metadata": {},
   "outputs": [
    {
     "name": "stdout",
     "output_type": "stream",
     "text": [
      "2\n",
      "8\n",
      "14\n",
      "87\n",
      "97\n"
     ]
    }
   ],
   "source": [
    "n = int(input())\n",
    "a = []\n",
    "for i in range(n) :\n",
    "    a.append(int(input()))\n",
    "\n",
    "selectSort(a, n)\n",
    "\n",
    "for elem in a :\n",
    "    print(elem)"
   ]
  },
  {
   "cell_type": "code",
   "execution_count": 164,
   "metadata": {},
   "outputs": [
    {
     "data": {
      "text/plain": [
       "False"
      ]
     },
     "execution_count": 164,
     "metadata": {},
     "output_type": "execute_result"
    }
   ],
   "source": [
    "n = 2000\n",
    "import random\n",
    "a = [random.randrange(1,1000000, 1) for i in range(n)]\n",
    "a == sorted(a)"
   ]
  },
  {
   "cell_type": "code",
   "execution_count": 165,
   "metadata": {},
   "outputs": [
    {
     "data": {
      "text/plain": [
       "True"
      ]
     },
     "execution_count": 165,
     "metadata": {},
     "output_type": "execute_result"
    }
   ],
   "source": [
    "selectSort(a, n)\n",
    "a == sorted(a)"
   ]
  },
  {
   "cell_type": "markdown",
   "metadata": {},
   "source": [
    "#### 버블정렬"
   ]
  },
  {
   "cell_type": "markdown",
   "metadata": {},
   "source": [
    "- 가장 큰 원소를 리스트의 맨 뒤로 보내는 것은 선택정렬 방식과 비슷하다.\n",
    "- 그러나 가장 큰 원소를 리스트의 맨 뒤로 보내는 방식이 다르다.\n",
    "- 한칸씩 옮겨가면서 이웃한 두 원소의 크기를 비교하고 크기가 반대로 되어 있으면 스위치 해준다."
   ]
  },
  {
   "cell_type": "code",
   "execution_count": 80,
   "metadata": {},
   "outputs": [],
   "source": [
    "def bubbleSort(a : list, n : int) :\n",
    "    for length in range(n, 1, -1) :\n",
    "        for j in range(length-1) :\n",
    "            if a[j] > a[j+1] :\n",
    "                a[j], a[j+1] = a[j+1], a[j]\n",
    "            else :\n",
    "                pass"
   ]
  },
  {
   "cell_type": "code",
   "execution_count": 81,
   "metadata": {},
   "outputs": [
    {
     "name": "stdout",
     "output_type": "stream",
     "text": [
      "4\n",
      "5\n",
      "6\n",
      "11\n",
      "12\n",
      "87\n",
      "98\n",
      "778\n"
     ]
    }
   ],
   "source": [
    "n = int(input())\n",
    "a = []\n",
    "for i in range(n) :\n",
    "    a.append(int(input()))\n",
    "\n",
    "bubbleSort(a, n)\n",
    "\n",
    "for elem in a :\n",
    "    print(elem)"
   ]
  },
  {
   "cell_type": "code",
   "execution_count": 172,
   "metadata": {},
   "outputs": [
    {
     "data": {
      "text/plain": [
       "False"
      ]
     },
     "execution_count": 172,
     "metadata": {},
     "output_type": "execute_result"
    }
   ],
   "source": [
    "n = 2000\n",
    "import random\n",
    "a = [random.randrange(1,1000000, 1) for i in range(n)]\n",
    "a == sorted(a)"
   ]
  },
  {
   "cell_type": "code",
   "execution_count": 173,
   "metadata": {},
   "outputs": [
    {
     "data": {
      "text/plain": [
       "True"
      ]
     },
     "execution_count": 173,
     "metadata": {},
     "output_type": "execute_result"
    }
   ],
   "source": [
    "bubbleSort(a, n)\n",
    "a == sorted(a)"
   ]
  },
  {
   "cell_type": "markdown",
   "metadata": {},
   "source": [
    "#### 삽입정렬"
   ]
  },
  {
   "cell_type": "markdown",
   "metadata": {},
   "source": [
    "- 선택정렬과 버블정렬은 정렬되지 않은 리스트의 길이를 하나씩 줄여나가는 방식이었다.\n",
    "- 삽입정렬은 정렬이 된 리스트의 길이를 하나씩 늘려나가는 방식이다.\n",
    "- 이미 정렬이 된 원소들과 삽입해야 할 원소들의 크기를 비교하면서 삽입 위치를 탐색한다.\n",
    "- 이때 삽입해야 할 원소와 위치가 가까운 원소부터 시작해서 리스트의 맨 처음 원소 방향으로 한 칸씩 이동하며 비교한다."
   ]
  },
  {
   "cell_type": "code",
   "execution_count": 90,
   "metadata": {},
   "outputs": [],
   "source": [
    "def insertSort(a : list, n) :\n",
    "    for last in range(1, n) :\n",
    "        j = last -1 \n",
    "        item = a[last]\n",
    "        while j >= 0 and a[j] > item :\n",
    "            a[j+1] = a[j]\n",
    "            j -= 1\n",
    "        a[j+1] = item    "
   ]
  },
  {
   "cell_type": "code",
   "execution_count": 91,
   "metadata": {},
   "outputs": [
    {
     "name": "stdout",
     "output_type": "stream",
     "text": [
      "3\n",
      "4\n",
      "5\n",
      "6\n",
      "8\n",
      "11\n",
      "21\n",
      "79\n"
     ]
    }
   ],
   "source": [
    "n = int(input())\n",
    "a = []\n",
    "for i in range(n) :\n",
    "    a.append(int(input()))\n",
    "\n",
    "insertSort(a, n)\n",
    "\n",
    "for elem in a :\n",
    "    print(elem)"
   ]
  },
  {
   "cell_type": "code",
   "execution_count": 180,
   "metadata": {},
   "outputs": [
    {
     "data": {
      "text/plain": [
       "False"
      ]
     },
     "execution_count": 180,
     "metadata": {},
     "output_type": "execute_result"
    }
   ],
   "source": [
    "n = 2000\n",
    "import random\n",
    "a = [random.randrange(1,1000000, 1) for i in range(n)]\n",
    "a == sorted(a)"
   ]
  },
  {
   "cell_type": "code",
   "execution_count": 181,
   "metadata": {},
   "outputs": [
    {
     "data": {
      "text/plain": [
       "True"
      ]
     },
     "execution_count": 181,
     "metadata": {},
     "output_type": "execute_result"
    }
   ],
   "source": [
    "insertSort(a, n)\n",
    "a == sorted(a)"
   ]
  },
  {
   "cell_type": "markdown",
   "metadata": {},
   "source": [
    "## 2751번 : 고급 정렬"
   ]
  },
  {
   "cell_type": "markdown",
   "metadata": {},
   "source": [
    "평균적 시간 복잡도가 $O(n\\log n)$인 고급 정렬 방식으로는 병합정렬, 퀵정렬, 힙정렬, 셸정렬 등이 있다.\n"
   ]
  },
  {
   "cell_type": "markdown",
   "metadata": {},
   "source": [
    "#### 병합정렬"
   ]
  },
  {
   "cell_type": "markdown",
   "metadata": {},
   "source": [
    "- 재귀적 구조의 정렬 방식. 함수 argument로 시작지점과 끝지점의 index가 필요하다.\n",
    "- 크기가 큰 문제와 작은 문제의 관계가 뒷쪽에 위치한다.\n",
    "- 크기가 작은 문제를 해결하고 그 둘의 관계를 처리하는 `merge`함수를 만들어주어야 한다.\n",
    "- `merge`는 정렬된 두 개의 작은 리스트를 하나의 정렬된 리스트로 병합하는 작업이다. "
   ]
  },
  {
   "cell_type": "code",
   "execution_count": 103,
   "metadata": {},
   "outputs": [],
   "source": [
    "def mergeSort(a : list, start : int, end : int) :\n",
    "    if start < end :\n",
    "        m = (start + end) // 2  \n",
    "        mergeSort(a, start, m)\n",
    "        mergeSort(a, m+1, end)\n",
    "        merge(a, start, end, m)\n",
    "    else :\n",
    "        pass\n",
    "\n",
    "def merge(a : list, start : int, end : int, m : int) :\n",
    "    tmplist = []\n",
    "    i = start ; j = m+1\n",
    "    while i <= m and j <= end :\n",
    "        if a[i] < a[j] :\n",
    "            tmplist.append(a[i])\n",
    "            i+= 1\n",
    "        else :\n",
    "            tmplist.append(a[j])\n",
    "            j+= 1\n",
    "    while i <= m :\n",
    "        tmplist.append(a[i])\n",
    "        i+= 1\n",
    "    while j <= end :\n",
    "        tmplist.append(a[j])\n",
    "        j+= 1\n",
    "    a[start:end+1] = tmplist"
   ]
  },
  {
   "cell_type": "code",
   "execution_count": 104,
   "metadata": {},
   "outputs": [
    {
     "name": "stdout",
     "output_type": "stream",
     "text": [
      "1\n",
      "5\n",
      "6\n",
      "6\n",
      "21\n",
      "25\n",
      "33\n",
      "45\n",
      "87\n"
     ]
    }
   ],
   "source": [
    "n = int(input())\n",
    "a = []\n",
    "for i in range(n) :\n",
    "    a.append(int(input()))\n",
    "\n",
    "mergeSort(a, 0, n-1)\n",
    "\n",
    "for elem in a :\n",
    "    print(elem)"
   ]
  },
  {
   "cell_type": "code",
   "execution_count": 208,
   "metadata": {},
   "outputs": [
    {
     "data": {
      "text/plain": [
       "False"
      ]
     },
     "execution_count": 208,
     "metadata": {},
     "output_type": "execute_result"
    }
   ],
   "source": [
    "n = 30000\n",
    "import random\n",
    "a = [random.randrange(1,1000000, 1) for i in range(n)]\n",
    "a == sorted(a)"
   ]
  },
  {
   "cell_type": "code",
   "execution_count": 209,
   "metadata": {},
   "outputs": [
    {
     "data": {
      "text/plain": [
       "True"
      ]
     },
     "execution_count": 209,
     "metadata": {},
     "output_type": "execute_result"
    }
   ],
   "source": [
    "mergeSort(a, 0, n-1)\n",
    "a == sorted(a)"
   ]
  },
  {
   "cell_type": "markdown",
   "metadata": {},
   "source": [
    "#### 퀵 정렬"
   ]
  },
  {
   "cell_type": "markdown",
   "metadata": {},
   "source": [
    "- 재귀적 구조의 정렬 방식.  함수 argument로 시작지점과 끝지점의 index가 필요하다.\n",
    "- 크기가 큰 문제와 작은 문제의 관계가 앞쪽에 위치한다.\n",
    "- 크기가 작은 문제를 해결하고 그 둘의 관계를 처리하는 `partition`함수를 만들어주어야 한다.\n",
    "- `partition`은 기준이 되는 원소(리스트의 맨 뒤 원소)보다 작은 원소들은 앞쪽으로, 큰 원소들은 뒷쪽으로 나누어주고  \n",
    "기준이 되는 원소는 그 사이에 위치하게끔 만들어주는 작업이다. "
   ]
  },
  {
   "cell_type": "code",
   "execution_count": 210,
   "metadata": {},
   "outputs": [],
   "source": [
    "def quickSort(a : list, start : int, end : int) :\n",
    "    if start < end :\n",
    "        m = partition(a, start, end)\n",
    "        quickSort(a, start, m-1)\n",
    "        quickSort(a, m+1, end)\n",
    "    else :\n",
    "        pass"
   ]
  },
  {
   "cell_type": "code",
   "execution_count": 211,
   "metadata": {},
   "outputs": [],
   "source": [
    "def partition(a : list, start : int, end : int) :\n",
    "    item = a[end]\n",
    "    i = start -1 \n",
    "    for j in range(start, end) :\n",
    "        if a[j] < item :\n",
    "            i += 1\n",
    "            a[i], a[j] = a[j], a[i]\n",
    "        else :\n",
    "            pass\n",
    "    a[i+1], a[end] = a[end], a[i+1]\n",
    "    return i+1"
   ]
  },
  {
   "cell_type": "code",
   "execution_count": 212,
   "metadata": {},
   "outputs": [
    {
     "name": "stdout",
     "output_type": "stream",
     "text": [
      "1\n",
      "3\n",
      "8\n",
      "9\n",
      "22\n",
      "45\n",
      "63\n",
      "79\n",
      "84\n",
      "2897\n"
     ]
    }
   ],
   "source": [
    "n = int(input())\n",
    "a = []\n",
    "for i in range(n) :\n",
    "    a.append(int(input()))\n",
    "\n",
    "quickSort(a, 0, n-1)\n",
    "\n",
    "for elem in a :\n",
    "    print(elem)\n"
   ]
  },
  {
   "cell_type": "code",
   "execution_count": 239,
   "metadata": {},
   "outputs": [
    {
     "data": {
      "text/plain": [
       "False"
      ]
     },
     "execution_count": 239,
     "metadata": {},
     "output_type": "execute_result"
    }
   ],
   "source": [
    "n = 30000\n",
    "import random\n",
    "a = [random.randrange(1,1000000, 1) for i in range(n)]\n",
    "a == sorted(a)"
   ]
  },
  {
   "cell_type": "code",
   "execution_count": 240,
   "metadata": {},
   "outputs": [
    {
     "data": {
      "text/plain": [
       "True"
      ]
     },
     "execution_count": 240,
     "metadata": {},
     "output_type": "execute_result"
    }
   ],
   "source": [
    "quickSort(a, 0, n-1)\n",
    "a == sorted(a)"
   ]
  },
  {
   "cell_type": "markdown",
   "metadata": {},
   "source": [
    "#### 셸 정렬"
   ]
  },
  {
   "cell_type": "markdown",
   "metadata": {},
   "source": [
    "- 셸 정렬은 반복적으로 삽입 정렬을 시행하는 방식이다. (어느 정도 정렬이 된 리스트가 주어질 경우 삽입 정렬은 상당히 효율적)\n",
    "- gap sequence를 도입하여 수열 $1,\\cdots,n$에서 gap만큼 떨어진 부분수열을 활용해 해당 부분에서만 삽입정렬을 시행한다.\n",
    "- gap sequence는 처음에는 큰 갭을 사용하다가 점차 줄어들면서 마지막에 gap이 1이 되게끔 만든다.\n",
    "- gap이 1이 된다는 것은 마지막 단계에서는 삽입 정렬과 정확히 같은 작업을 하게 된다는 것을 의미한다."
   ]
  },
  {
   "cell_type": "markdown",
   "metadata": {},
   "source": [
    "셸 정렬에서 gap sequence를 만드는 방법은 여러 가지가 있다.  반드시 지켜야 할 사항은 gap sequence의 마지막 원소는 1이어야 한다는 것이다.  \n",
    "여기서는 다음과 같은 방식으로 만들도록 하겠다.\n",
    "1. 1을 첫번째 원소 $h_1$으로 만든다.\n",
    "2. $h_{k+1} = 3h_k+1$을 활용해 수열 $h_k$를 construct한다.\n",
    "3. $h_k < n/5$가 되면 수열의 construction을 마친다.\n",
    "4. Gap sequence는 점점 작아지면서 마지막에 1이 나와야 하므로 $h_k$를 reverse해준다. "
   ]
  },
  {
   "cell_type": "code",
   "execution_count": 258,
   "metadata": {},
   "outputs": [
    {
     "name": "stdout",
     "output_type": "stream",
     "text": [
      "[5, 4, 3, 2, 1]\n"
     ]
    }
   ],
   "source": [
    "a = [1,2,3,4,5]\n",
    "a.reverse()\n",
    "print(a)"
   ]
  },
  {
   "cell_type": "code",
   "execution_count": 260,
   "metadata": {},
   "outputs": [],
   "source": [
    "def shellSort(a : list, n : int) :\n",
    "    for gap in gapSeq(n) :\n",
    "        gapInsertSort(a, n, gap)\n",
    "        \n"
   ]
  },
  {
   "cell_type": "code",
   "execution_count": 261,
   "metadata": {},
   "outputs": [],
   "source": [
    "def gapSeq(n : int) :\n",
    "    seq = [1]\n",
    "    gap = 1\n",
    "    while gap < n / 5 :\n",
    "        gap *= 3\n",
    "        gap += 1\n",
    "        seq.append(gap)\n",
    "    seq.reverse()\n",
    "    return seq"
   ]
  },
  {
   "cell_type": "code",
   "execution_count": 262,
   "metadata": {},
   "outputs": [],
   "source": [
    "def gapInsertSort(a : list, n : int, gap : int) :\n",
    "    for head in range(gap) :\n",
    "        for last in range(head + gap, n, gap) :\n",
    "            j = last - gap\n",
    "            item = a[last]\n",
    "            while j >= head and a[j] > item :\n",
    "                a[j+gap] = a[j]\n",
    "                j -= gap \n",
    "            a[j+gap] = item "
   ]
  },
  {
   "cell_type": "code",
   "execution_count": 263,
   "metadata": {},
   "outputs": [
    {
     "name": "stdout",
     "output_type": "stream",
     "text": [
      "5\n",
      "8\n",
      "9\n",
      "32\n",
      "32\n",
      "64\n",
      "97\n",
      "889\n",
      "4567\n",
      "10002\n"
     ]
    }
   ],
   "source": [
    "n = int(input())\n",
    "a = []\n",
    "for i in range(n) :\n",
    "    a.append(int(input()))\n",
    "\n",
    "shellSort(a, n)\n",
    "\n",
    "for elem in a :\n",
    "    print(elem)"
   ]
  },
  {
   "cell_type": "code",
   "execution_count": 277,
   "metadata": {},
   "outputs": [
    {
     "data": {
      "text/plain": [
       "False"
      ]
     },
     "execution_count": 277,
     "metadata": {},
     "output_type": "execute_result"
    }
   ],
   "source": [
    "n = 30000\n",
    "import random\n",
    "a = [random.randrange(1,1000000, 1) for i in range(n)]\n",
    "a == sorted(a)"
   ]
  },
  {
   "cell_type": "code",
   "execution_count": 278,
   "metadata": {},
   "outputs": [
    {
     "data": {
      "text/plain": [
       "True"
      ]
     },
     "execution_count": 278,
     "metadata": {},
     "output_type": "execute_result"
    }
   ],
   "source": [
    "shellSort(a, n)\n",
    "a == sorted(a)"
   ]
  },
  {
   "cell_type": "code",
   "execution_count": null,
   "metadata": {},
   "outputs": [],
   "source": []
  }
 ],
 "metadata": {
  "interpreter": {
   "hash": "40d3a090f54c6569ab1632332b64b2c03c39dcf918b08424e98f38b5ae0af88f"
  },
  "kernelspec": {
   "display_name": "Python 3.8.8 ('base')",
   "language": "python",
   "name": "python3"
  },
  "language_info": {
   "codemirror_mode": {
    "name": "ipython",
    "version": 3
   },
   "file_extension": ".py",
   "mimetype": "text/x-python",
   "name": "python",
   "nbconvert_exporter": "python",
   "pygments_lexer": "ipython3",
   "version": "3.8.8"
  },
  "orig_nbformat": 4
 },
 "nbformat": 4,
 "nbformat_minor": 2
}
