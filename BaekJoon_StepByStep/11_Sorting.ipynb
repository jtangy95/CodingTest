{
 "cells": [
  {
   "cell_type": "markdown",
   "metadata": {},
   "source": [
    "# 정렬"
   ]
  },
  {
   "cell_type": "markdown",
   "metadata": {},
   "source": [
    "기본 정렬 방식인 선택정렬, 버블정렬, 삽입정렬 방식은  \n",
    "재귀적 구조를 쓰지 말고 일반적인 반복문으로 짜도록 하자."
   ]
  },
  {
   "cell_type": "code",
   "execution_count": 1,
   "metadata": {},
   "outputs": [],
   "source": [
    "def selectSort(a : list, n : int) :\n",
    "    for length in range(n, 1, -1) :\n",
    "        largestIdx = 0\n",
    "        for i in range(1, length) :\n",
    "            if a[i] > a[largestIdx] :\n",
    "                largestIdx = i\n",
    "        tmp = a[length-1]\n",
    "        a[length-1] = a[largestIdx]\n",
    "        a[largestIdx] = tmp \n",
    "\n",
    "    "
   ]
  },
  {
   "cell_type": "code",
   "execution_count": 2,
   "metadata": {},
   "outputs": [
    {
     "name": "stdout",
     "output_type": "stream",
     "text": [
      "2\n",
      "3\n",
      "7\n",
      "18\n",
      "20\n"
     ]
    }
   ],
   "source": [
    "n = int(input())\n",
    "a = []\n",
    "for i in range(n) :\n",
    "    a.append(int(input()))\n",
    "\n",
    "selectSort(a, n)\n",
    "\n",
    "for elem in a :\n",
    "    print(elem)"
   ]
  },
  {
   "cell_type": "code",
   "execution_count": 15,
   "metadata": {},
   "outputs": [],
   "source": [
    "def bubbleSort(a : list, n : int) :\n",
    "    for length in range(n, 1, -1) :\n",
    "        for j in range(length-1) :\n",
    "            if a[j] > a[j+1] :\n",
    "                tmp = a[j]\n",
    "                a[j] = a[j+1]\n",
    "                a[j+1] = tmp\n",
    "            else :\n",
    "                pass"
   ]
  },
  {
   "cell_type": "code",
   "execution_count": 17,
   "metadata": {},
   "outputs": [
    {
     "name": "stdout",
     "output_type": "stream",
     "text": [
      "2\n",
      "5\n",
      "9\n",
      "13\n",
      "42\n",
      "71\n",
      "100\n"
     ]
    }
   ],
   "source": [
    "n = int(input())\n",
    "a = []\n",
    "for i in range(n) :\n",
    "    a.append(int(input()))\n",
    "\n",
    "bubbleSort(a, n)\n",
    "\n",
    "for elem in a :\n",
    "    print(elem)"
   ]
  },
  {
   "cell_type": "code",
   "execution_count": 18,
   "metadata": {},
   "outputs": [],
   "source": [
    "def insertSort(a : list, n) :\n",
    "    for last in range(1, n) :\n",
    "        j = last -1 \n",
    "        item = a[last]\n",
    "        while j >= 0 and a[j] > item :\n",
    "            a[j+1] = a[j]\n",
    "            j -= 1\n",
    "        a[j+1] = item    "
   ]
  },
  {
   "cell_type": "code",
   "execution_count": 19,
   "metadata": {},
   "outputs": [
    {
     "name": "stdout",
     "output_type": "stream",
     "text": [
      "1\n",
      "2\n",
      "3\n",
      "4\n",
      "5\n"
     ]
    }
   ],
   "source": [
    "n = int(input())\n",
    "a = []\n",
    "for i in range(n) :\n",
    "    a.append(int(input()))\n",
    "\n",
    "insertSort(a, n)\n",
    "\n",
    "for elem in a :\n",
    "    print(elem)"
   ]
  },
  {
   "cell_type": "code",
   "execution_count": 38,
   "metadata": {},
   "outputs": [],
   "source": [
    "def mergeSort(a : list, start : int, end : int) :\n",
    "    if start < end :\n",
    "        m = (start + end) // 2  \n",
    "        mergeSort(a, start, m)\n",
    "        mergeSort(a, m+1, end)\n",
    "        merge(a, start, end, m)\n",
    "    else :\n",
    "        pass\n",
    "\n",
    "def merge(a : list, start : int, end : int, m : int) :\n",
    "    tmplist = []\n",
    "    i = start ; j = m+1\n",
    "    while i <= m and j <= end :\n",
    "        if a[i] < a[j] :\n",
    "            tmplist.append(a[i])\n",
    "            i+= 1\n",
    "        else :\n",
    "            tmplist.append(a[j])\n",
    "            j+= 1\n",
    "    while i <= m :\n",
    "        tmplist.append(a[i])\n",
    "        i+= 1\n",
    "    while j <= end :\n",
    "        tmplist.append(a[j])\n",
    "        j+= 1\n",
    "    a[start:end+1] = tmplist"
   ]
  },
  {
   "cell_type": "code",
   "execution_count": 39,
   "metadata": {},
   "outputs": [
    {
     "name": "stdout",
     "output_type": "stream",
     "text": [
      "1\n",
      "2\n",
      "15\n",
      "17\n",
      "24\n",
      "31\n",
      "76\n",
      "89\n"
     ]
    }
   ],
   "source": [
    "n = int(input())\n",
    "a = []\n",
    "for i in range(n) :\n",
    "    a.append(int(input()))\n",
    "\n",
    "mergeSort(a, 0, n-1)\n",
    "\n",
    "for elem in a :\n",
    "    print(elem)"
   ]
  },
  {
   "cell_type": "code",
   "execution_count": null,
   "metadata": {},
   "outputs": [],
   "source": []
  }
 ],
 "metadata": {
  "interpreter": {
   "hash": "40d3a090f54c6569ab1632332b64b2c03c39dcf918b08424e98f38b5ae0af88f"
  },
  "kernelspec": {
   "display_name": "Python 3.8.8 ('base')",
   "language": "python",
   "name": "python3"
  },
  "language_info": {
   "codemirror_mode": {
    "name": "ipython",
    "version": 3
   },
   "file_extension": ".py",
   "mimetype": "text/x-python",
   "name": "python",
   "nbconvert_exporter": "python",
   "pygments_lexer": "ipython3",
   "version": "3.7.0"
  },
  "orig_nbformat": 4
 },
 "nbformat": 4,
 "nbformat_minor": 2
}
