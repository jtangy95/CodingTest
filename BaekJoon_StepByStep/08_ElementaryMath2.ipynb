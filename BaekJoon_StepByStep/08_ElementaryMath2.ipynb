{
 "cells": [
  {
   "cell_type": "markdown",
   "metadata": {},
   "source": [
    "# 기본 수학 2"
   ]
  },
  {
   "cell_type": "markdown",
   "metadata": {},
   "source": [
    "## 1978번 : 소수 찾기"
   ]
  },
  {
   "cell_type": "markdown",
   "metadata": {},
   "source": [
    "문제"
   ]
  },
  {
   "cell_type": "markdown",
   "metadata": {},
   "source": [
    "주어진 수 N개 중에서 소수가 몇 개인지 찾아서 출력하는 프로그램을 작성하시오."
   ]
  },
  {
   "cell_type": "markdown",
   "metadata": {},
   "source": [
    "답안 제출"
   ]
  },
  {
   "cell_type": "code",
   "execution_count": 6,
   "metadata": {},
   "outputs": [
    {
     "name": "stdout",
     "output_type": "stream",
     "text": [
      "3\n"
     ]
    }
   ],
   "source": [
    "n = int(input())\n",
    "nums = list(map(int, input().split()))\n",
    "primeNum = 0 ## counting the number of prime numbers\n",
    "for a in nums :\n",
    "    prime = True\n",
    "    if a == 1 :  # 1 is not a prime number\n",
    "        prime = False  \n",
    "    else :\n",
    "        for k in range(2, a) :\n",
    "            if a % k == 0 :\n",
    "                prime = False \n",
    "                break\n",
    "    if prime :\n",
    "        primeNum += 1\n",
    "print(primeNum)\n",
    "\n",
    "    "
   ]
  },
  {
   "cell_type": "markdown",
   "metadata": {},
   "source": [
    "## 2581번 : 소수"
   ]
  },
  {
   "cell_type": "markdown",
   "metadata": {},
   "source": [
    "자연수 M과 N이 주어질 때 M이상 N이하의 자연수 중 소수인 것을 모두 골라 이들 소수의 합과 최솟값을 찾는 프로그램을 작성하시오.\n",
    "\n",
    "예를 들어 M=60, N=100인 경우 60이상 100이하의 자연수 중 소수는 61, 67, 71, 73, 79, 83, 89, 97 총 8개가 있으므로, 이들 소수의 합은 620이고, 최솟값은 61이 된다."
   ]
  },
  {
   "cell_type": "markdown",
   "metadata": {},
   "source": [
    "답안 제출"
   ]
  },
  {
   "cell_type": "code",
   "execution_count": 18,
   "metadata": {},
   "outputs": [
    {
     "name": "stdout",
     "output_type": "stream",
     "text": [
      "620\n",
      "61\n"
     ]
    }
   ],
   "source": [
    "m = int(input())\n",
    "n = int(input())\n",
    "\n",
    "# 이 리스트에 m이상 n이하의 소수들을 저장\n",
    "primeNums = []\n",
    "# 소수 판별 함수\n",
    "def isPrime(a : int) :\n",
    "    if a == 1 :\n",
    "        return False\n",
    "    else :\n",
    "        prime = True \n",
    "        for k in range(2, a) :\n",
    "            if a % k == 0 :\n",
    "                prime = False \n",
    "                break\n",
    "        return prime\n",
    "\n",
    "for a in range(m, n+1) :\n",
    "    if isPrime(a) :\n",
    "        primeNums.append(a)\n",
    "\n",
    "if primeNums :\n",
    "    print(sum(primeNums))\n",
    "    print(primeNums[0])\n",
    "else : # 소수 저장하는 리스트에 원소가 없으면 -1 출력\n",
    "    print(-1)\n"
   ]
  },
  {
   "cell_type": "markdown",
   "metadata": {},
   "source": [
    "## 11653번 : 소인수분해"
   ]
  },
  {
   "cell_type": "markdown",
   "metadata": {},
   "source": [
    "문제"
   ]
  },
  {
   "cell_type": "markdown",
   "metadata": {},
   "source": [
    "정수 N이 주어졌을 때, 소인수분해하는 프로그램을 작성하시오."
   ]
  },
  {
   "cell_type": "markdown",
   "metadata": {},
   "source": [
    "답안 제출"
   ]
  },
  {
   "cell_type": "code",
   "execution_count": 38,
   "metadata": {},
   "outputs": [
    {
     "name": "stdout",
     "output_type": "stream",
     "text": [
      "2\n",
      "2\n",
      "2\n",
      "3\n",
      "3\n"
     ]
    }
   ],
   "source": [
    "n = int(input())\n",
    "\n",
    "# 주어진 정수에 대해 최소의 인수를 계산해주는 함수\n",
    "# 리턴값 k는 반드시 소수가 됨 \n",
    "def minFactor(a : int) :\n",
    "    for k in range(2, a+1) :\n",
    "        if a % k == 0 :\n",
    "            return k \n",
    "\n",
    "if n == 1 :\n",
    "    pass \n",
    "else :\n",
    "    while n > 1:\n",
    "        x = minFactor(n)\n",
    "        n //= x  # `n /= x`로 하면 정수 타입을 유지할 수 없음\n",
    "        print(x)\n",
    "\n",
    "\n"
   ]
  },
  {
   "cell_type": "markdown",
   "metadata": {},
   "source": [
    "## 1929번 : 소수 구하기 (에라토스테네스의 체)"
   ]
  },
  {
   "cell_type": "markdown",
   "metadata": {},
   "source": [
    "문제"
   ]
  },
  {
   "cell_type": "markdown",
   "metadata": {},
   "source": [
    "M이상 N이하의 소수를 모두 출력하는 프로그램을 작성하시오."
   ]
  },
  {
   "cell_type": "markdown",
   "metadata": {},
   "source": [
    "오답 (시간 초과)"
   ]
  },
  {
   "cell_type": "code",
   "execution_count": 39,
   "metadata": {},
   "outputs": [
    {
     "name": "stdout",
     "output_type": "stream",
     "text": [
      "3\n",
      "5\n",
      "7\n",
      "11\n",
      "13\n"
     ]
    }
   ],
   "source": [
    "m , n = list(map(int, input().split()))\n",
    "\n",
    "# 소수 판별 함수\n",
    "def isPrime(a : int) :\n",
    "    if a == 1 :\n",
    "        return False\n",
    "    else :\n",
    "        prime = True \n",
    "        for k in range(2, a) :\n",
    "            if a % k == 0 :\n",
    "                prime = False \n",
    "                break\n",
    "        return prime\n",
    "\n",
    "for a in range(m, n+1) :\n",
    "    if isPrime(a) :\n",
    "        print(a)\n",
    "        "
   ]
  },
  {
   "cell_type": "markdown",
   "metadata": {},
   "source": [
    "에라토스테네스의 체를 활용해서 주어진 숫자 n보다 작거나 같은 수 가운데 소수를 골라낼 수 있다.  \n",
    "\n",
    "[(Wikipedia : 에라토스테네스의 체)](https://ko.wikipedia.org/wiki/에라토스테네스의_체)\n",
    "\n",
    "어떤 소수 $k$가 $k^2 > n$을 만족하면 $k$보다 작은 소수만으로도 충분히 필터링할 수 있다. 즉 $2$에서 $n$까지의 숫자들 중에서 $k$보다 작은 소수들의 (자기자신을 제외한)배수를 모두 지워주면 된다.\n",
    "\n",
    "이렇게 골라낸 소수 들 중 $m$보다 작지 않은 소수들만 출력하면 문제에서 원하는 답을 얻을 수 있다."
   ]
  },
  {
   "cell_type": "markdown",
   "metadata": {},
   "source": [
    "답안 제출"
   ]
  },
  {
   "cell_type": "code",
   "execution_count": 103,
   "metadata": {},
   "outputs": [
    {
     "name": "stdout",
     "output_type": "stream",
     "text": [
      "23\n",
      "29\n",
      "31\n",
      "37\n",
      "41\n",
      "43\n",
      "47\n",
      "53\n",
      "59\n",
      "61\n",
      "67\n"
     ]
    }
   ],
   "source": [
    "import math\n",
    "m , n = list(map(int, input().split()))\n",
    "\n",
    "k = math.ceil(math.sqrt(n+1))  # k^2 >= n+1 > n\n",
    "\n",
    "# 0, 1, 2, ... , n에 대응되는 boolean으로 채워넣은 에라토스테네스 체 리스트를 만든다.\n",
    "EratosSeive = [False, False] + [True for i in range(2, n+1)]\n",
    "\n",
    "# 2에서 k까지의 숫자를 활용해 해당 숫자가 소수일 경우, 자기자신을 제외한 배수들을\n",
    "# 에라토스테네스 체 리스트에서 모두 False로 바꿔준다.\n",
    "for j in range(2, k) :\n",
    "    if EratosSeive[j] : \n",
    "    # 2에서 k까지의 숫자 중에서 j가 소수가 아닐 경우 밑의 for문을 수행하지 않음\n",
    "        for i in range(j+j , n+1, j) :   # range(start, stop, step)\n",
    "            EratosSeive[i] = False\n",
    "\n",
    "# m이상 n이하의 숫자들 중 에라토스테네스의 체에서 True로 남아 있는 숫자들 모두 출력\n",
    "for num in range(m, n+1) :\n",
    "    if EratosSeive[num] :\n",
    "        print(num)\n"
   ]
  },
  {
   "cell_type": "markdown",
   "metadata": {},
   "source": [
    "## 4948번 : 베르트랑 공준"
   ]
  },
  {
   "cell_type": "markdown",
   "metadata": {},
   "source": [
    "문제"
   ]
  },
  {
   "cell_type": "markdown",
   "metadata": {},
   "source": [
    "베르트랑 공준은 임의의 자연수 n에 대하여, n보다 크고, 2n보다 작거나 같은 소수는 적어도 하나 존재한다는 내용을 담고 있다.\n",
    "\n",
    "예를 들어, 10보다 크고, 20보다 작거나 같은 소수는 4개가 있다. (11, 13, 17, 19) 또, 14보다 크고, 28보다 작거나 같은 소수는 3개가 있다. (17,19, 23)\n",
    "\n",
    "자연수 n이 주어졌을 때, n보다 크고, 2n보다 작거나 같은 소수의 개수를 구하는 프로그램을 작성하시오. "
   ]
  },
  {
   "cell_type": "markdown",
   "metadata": {},
   "source": [
    "boolean 리스트에다가 `sum()`함수를 사용하면 `True`의 개수를 계산해준다."
   ]
  },
  {
   "cell_type": "code",
   "execution_count": 104,
   "metadata": {},
   "outputs": [
    {
     "data": {
      "text/plain": [
       "2"
      ]
     },
     "execution_count": 104,
     "metadata": {},
     "output_type": "execute_result"
    }
   ],
   "source": [
    "sum([True, True, False])"
   ]
  },
  {
   "cell_type": "markdown",
   "metadata": {},
   "source": [
    "답안 제출"
   ]
  },
  {
   "cell_type": "code",
   "execution_count": 105,
   "metadata": {},
   "outputs": [],
   "source": [
    "import math\n",
    "def primeCount(n) :\n",
    "    k = math.ceil(math.sqrt(n+1))   # k^2 >= n+1 > n\n",
    "    EratosSeive = [False, False] + [True for i in range(2, n+1)]\n",
    "    # Boolean corresponding to 0, 1, 2, ... , n\n",
    "    # if n==1 then it is just equal to [False, False]\n",
    "    for j in range(2, k) :\n",
    "        if EratosSeive[j] :\n",
    "            for i in range(j+j, n+1, j) :\n",
    "                EratosSeive[i] = False \n",
    "    # Again, if n=1 then k=2 so that we do nothing on the for loop above\n",
    "    return sum(EratosSeive)\n",
    "    # the number of `True` in the boolean list is equal to\n",
    "    # the number of prime numbers not bigger than n\n",
    "\n",
    "while True :\n",
    "    n = int(input()) \n",
    "    if n == 0 :\n",
    "        break\n",
    "    print(primeCount(2*n) - primeCount(n))\n",
    "\n"
   ]
  },
  {
   "cell_type": "markdown",
   "metadata": {},
   "source": [
    "Alternative 답안"
   ]
  },
  {
   "cell_type": "markdown",
   "metadata": {},
   "source": [
    "위의 답안은 while loop을 돌릴 때마다 새로운 에라토스테네스의 체를 두 개씩 만들어내기 때문에 시간 소요가 많이 된다. 문제에서 주어지는 $n$의 최대값이 $n = 123456$임을 이용하여 최대 크기의 에라토스테네스의 체 하나만 사용하기로 하자."
   ]
  },
  {
   "cell_type": "code",
   "execution_count": 118,
   "metadata": {},
   "outputs": [
    {
     "name": "stdout",
     "output_type": "stream",
     "text": [
      "1\n",
      "4\n",
      "3\n",
      "21\n",
      "135\n",
      "1033\n",
      "8392\n"
     ]
    }
   ],
   "source": [
    "import math\n",
    "def Eratos(n) :\n",
    "    k = math.ceil(math.sqrt(n+1))   # k^2 >= n+1 > n\n",
    "    EratosSeive = [False, False] + [True for i in range(2, n+1)]\n",
    "    # Boolean corresponding to 0, 1, 2, ... , n\n",
    "    # if n==1 then it is just equal to [False, False]\n",
    "    for j in range(2, k) :\n",
    "        if EratosSeive[j] :\n",
    "            for i in range(j+j, n+1, j) :\n",
    "                EratosSeive[i] = False \n",
    "    # Again, if n=1 then k=2 so that we do nothing on the for loop above\n",
    "    return EratosSeive\n",
    "\n",
    "E = Eratos(2 * 123456)\n",
    "\n",
    "while True :\n",
    "    n = int(input()) \n",
    "    if n == 0 :\n",
    "        break\n",
    "    print(sum(E[n + 1 : 2 * n +1]))\n"
   ]
  },
  {
   "cell_type": "markdown",
   "metadata": {},
   "source": [
    "## 9020번 : 골드바흐의 추측"
   ]
  },
  {
   "cell_type": "markdown",
   "metadata": {},
   "source": [
    "문제"
   ]
  },
  {
   "cell_type": "markdown",
   "metadata": {},
   "source": [
    "골드바흐의 추측은 유명한 정수론의 미해결 문제로, 2보다 큰 모든 짝수는 두 소수의 합으로 나타낼 수 있다는 것이다. 이러한 수를 골드바흐 수라고 한다. 또, 짝수를 두 소수의 합으로 나타내는 표현을 그 수의 골드바흐 파티션이라고 한다. 예를 들면, 4 = 2 + 2, 6 = 3 + 3, 8 = 3 + 5, 10 = 5 + 5, 12 = 5 + 7, 14 = 3 + 11, 14 = 7 + 7이다. 10000보다 작거나 같은 모든 짝수 n에 대한 골드바흐 파티션은 존재한다.\n",
    "\n",
    "2보다 큰 짝수 n이 주어졌을 때, n의 골드바흐 파티션을 출력하는 프로그램을 작성하시오. 만약 가능한 n의 골드바흐 파티션이 여러 가지인 경우에는 두 소수의 차이가 가장 작은 것을 출력한다."
   ]
  },
  {
   "cell_type": "markdown",
   "metadata": {},
   "source": [
    "입력 변수 $n$ 이 $4\\leq n \\leq 10000$으로 제한되므로 10000 사이즈의 에라토스테네스의 체를 활용한다.  \n",
    "짝수 $n$이 주어지면 두 개의 수를 $n/2$부터 시작해서 두 개가 동시에 소수일 때까지 양쪽으로 한 칸씩 이동한다. "
   ]
  },
  {
   "cell_type": "code",
   "execution_count": 145,
   "metadata": {},
   "outputs": [
    {
     "name": "stdout",
     "output_type": "stream",
     "text": [
      "3 5\n",
      "5 5\n",
      "5 11\n"
     ]
    }
   ],
   "source": [
    "import math\n",
    "def Eratos(n : int) :\n",
    "    k = math.ceil(math.sqrt(n+1))  # k^2 >= n+1 > n\n",
    "    EratosSeive = [False, False] + [True for i in range(2, n+1)]\n",
    "    for j in range(2, k) :\n",
    "        if EratosSeive[j] :\n",
    "            for i in range(j+j, n+1, j) :\n",
    "                EratosSeive[i] = False\n",
    "    return EratosSeive\n",
    "\n",
    "E = Eratos(10000)\n",
    "\n",
    "T = int(input())\n",
    "for t in range(T) :\n",
    "    n = int(input())\n",
    "    for j in range(n//2, 1, -1) :\n",
    "        if E[j] and E[n-j] :\n",
    "            print(j, n-j)\n",
    "            break\n",
    "\n",
    "    "
   ]
  },
  {
   "cell_type": "markdown",
   "metadata": {},
   "source": [
    "## 1085번 : 직사각형에서 탈출"
   ]
  },
  {
   "cell_type": "markdown",
   "metadata": {},
   "source": [
    "문제"
   ]
  },
  {
   "cell_type": "markdown",
   "metadata": {},
   "source": [
    "한수는 지금 (x, y)에 있다. 직사각형은 각 변이 좌표축에 평행하고, 왼쪽 아래 꼭짓점은 (0, 0), 오른쪽 위 꼭짓점은 (w, h)에 있다. 직사각형의 경계선까지 가는 거리의 최솟값을 구하는 프로그램을 작성하시오."
   ]
  },
  {
   "cell_type": "markdown",
   "metadata": {},
   "source": [
    "답안 제출"
   ]
  },
  {
   "cell_type": "code",
   "execution_count": 151,
   "metadata": {},
   "outputs": [
    {
     "name": "stdout",
     "output_type": "stream",
     "text": [
      "161\n"
     ]
    }
   ],
   "source": [
    "x, y, w, h = list(map(int, input().split()))\n",
    "distances = []\n",
    "distances.append(x)\n",
    "distances.append(w - x)\n",
    "distances.append(y)\n",
    "distances.append(h - y)\n",
    "print(min(distances))"
   ]
  },
  {
   "cell_type": "markdown",
   "metadata": {},
   "source": [
    "## 3009번 : 네 번째 점"
   ]
  },
  {
   "cell_type": "markdown",
   "metadata": {},
   "source": [
    "문제"
   ]
  },
  {
   "cell_type": "markdown",
   "metadata": {},
   "source": [
    "세 점이 주어졌을 때, 축에 평행한 직사각형을 만들기 위해서 필요한 네 번째 점을 찾는 프로그램을 작성하시오."
   ]
  },
  {
   "cell_type": "markdown",
   "metadata": {},
   "source": [
    "x 좌표로 세 개의 값, 그리고 y 좌표로 세 개의 값이 입력된다. 각각을 리스트화 했을 때 x리스트와 y리스트 모두 두 개의 원소가 같고 하나의 원소는 다른 두 개와 다른 값을 가질 것이다. 각각의 리스트에서, 다른 두 개와 다른 값을 가지는 하나의 값을 출력해야 한다."
   ]
  },
  {
   "cell_type": "markdown",
   "metadata": {},
   "source": [
    "답안 제출"
   ]
  },
  {
   "cell_type": "code",
   "execution_count": 155,
   "metadata": {},
   "outputs": [
    {
     "name": "stdout",
     "output_type": "stream",
     "text": [
      "30 10\n"
     ]
    }
   ],
   "source": [
    "x = [] ; y = []\n",
    "for i in range(3) :\n",
    "    a = input().split()\n",
    "    x.append(int(a[0]))\n",
    "    y.append(int(a[1]))\n",
    "if x[0] == x[1] :\n",
    "    print(x[2], end = ' ')\n",
    "elif x[0] == x[2] :\n",
    "    print(x[1], end = ' ')\n",
    "else :\n",
    "    print(x[0], end = ' ')\n",
    "\n",
    "if y[0] == y[1] :\n",
    "    print(y[2])\n",
    "elif y[0] == y[2] :\n",
    "    print(y[1])\n",
    "else :\n",
    "    print(y[0])\n"
   ]
  },
  {
   "cell_type": "markdown",
   "metadata": {},
   "source": [
    "## 4153번 : 직각삼각형"
   ]
  },
  {
   "cell_type": "markdown",
   "metadata": {},
   "source": [
    "문제"
   ]
  },
  {
   "cell_type": "markdown",
   "metadata": {},
   "source": [
    "과거 이집트인들은 각 변들의 길이가 3, 4, 5인 삼각형이 직각 삼각형인것을 알아냈다. 주어진 세변의 길이로 삼각형이 직각인지 아닌지 구분하시오."
   ]
  },
  {
   "cell_type": "markdown",
   "metadata": {},
   "source": [
    "입력된 세 개의 숫자 중 마지막 숫자가 가장 크다는 보장이 없기 때문에 정렬이 필요하다.\n",
    "리스트의 정렬은 다음과 같은 방식으로 할 수 있다.\n",
    "```\n",
    "x = [a, b, c, d]\n",
    "y = sorted(x)\n",
    "```\n",
    "OR\n",
    "```\n",
    "x = [a,b,c,d]\n",
    "x.sort() # in-place modification\n",
    "```"
   ]
  },
  {
   "cell_type": "code",
   "execution_count": 158,
   "metadata": {},
   "outputs": [
    {
     "data": {
      "text/plain": [
       "[1, 2, 5, 7, 8]"
      ]
     },
     "execution_count": 158,
     "metadata": {},
     "output_type": "execute_result"
    }
   ],
   "source": [
    "sorted([7,2,5,1,8])"
   ]
  },
  {
   "cell_type": "code",
   "execution_count": 160,
   "metadata": {},
   "outputs": [
    {
     "name": "stdout",
     "output_type": "stream",
     "text": [
      "right\n",
      "wrong\n",
      "right\n"
     ]
    }
   ],
   "source": [
    "while True :\n",
    "    a, b, c = list(map(int, input().split()))\n",
    "    if a== 0 and b == 0 and c == 0 :\n",
    "        break\n",
    "    x = [a,b,c]\n",
    "    x.sort()\n",
    "    if x[0] ** 2 + x[1] ** 2 == x[2] ** 2 :\n",
    "        print(\"right\")\n",
    "    else :\n",
    "        print(\"wrong\")\n",
    "    "
   ]
  },
  {
   "cell_type": "markdown",
   "metadata": {},
   "source": [
    "## 3053번 : 택시 기하학"
   ]
  },
  {
   "cell_type": "markdown",
   "metadata": {},
   "source": [
    "문제"
   ]
  },
  {
   "cell_type": "markdown",
   "metadata": {},
   "source": [
    "택시 기하학에서 두 점 T1(x1,y1), T2(x2,y2) 사이의 거리는 다음과 같이 구할 수 있다.\n",
    "\n",
    "D(T1,T2) = |x1-x2| + |y1-y2|\n",
    "\n",
    "두 점 사이의 거리를 제외한 나머지 정의는 유클리드 기하학에서의 정의와 같다.\n",
    "\n",
    "따라서 택시 기하학에서 원의 정의는 유클리드 기하학에서 원의 정의와 같다.\n",
    "\n",
    "원: 평면 상의 어떤 점에서 거리가 반지름 R만큼 떨어진 점들의 집합\n",
    "\n",
    "반지름 R이 주어졌을 때, 유클리드 기하학에서 원의 넓이와, 택시 기하학에서 원의 넓이를 구하는 프로그램을 작성하시오."
   ]
  },
  {
   "cell_type": "markdown",
   "metadata": {},
   "source": [
    "택시 기하학에서 쓰는 distance는 다름 아닌 $\\mathbb{R}^2$ 공간에서의 $L_1$ norm 이다. 따라서 택시 기하학에서의 원은 다이아몬드 모양을 띈다.  \n",
    "원의 넓이는 유클리드 기하학에서는 $\\pi r^2$ , 택시 기하학에서는 $2r^2$으로 계산된다.\n",
    "\n",
    "파이썬에서 원주율 $\\pi$는 math 패키지에서 불러올 수 있다."
   ]
  },
  {
   "cell_type": "code",
   "execution_count": 164,
   "metadata": {},
   "outputs": [
    {
     "name": "stdout",
     "output_type": "stream",
     "text": [
      "5541.769440932395\n",
      "3528\n"
     ]
    }
   ],
   "source": [
    "from math import pi\n",
    "r = int(input())\n",
    "print(pi * r ** 2)\n",
    "print(2 * r ** 2)"
   ]
  },
  {
   "cell_type": "markdown",
   "metadata": {},
   "source": [
    "## 1002번 : 터렛 (두 원의 교점의 개수를 구하는 문제)"
   ]
  },
  {
   "cell_type": "markdown",
   "metadata": {},
   "source": [
    "문제"
   ]
  },
  {
   "cell_type": "markdown",
   "metadata": {},
   "source": [
    "Jim과 Sarah는 터렛에 근무하는 직원이다.\n",
    "\n",
    "Mansk는 Jim과 Sarah에게 상대편 마린(Duke)의 위치를 계산하라는 명령을 내렸다. Jim과 Sarah는 각각 자신의 터렛 위치에서 현재 적까지의 거리를 계산했다.\n",
    "\n",
    "Jim의 좌표 (x1, y1)와 Sarah의 좌표 (x2, y2)가 주어지고, Jim이 계산한 Duke와의 거리 r1과 Sarah이 계산한 Duke와의 거리 r2가 주어졌을 때, Duke가 있을 수 있는 좌표의 수를 출력하는 프로그램을 작성하시오."
   ]
  },
  {
   "cell_type": "markdown",
   "metadata": {},
   "source": [
    "우선 Jim과 Sarah 사이의 거리 $d$를 구해야 한다. 그리고 r1, r2중 더 큰 값과 더 작은 값을 각각 R1, R2로 정의한다. (같은 경우도 상관 없음)  \n",
    "\n",
    "본인 위치의 좌표에서 반지름 만큼의 원을 그렸을 때 교점이 몇 개인지를 구하는 문제이다.\n",
    "\n",
    "일단 $d>0$이라고 가정하자. \n",
    "\n",
    "그러면 크게 두 가지 경우로 나눌 수 있다.  \n",
    "\n",
    "(Case 1) : $d > R1$\n",
    "- $R1 + R2 > d$ : 교점 2개 \n",
    "- $R1 + R2 = d$ : 교점 1개 (원이 한 점에서 외접)\n",
    "- $R1 + R2 < d$ : 교점 0개 (원이 만나지 않음)\n",
    "\n",
    "(Case 2) : $d< R1$\n",
    "- $R1 < d + R2$ : 교점 2개\n",
    "- $R1 = d + R2$ : 교점 1개 (원이 한 점에서 내접)\n",
    "- $R1 > d + R2$ : 교점 0개 (큰 원이 작은 원을 완전히 감싸버림)\n",
    "\n",
    "$d = R1$이 되는 특수한 경우, $R2>0$이라는 가정이 있기 때문에 교점은 반드시 2개가 된다. 두 케이스 중 어느 케이스에 들어가도 문제가 발생하지 않는다.\n",
    "\n",
    "$d =0$이 되는 경우, $R1 = R2$면 원이 완전 같아지므로 무한히 많은 교점이 생기지만, 그렇지 않으면 교점이  않는다."
   ]
  },
  {
   "cell_type": "markdown",
   "metadata": {},
   "source": [
    "답안 제출"
   ]
  },
  {
   "cell_type": "code",
   "execution_count": 185,
   "metadata": {},
   "outputs": [
    {
     "name": "stdout",
     "output_type": "stream",
     "text": [
      "2\n",
      "1\n",
      "0\n"
     ]
    }
   ],
   "source": [
    "T = int(input())\n",
    "for t in range(T) :\n",
    "    x1, y1, r1, x2, y2, r2 = list(map(int, input().split()))\n",
    "    dsquare = (x1-x2)**2 + (y1-y2)**2\n",
    "    # sqrt 함수가 numerical error를 수반할 것이 우려되어 square로 비교하도록 하겠다.\n",
    "    if r1 >= r2 :\n",
    "        R1 = r1 ; R2 = r2\n",
    "    else :\n",
    "        R1 = r2 ; R2 = r1\n",
    "\n",
    "    if dsquare == 0 :\n",
    "        if R1 == R2 :\n",
    "            print(-1)\n",
    "        else :\n",
    "            print(0)\n",
    "    elif dsquare < R1 ** 2 :\n",
    "        if (R1 - R2) ** 2 > dsquare :\n",
    "            print(0)\n",
    "        elif (R1 - R2) ** 2 == dsquare :\n",
    "            print(1)\n",
    "        else :\n",
    "            print(2)\n",
    "    else :\n",
    "        if (R1 + R2) ** 2 > dsquare :\n",
    "            print(2)\n",
    "        elif (R1 + R2) ** 2 == dsquare :\n",
    "            print(1)\n",
    "        else :\n",
    "            print(0)\n",
    "\n"
   ]
  },
  {
   "cell_type": "code",
   "execution_count": null,
   "metadata": {},
   "outputs": [],
   "source": []
  }
 ],
 "metadata": {
  "interpreter": {
   "hash": "d88d8acdbfaa835a5f857244e00e0be2fef710e8821cc5222c903f5a03bf61bd"
  },
  "kernelspec": {
   "display_name": "Python 3.8.8 ('base')",
   "language": "python",
   "name": "python3"
  },
  "language_info": {
   "codemirror_mode": {
    "name": "ipython",
    "version": 3
   },
   "file_extension": ".py",
   "mimetype": "text/x-python",
   "name": "python",
   "nbconvert_exporter": "python",
   "pygments_lexer": "ipython3",
   "version": "3.8.8"
  },
  "orig_nbformat": 4
 },
 "nbformat": 4,
 "nbformat_minor": 2
}
