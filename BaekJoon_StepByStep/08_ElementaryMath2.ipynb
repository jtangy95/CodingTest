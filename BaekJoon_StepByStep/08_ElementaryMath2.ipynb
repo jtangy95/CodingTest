{
 "cells": [
  {
   "cell_type": "markdown",
   "metadata": {},
   "source": [
    "# 기본 수학 2"
   ]
  },
  {
   "cell_type": "markdown",
   "metadata": {},
   "source": [
    "## 1978번 : 소수 찾기"
   ]
  },
  {
   "cell_type": "markdown",
   "metadata": {},
   "source": [
    "문제"
   ]
  },
  {
   "cell_type": "markdown",
   "metadata": {},
   "source": [
    "주어진 수 N개 중에서 소수가 몇 개인지 찾아서 출력하는 프로그램을 작성하시오."
   ]
  },
  {
   "cell_type": "markdown",
   "metadata": {},
   "source": [
    "답안 제출"
   ]
  },
  {
   "cell_type": "code",
   "execution_count": 6,
   "metadata": {},
   "outputs": [
    {
     "name": "stdout",
     "output_type": "stream",
     "text": [
      "3\n"
     ]
    }
   ],
   "source": [
    "n = int(input())\n",
    "nums = list(map(int, input().split()))\n",
    "primeNum = 0 ## counting the number of prime numbers\n",
    "for a in nums :\n",
    "    prime = True\n",
    "    if a == 1 :  # 1 is not a prime number\n",
    "        prime = False  \n",
    "    else :\n",
    "        for k in range(2, a) :\n",
    "            if a % k == 0 :\n",
    "                prime = False \n",
    "                break\n",
    "    if prime :\n",
    "        primeNum += 1\n",
    "print(primeNum)\n",
    "\n",
    "    "
   ]
  },
  {
   "cell_type": "markdown",
   "metadata": {},
   "source": [
    "## 2581번 : 소수"
   ]
  },
  {
   "cell_type": "markdown",
   "metadata": {},
   "source": [
    "자연수 M과 N이 주어질 때 M이상 N이하의 자연수 중 소수인 것을 모두 골라 이들 소수의 합과 최솟값을 찾는 프로그램을 작성하시오.\n",
    "\n",
    "예를 들어 M=60, N=100인 경우 60이상 100이하의 자연수 중 소수는 61, 67, 71, 73, 79, 83, 89, 97 총 8개가 있으므로, 이들 소수의 합은 620이고, 최솟값은 61이 된다."
   ]
  },
  {
   "cell_type": "markdown",
   "metadata": {},
   "source": [
    "답안 제출"
   ]
  },
  {
   "cell_type": "code",
   "execution_count": 18,
   "metadata": {},
   "outputs": [
    {
     "name": "stdout",
     "output_type": "stream",
     "text": [
      "620\n",
      "61\n"
     ]
    }
   ],
   "source": [
    "m = int(input())\n",
    "n = int(input())\n",
    "\n",
    "# 이 리스트에 m이상 n이하의 소수들을 저장\n",
    "primeNums = []\n",
    "# 소수 판별 함수\n",
    "def isPrime(a : int) :\n",
    "    if a == 1 :\n",
    "        return False\n",
    "    else :\n",
    "        prime = True \n",
    "        for k in range(2, a) :\n",
    "            if a % k == 0 :\n",
    "                prime = False \n",
    "                break\n",
    "        return prime\n",
    "\n",
    "for a in range(m, n+1) :\n",
    "    if isPrime(a) :\n",
    "        primeNums.append(a)\n",
    "\n",
    "if primeNums :\n",
    "    print(sum(primeNums))\n",
    "    print(primeNums[0])\n",
    "else : # 소수 저장하는 리스트에 원소가 없으면 -1 출력\n",
    "    print(-1)\n"
   ]
  },
  {
   "cell_type": "markdown",
   "metadata": {},
   "source": [
    "## 11653번 : 소인수분해"
   ]
  },
  {
   "cell_type": "markdown",
   "metadata": {},
   "source": [
    "문제"
   ]
  },
  {
   "cell_type": "markdown",
   "metadata": {},
   "source": [
    "정수 N이 주어졌을 때, 소인수분해하는 프로그램을 작성하시오."
   ]
  },
  {
   "cell_type": "markdown",
   "metadata": {},
   "source": [
    "답안 제출"
   ]
  },
  {
   "cell_type": "code",
   "execution_count": 38,
   "metadata": {},
   "outputs": [
    {
     "name": "stdout",
     "output_type": "stream",
     "text": [
      "2\n",
      "2\n",
      "2\n",
      "3\n",
      "3\n"
     ]
    }
   ],
   "source": [
    "n = int(input())\n",
    "\n",
    "# 주어진 정수에 대해 최소의 인수를 계산해주는 함수\n",
    "# 리턴값 k는 반드시 소수가 됨 \n",
    "def minFactor(a : int) :\n",
    "    for k in range(2, a+1) :\n",
    "        if a % k == 0 :\n",
    "            return k \n",
    "\n",
    "if n == 1 :\n",
    "    pass \n",
    "else :\n",
    "    while n > 1:\n",
    "        x = minFactor(n)\n",
    "        n //= x  # `n /= x`로 하면 정수 타입을 유지할 수 없음\n",
    "        print(x)\n",
    "\n",
    "\n"
   ]
  },
  {
   "cell_type": "markdown",
   "metadata": {},
   "source": [
    "## 1929번 : 소수 구하기 (에라토스테네스의 체)"
   ]
  },
  {
   "cell_type": "markdown",
   "metadata": {},
   "source": [
    "M이상 N이하의 소수를 모두 출력하는 프로그램을 작성하시오."
   ]
  },
  {
   "cell_type": "markdown",
   "metadata": {},
   "source": [
    "오답 (시간 초과)"
   ]
  },
  {
   "cell_type": "code",
   "execution_count": 39,
   "metadata": {},
   "outputs": [
    {
     "name": "stdout",
     "output_type": "stream",
     "text": [
      "3\n",
      "5\n",
      "7\n",
      "11\n",
      "13\n"
     ]
    }
   ],
   "source": [
    "m , n = list(map(int, input().split()))\n",
    "\n",
    "# 소수 판별 함수\n",
    "def isPrime(a : int) :\n",
    "    if a == 1 :\n",
    "        return False\n",
    "    else :\n",
    "        prime = True \n",
    "        for k in range(2, a) :\n",
    "            if a % k == 0 :\n",
    "                prime = False \n",
    "                break\n",
    "        return prime\n",
    "\n",
    "for a in range(m, n+1) :\n",
    "    if isPrime(a) :\n",
    "        print(a)\n",
    "        "
   ]
  },
  {
   "cell_type": "markdown",
   "metadata": {},
   "source": [
    "에라토스테네스의 체를 활용해서 주어진 숫자 n보다 작거나 같은 수 가운데 소수를 골라낼 수 있다.  \n",
    "\n",
    "[(Wikipedia : 에라토스테네스의 체)](https://ko.wikipedia.org/wiki/에라토스테네스의_체)\n",
    "\n",
    "어떤 소수 $k$가 $k^2 > n$을 만족하면 $k$보다 작은 소수만으로도 충분히 필터링할 수 있다. 즉 $2$에서 $n$까지의 숫자들 중에서 $k$보다 작은 소수들의 (자기자신을 제외한)배수를 모두 지워주면 된다.\n",
    "\n",
    "이렇게 골라낸 소수 들 중 $m$보다 작지 않은 소수들만 출력하면 문제에서 원하는 답을 얻을 수 있다."
   ]
  },
  {
   "cell_type": "markdown",
   "metadata": {},
   "source": [
    "답안 제출"
   ]
  },
  {
   "cell_type": "code",
   "execution_count": 103,
   "metadata": {},
   "outputs": [
    {
     "name": "stdout",
     "output_type": "stream",
     "text": [
      "23\n",
      "29\n",
      "31\n",
      "37\n",
      "41\n",
      "43\n",
      "47\n",
      "53\n",
      "59\n",
      "61\n",
      "67\n"
     ]
    }
   ],
   "source": [
    "import math\n",
    "m , n = list(map(int, input().split()))\n",
    "\n",
    "k = math.ceil(math.sqrt(n+1))  # k^2 >= n+1 > n\n",
    "\n",
    "# 0, 1, 2, ... , n에 대응되는 boolean으로 채워넣은 에라토스테네스 체 리스트를 만든다.\n",
    "EratosSeive = [False, False] + [True for i in range(2, n+1)]\n",
    "\n",
    "# 2에서 k까지의 숫자를 활용해 해당 숫자가 소수일 경우, 자기자신을 제외한 배수들을\n",
    "# 에라토스테네스 체 리스트에서 모두 False로 바꿔준다.\n",
    "for j in range(2, k) :\n",
    "    if EratosSeive[j] : \n",
    "    # 2에서 k까지의 숫자 중에서 j가 소수가 아닐 경우 밑의 for문을 수행하지 않음\n",
    "        for i in range(j+j , n+1, j) :   # range(start, stop, step)\n",
    "            EratosSeive[i] = False\n",
    "\n",
    "# m이상 n이하의 숫자들 중 에라토스테네스의 체에서 True로 남아 있는 숫자들 모두 출력\n",
    "for num in range(m, n+1) :\n",
    "    if EratosSeive[num] :\n",
    "        print(num)\n"
   ]
  },
  {
   "cell_type": "code",
   "execution_count": 101,
   "metadata": {},
   "outputs": [
    {
     "name": "stdout",
     "output_type": "stream",
     "text": [
      "[1, 4, 7, 10]\n"
     ]
    }
   ],
   "source": [
    "print(list(range(1, 11, 3)))"
   ]
  },
  {
   "cell_type": "code",
   "execution_count": null,
   "metadata": {},
   "outputs": [],
   "source": []
  }
 ],
 "metadata": {
  "interpreter": {
   "hash": "d88d8acdbfaa835a5f857244e00e0be2fef710e8821cc5222c903f5a03bf61bd"
  },
  "kernelspec": {
   "display_name": "Python 3.8.8 ('base')",
   "language": "python",
   "name": "python3"
  },
  "language_info": {
   "codemirror_mode": {
    "name": "ipython",
    "version": 3
   },
   "file_extension": ".py",
   "mimetype": "text/x-python",
   "name": "python",
   "nbconvert_exporter": "python",
   "pygments_lexer": "ipython3",
   "version": "3.8.8"
  },
  "orig_nbformat": 4
 },
 "nbformat": 4,
 "nbformat_minor": 2
}
